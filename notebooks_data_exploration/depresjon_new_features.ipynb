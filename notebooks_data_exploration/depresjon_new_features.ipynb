{
 "cells": [
  {
   "cell_type": "code",
   "execution_count": 49,
   "metadata": {
    "collapsed": true,
    "ExecuteTime": {
     "end_time": "2024-01-06T16:01:59.581774800Z",
     "start_time": "2024-01-06T16:01:59.398957100Z"
    }
   },
   "outputs": [],
   "source": [
    "import pandas as pd\n",
    "from dataprep.eda import create_report\n",
    "import matplotlib.pyplot as plt\n",
    "import seaborn as sns\n",
    "import numpy as np\n",
    "from sklearn.model_selection import train_test_split\n",
    "from sklearn.linear_model import LinearRegression\n",
    "from sklearn.ensemble import RandomForestRegressor\n",
    "from sklearn.metrics import mean_squared_error, r2_score\n",
    "from datetime import datetime"
   ]
  },
  {
   "cell_type": "code",
   "execution_count": 50,
   "outputs": [],
   "source": [
    "custom_colors = ['#1f77b4', '#ff7f0e', '#2ca02c', '#d62728', '#9467bd', '#8c564b', '#e377c2', '#7f7f7f']\n",
    "complementary_colors = ['#a9d0f5', '#f3ba8c', '#98e698', '#f5a9a9', '#d8b5d8', '#d2a6a6', '#f5a9f2', '#d8d8d8']\n",
    "\n",
    "full_palette = custom_colors + complementary_colors\n",
    "sns.set_palette(full_palette)\n",
    "\n",
    "plt.rcParams['axes.prop_cycle'] = plt.cycler(color=custom_colors)\n",
    "plt.rcParams['axes.titlesize'] = 30\n",
    "plt.rcParams['axes.labelsize'] = 20\n",
    "plt.rcParams['xtick.labelsize'] = 20\n",
    "plt.rcParams['ytick.labelsize'] = 20\n",
    "plt.rcParams['legend.fontsize'] = 15"
   ],
   "metadata": {
    "collapsed": false,
    "ExecuteTime": {
     "end_time": "2024-01-06T16:01:59.621447800Z",
     "start_time": "2024-01-06T16:01:59.581774800Z"
    }
   }
  },
  {
   "cell_type": "code",
   "execution_count": 51,
   "outputs": [
    {
     "data": {
      "text/plain": "              timestamp       Dates      Time      user_id    activity  days  \\\n0   2003-05-07 12:00:00  2003-05-07  12:00:00  condition_1  346.550000  11.0   \n1   2003-05-07 13:00:00  2003-05-07  13:00:00  condition_1  284.566667  11.0   \n2   2003-05-07 14:00:00  2003-05-07  14:00:00  condition_1  279.183333  11.0   \n3   2003-05-07 15:00:00  2003-05-07  15:00:00  condition_1  218.783333  11.0   \n4   2003-05-07 16:00:00  2003-05-07  16:00:00  condition_1  238.550000  11.0   \n..                  ...         ...       ...          ...         ...   ...   \n335 2004-06-10 11:00:00  2004-06-10  11:00:00  condition_9    0.000000  13.0   \n336 2004-06-10 12:00:00  2004-06-10  12:00:00  condition_9   14.600000  13.0   \n337 2004-06-10 13:00:00  2004-06-10  13:00:00  condition_9  511.316667  13.0   \n338 2004-06-10 14:00:00  2004-06-10  14:00:00  condition_9    7.733333  13.0   \n339 2004-06-10 15:00:00  2004-06-10  15:00:00  condition_9   56.750000  13.0   \n\n     gender  afftype  melanch  inpatient  marriage  work  madrs1  madrs2  \\\n0       2.0      2.0      2.0        2.0       1.0   2.0    19.0    19.0   \n1       2.0      2.0      2.0        2.0       1.0   2.0    19.0    19.0   \n2       2.0      2.0      2.0        2.0       1.0   2.0    19.0    19.0   \n3       2.0      2.0      2.0        2.0       1.0   2.0    19.0    19.0   \n4       2.0      2.0      2.0        2.0       1.0   2.0    19.0    19.0   \n..      ...      ...      ...        ...       ...   ...     ...     ...   \n335     2.0      1.0      2.0        2.0       1.0   2.0    26.0    26.0   \n336     2.0      1.0      2.0        2.0       1.0   2.0    26.0    26.0   \n337     2.0      1.0      2.0        2.0       1.0   2.0    26.0    26.0   \n338     2.0      1.0      2.0        2.0       1.0   2.0    26.0    26.0   \n339     2.0      1.0      2.0        2.0       1.0   2.0    26.0    26.0   \n\n     madrs_mean  \n0          19.0  \n1          19.0  \n2          19.0  \n3          19.0  \n4          19.0  \n..          ...  \n335        26.0  \n336        26.0  \n337        26.0  \n338        26.0  \n339        26.0  \n\n[9214 rows x 15 columns]",
      "text/html": "<div>\n<style scoped>\n    .dataframe tbody tr th:only-of-type {\n        vertical-align: middle;\n    }\n\n    .dataframe tbody tr th {\n        vertical-align: top;\n    }\n\n    .dataframe thead th {\n        text-align: right;\n    }\n</style>\n<table border=\"1\" class=\"dataframe\">\n  <thead>\n    <tr style=\"text-align: right;\">\n      <th></th>\n      <th>timestamp</th>\n      <th>Dates</th>\n      <th>Time</th>\n      <th>user_id</th>\n      <th>activity</th>\n      <th>days</th>\n      <th>gender</th>\n      <th>afftype</th>\n      <th>melanch</th>\n      <th>inpatient</th>\n      <th>marriage</th>\n      <th>work</th>\n      <th>madrs1</th>\n      <th>madrs2</th>\n      <th>madrs_mean</th>\n    </tr>\n  </thead>\n  <tbody>\n    <tr>\n      <th>0</th>\n      <td>2003-05-07 12:00:00</td>\n      <td>2003-05-07</td>\n      <td>12:00:00</td>\n      <td>condition_1</td>\n      <td>346.550000</td>\n      <td>11.0</td>\n      <td>2.0</td>\n      <td>2.0</td>\n      <td>2.0</td>\n      <td>2.0</td>\n      <td>1.0</td>\n      <td>2.0</td>\n      <td>19.0</td>\n      <td>19.0</td>\n      <td>19.0</td>\n    </tr>\n    <tr>\n      <th>1</th>\n      <td>2003-05-07 13:00:00</td>\n      <td>2003-05-07</td>\n      <td>13:00:00</td>\n      <td>condition_1</td>\n      <td>284.566667</td>\n      <td>11.0</td>\n      <td>2.0</td>\n      <td>2.0</td>\n      <td>2.0</td>\n      <td>2.0</td>\n      <td>1.0</td>\n      <td>2.0</td>\n      <td>19.0</td>\n      <td>19.0</td>\n      <td>19.0</td>\n    </tr>\n    <tr>\n      <th>2</th>\n      <td>2003-05-07 14:00:00</td>\n      <td>2003-05-07</td>\n      <td>14:00:00</td>\n      <td>condition_1</td>\n      <td>279.183333</td>\n      <td>11.0</td>\n      <td>2.0</td>\n      <td>2.0</td>\n      <td>2.0</td>\n      <td>2.0</td>\n      <td>1.0</td>\n      <td>2.0</td>\n      <td>19.0</td>\n      <td>19.0</td>\n      <td>19.0</td>\n    </tr>\n    <tr>\n      <th>3</th>\n      <td>2003-05-07 15:00:00</td>\n      <td>2003-05-07</td>\n      <td>15:00:00</td>\n      <td>condition_1</td>\n      <td>218.783333</td>\n      <td>11.0</td>\n      <td>2.0</td>\n      <td>2.0</td>\n      <td>2.0</td>\n      <td>2.0</td>\n      <td>1.0</td>\n      <td>2.0</td>\n      <td>19.0</td>\n      <td>19.0</td>\n      <td>19.0</td>\n    </tr>\n    <tr>\n      <th>4</th>\n      <td>2003-05-07 16:00:00</td>\n      <td>2003-05-07</td>\n      <td>16:00:00</td>\n      <td>condition_1</td>\n      <td>238.550000</td>\n      <td>11.0</td>\n      <td>2.0</td>\n      <td>2.0</td>\n      <td>2.0</td>\n      <td>2.0</td>\n      <td>1.0</td>\n      <td>2.0</td>\n      <td>19.0</td>\n      <td>19.0</td>\n      <td>19.0</td>\n    </tr>\n    <tr>\n      <th>...</th>\n      <td>...</td>\n      <td>...</td>\n      <td>...</td>\n      <td>...</td>\n      <td>...</td>\n      <td>...</td>\n      <td>...</td>\n      <td>...</td>\n      <td>...</td>\n      <td>...</td>\n      <td>...</td>\n      <td>...</td>\n      <td>...</td>\n      <td>...</td>\n      <td>...</td>\n    </tr>\n    <tr>\n      <th>335</th>\n      <td>2004-06-10 11:00:00</td>\n      <td>2004-06-10</td>\n      <td>11:00:00</td>\n      <td>condition_9</td>\n      <td>0.000000</td>\n      <td>13.0</td>\n      <td>2.0</td>\n      <td>1.0</td>\n      <td>2.0</td>\n      <td>2.0</td>\n      <td>1.0</td>\n      <td>2.0</td>\n      <td>26.0</td>\n      <td>26.0</td>\n      <td>26.0</td>\n    </tr>\n    <tr>\n      <th>336</th>\n      <td>2004-06-10 12:00:00</td>\n      <td>2004-06-10</td>\n      <td>12:00:00</td>\n      <td>condition_9</td>\n      <td>14.600000</td>\n      <td>13.0</td>\n      <td>2.0</td>\n      <td>1.0</td>\n      <td>2.0</td>\n      <td>2.0</td>\n      <td>1.0</td>\n      <td>2.0</td>\n      <td>26.0</td>\n      <td>26.0</td>\n      <td>26.0</td>\n    </tr>\n    <tr>\n      <th>337</th>\n      <td>2004-06-10 13:00:00</td>\n      <td>2004-06-10</td>\n      <td>13:00:00</td>\n      <td>condition_9</td>\n      <td>511.316667</td>\n      <td>13.0</td>\n      <td>2.0</td>\n      <td>1.0</td>\n      <td>2.0</td>\n      <td>2.0</td>\n      <td>1.0</td>\n      <td>2.0</td>\n      <td>26.0</td>\n      <td>26.0</td>\n      <td>26.0</td>\n    </tr>\n    <tr>\n      <th>338</th>\n      <td>2004-06-10 14:00:00</td>\n      <td>2004-06-10</td>\n      <td>14:00:00</td>\n      <td>condition_9</td>\n      <td>7.733333</td>\n      <td>13.0</td>\n      <td>2.0</td>\n      <td>1.0</td>\n      <td>2.0</td>\n      <td>2.0</td>\n      <td>1.0</td>\n      <td>2.0</td>\n      <td>26.0</td>\n      <td>26.0</td>\n      <td>26.0</td>\n    </tr>\n    <tr>\n      <th>339</th>\n      <td>2004-06-10 15:00:00</td>\n      <td>2004-06-10</td>\n      <td>15:00:00</td>\n      <td>condition_9</td>\n      <td>56.750000</td>\n      <td>13.0</td>\n      <td>2.0</td>\n      <td>1.0</td>\n      <td>2.0</td>\n      <td>2.0</td>\n      <td>1.0</td>\n      <td>2.0</td>\n      <td>26.0</td>\n      <td>26.0</td>\n      <td>26.0</td>\n    </tr>\n  </tbody>\n</table>\n<p>9214 rows × 15 columns</p>\n</div>"
     },
     "execution_count": 51,
     "metadata": {},
     "output_type": "execute_result"
    }
   ],
   "source": [
    "df = pd.read_pickle('..\\data\\depresjon\\df_preprocessed.pkl')\n",
    "df"
   ],
   "metadata": {
    "collapsed": false,
    "ExecuteTime": {
     "end_time": "2024-01-06T16:01:59.775248400Z",
     "start_time": "2024-01-06T16:01:59.737496100Z"
    }
   }
  },
  {
   "cell_type": "code",
   "execution_count": 52,
   "outputs": [
    {
     "data": {
      "text/plain": "              timestamp      Dates      Time      user_id    activity  days  \\\n0   2003-05-07 12:00:00 2003-05-07  12:00:00  condition_1  346.550000  11.0   \n1   2003-05-07 13:00:00 2003-05-07  13:00:00  condition_1  284.566667  11.0   \n2   2003-05-07 14:00:00 2003-05-07  14:00:00  condition_1  279.183333  11.0   \n3   2003-05-07 15:00:00 2003-05-07  15:00:00  condition_1  218.783333  11.0   \n4   2003-05-07 16:00:00 2003-05-07  16:00:00  condition_1  238.550000  11.0   \n..                  ...        ...       ...          ...         ...   ...   \n335 2004-06-10 11:00:00 2004-06-10  11:00:00  condition_9    0.000000  13.0   \n336 2004-06-10 12:00:00 2004-06-10  12:00:00  condition_9   14.600000  13.0   \n337 2004-06-10 13:00:00 2004-06-10  13:00:00  condition_9  511.316667  13.0   \n338 2004-06-10 14:00:00 2004-06-10  14:00:00  condition_9    7.733333  13.0   \n339 2004-06-10 15:00:00 2004-06-10  15:00:00  condition_9   56.750000  13.0   \n\n     gender  afftype  melanch  inpatient  marriage  work  madrs1  madrs2  \\\n0       2.0      2.0      2.0        2.0       1.0   2.0    19.0    19.0   \n1       2.0      2.0      2.0        2.0       1.0   2.0    19.0    19.0   \n2       2.0      2.0      2.0        2.0       1.0   2.0    19.0    19.0   \n3       2.0      2.0      2.0        2.0       1.0   2.0    19.0    19.0   \n4       2.0      2.0      2.0        2.0       1.0   2.0    19.0    19.0   \n..      ...      ...      ...        ...       ...   ...     ...     ...   \n335     2.0      1.0      2.0        2.0       1.0   2.0    26.0    26.0   \n336     2.0      1.0      2.0        2.0       1.0   2.0    26.0    26.0   \n337     2.0      1.0      2.0        2.0       1.0   2.0    26.0    26.0   \n338     2.0      1.0      2.0        2.0       1.0   2.0    26.0    26.0   \n339     2.0      1.0      2.0        2.0       1.0   2.0    26.0    26.0   \n\n     madrs_mean    DayName  \n0          19.0  Wednesday  \n1          19.0  Wednesday  \n2          19.0  Wednesday  \n3          19.0  Wednesday  \n4          19.0  Wednesday  \n..          ...        ...  \n335        26.0   Thursday  \n336        26.0   Thursday  \n337        26.0   Thursday  \n338        26.0   Thursday  \n339        26.0   Thursday  \n\n[9214 rows x 16 columns]",
      "text/html": "<div>\n<style scoped>\n    .dataframe tbody tr th:only-of-type {\n        vertical-align: middle;\n    }\n\n    .dataframe tbody tr th {\n        vertical-align: top;\n    }\n\n    .dataframe thead th {\n        text-align: right;\n    }\n</style>\n<table border=\"1\" class=\"dataframe\">\n  <thead>\n    <tr style=\"text-align: right;\">\n      <th></th>\n      <th>timestamp</th>\n      <th>Dates</th>\n      <th>Time</th>\n      <th>user_id</th>\n      <th>activity</th>\n      <th>days</th>\n      <th>gender</th>\n      <th>afftype</th>\n      <th>melanch</th>\n      <th>inpatient</th>\n      <th>marriage</th>\n      <th>work</th>\n      <th>madrs1</th>\n      <th>madrs2</th>\n      <th>madrs_mean</th>\n      <th>DayName</th>\n    </tr>\n  </thead>\n  <tbody>\n    <tr>\n      <th>0</th>\n      <td>2003-05-07 12:00:00</td>\n      <td>2003-05-07</td>\n      <td>12:00:00</td>\n      <td>condition_1</td>\n      <td>346.550000</td>\n      <td>11.0</td>\n      <td>2.0</td>\n      <td>2.0</td>\n      <td>2.0</td>\n      <td>2.0</td>\n      <td>1.0</td>\n      <td>2.0</td>\n      <td>19.0</td>\n      <td>19.0</td>\n      <td>19.0</td>\n      <td>Wednesday</td>\n    </tr>\n    <tr>\n      <th>1</th>\n      <td>2003-05-07 13:00:00</td>\n      <td>2003-05-07</td>\n      <td>13:00:00</td>\n      <td>condition_1</td>\n      <td>284.566667</td>\n      <td>11.0</td>\n      <td>2.0</td>\n      <td>2.0</td>\n      <td>2.0</td>\n      <td>2.0</td>\n      <td>1.0</td>\n      <td>2.0</td>\n      <td>19.0</td>\n      <td>19.0</td>\n      <td>19.0</td>\n      <td>Wednesday</td>\n    </tr>\n    <tr>\n      <th>2</th>\n      <td>2003-05-07 14:00:00</td>\n      <td>2003-05-07</td>\n      <td>14:00:00</td>\n      <td>condition_1</td>\n      <td>279.183333</td>\n      <td>11.0</td>\n      <td>2.0</td>\n      <td>2.0</td>\n      <td>2.0</td>\n      <td>2.0</td>\n      <td>1.0</td>\n      <td>2.0</td>\n      <td>19.0</td>\n      <td>19.0</td>\n      <td>19.0</td>\n      <td>Wednesday</td>\n    </tr>\n    <tr>\n      <th>3</th>\n      <td>2003-05-07 15:00:00</td>\n      <td>2003-05-07</td>\n      <td>15:00:00</td>\n      <td>condition_1</td>\n      <td>218.783333</td>\n      <td>11.0</td>\n      <td>2.0</td>\n      <td>2.0</td>\n      <td>2.0</td>\n      <td>2.0</td>\n      <td>1.0</td>\n      <td>2.0</td>\n      <td>19.0</td>\n      <td>19.0</td>\n      <td>19.0</td>\n      <td>Wednesday</td>\n    </tr>\n    <tr>\n      <th>4</th>\n      <td>2003-05-07 16:00:00</td>\n      <td>2003-05-07</td>\n      <td>16:00:00</td>\n      <td>condition_1</td>\n      <td>238.550000</td>\n      <td>11.0</td>\n      <td>2.0</td>\n      <td>2.0</td>\n      <td>2.0</td>\n      <td>2.0</td>\n      <td>1.0</td>\n      <td>2.0</td>\n      <td>19.0</td>\n      <td>19.0</td>\n      <td>19.0</td>\n      <td>Wednesday</td>\n    </tr>\n    <tr>\n      <th>...</th>\n      <td>...</td>\n      <td>...</td>\n      <td>...</td>\n      <td>...</td>\n      <td>...</td>\n      <td>...</td>\n      <td>...</td>\n      <td>...</td>\n      <td>...</td>\n      <td>...</td>\n      <td>...</td>\n      <td>...</td>\n      <td>...</td>\n      <td>...</td>\n      <td>...</td>\n      <td>...</td>\n    </tr>\n    <tr>\n      <th>335</th>\n      <td>2004-06-10 11:00:00</td>\n      <td>2004-06-10</td>\n      <td>11:00:00</td>\n      <td>condition_9</td>\n      <td>0.000000</td>\n      <td>13.0</td>\n      <td>2.0</td>\n      <td>1.0</td>\n      <td>2.0</td>\n      <td>2.0</td>\n      <td>1.0</td>\n      <td>2.0</td>\n      <td>26.0</td>\n      <td>26.0</td>\n      <td>26.0</td>\n      <td>Thursday</td>\n    </tr>\n    <tr>\n      <th>336</th>\n      <td>2004-06-10 12:00:00</td>\n      <td>2004-06-10</td>\n      <td>12:00:00</td>\n      <td>condition_9</td>\n      <td>14.600000</td>\n      <td>13.0</td>\n      <td>2.0</td>\n      <td>1.0</td>\n      <td>2.0</td>\n      <td>2.0</td>\n      <td>1.0</td>\n      <td>2.0</td>\n      <td>26.0</td>\n      <td>26.0</td>\n      <td>26.0</td>\n      <td>Thursday</td>\n    </tr>\n    <tr>\n      <th>337</th>\n      <td>2004-06-10 13:00:00</td>\n      <td>2004-06-10</td>\n      <td>13:00:00</td>\n      <td>condition_9</td>\n      <td>511.316667</td>\n      <td>13.0</td>\n      <td>2.0</td>\n      <td>1.0</td>\n      <td>2.0</td>\n      <td>2.0</td>\n      <td>1.0</td>\n      <td>2.0</td>\n      <td>26.0</td>\n      <td>26.0</td>\n      <td>26.0</td>\n      <td>Thursday</td>\n    </tr>\n    <tr>\n      <th>338</th>\n      <td>2004-06-10 14:00:00</td>\n      <td>2004-06-10</td>\n      <td>14:00:00</td>\n      <td>condition_9</td>\n      <td>7.733333</td>\n      <td>13.0</td>\n      <td>2.0</td>\n      <td>1.0</td>\n      <td>2.0</td>\n      <td>2.0</td>\n      <td>1.0</td>\n      <td>2.0</td>\n      <td>26.0</td>\n      <td>26.0</td>\n      <td>26.0</td>\n      <td>Thursday</td>\n    </tr>\n    <tr>\n      <th>339</th>\n      <td>2004-06-10 15:00:00</td>\n      <td>2004-06-10</td>\n      <td>15:00:00</td>\n      <td>condition_9</td>\n      <td>56.750000</td>\n      <td>13.0</td>\n      <td>2.0</td>\n      <td>1.0</td>\n      <td>2.0</td>\n      <td>2.0</td>\n      <td>1.0</td>\n      <td>2.0</td>\n      <td>26.0</td>\n      <td>26.0</td>\n      <td>26.0</td>\n      <td>Thursday</td>\n    </tr>\n  </tbody>\n</table>\n<p>9214 rows × 16 columns</p>\n</div>"
     },
     "execution_count": 52,
     "metadata": {},
     "output_type": "execute_result"
    }
   ],
   "source": [
    "df['Dates'] = pd.to_datetime(df['Dates'])\n",
    "df['DayName'] = pd.Series(df['Dates'].dt.day_name(), index=df.index)\n",
    "df"
   ],
   "metadata": {
    "collapsed": false,
    "ExecuteTime": {
     "end_time": "2024-01-06T16:02:00.082424Z",
     "start_time": "2024-01-06T16:02:00.005731700Z"
    }
   }
  },
  {
   "cell_type": "code",
   "execution_count": 53,
   "outputs": [
    {
     "data": {
      "text/plain": "              timestamp      Dates      Time user_id    activity  days  \\\n0   2003-05-07 12:00:00 2003-05-07  12:00:00       1  346.550000  11.0   \n1   2003-05-07 13:00:00 2003-05-07  13:00:00       1  284.566667  11.0   \n2   2003-05-07 14:00:00 2003-05-07  14:00:00       1  279.183333  11.0   \n3   2003-05-07 15:00:00 2003-05-07  15:00:00       1  218.783333  11.0   \n4   2003-05-07 16:00:00 2003-05-07  16:00:00       1  238.550000  11.0   \n..                  ...        ...       ...     ...         ...   ...   \n335 2004-06-10 11:00:00 2004-06-10  11:00:00       9    0.000000  13.0   \n336 2004-06-10 12:00:00 2004-06-10  12:00:00       9   14.600000  13.0   \n337 2004-06-10 13:00:00 2004-06-10  13:00:00       9  511.316667  13.0   \n338 2004-06-10 14:00:00 2004-06-10  14:00:00       9    7.733333  13.0   \n339 2004-06-10 15:00:00 2004-06-10  15:00:00       9   56.750000  13.0   \n\n     gender  afftype  melanch  inpatient  marriage  work  madrs1  madrs2  \\\n0       2.0      2.0      2.0        2.0       1.0   2.0    19.0    19.0   \n1       2.0      2.0      2.0        2.0       1.0   2.0    19.0    19.0   \n2       2.0      2.0      2.0        2.0       1.0   2.0    19.0    19.0   \n3       2.0      2.0      2.0        2.0       1.0   2.0    19.0    19.0   \n4       2.0      2.0      2.0        2.0       1.0   2.0    19.0    19.0   \n..      ...      ...      ...        ...       ...   ...     ...     ...   \n335     2.0      1.0      2.0        2.0       1.0   2.0    26.0    26.0   \n336     2.0      1.0      2.0        2.0       1.0   2.0    26.0    26.0   \n337     2.0      1.0      2.0        2.0       1.0   2.0    26.0    26.0   \n338     2.0      1.0      2.0        2.0       1.0   2.0    26.0    26.0   \n339     2.0      1.0      2.0        2.0       1.0   2.0    26.0    26.0   \n\n     madrs_mean    DayName  \n0          19.0  Wednesday  \n1          19.0  Wednesday  \n2          19.0  Wednesday  \n3          19.0  Wednesday  \n4          19.0  Wednesday  \n..          ...        ...  \n335        26.0   Thursday  \n336        26.0   Thursday  \n337        26.0   Thursday  \n338        26.0   Thursday  \n339        26.0   Thursday  \n\n[9214 rows x 16 columns]",
      "text/html": "<div>\n<style scoped>\n    .dataframe tbody tr th:only-of-type {\n        vertical-align: middle;\n    }\n\n    .dataframe tbody tr th {\n        vertical-align: top;\n    }\n\n    .dataframe thead th {\n        text-align: right;\n    }\n</style>\n<table border=\"1\" class=\"dataframe\">\n  <thead>\n    <tr style=\"text-align: right;\">\n      <th></th>\n      <th>timestamp</th>\n      <th>Dates</th>\n      <th>Time</th>\n      <th>user_id</th>\n      <th>activity</th>\n      <th>days</th>\n      <th>gender</th>\n      <th>afftype</th>\n      <th>melanch</th>\n      <th>inpatient</th>\n      <th>marriage</th>\n      <th>work</th>\n      <th>madrs1</th>\n      <th>madrs2</th>\n      <th>madrs_mean</th>\n      <th>DayName</th>\n    </tr>\n  </thead>\n  <tbody>\n    <tr>\n      <th>0</th>\n      <td>2003-05-07 12:00:00</td>\n      <td>2003-05-07</td>\n      <td>12:00:00</td>\n      <td>1</td>\n      <td>346.550000</td>\n      <td>11.0</td>\n      <td>2.0</td>\n      <td>2.0</td>\n      <td>2.0</td>\n      <td>2.0</td>\n      <td>1.0</td>\n      <td>2.0</td>\n      <td>19.0</td>\n      <td>19.0</td>\n      <td>19.0</td>\n      <td>Wednesday</td>\n    </tr>\n    <tr>\n      <th>1</th>\n      <td>2003-05-07 13:00:00</td>\n      <td>2003-05-07</td>\n      <td>13:00:00</td>\n      <td>1</td>\n      <td>284.566667</td>\n      <td>11.0</td>\n      <td>2.0</td>\n      <td>2.0</td>\n      <td>2.0</td>\n      <td>2.0</td>\n      <td>1.0</td>\n      <td>2.0</td>\n      <td>19.0</td>\n      <td>19.0</td>\n      <td>19.0</td>\n      <td>Wednesday</td>\n    </tr>\n    <tr>\n      <th>2</th>\n      <td>2003-05-07 14:00:00</td>\n      <td>2003-05-07</td>\n      <td>14:00:00</td>\n      <td>1</td>\n      <td>279.183333</td>\n      <td>11.0</td>\n      <td>2.0</td>\n      <td>2.0</td>\n      <td>2.0</td>\n      <td>2.0</td>\n      <td>1.0</td>\n      <td>2.0</td>\n      <td>19.0</td>\n      <td>19.0</td>\n      <td>19.0</td>\n      <td>Wednesday</td>\n    </tr>\n    <tr>\n      <th>3</th>\n      <td>2003-05-07 15:00:00</td>\n      <td>2003-05-07</td>\n      <td>15:00:00</td>\n      <td>1</td>\n      <td>218.783333</td>\n      <td>11.0</td>\n      <td>2.0</td>\n      <td>2.0</td>\n      <td>2.0</td>\n      <td>2.0</td>\n      <td>1.0</td>\n      <td>2.0</td>\n      <td>19.0</td>\n      <td>19.0</td>\n      <td>19.0</td>\n      <td>Wednesday</td>\n    </tr>\n    <tr>\n      <th>4</th>\n      <td>2003-05-07 16:00:00</td>\n      <td>2003-05-07</td>\n      <td>16:00:00</td>\n      <td>1</td>\n      <td>238.550000</td>\n      <td>11.0</td>\n      <td>2.0</td>\n      <td>2.0</td>\n      <td>2.0</td>\n      <td>2.0</td>\n      <td>1.0</td>\n      <td>2.0</td>\n      <td>19.0</td>\n      <td>19.0</td>\n      <td>19.0</td>\n      <td>Wednesday</td>\n    </tr>\n    <tr>\n      <th>...</th>\n      <td>...</td>\n      <td>...</td>\n      <td>...</td>\n      <td>...</td>\n      <td>...</td>\n      <td>...</td>\n      <td>...</td>\n      <td>...</td>\n      <td>...</td>\n      <td>...</td>\n      <td>...</td>\n      <td>...</td>\n      <td>...</td>\n      <td>...</td>\n      <td>...</td>\n      <td>...</td>\n    </tr>\n    <tr>\n      <th>335</th>\n      <td>2004-06-10 11:00:00</td>\n      <td>2004-06-10</td>\n      <td>11:00:00</td>\n      <td>9</td>\n      <td>0.000000</td>\n      <td>13.0</td>\n      <td>2.0</td>\n      <td>1.0</td>\n      <td>2.0</td>\n      <td>2.0</td>\n      <td>1.0</td>\n      <td>2.0</td>\n      <td>26.0</td>\n      <td>26.0</td>\n      <td>26.0</td>\n      <td>Thursday</td>\n    </tr>\n    <tr>\n      <th>336</th>\n      <td>2004-06-10 12:00:00</td>\n      <td>2004-06-10</td>\n      <td>12:00:00</td>\n      <td>9</td>\n      <td>14.600000</td>\n      <td>13.0</td>\n      <td>2.0</td>\n      <td>1.0</td>\n      <td>2.0</td>\n      <td>2.0</td>\n      <td>1.0</td>\n      <td>2.0</td>\n      <td>26.0</td>\n      <td>26.0</td>\n      <td>26.0</td>\n      <td>Thursday</td>\n    </tr>\n    <tr>\n      <th>337</th>\n      <td>2004-06-10 13:00:00</td>\n      <td>2004-06-10</td>\n      <td>13:00:00</td>\n      <td>9</td>\n      <td>511.316667</td>\n      <td>13.0</td>\n      <td>2.0</td>\n      <td>1.0</td>\n      <td>2.0</td>\n      <td>2.0</td>\n      <td>1.0</td>\n      <td>2.0</td>\n      <td>26.0</td>\n      <td>26.0</td>\n      <td>26.0</td>\n      <td>Thursday</td>\n    </tr>\n    <tr>\n      <th>338</th>\n      <td>2004-06-10 14:00:00</td>\n      <td>2004-06-10</td>\n      <td>14:00:00</td>\n      <td>9</td>\n      <td>7.733333</td>\n      <td>13.0</td>\n      <td>2.0</td>\n      <td>1.0</td>\n      <td>2.0</td>\n      <td>2.0</td>\n      <td>1.0</td>\n      <td>2.0</td>\n      <td>26.0</td>\n      <td>26.0</td>\n      <td>26.0</td>\n      <td>Thursday</td>\n    </tr>\n    <tr>\n      <th>339</th>\n      <td>2004-06-10 15:00:00</td>\n      <td>2004-06-10</td>\n      <td>15:00:00</td>\n      <td>9</td>\n      <td>56.750000</td>\n      <td>13.0</td>\n      <td>2.0</td>\n      <td>1.0</td>\n      <td>2.0</td>\n      <td>2.0</td>\n      <td>1.0</td>\n      <td>2.0</td>\n      <td>26.0</td>\n      <td>26.0</td>\n      <td>26.0</td>\n      <td>Thursday</td>\n    </tr>\n  </tbody>\n</table>\n<p>9214 rows × 16 columns</p>\n</div>"
     },
     "execution_count": 53,
     "metadata": {},
     "output_type": "execute_result"
    }
   ],
   "source": [
    "df['user_id'] = df['user_id'].str.replace('condition_', '')\n",
    "df"
   ],
   "metadata": {
    "collapsed": false,
    "ExecuteTime": {
     "end_time": "2024-01-06T16:02:00.797692600Z",
     "start_time": "2024-01-06T16:02:00.752572900Z"
    }
   }
  },
  {
   "cell_type": "code",
   "execution_count": 54,
   "outputs": [],
   "source": [
    "def sin_transform(values):\n",
    "    \"\"\"\n",
    "    Applies SIN transform to a series value.\n",
    "    Args:\n",
    "        values (pd.Series): A series to apply SIN transform on.\n",
    "    Returns\n",
    "        (pd.Series): The transformed series.\n",
    "    \"\"\"\n",
    "\n",
    "    return np.sin(2 * np.pi * values / len(set(values)))\n",
    "\n",
    "\n",
    "def cos_transform(values):\n",
    "    \"\"\"\n",
    "    Applies COS transform to a series value.\n",
    "    Args:\n",
    "        values (pd.Series): A series to apply SIN transform on.\n",
    "    Returns\n",
    "        (pd.Series): The transformed series.\n",
    "    \"\"\"\n",
    "    return np.cos(2 * np.pi * values / len(set(values)))\n",
    "\n",
    "\n",
    "def date_engineering(data):\n",
    "    # Ensure timestamp is in datetime format\n",
    "    data['timestamp'] = pd.to_datetime(data['timestamp'])\n",
    "\n",
    "    # Extract date components\n",
    "    data[\"year\"] = data[\"timestamp\"].dt.year\n",
    "    data[\"month\"] = data[\"timestamp\"].dt.month\n",
    "    data[\"weekday\"] = data[\"timestamp\"].dt.weekday\n",
    "    data[\"week\"] = data[\"timestamp\"].dt.isocalendar().week\n",
    "    data[\"day\"] = data[\"timestamp\"].dt.day\n",
    "\n",
    "    # Apply sin and cos transforms\n",
    "    data[\"month_sin\"] = sin_transform(data[\"month\"])\n",
    "    data[\"weekday_sin\"] = sin_transform(data[\"weekday\"])\n",
    "    data[\"week_sin\"] = sin_transform(data[\"week\"])\n",
    "    data[\"day_sin\"] = sin_transform(data[\"day\"])\n",
    "\n",
    "    data[\"month_cos\"] = cos_transform(data[\"month\"])\n",
    "    data[\"weekday_cos\"] = cos_transform(data[\"weekday\"])\n",
    "    data[\"week_cos\"] = cos_transform(data[\"week\"])\n",
    "    data[\"day_cos\"] = cos_transform(data[\"day\"])\n",
    "\n",
    "    # Drop original date components\n",
    "    data = data.drop(columns=['year', 'month', 'weekday', 'week', 'day'])\n",
    "\n",
    "    return data"
   ],
   "metadata": {
    "collapsed": false,
    "ExecuteTime": {
     "end_time": "2024-01-06T16:02:01.555219200Z",
     "start_time": "2024-01-06T16:02:01.538811800Z"
    }
   }
  },
  {
   "cell_type": "code",
   "execution_count": 55,
   "outputs": [
    {
     "data": {
      "text/plain": "              timestamp      Dates      Time user_id    activity  days  \\\n0   2003-05-07 12:00:00 2003-05-07  12:00:00       1  346.550000  11.0   \n1   2003-05-07 13:00:00 2003-05-07  13:00:00       1  284.566667  11.0   \n2   2003-05-07 14:00:00 2003-05-07  14:00:00       1  279.183333  11.0   \n3   2003-05-07 15:00:00 2003-05-07  15:00:00       1  218.783333  11.0   \n4   2003-05-07 16:00:00 2003-05-07  16:00:00       1  238.550000  11.0   \n..                  ...        ...       ...     ...         ...   ...   \n335 2004-06-10 11:00:00 2004-06-10  11:00:00       9    0.000000  13.0   \n336 2004-06-10 12:00:00 2004-06-10  12:00:00       9   14.600000  13.0   \n337 2004-06-10 13:00:00 2004-06-10  13:00:00       9  511.316667  13.0   \n338 2004-06-10 14:00:00 2004-06-10  14:00:00       9    7.733333  13.0   \n339 2004-06-10 15:00:00 2004-06-10  15:00:00       9   56.750000  13.0   \n\n     gender  afftype  melanch  inpatient  ...  madrs_mean    DayName  \\\n0       2.0      2.0      2.0        2.0  ...        19.0  Wednesday   \n1       2.0      2.0      2.0        2.0  ...        19.0  Wednesday   \n2       2.0      2.0      2.0        2.0  ...        19.0  Wednesday   \n3       2.0      2.0      2.0        2.0  ...        19.0  Wednesday   \n4       2.0      2.0      2.0        2.0  ...        19.0  Wednesday   \n..      ...      ...      ...        ...  ...         ...        ...   \n335     2.0      1.0      2.0        2.0  ...        26.0   Thursday   \n336     2.0      1.0      2.0        2.0  ...        26.0   Thursday   \n337     2.0      1.0      2.0        2.0  ...        26.0   Thursday   \n338     2.0      1.0      2.0        2.0  ...        26.0   Thursday   \n339     2.0      1.0      2.0        2.0  ...        26.0   Thursday   \n\n     month_sin  weekday_sin  week_sin   day_sin  month_cos  weekday_cos  \\\n0    -0.974928     0.974928 -0.998027  0.988468  -0.222521    -0.222521   \n1    -0.974928     0.974928 -0.998027  0.988468  -0.222521    -0.222521   \n2    -0.974928     0.974928 -0.998027  0.988468  -0.222521    -0.222521   \n3    -0.974928     0.974928 -0.998027  0.988468  -0.222521    -0.222521   \n4    -0.974928     0.974928 -0.998027  0.988468  -0.222521    -0.222521   \n..         ...          ...       ...       ...        ...          ...   \n335  -0.781831     0.433884  -0.24869  0.897805   0.623490    -0.900969   \n336  -0.781831     0.433884  -0.24869  0.897805   0.623490    -0.900969   \n337  -0.781831     0.433884  -0.24869  0.897805   0.623490    -0.900969   \n338  -0.781831     0.433884  -0.24869  0.897805   0.623490    -0.900969   \n339  -0.781831     0.433884  -0.24869  0.897805   0.623490    -0.900969   \n\n     week_cos   day_cos  \n0    0.062791  0.151428  \n1    0.062791  0.151428  \n2    0.062791  0.151428  \n3    0.062791  0.151428  \n4    0.062791  0.151428  \n..        ...       ...  \n335  0.968583 -0.440394  \n336  0.968583 -0.440394  \n337  0.968583 -0.440394  \n338  0.968583 -0.440394  \n339  0.968583 -0.440394  \n\n[9214 rows x 24 columns]",
      "text/html": "<div>\n<style scoped>\n    .dataframe tbody tr th:only-of-type {\n        vertical-align: middle;\n    }\n\n    .dataframe tbody tr th {\n        vertical-align: top;\n    }\n\n    .dataframe thead th {\n        text-align: right;\n    }\n</style>\n<table border=\"1\" class=\"dataframe\">\n  <thead>\n    <tr style=\"text-align: right;\">\n      <th></th>\n      <th>timestamp</th>\n      <th>Dates</th>\n      <th>Time</th>\n      <th>user_id</th>\n      <th>activity</th>\n      <th>days</th>\n      <th>gender</th>\n      <th>afftype</th>\n      <th>melanch</th>\n      <th>inpatient</th>\n      <th>...</th>\n      <th>madrs_mean</th>\n      <th>DayName</th>\n      <th>month_sin</th>\n      <th>weekday_sin</th>\n      <th>week_sin</th>\n      <th>day_sin</th>\n      <th>month_cos</th>\n      <th>weekday_cos</th>\n      <th>week_cos</th>\n      <th>day_cos</th>\n    </tr>\n  </thead>\n  <tbody>\n    <tr>\n      <th>0</th>\n      <td>2003-05-07 12:00:00</td>\n      <td>2003-05-07</td>\n      <td>12:00:00</td>\n      <td>1</td>\n      <td>346.550000</td>\n      <td>11.0</td>\n      <td>2.0</td>\n      <td>2.0</td>\n      <td>2.0</td>\n      <td>2.0</td>\n      <td>...</td>\n      <td>19.0</td>\n      <td>Wednesday</td>\n      <td>-0.974928</td>\n      <td>0.974928</td>\n      <td>-0.998027</td>\n      <td>0.988468</td>\n      <td>-0.222521</td>\n      <td>-0.222521</td>\n      <td>0.062791</td>\n      <td>0.151428</td>\n    </tr>\n    <tr>\n      <th>1</th>\n      <td>2003-05-07 13:00:00</td>\n      <td>2003-05-07</td>\n      <td>13:00:00</td>\n      <td>1</td>\n      <td>284.566667</td>\n      <td>11.0</td>\n      <td>2.0</td>\n      <td>2.0</td>\n      <td>2.0</td>\n      <td>2.0</td>\n      <td>...</td>\n      <td>19.0</td>\n      <td>Wednesday</td>\n      <td>-0.974928</td>\n      <td>0.974928</td>\n      <td>-0.998027</td>\n      <td>0.988468</td>\n      <td>-0.222521</td>\n      <td>-0.222521</td>\n      <td>0.062791</td>\n      <td>0.151428</td>\n    </tr>\n    <tr>\n      <th>2</th>\n      <td>2003-05-07 14:00:00</td>\n      <td>2003-05-07</td>\n      <td>14:00:00</td>\n      <td>1</td>\n      <td>279.183333</td>\n      <td>11.0</td>\n      <td>2.0</td>\n      <td>2.0</td>\n      <td>2.0</td>\n      <td>2.0</td>\n      <td>...</td>\n      <td>19.0</td>\n      <td>Wednesday</td>\n      <td>-0.974928</td>\n      <td>0.974928</td>\n      <td>-0.998027</td>\n      <td>0.988468</td>\n      <td>-0.222521</td>\n      <td>-0.222521</td>\n      <td>0.062791</td>\n      <td>0.151428</td>\n    </tr>\n    <tr>\n      <th>3</th>\n      <td>2003-05-07 15:00:00</td>\n      <td>2003-05-07</td>\n      <td>15:00:00</td>\n      <td>1</td>\n      <td>218.783333</td>\n      <td>11.0</td>\n      <td>2.0</td>\n      <td>2.0</td>\n      <td>2.0</td>\n      <td>2.0</td>\n      <td>...</td>\n      <td>19.0</td>\n      <td>Wednesday</td>\n      <td>-0.974928</td>\n      <td>0.974928</td>\n      <td>-0.998027</td>\n      <td>0.988468</td>\n      <td>-0.222521</td>\n      <td>-0.222521</td>\n      <td>0.062791</td>\n      <td>0.151428</td>\n    </tr>\n    <tr>\n      <th>4</th>\n      <td>2003-05-07 16:00:00</td>\n      <td>2003-05-07</td>\n      <td>16:00:00</td>\n      <td>1</td>\n      <td>238.550000</td>\n      <td>11.0</td>\n      <td>2.0</td>\n      <td>2.0</td>\n      <td>2.0</td>\n      <td>2.0</td>\n      <td>...</td>\n      <td>19.0</td>\n      <td>Wednesday</td>\n      <td>-0.974928</td>\n      <td>0.974928</td>\n      <td>-0.998027</td>\n      <td>0.988468</td>\n      <td>-0.222521</td>\n      <td>-0.222521</td>\n      <td>0.062791</td>\n      <td>0.151428</td>\n    </tr>\n    <tr>\n      <th>...</th>\n      <td>...</td>\n      <td>...</td>\n      <td>...</td>\n      <td>...</td>\n      <td>...</td>\n      <td>...</td>\n      <td>...</td>\n      <td>...</td>\n      <td>...</td>\n      <td>...</td>\n      <td>...</td>\n      <td>...</td>\n      <td>...</td>\n      <td>...</td>\n      <td>...</td>\n      <td>...</td>\n      <td>...</td>\n      <td>...</td>\n      <td>...</td>\n      <td>...</td>\n      <td>...</td>\n    </tr>\n    <tr>\n      <th>335</th>\n      <td>2004-06-10 11:00:00</td>\n      <td>2004-06-10</td>\n      <td>11:00:00</td>\n      <td>9</td>\n      <td>0.000000</td>\n      <td>13.0</td>\n      <td>2.0</td>\n      <td>1.0</td>\n      <td>2.0</td>\n      <td>2.0</td>\n      <td>...</td>\n      <td>26.0</td>\n      <td>Thursday</td>\n      <td>-0.781831</td>\n      <td>0.433884</td>\n      <td>-0.24869</td>\n      <td>0.897805</td>\n      <td>0.623490</td>\n      <td>-0.900969</td>\n      <td>0.968583</td>\n      <td>-0.440394</td>\n    </tr>\n    <tr>\n      <th>336</th>\n      <td>2004-06-10 12:00:00</td>\n      <td>2004-06-10</td>\n      <td>12:00:00</td>\n      <td>9</td>\n      <td>14.600000</td>\n      <td>13.0</td>\n      <td>2.0</td>\n      <td>1.0</td>\n      <td>2.0</td>\n      <td>2.0</td>\n      <td>...</td>\n      <td>26.0</td>\n      <td>Thursday</td>\n      <td>-0.781831</td>\n      <td>0.433884</td>\n      <td>-0.24869</td>\n      <td>0.897805</td>\n      <td>0.623490</td>\n      <td>-0.900969</td>\n      <td>0.968583</td>\n      <td>-0.440394</td>\n    </tr>\n    <tr>\n      <th>337</th>\n      <td>2004-06-10 13:00:00</td>\n      <td>2004-06-10</td>\n      <td>13:00:00</td>\n      <td>9</td>\n      <td>511.316667</td>\n      <td>13.0</td>\n      <td>2.0</td>\n      <td>1.0</td>\n      <td>2.0</td>\n      <td>2.0</td>\n      <td>...</td>\n      <td>26.0</td>\n      <td>Thursday</td>\n      <td>-0.781831</td>\n      <td>0.433884</td>\n      <td>-0.24869</td>\n      <td>0.897805</td>\n      <td>0.623490</td>\n      <td>-0.900969</td>\n      <td>0.968583</td>\n      <td>-0.440394</td>\n    </tr>\n    <tr>\n      <th>338</th>\n      <td>2004-06-10 14:00:00</td>\n      <td>2004-06-10</td>\n      <td>14:00:00</td>\n      <td>9</td>\n      <td>7.733333</td>\n      <td>13.0</td>\n      <td>2.0</td>\n      <td>1.0</td>\n      <td>2.0</td>\n      <td>2.0</td>\n      <td>...</td>\n      <td>26.0</td>\n      <td>Thursday</td>\n      <td>-0.781831</td>\n      <td>0.433884</td>\n      <td>-0.24869</td>\n      <td>0.897805</td>\n      <td>0.623490</td>\n      <td>-0.900969</td>\n      <td>0.968583</td>\n      <td>-0.440394</td>\n    </tr>\n    <tr>\n      <th>339</th>\n      <td>2004-06-10 15:00:00</td>\n      <td>2004-06-10</td>\n      <td>15:00:00</td>\n      <td>9</td>\n      <td>56.750000</td>\n      <td>13.0</td>\n      <td>2.0</td>\n      <td>1.0</td>\n      <td>2.0</td>\n      <td>2.0</td>\n      <td>...</td>\n      <td>26.0</td>\n      <td>Thursday</td>\n      <td>-0.781831</td>\n      <td>0.433884</td>\n      <td>-0.24869</td>\n      <td>0.897805</td>\n      <td>0.623490</td>\n      <td>-0.900969</td>\n      <td>0.968583</td>\n      <td>-0.440394</td>\n    </tr>\n  </tbody>\n</table>\n<p>9214 rows × 24 columns</p>\n</div>"
     },
     "execution_count": 55,
     "metadata": {},
     "output_type": "execute_result"
    }
   ],
   "source": [
    "df = date_engineering(df)\n",
    "df"
   ],
   "metadata": {
    "collapsed": false,
    "ExecuteTime": {
     "end_time": "2024-01-06T16:02:02.187060100Z",
     "start_time": "2024-01-06T16:02:02.123747500Z"
    }
   }
  },
  {
   "cell_type": "code",
   "execution_count": 56,
   "outputs": [
    {
     "data": {
      "text/plain": "    user_id    activity  days  gender  afftype  melanch  inpatient  marriage  \\\n0         1  346.550000  11.0     2.0      2.0      2.0        2.0       1.0   \n1         1  284.566667  11.0     2.0      2.0      2.0        2.0       1.0   \n2         1  279.183333  11.0     2.0      2.0      2.0        2.0       1.0   \n3         1  218.783333  11.0     2.0      2.0      2.0        2.0       1.0   \n4         1  238.550000  11.0     2.0      2.0      2.0        2.0       1.0   \n..      ...         ...   ...     ...      ...      ...        ...       ...   \n335       9    0.000000  13.0     2.0      1.0      2.0        2.0       1.0   \n336       9   14.600000  13.0     2.0      1.0      2.0        2.0       1.0   \n337       9  511.316667  13.0     2.0      1.0      2.0        2.0       1.0   \n338       9    7.733333  13.0     2.0      1.0      2.0        2.0       1.0   \n339       9   56.750000  13.0     2.0      1.0      2.0        2.0       1.0   \n\n     work  madrs_mean  month_sin  weekday_sin  week_sin   day_sin  month_cos  \\\n0     2.0        19.0  -0.974928     0.974928 -0.998027  0.988468  -0.222521   \n1     2.0        19.0  -0.974928     0.974928 -0.998027  0.988468  -0.222521   \n2     2.0        19.0  -0.974928     0.974928 -0.998027  0.988468  -0.222521   \n3     2.0        19.0  -0.974928     0.974928 -0.998027  0.988468  -0.222521   \n4     2.0        19.0  -0.974928     0.974928 -0.998027  0.988468  -0.222521   \n..    ...         ...        ...          ...       ...       ...        ...   \n335   2.0        26.0  -0.781831     0.433884  -0.24869  0.897805   0.623490   \n336   2.0        26.0  -0.781831     0.433884  -0.24869  0.897805   0.623490   \n337   2.0        26.0  -0.781831     0.433884  -0.24869  0.897805   0.623490   \n338   2.0        26.0  -0.781831     0.433884  -0.24869  0.897805   0.623490   \n339   2.0        26.0  -0.781831     0.433884  -0.24869  0.897805   0.623490   \n\n     weekday_cos  week_cos   day_cos  \n0      -0.222521  0.062791  0.151428  \n1      -0.222521  0.062791  0.151428  \n2      -0.222521  0.062791  0.151428  \n3      -0.222521  0.062791  0.151428  \n4      -0.222521  0.062791  0.151428  \n..           ...       ...       ...  \n335    -0.900969  0.968583 -0.440394  \n336    -0.900969  0.968583 -0.440394  \n337    -0.900969  0.968583 -0.440394  \n338    -0.900969  0.968583 -0.440394  \n339    -0.900969  0.968583 -0.440394  \n\n[9214 rows x 18 columns]",
      "text/html": "<div>\n<style scoped>\n    .dataframe tbody tr th:only-of-type {\n        vertical-align: middle;\n    }\n\n    .dataframe tbody tr th {\n        vertical-align: top;\n    }\n\n    .dataframe thead th {\n        text-align: right;\n    }\n</style>\n<table border=\"1\" class=\"dataframe\">\n  <thead>\n    <tr style=\"text-align: right;\">\n      <th></th>\n      <th>user_id</th>\n      <th>activity</th>\n      <th>days</th>\n      <th>gender</th>\n      <th>afftype</th>\n      <th>melanch</th>\n      <th>inpatient</th>\n      <th>marriage</th>\n      <th>work</th>\n      <th>madrs_mean</th>\n      <th>month_sin</th>\n      <th>weekday_sin</th>\n      <th>week_sin</th>\n      <th>day_sin</th>\n      <th>month_cos</th>\n      <th>weekday_cos</th>\n      <th>week_cos</th>\n      <th>day_cos</th>\n    </tr>\n  </thead>\n  <tbody>\n    <tr>\n      <th>0</th>\n      <td>1</td>\n      <td>346.550000</td>\n      <td>11.0</td>\n      <td>2.0</td>\n      <td>2.0</td>\n      <td>2.0</td>\n      <td>2.0</td>\n      <td>1.0</td>\n      <td>2.0</td>\n      <td>19.0</td>\n      <td>-0.974928</td>\n      <td>0.974928</td>\n      <td>-0.998027</td>\n      <td>0.988468</td>\n      <td>-0.222521</td>\n      <td>-0.222521</td>\n      <td>0.062791</td>\n      <td>0.151428</td>\n    </tr>\n    <tr>\n      <th>1</th>\n      <td>1</td>\n      <td>284.566667</td>\n      <td>11.0</td>\n      <td>2.0</td>\n      <td>2.0</td>\n      <td>2.0</td>\n      <td>2.0</td>\n      <td>1.0</td>\n      <td>2.0</td>\n      <td>19.0</td>\n      <td>-0.974928</td>\n      <td>0.974928</td>\n      <td>-0.998027</td>\n      <td>0.988468</td>\n      <td>-0.222521</td>\n      <td>-0.222521</td>\n      <td>0.062791</td>\n      <td>0.151428</td>\n    </tr>\n    <tr>\n      <th>2</th>\n      <td>1</td>\n      <td>279.183333</td>\n      <td>11.0</td>\n      <td>2.0</td>\n      <td>2.0</td>\n      <td>2.0</td>\n      <td>2.0</td>\n      <td>1.0</td>\n      <td>2.0</td>\n      <td>19.0</td>\n      <td>-0.974928</td>\n      <td>0.974928</td>\n      <td>-0.998027</td>\n      <td>0.988468</td>\n      <td>-0.222521</td>\n      <td>-0.222521</td>\n      <td>0.062791</td>\n      <td>0.151428</td>\n    </tr>\n    <tr>\n      <th>3</th>\n      <td>1</td>\n      <td>218.783333</td>\n      <td>11.0</td>\n      <td>2.0</td>\n      <td>2.0</td>\n      <td>2.0</td>\n      <td>2.0</td>\n      <td>1.0</td>\n      <td>2.0</td>\n      <td>19.0</td>\n      <td>-0.974928</td>\n      <td>0.974928</td>\n      <td>-0.998027</td>\n      <td>0.988468</td>\n      <td>-0.222521</td>\n      <td>-0.222521</td>\n      <td>0.062791</td>\n      <td>0.151428</td>\n    </tr>\n    <tr>\n      <th>4</th>\n      <td>1</td>\n      <td>238.550000</td>\n      <td>11.0</td>\n      <td>2.0</td>\n      <td>2.0</td>\n      <td>2.0</td>\n      <td>2.0</td>\n      <td>1.0</td>\n      <td>2.0</td>\n      <td>19.0</td>\n      <td>-0.974928</td>\n      <td>0.974928</td>\n      <td>-0.998027</td>\n      <td>0.988468</td>\n      <td>-0.222521</td>\n      <td>-0.222521</td>\n      <td>0.062791</td>\n      <td>0.151428</td>\n    </tr>\n    <tr>\n      <th>...</th>\n      <td>...</td>\n      <td>...</td>\n      <td>...</td>\n      <td>...</td>\n      <td>...</td>\n      <td>...</td>\n      <td>...</td>\n      <td>...</td>\n      <td>...</td>\n      <td>...</td>\n      <td>...</td>\n      <td>...</td>\n      <td>...</td>\n      <td>...</td>\n      <td>...</td>\n      <td>...</td>\n      <td>...</td>\n      <td>...</td>\n    </tr>\n    <tr>\n      <th>335</th>\n      <td>9</td>\n      <td>0.000000</td>\n      <td>13.0</td>\n      <td>2.0</td>\n      <td>1.0</td>\n      <td>2.0</td>\n      <td>2.0</td>\n      <td>1.0</td>\n      <td>2.0</td>\n      <td>26.0</td>\n      <td>-0.781831</td>\n      <td>0.433884</td>\n      <td>-0.24869</td>\n      <td>0.897805</td>\n      <td>0.623490</td>\n      <td>-0.900969</td>\n      <td>0.968583</td>\n      <td>-0.440394</td>\n    </tr>\n    <tr>\n      <th>336</th>\n      <td>9</td>\n      <td>14.600000</td>\n      <td>13.0</td>\n      <td>2.0</td>\n      <td>1.0</td>\n      <td>2.0</td>\n      <td>2.0</td>\n      <td>1.0</td>\n      <td>2.0</td>\n      <td>26.0</td>\n      <td>-0.781831</td>\n      <td>0.433884</td>\n      <td>-0.24869</td>\n      <td>0.897805</td>\n      <td>0.623490</td>\n      <td>-0.900969</td>\n      <td>0.968583</td>\n      <td>-0.440394</td>\n    </tr>\n    <tr>\n      <th>337</th>\n      <td>9</td>\n      <td>511.316667</td>\n      <td>13.0</td>\n      <td>2.0</td>\n      <td>1.0</td>\n      <td>2.0</td>\n      <td>2.0</td>\n      <td>1.0</td>\n      <td>2.0</td>\n      <td>26.0</td>\n      <td>-0.781831</td>\n      <td>0.433884</td>\n      <td>-0.24869</td>\n      <td>0.897805</td>\n      <td>0.623490</td>\n      <td>-0.900969</td>\n      <td>0.968583</td>\n      <td>-0.440394</td>\n    </tr>\n    <tr>\n      <th>338</th>\n      <td>9</td>\n      <td>7.733333</td>\n      <td>13.0</td>\n      <td>2.0</td>\n      <td>1.0</td>\n      <td>2.0</td>\n      <td>2.0</td>\n      <td>1.0</td>\n      <td>2.0</td>\n      <td>26.0</td>\n      <td>-0.781831</td>\n      <td>0.433884</td>\n      <td>-0.24869</td>\n      <td>0.897805</td>\n      <td>0.623490</td>\n      <td>-0.900969</td>\n      <td>0.968583</td>\n      <td>-0.440394</td>\n    </tr>\n    <tr>\n      <th>339</th>\n      <td>9</td>\n      <td>56.750000</td>\n      <td>13.0</td>\n      <td>2.0</td>\n      <td>1.0</td>\n      <td>2.0</td>\n      <td>2.0</td>\n      <td>1.0</td>\n      <td>2.0</td>\n      <td>26.0</td>\n      <td>-0.781831</td>\n      <td>0.433884</td>\n      <td>-0.24869</td>\n      <td>0.897805</td>\n      <td>0.623490</td>\n      <td>-0.900969</td>\n      <td>0.968583</td>\n      <td>-0.440394</td>\n    </tr>\n  </tbody>\n</table>\n<p>9214 rows × 18 columns</p>\n</div>"
     },
     "execution_count": 56,
     "metadata": {},
     "output_type": "execute_result"
    }
   ],
   "source": [
    "df = df.drop(columns=['timestamp', 'Dates', 'Time', 'madrs1', 'madrs2', 'DayName'])\n",
    "df"
   ],
   "metadata": {
    "collapsed": false,
    "ExecuteTime": {
     "end_time": "2024-01-06T16:02:02.731525200Z",
     "start_time": "2024-01-06T16:02:02.687066300Z"
    }
   }
  },
  {
   "cell_type": "code",
   "execution_count": 58,
   "outputs": [
    {
     "name": "stdout",
     "output_type": "stream",
     "text": [
      "Index(['user_id'], dtype='object')\n"
     ]
    }
   ],
   "source": [
    "non_numeric_cols = df.select_dtypes(include=['object']).columns\n",
    "print(non_numeric_cols)"
   ],
   "metadata": {
    "collapsed": false,
    "ExecuteTime": {
     "end_time": "2024-01-06T16:03:47.712089300Z",
     "start_time": "2024-01-06T16:03:47.696317200Z"
    }
   }
  },
  {
   "cell_type": "code",
   "execution_count": 59,
   "outputs": [],
   "source": [
    "unique_ids = df['user_id'].unique()\n",
    "train_ids, test_ids = train_test_split(unique_ids, test_size=0.3, random_state=42)\n",
    "\n",
    "train_df = df[df['user_id'].isin(train_ids)]\n",
    "test_df = df[df['user_id'].isin(test_ids)]\n",
    "\n",
    "train_df = train_df.drop(columns=['user_id'])\n",
    "test_df = test_df.drop(columns=['user_id'])"
   ],
   "metadata": {
    "collapsed": false,
    "ExecuteTime": {
     "end_time": "2024-01-06T16:05:54.441522500Z",
     "start_time": "2024-01-06T16:05:54.387Z"
    }
   }
  },
  {
   "cell_type": "code",
   "execution_count": 61,
   "outputs": [
    {
     "name": "stdout",
     "output_type": "stream",
     "text": [
      "Random Forest:\n",
      " MSE: 73.57992595220985, R²: -3.1665468699267025\n"
     ]
    }
   ],
   "source": [
    "X_train = train_df.drop('madrs_mean', axis=1)\n",
    "y_train = train_df['madrs_mean']\n",
    "\n",
    "X_test = test_df.drop('madrs_mean', axis=1)\n",
    "y_test = test_df['madrs_mean']\n",
    "\n",
    "random_forest_model = RandomForestRegressor(n_estimators=100, random_state=42)\n",
    "random_forest_model.fit(X_train, y_train)\n",
    "y_pred = random_forest_model.predict(X_test)\n",
    "mse = mean_squared_error(y_test, y_pred)\n",
    "r2 = r2_score(y_test, y_pred)\n",
    "\n",
    "print(f'Random Forest:\\n MSE: {mse}, R²: {r2}')"
   ],
   "metadata": {
    "collapsed": false,
    "ExecuteTime": {
     "end_time": "2024-01-06T16:07:20.015827400Z",
     "start_time": "2024-01-06T16:07:19.408337900Z"
    }
   }
  },
  {
   "cell_type": "code",
   "execution_count": null,
   "outputs": [],
   "source": [],
   "metadata": {
    "collapsed": false
   }
  }
 ],
 "metadata": {
  "kernelspec": {
   "display_name": "Python 3",
   "language": "python",
   "name": "python3"
  },
  "language_info": {
   "codemirror_mode": {
    "name": "ipython",
    "version": 2
   },
   "file_extension": ".py",
   "mimetype": "text/x-python",
   "name": "python",
   "nbconvert_exporter": "python",
   "pygments_lexer": "ipython2",
   "version": "2.7.6"
  }
 },
 "nbformat": 4,
 "nbformat_minor": 0
}
