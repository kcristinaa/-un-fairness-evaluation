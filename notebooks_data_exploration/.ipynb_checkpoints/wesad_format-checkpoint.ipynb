{
 "cells": [
  {
   "cell_type": "code",
   "execution_count": 15,
   "id": "df7dfa81-bde9-45f9-b97a-1512add8e2e8",
   "metadata": {},
   "outputs": [],
   "source": [
    "import pandas as pd\n",
    "import seaborn as sns\n",
    "import matplotlib.pyplot as plt"
   ]
  },
  {
   "cell_type": "code",
   "execution_count": 16,
   "id": "ad6df16f-e795-4609-9a46-75eef093cc7f",
   "metadata": {},
   "outputs": [],
   "source": [
    "custom_colors = ['#784888', '#94b3c4', '#897cac', '#d8bfd4', '#f6e8e7']\n",
    "\n",
    "sns.set_palette(custom_colors)\n",
    "\n",
    "plt.rcParams['axes.prop_cycle'] = plt.cycler(color=custom_colors)\n",
    "plt.rcParams['axes.titlesize'] = 35\n",
    "plt.rcParams['axes.labelsize'] = 30\n",
    "plt.rcParams['xtick.labelsize'] = 20\n",
    "plt.rcParams['ytick.labelsize'] = 20\n",
    "plt.rcParams['legend.fontsize'] = 15"
   ]
  },
  {
   "cell_type": "code",
   "execution_count": 23,
   "id": "8306fdcf-1721-4b8c-a6d6-4a6f0148f95a",
   "metadata": {},
   "outputs": [],
   "source": [
    "def create_dataframe_features(data, eda_sf, acc_sf, bvp_sf, tem_sf):\n",
    "    \"\"\"\n",
    "        @brief: Generates a dataframe that contains all of the features\n",
    "        @param: data (dictionary): Data to create the features dataframe from\n",
    "        @param: eda_sf: Sampling frequency of electrodermal activity\n",
    "        @param: acc_sf: Sampling frequency of acceleration\n",
    "        @param: bvp_sf: Sampling frequency of blood volume pulse\n",
    "        @param: tem_sf: Sampling frequency of body temperature\n",
    "    \"\"\"\n",
    "    columns_EDA = []\n",
    "    for i in range(0, eda_sf):\n",
    "        columns_EDA.append(\"EDA_\"+str(i))\n",
    "    \n",
    "    columns_TEMP = []\n",
    "    for i in range(0, tem_sf):\n",
    "        columns_TEMP.append(\"TEMP_\"+str(i))\n",
    "        \n",
    "    columns_ACC1 = []\n",
    "    for i in range(0, acc_sf):\n",
    "        columns_ACC1.append(\"ACC1_\"+str(i))\n",
    "        \n",
    "    columns_ACC2 = []\n",
    "    for i in range(0, acc_sf):\n",
    "        columns_ACC2.append(\"ACC2_\"+str(i))\n",
    "        \n",
    "    columns_ACC3 = []\n",
    "    for i in range(0, acc_sf):\n",
    "        columns_ACC3.append(\"ACC3_\"+str(i))\n",
    "        \n",
    "    columns_BVP = []\n",
    "    for i in range(0, bvp_sf):\n",
    "        columns_BVP.append(\"BVP_\"+str(i))\n",
    "    \n",
    "    df1 = pd.DataFrame(data['EDA'][:,:,0], columns=columns_EDA)\n",
    "    df2 = pd.DataFrame(data['TEMP'][:,:,0], columns=columns_TEMP)\n",
    "    df3 = pd.DataFrame(data['ACC'][:,:,0], columns=columns_ACC1)\n",
    "    df4 = pd.DataFrame(data['ACC'][:,:,1], columns=columns_ACC2)\n",
    "    df5 = pd.DataFrame(data['ACC'][:,:,2], columns=columns_ACC3)\n",
    "    df6 = pd.DataFrame(data['BVP'][:,:,0], columns=columns_BVP)\n",
    "    features = pd.concat([df1, df2, df3, df4, df5, df6], axis=1)\n",
    "    return features"
   ]
  },
  {
   "cell_type": "code",
   "execution_count": 27,
   "id": "f5b688d8-06e9-4369-bb4d-9bdc8b75f8d8",
   "metadata": {},
   "outputs": [],
   "source": [
    "def create_dataframe_labels(data):\n",
    "    \"\"\"\n",
    "        @brief: Generates a dataframe that contains the stress labels\n",
    "        @param: data (dictionary): Data to extract labels from\n",
    "    \"\"\"\n",
    "    labels = pd.DataFrame(data['labels'], columns=[\"stress\"])\n",
    "    return labels"
   ]
  },
  {
   "cell_type": "code",
   "execution_count": 30,
   "id": "0067e1ba-5a7b-4166-b9a3-303566d92a9f",
   "metadata": {},
   "outputs": [],
   "source": [
    "def create_dataframe_ids(data):\n",
    "    \"\"\"\n",
    "        @brief: Generates a dataframe that contains the participants' ids\n",
    "        @param: data (dictionary): Data to extract ids from\n",
    "    \"\"\"\n",
    "    ids = pd.DataFrame(data['id'], columns=[\"id\"])\n",
    "    return ids"
   ]
  },
  {
   "cell_type": "code",
   "execution_count": 31,
   "id": "31edf3f7-c3a6-42fe-ac9d-54c8a291e6bb",
   "metadata": {},
   "outputs": [],
   "source": [
    "modalities = ['ACC', 'BVP', 'EDA', 'TEMP']\n",
    "\n",
    "#sampling frequencies\n",
    "ACC_WE = 32\n",
    "BVP_WE = 64\n",
    "EDA_WE = 4\n",
    "TEMP_WE = 4\n",
    "\n",
    "ACC_AD = 1920\n",
    "BVP_AD = 3840\n",
    "EDA_AD = 240\n",
    "TEMP_AD = 240"
   ]
  },
  {
   "cell_type": "code",
   "execution_count": 32,
   "id": "60b1ce5b-662f-48a2-8701-ceba1773f387",
   "metadata": {},
   "outputs": [],
   "source": [
    "#Load data\n",
    "wesad = pd.read_pickle('../data/wesad/All_ID.pkl')\n",
    "\n",
    "#Create the dataframe of the features\n",
    "wesad_features = create_dataframe_features(wesad[\"data\"], EDA_WE, ACC_WE, BVP_WE, TEMP_WE)\n",
    "\n",
    "#Create the dataframe of the labels\n",
    "wesad_labels = create_dataframe_labels(wesad)\n",
    "\n",
    "#Create the dataframe of the ids\n",
    "wesad_ids = create_dataframe_ids(wesad)\n",
    "\n",
    "#Concatenate features and labels\n",
    "wesad_dataset = pd.concat([wesad_ids, wesad_features, wesad_labels], axis = 1)\n",
    "\n",
    "wesad_dataset"
   ]
  },
  {
   "cell_type": "code",
   "execution_count": 34,
   "id": "62135cc0-16b5-4ada-b124-37ae07b41525",
   "metadata": {},
   "outputs": [
    {
     "data": {
      "text/plain": [
       "stress\n",
       "0.0    58834\n",
       "1.0    19932\n",
       "Name: count, dtype: int64"
      ]
     },
     "execution_count": 34,
     "metadata": {},
     "output_type": "execute_result"
    }
   ],
   "source": [
    "wesad_dataset['stress'].value_counts()"
   ]
  },
  {
   "cell_type": "code",
   "execution_count": null,
   "id": "35e7bb31-3fb9-45d5-917d-115b46d3a321",
   "metadata": {},
   "outputs": [],
   "source": []
  }
 ],
 "metadata": {
  "kernelspec": {
   "display_name": "Python 3 (ipykernel)",
   "language": "python",
   "name": "python3"
  },
  "language_info": {
   "codemirror_mode": {
    "name": "ipython",
    "version": 3
   },
   "file_extension": ".py",
   "mimetype": "text/x-python",
   "name": "python",
   "nbconvert_exporter": "python",
   "pygments_lexer": "ipython3",
   "version": "3.12.5"
  }
 },
 "nbformat": 4,
 "nbformat_minor": 5
}
