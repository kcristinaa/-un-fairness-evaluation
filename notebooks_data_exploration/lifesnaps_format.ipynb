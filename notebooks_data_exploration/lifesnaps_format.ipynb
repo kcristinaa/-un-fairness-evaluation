{
 "cells": [
  {
   "cell_type": "code",
   "execution_count": 76,
   "id": "initial_id",
   "metadata": {
    "collapsed": true,
    "ExecuteTime": {
     "end_time": "2024-02-07T12:07:51.204002800Z",
     "start_time": "2024-02-07T12:07:51.200694400Z"
    }
   },
   "outputs": [],
   "source": [
    "import pandas as pd\n",
    "import numpy as np\n",
    "from datetime import datetime\n",
    "import seaborn as sns\n",
    "import matplotlib.pyplot as plt\n",
    "from dataprep.eda import create_report"
   ]
  },
  {
   "cell_type": "code",
   "outputs": [],
   "source": [
    "custom_colors = ['#1f77b4', '#ff7f0e', '#2ca02c', '#d62728', '#9467bd', '#8c564b', '#e377c2', '#7f7f7f']\n",
    "complementary_colors = ['#a9d0f5', '#f3ba8c', '#98e698', '#f5a9a9', '#d8b5d8', '#d2a6a6', '#f5a9f2', '#d8d8d8']\n",
    "\n",
    "full_palette = custom_colors + complementary_colors\n",
    "sns.set_palette(full_palette)\n",
    "\n",
    "plt.rcParams['axes.prop_cycle'] = plt.cycler(color=custom_colors)\n",
    "plt.rcParams['axes.titlesize'] = 30\n",
    "plt.rcParams['axes.labelsize'] = 20\n",
    "plt.rcParams['xtick.labelsize'] = 20\n",
    "plt.rcParams['ytick.labelsize'] = 20\n",
    "plt.rcParams['legend.fontsize'] = 15"
   ],
   "metadata": {
    "collapsed": false,
    "ExecuteTime": {
     "end_time": "2024-02-07T12:07:51.634771200Z",
     "start_time": "2024-02-07T12:07:51.612395400Z"
    }
   },
   "id": "118babeef38bbab1",
   "execution_count": 77
  },
  {
   "cell_type": "code",
   "outputs": [],
   "source": [
    "def get_category(score, mean, std):\n",
    "    if score < mean-0.5*std:\n",
    "        return \"Below average\"\n",
    "    if score > mean+0.5*std:\n",
    "        return \"Above average\"\n",
    "    return \"Average\""
   ],
   "metadata": {
    "collapsed": false,
    "ExecuteTime": {
     "end_time": "2024-02-07T12:07:52.013887500Z",
     "start_time": "2024-02-07T12:07:51.990004100Z"
    }
   },
   "id": "4e28399a9fae8d84",
   "execution_count": 78
  },
  {
   "cell_type": "markdown",
   "source": [
    "# Read and merge all data"
   ],
   "metadata": {
    "collapsed": false
   },
   "id": "1834d11d92aafa3"
  },
  {
   "cell_type": "code",
   "execution_count": 79,
   "outputs": [
    {
     "data": {
      "text/plain": "      Unnamed: 0                        id        date  nightly_temperature  \\\n0              0  621e2e8e67b776a24055b564  2021-05-24            34.137687   \n1              1  621e2e8e67b776a24055b564  2021-05-25            33.794544   \n2              2  621e2e8e67b776a24055b564  2021-05-26            34.611011   \n3              3  621e2e8e67b776a24055b564  2021-05-27            34.408304   \n4              4  621e2e8e67b776a24055b564  2021-05-28            34.178922   \n...          ...                       ...         ...                  ...   \n7405        7405  621e362467b776a2404ad513  2021-05-18                  NaN   \n7406        7406  621e36f967b776a240e5e7c9  2021-05-20                  NaN   \n7407        7407  621e362467b776a2404ad513  2021-05-23                  NaN   \n7408        7408  621e339967b776a240e502de  2021-11-19                  NaN   \n7409        7409  621e339967b776a240e502de  2021-11-20                  NaN   \n\n      nremhr    rmssd  spo2  full_sleep_breathing_rate  stress_score  \\\n0     57.432   89.603   NaN                       14.8          78.0   \n1     57.681   94.303   NaN                       15.8          80.0   \n2     57.481  119.212   NaN                       14.6          84.0   \n3     57.493  111.709   NaN                       14.8          82.0   \n4     56.750  103.034   NaN                       15.2          81.0   \n...      ...      ...   ...                        ...           ...   \n7405     NaN      NaN   NaN                        NaN           NaN   \n7406     NaN      NaN   NaN                        NaN           NaN   \n7407     NaN      NaN   NaN                        NaN           NaN   \n7408     NaN      NaN   NaN                        NaN           NaN   \n7409     NaN      NaN   NaN                        NaN           NaN   \n\n      sleep_points_percentage  ...  TENSE/ANXIOUS  TIRED  ENTERTAINMENT  GYM  \\\n0                    0.833333  ...            NaN    NaN            NaN  NaN   \n1                    0.833333  ...            0.0    1.0            0.0  0.0   \n2                    0.966667  ...            0.0    0.0            0.0  0.0   \n3                    0.933333  ...            0.0    0.0            0.0  0.0   \n4                    0.866667  ...            0.0    0.0            0.0  0.0   \n...                       ...  ...            ...    ...            ...  ...   \n7405                      NaN  ...            0.0    0.0            0.0  0.0   \n7406                      NaN  ...            0.0    1.0            0.0  0.0   \n7407                      NaN  ...            0.0    0.0            0.0  0.0   \n7408                      NaN  ...            0.0    0.0            0.0  0.0   \n7409                      NaN  ...            0.0    0.0            0.0  0.0   \n\n      HOME  HOME_OFFICE  OTHER OUTDOORS  TRANSIT  WORK/SCHOOL  \n0      NaN          NaN    NaN      NaN      NaN          NaN  \n1      0.0          0.0    0.0      1.0      0.0          1.0  \n2      0.0          0.0    0.0      1.0      0.0          0.0  \n3      1.0          0.0    0.0      1.0      0.0          1.0  \n4      0.0          0.0    0.0      1.0      0.0          0.0  \n...    ...          ...    ...      ...      ...          ...  \n7405   1.0          0.0    0.0      0.0      0.0          0.0  \n7406   1.0          0.0    0.0      0.0      0.0          1.0  \n7407   0.0          0.0    0.0      0.0      1.0          0.0  \n7408   1.0          0.0    0.0      0.0      0.0          0.0  \n7409   1.0          0.0    0.0      0.0      0.0          0.0  \n\n[7410 rows x 63 columns]",
      "text/html": "<div>\n<style scoped>\n    .dataframe tbody tr th:only-of-type {\n        vertical-align: middle;\n    }\n\n    .dataframe tbody tr th {\n        vertical-align: top;\n    }\n\n    .dataframe thead th {\n        text-align: right;\n    }\n</style>\n<table border=\"1\" class=\"dataframe\">\n  <thead>\n    <tr style=\"text-align: right;\">\n      <th></th>\n      <th>Unnamed: 0</th>\n      <th>id</th>\n      <th>date</th>\n      <th>nightly_temperature</th>\n      <th>nremhr</th>\n      <th>rmssd</th>\n      <th>spo2</th>\n      <th>full_sleep_breathing_rate</th>\n      <th>stress_score</th>\n      <th>sleep_points_percentage</th>\n      <th>...</th>\n      <th>TENSE/ANXIOUS</th>\n      <th>TIRED</th>\n      <th>ENTERTAINMENT</th>\n      <th>GYM</th>\n      <th>HOME</th>\n      <th>HOME_OFFICE</th>\n      <th>OTHER</th>\n      <th>OUTDOORS</th>\n      <th>TRANSIT</th>\n      <th>WORK/SCHOOL</th>\n    </tr>\n  </thead>\n  <tbody>\n    <tr>\n      <th>0</th>\n      <td>0</td>\n      <td>621e2e8e67b776a24055b564</td>\n      <td>2021-05-24</td>\n      <td>34.137687</td>\n      <td>57.432</td>\n      <td>89.603</td>\n      <td>NaN</td>\n      <td>14.8</td>\n      <td>78.0</td>\n      <td>0.833333</td>\n      <td>...</td>\n      <td>NaN</td>\n      <td>NaN</td>\n      <td>NaN</td>\n      <td>NaN</td>\n      <td>NaN</td>\n      <td>NaN</td>\n      <td>NaN</td>\n      <td>NaN</td>\n      <td>NaN</td>\n      <td>NaN</td>\n    </tr>\n    <tr>\n      <th>1</th>\n      <td>1</td>\n      <td>621e2e8e67b776a24055b564</td>\n      <td>2021-05-25</td>\n      <td>33.794544</td>\n      <td>57.681</td>\n      <td>94.303</td>\n      <td>NaN</td>\n      <td>15.8</td>\n      <td>80.0</td>\n      <td>0.833333</td>\n      <td>...</td>\n      <td>0.0</td>\n      <td>1.0</td>\n      <td>0.0</td>\n      <td>0.0</td>\n      <td>0.0</td>\n      <td>0.0</td>\n      <td>0.0</td>\n      <td>1.0</td>\n      <td>0.0</td>\n      <td>1.0</td>\n    </tr>\n    <tr>\n      <th>2</th>\n      <td>2</td>\n      <td>621e2e8e67b776a24055b564</td>\n      <td>2021-05-26</td>\n      <td>34.611011</td>\n      <td>57.481</td>\n      <td>119.212</td>\n      <td>NaN</td>\n      <td>14.6</td>\n      <td>84.0</td>\n      <td>0.966667</td>\n      <td>...</td>\n      <td>0.0</td>\n      <td>0.0</td>\n      <td>0.0</td>\n      <td>0.0</td>\n      <td>0.0</td>\n      <td>0.0</td>\n      <td>0.0</td>\n      <td>1.0</td>\n      <td>0.0</td>\n      <td>0.0</td>\n    </tr>\n    <tr>\n      <th>3</th>\n      <td>3</td>\n      <td>621e2e8e67b776a24055b564</td>\n      <td>2021-05-27</td>\n      <td>34.408304</td>\n      <td>57.493</td>\n      <td>111.709</td>\n      <td>NaN</td>\n      <td>14.8</td>\n      <td>82.0</td>\n      <td>0.933333</td>\n      <td>...</td>\n      <td>0.0</td>\n      <td>0.0</td>\n      <td>0.0</td>\n      <td>0.0</td>\n      <td>1.0</td>\n      <td>0.0</td>\n      <td>0.0</td>\n      <td>1.0</td>\n      <td>0.0</td>\n      <td>1.0</td>\n    </tr>\n    <tr>\n      <th>4</th>\n      <td>4</td>\n      <td>621e2e8e67b776a24055b564</td>\n      <td>2021-05-28</td>\n      <td>34.178922</td>\n      <td>56.750</td>\n      <td>103.034</td>\n      <td>NaN</td>\n      <td>15.2</td>\n      <td>81.0</td>\n      <td>0.866667</td>\n      <td>...</td>\n      <td>0.0</td>\n      <td>0.0</td>\n      <td>0.0</td>\n      <td>0.0</td>\n      <td>0.0</td>\n      <td>0.0</td>\n      <td>0.0</td>\n      <td>1.0</td>\n      <td>0.0</td>\n      <td>0.0</td>\n    </tr>\n    <tr>\n      <th>...</th>\n      <td>...</td>\n      <td>...</td>\n      <td>...</td>\n      <td>...</td>\n      <td>...</td>\n      <td>...</td>\n      <td>...</td>\n      <td>...</td>\n      <td>...</td>\n      <td>...</td>\n      <td>...</td>\n      <td>...</td>\n      <td>...</td>\n      <td>...</td>\n      <td>...</td>\n      <td>...</td>\n      <td>...</td>\n      <td>...</td>\n      <td>...</td>\n      <td>...</td>\n      <td>...</td>\n    </tr>\n    <tr>\n      <th>7405</th>\n      <td>7405</td>\n      <td>621e362467b776a2404ad513</td>\n      <td>2021-05-18</td>\n      <td>NaN</td>\n      <td>NaN</td>\n      <td>NaN</td>\n      <td>NaN</td>\n      <td>NaN</td>\n      <td>NaN</td>\n      <td>NaN</td>\n      <td>...</td>\n      <td>0.0</td>\n      <td>0.0</td>\n      <td>0.0</td>\n      <td>0.0</td>\n      <td>1.0</td>\n      <td>0.0</td>\n      <td>0.0</td>\n      <td>0.0</td>\n      <td>0.0</td>\n      <td>0.0</td>\n    </tr>\n    <tr>\n      <th>7406</th>\n      <td>7406</td>\n      <td>621e36f967b776a240e5e7c9</td>\n      <td>2021-05-20</td>\n      <td>NaN</td>\n      <td>NaN</td>\n      <td>NaN</td>\n      <td>NaN</td>\n      <td>NaN</td>\n      <td>NaN</td>\n      <td>NaN</td>\n      <td>...</td>\n      <td>0.0</td>\n      <td>1.0</td>\n      <td>0.0</td>\n      <td>0.0</td>\n      <td>1.0</td>\n      <td>0.0</td>\n      <td>0.0</td>\n      <td>0.0</td>\n      <td>0.0</td>\n      <td>1.0</td>\n    </tr>\n    <tr>\n      <th>7407</th>\n      <td>7407</td>\n      <td>621e362467b776a2404ad513</td>\n      <td>2021-05-23</td>\n      <td>NaN</td>\n      <td>NaN</td>\n      <td>NaN</td>\n      <td>NaN</td>\n      <td>NaN</td>\n      <td>NaN</td>\n      <td>NaN</td>\n      <td>...</td>\n      <td>0.0</td>\n      <td>0.0</td>\n      <td>0.0</td>\n      <td>0.0</td>\n      <td>0.0</td>\n      <td>0.0</td>\n      <td>0.0</td>\n      <td>0.0</td>\n      <td>1.0</td>\n      <td>0.0</td>\n    </tr>\n    <tr>\n      <th>7408</th>\n      <td>7408</td>\n      <td>621e339967b776a240e502de</td>\n      <td>2021-11-19</td>\n      <td>NaN</td>\n      <td>NaN</td>\n      <td>NaN</td>\n      <td>NaN</td>\n      <td>NaN</td>\n      <td>NaN</td>\n      <td>NaN</td>\n      <td>...</td>\n      <td>0.0</td>\n      <td>0.0</td>\n      <td>0.0</td>\n      <td>0.0</td>\n      <td>1.0</td>\n      <td>0.0</td>\n      <td>0.0</td>\n      <td>0.0</td>\n      <td>0.0</td>\n      <td>0.0</td>\n    </tr>\n    <tr>\n      <th>7409</th>\n      <td>7409</td>\n      <td>621e339967b776a240e502de</td>\n      <td>2021-11-20</td>\n      <td>NaN</td>\n      <td>NaN</td>\n      <td>NaN</td>\n      <td>NaN</td>\n      <td>NaN</td>\n      <td>NaN</td>\n      <td>NaN</td>\n      <td>...</td>\n      <td>0.0</td>\n      <td>0.0</td>\n      <td>0.0</td>\n      <td>0.0</td>\n      <td>1.0</td>\n      <td>0.0</td>\n      <td>0.0</td>\n      <td>0.0</td>\n      <td>0.0</td>\n      <td>0.0</td>\n    </tr>\n  </tbody>\n</table>\n<p>7410 rows × 63 columns</p>\n</div>"
     },
     "execution_count": 79,
     "metadata": {},
     "output_type": "execute_result"
    }
   ],
   "source": [
    "df = pd.read_csv('../data/lifesnaps/daily_fitbit_sema_df_unprocessed.csv')\n",
    "df"
   ],
   "metadata": {
    "collapsed": false,
    "ExecuteTime": {
     "end_time": "2024-02-07T12:07:52.898476700Z",
     "start_time": "2024-02-07T12:07:52.805790300Z"
    }
   },
   "id": "dfaf3ee7d48c0a"
  },
  {
   "cell_type": "code",
   "execution_count": 80,
   "outputs": [
    {
     "data": {
      "text/plain": "                            id        date  nightly_temperature  nremhr  \\\n0     621e2e8e67b776a24055b564  2021-05-24            34.137687  57.432   \n1     621e2e8e67b776a24055b564  2021-05-25            33.794544  57.681   \n2     621e2e8e67b776a24055b564  2021-05-26            34.611011  57.481   \n3     621e2e8e67b776a24055b564  2021-05-27            34.408304  57.493   \n4     621e2e8e67b776a24055b564  2021-05-28            34.178922  56.750   \n...                        ...         ...                  ...     ...   \n7405  621e362467b776a2404ad513  2021-05-18                  NaN     NaN   \n7406  621e36f967b776a240e5e7c9  2021-05-20                  NaN     NaN   \n7407  621e362467b776a2404ad513  2021-05-23                  NaN     NaN   \n7408  621e339967b776a240e502de  2021-11-19                  NaN     NaN   \n7409  621e339967b776a240e502de  2021-11-20                  NaN     NaN   \n\n        rmssd  spo2  full_sleep_breathing_rate  stress_score  \\\n0      89.603   NaN                       14.8          78.0   \n1      94.303   NaN                       15.8          80.0   \n2     119.212   NaN                       14.6          84.0   \n3     111.709   NaN                       14.8          82.0   \n4     103.034   NaN                       15.2          81.0   \n...       ...   ...                        ...           ...   \n7405      NaN   NaN                        NaN           NaN   \n7406      NaN   NaN                        NaN           NaN   \n7407      NaN   NaN                        NaN           NaN   \n7408      NaN   NaN                        NaN           NaN   \n7409      NaN   NaN                        NaN           NaN   \n\n      sleep_points_percentage  exertion_points_percentage  ...  \\\n0                    0.833333                       0.675  ...   \n1                    0.833333                       0.725  ...   \n2                    0.966667                       0.725  ...   \n3                    0.933333                       0.725  ...   \n4                    0.866667                       0.725  ...   \n...                       ...                         ...  ...   \n7405                      NaN                         NaN  ...   \n7406                      NaN                         NaN  ...   \n7407                      NaN                         NaN  ...   \n7408                      NaN                         NaN  ...   \n7409                      NaN                         NaN  ...   \n\n      sleep_rem_ratio    steps minutes_in_default_zone_1  \\\n0            1.341772   8833.0                      83.0   \n1            1.197531   9727.0                      56.0   \n2            1.670732   8253.0                      85.0   \n3            1.588235   9015.0                      90.0   \n4            1.090909  12949.0                     146.0   \n...               ...      ...                       ...   \n7405              NaN      NaN                       NaN   \n7406              NaN      NaN                       NaN   \n7407              NaN      NaN                       NaN   \n7408              NaN      NaN                       NaN   \n7409              NaN      NaN                       NaN   \n\n      minutes_below_default_zone_1  minutes_in_default_zone_2  \\\n0                           1349.0                        0.0   \n1                           1374.0                        4.0   \n2                           1350.0                        0.0   \n3                           1282.0                        0.0   \n4                           1274.0                        4.0   \n...                            ...                        ...   \n7405                           NaN                        NaN   \n7406                           NaN                        NaN   \n7407                           NaN                        NaN   \n7408                           NaN                        NaN   \n7409                           NaN                        NaN   \n\n      minutes_in_default_zone_3  age  gender  bmi  label_stress_sema  \n0                           0.0  <30    MALE  <19                NaN  \n1                           0.0  <30    MALE  <19                0.0  \n2                           0.0  <30    MALE  <19                0.0  \n3                           0.0  <30    MALE  <19                0.0  \n4                           0.0  <30    MALE  <19                0.0  \n...                         ...  ...     ...  ...                ...  \n7405                        NaN  NaN     NaN  NaN                0.0  \n7406                        NaN  NaN     NaN  NaN                0.0  \n7407                        NaN  NaN     NaN  NaN                0.0  \n7408                        NaN  NaN     NaN  NaN                0.0  \n7409                        NaN  NaN     NaN  NaN                0.0  \n\n[7410 rows x 44 columns]",
      "text/html": "<div>\n<style scoped>\n    .dataframe tbody tr th:only-of-type {\n        vertical-align: middle;\n    }\n\n    .dataframe tbody tr th {\n        vertical-align: top;\n    }\n\n    .dataframe thead th {\n        text-align: right;\n    }\n</style>\n<table border=\"1\" class=\"dataframe\">\n  <thead>\n    <tr style=\"text-align: right;\">\n      <th></th>\n      <th>id</th>\n      <th>date</th>\n      <th>nightly_temperature</th>\n      <th>nremhr</th>\n      <th>rmssd</th>\n      <th>spo2</th>\n      <th>full_sleep_breathing_rate</th>\n      <th>stress_score</th>\n      <th>sleep_points_percentage</th>\n      <th>exertion_points_percentage</th>\n      <th>...</th>\n      <th>sleep_rem_ratio</th>\n      <th>steps</th>\n      <th>minutes_in_default_zone_1</th>\n      <th>minutes_below_default_zone_1</th>\n      <th>minutes_in_default_zone_2</th>\n      <th>minutes_in_default_zone_3</th>\n      <th>age</th>\n      <th>gender</th>\n      <th>bmi</th>\n      <th>label_stress_sema</th>\n    </tr>\n  </thead>\n  <tbody>\n    <tr>\n      <th>0</th>\n      <td>621e2e8e67b776a24055b564</td>\n      <td>2021-05-24</td>\n      <td>34.137687</td>\n      <td>57.432</td>\n      <td>89.603</td>\n      <td>NaN</td>\n      <td>14.8</td>\n      <td>78.0</td>\n      <td>0.833333</td>\n      <td>0.675</td>\n      <td>...</td>\n      <td>1.341772</td>\n      <td>8833.0</td>\n      <td>83.0</td>\n      <td>1349.0</td>\n      <td>0.0</td>\n      <td>0.0</td>\n      <td>&lt;30</td>\n      <td>MALE</td>\n      <td>&lt;19</td>\n      <td>NaN</td>\n    </tr>\n    <tr>\n      <th>1</th>\n      <td>621e2e8e67b776a24055b564</td>\n      <td>2021-05-25</td>\n      <td>33.794544</td>\n      <td>57.681</td>\n      <td>94.303</td>\n      <td>NaN</td>\n      <td>15.8</td>\n      <td>80.0</td>\n      <td>0.833333</td>\n      <td>0.725</td>\n      <td>...</td>\n      <td>1.197531</td>\n      <td>9727.0</td>\n      <td>56.0</td>\n      <td>1374.0</td>\n      <td>4.0</td>\n      <td>0.0</td>\n      <td>&lt;30</td>\n      <td>MALE</td>\n      <td>&lt;19</td>\n      <td>0.0</td>\n    </tr>\n    <tr>\n      <th>2</th>\n      <td>621e2e8e67b776a24055b564</td>\n      <td>2021-05-26</td>\n      <td>34.611011</td>\n      <td>57.481</td>\n      <td>119.212</td>\n      <td>NaN</td>\n      <td>14.6</td>\n      <td>84.0</td>\n      <td>0.966667</td>\n      <td>0.725</td>\n      <td>...</td>\n      <td>1.670732</td>\n      <td>8253.0</td>\n      <td>85.0</td>\n      <td>1350.0</td>\n      <td>0.0</td>\n      <td>0.0</td>\n      <td>&lt;30</td>\n      <td>MALE</td>\n      <td>&lt;19</td>\n      <td>0.0</td>\n    </tr>\n    <tr>\n      <th>3</th>\n      <td>621e2e8e67b776a24055b564</td>\n      <td>2021-05-27</td>\n      <td>34.408304</td>\n      <td>57.493</td>\n      <td>111.709</td>\n      <td>NaN</td>\n      <td>14.8</td>\n      <td>82.0</td>\n      <td>0.933333</td>\n      <td>0.725</td>\n      <td>...</td>\n      <td>1.588235</td>\n      <td>9015.0</td>\n      <td>90.0</td>\n      <td>1282.0</td>\n      <td>0.0</td>\n      <td>0.0</td>\n      <td>&lt;30</td>\n      <td>MALE</td>\n      <td>&lt;19</td>\n      <td>0.0</td>\n    </tr>\n    <tr>\n      <th>4</th>\n      <td>621e2e8e67b776a24055b564</td>\n      <td>2021-05-28</td>\n      <td>34.178922</td>\n      <td>56.750</td>\n      <td>103.034</td>\n      <td>NaN</td>\n      <td>15.2</td>\n      <td>81.0</td>\n      <td>0.866667</td>\n      <td>0.725</td>\n      <td>...</td>\n      <td>1.090909</td>\n      <td>12949.0</td>\n      <td>146.0</td>\n      <td>1274.0</td>\n      <td>4.0</td>\n      <td>0.0</td>\n      <td>&lt;30</td>\n      <td>MALE</td>\n      <td>&lt;19</td>\n      <td>0.0</td>\n    </tr>\n    <tr>\n      <th>...</th>\n      <td>...</td>\n      <td>...</td>\n      <td>...</td>\n      <td>...</td>\n      <td>...</td>\n      <td>...</td>\n      <td>...</td>\n      <td>...</td>\n      <td>...</td>\n      <td>...</td>\n      <td>...</td>\n      <td>...</td>\n      <td>...</td>\n      <td>...</td>\n      <td>...</td>\n      <td>...</td>\n      <td>...</td>\n      <td>...</td>\n      <td>...</td>\n      <td>...</td>\n      <td>...</td>\n    </tr>\n    <tr>\n      <th>7405</th>\n      <td>621e362467b776a2404ad513</td>\n      <td>2021-05-18</td>\n      <td>NaN</td>\n      <td>NaN</td>\n      <td>NaN</td>\n      <td>NaN</td>\n      <td>NaN</td>\n      <td>NaN</td>\n      <td>NaN</td>\n      <td>NaN</td>\n      <td>...</td>\n      <td>NaN</td>\n      <td>NaN</td>\n      <td>NaN</td>\n      <td>NaN</td>\n      <td>NaN</td>\n      <td>NaN</td>\n      <td>NaN</td>\n      <td>NaN</td>\n      <td>NaN</td>\n      <td>0.0</td>\n    </tr>\n    <tr>\n      <th>7406</th>\n      <td>621e36f967b776a240e5e7c9</td>\n      <td>2021-05-20</td>\n      <td>NaN</td>\n      <td>NaN</td>\n      <td>NaN</td>\n      <td>NaN</td>\n      <td>NaN</td>\n      <td>NaN</td>\n      <td>NaN</td>\n      <td>NaN</td>\n      <td>...</td>\n      <td>NaN</td>\n      <td>NaN</td>\n      <td>NaN</td>\n      <td>NaN</td>\n      <td>NaN</td>\n      <td>NaN</td>\n      <td>NaN</td>\n      <td>NaN</td>\n      <td>NaN</td>\n      <td>0.0</td>\n    </tr>\n    <tr>\n      <th>7407</th>\n      <td>621e362467b776a2404ad513</td>\n      <td>2021-05-23</td>\n      <td>NaN</td>\n      <td>NaN</td>\n      <td>NaN</td>\n      <td>NaN</td>\n      <td>NaN</td>\n      <td>NaN</td>\n      <td>NaN</td>\n      <td>NaN</td>\n      <td>...</td>\n      <td>NaN</td>\n      <td>NaN</td>\n      <td>NaN</td>\n      <td>NaN</td>\n      <td>NaN</td>\n      <td>NaN</td>\n      <td>NaN</td>\n      <td>NaN</td>\n      <td>NaN</td>\n      <td>0.0</td>\n    </tr>\n    <tr>\n      <th>7408</th>\n      <td>621e339967b776a240e502de</td>\n      <td>2021-11-19</td>\n      <td>NaN</td>\n      <td>NaN</td>\n      <td>NaN</td>\n      <td>NaN</td>\n      <td>NaN</td>\n      <td>NaN</td>\n      <td>NaN</td>\n      <td>NaN</td>\n      <td>...</td>\n      <td>NaN</td>\n      <td>NaN</td>\n      <td>NaN</td>\n      <td>NaN</td>\n      <td>NaN</td>\n      <td>NaN</td>\n      <td>NaN</td>\n      <td>NaN</td>\n      <td>NaN</td>\n      <td>0.0</td>\n    </tr>\n    <tr>\n      <th>7409</th>\n      <td>621e339967b776a240e502de</td>\n      <td>2021-11-20</td>\n      <td>NaN</td>\n      <td>NaN</td>\n      <td>NaN</td>\n      <td>NaN</td>\n      <td>NaN</td>\n      <td>NaN</td>\n      <td>NaN</td>\n      <td>NaN</td>\n      <td>...</td>\n      <td>NaN</td>\n      <td>NaN</td>\n      <td>NaN</td>\n      <td>NaN</td>\n      <td>NaN</td>\n      <td>NaN</td>\n      <td>NaN</td>\n      <td>NaN</td>\n      <td>NaN</td>\n      <td>0.0</td>\n    </tr>\n  </tbody>\n</table>\n<p>7410 rows × 44 columns</p>\n</div>"
     },
     "execution_count": 80,
     "metadata": {},
     "output_type": "execute_result"
    }
   ],
   "source": [
    "df = df.drop(columns=['Unnamed: 0', 'step_goal', 'min_goal', 'max_goal', 'step_goal_label', 'ALERT', 'HAPPY', 'NEUTRAL', 'RESTED/RELAXED', 'SAD', 'TIRED', 'ENTERTAINMENT', 'GYM','HOME', 'HOME_OFFICE', 'OTHER', 'OUTDOORS', 'TRANSIT', 'WORK/SCHOOL'])\n",
    "df.rename(columns={'TENSE/ANXIOUS': 'label_stress_sema'}, inplace=True)\n",
    "df"
   ],
   "metadata": {
    "collapsed": false,
    "ExecuteTime": {
     "end_time": "2024-02-07T12:07:53.526717200Z",
     "start_time": "2024-02-07T12:07:53.464333200Z"
    }
   },
   "id": "2c418fe317124440"
  },
  {
   "cell_type": "code",
   "execution_count": 81,
   "outputs": [
    {
     "data": {
      "text/plain": "                            id       date  nightly_temperature  nremhr  \\\n0     621e332267b776a24092a584 2021-05-24                  NaN     NaN   \n1     621e30e467b776a240e817c7 2021-05-24                  NaN     NaN   \n2     621e367e67b776a24087d75d 2021-05-24                  NaN     NaN   \n3     621e360b67b776a24039709f 2021-05-24                  NaN  68.321   \n4     621e2f6167b776a240e082a9 2021-05-24                  NaN     NaN   \n...                        ...        ...                  ...     ...   \n4904  621e300767b776a2404dc717 2022-01-17            33.186399     NaN   \n4905  621e309b67b776a240b532b0 2022-01-17            31.815133     NaN   \n4906  621e342e67b776a2404ce460 2022-01-17                  NaN     NaN   \n4907  621e309267b776a240ae1cdb 2022-01-17                  NaN     NaN   \n4908  621e324e67b776a2400191cb 2022-01-17            33.104768     NaN   \n\n       rmssd  spo2  full_sleep_breathing_rate  stress_score  \\\n0        NaN   NaN                        NaN           NaN   \n1        NaN   NaN                        NaN           NaN   \n2        NaN   NaN                        NaN           NaN   \n3     31.413   NaN                       15.4          69.0   \n4        NaN   NaN                        NaN           NaN   \n...      ...   ...                        ...           ...   \n4904     NaN   NaN                        NaN           NaN   \n4905     NaN   NaN                        NaN           NaN   \n4906     NaN   NaN                        NaN           NaN   \n4907     NaN   NaN                        NaN           NaN   \n4908     NaN   NaN                        NaN           NaN   \n\n      sleep_points_percentage  exertion_points_percentage  ...  \\\n0                         NaN                         NaN  ...   \n1                         NaN                         NaN  ...   \n2                         NaN                         NaN  ...   \n3                    0.633333                        0.65  ...   \n4                         NaN                         NaN  ...   \n...                       ...                         ...  ...   \n4904                      NaN                         NaN  ...   \n4905                      NaN                         NaN  ...   \n4906                      NaN                         NaN  ...   \n4907                      NaN                         NaN  ...   \n4908                      NaN                         NaN  ...   \n\n      sleep_rem_ratio    steps minutes_in_default_zone_1  \\\n0                 NaN  21284.0                     175.0   \n1                 NaN   6506.0                     105.0   \n2                 NaN   4827.0                     120.0   \n3                 NaN   7493.0                     127.0   \n4                 NaN   6441.0                      82.0   \n...               ...      ...                       ...   \n4904         0.742857   2223.0                      19.0   \n4905         1.066667  12096.0                     129.0   \n4906              NaN     11.0                       0.0   \n4907              NaN      NaN                       NaN   \n4908         0.381818   4278.0                       NaN   \n\n      minutes_below_default_zone_1  minutes_in_default_zone_2  \\\n0                           1130.0                        9.0   \n1                            703.0                       64.0   \n2                           1319.0                        0.0   \n3                           1306.0                        7.0   \n4                           1306.0                        2.0   \n...                            ...                        ...   \n4904                        1380.0                        4.0   \n4905                        1208.0                        6.0   \n4906                           7.0                        0.0   \n4907                           NaN                        NaN   \n4908                           NaN                        NaN   \n\n      minutes_in_default_zone_3   age  gender   bmi  label_stress_sema  \n0                           0.0   <30    MALE  21.0                NaN  \n1                           2.0   <30    MALE  >=30                1.0  \n2                           0.0   NaN    MALE   NaN                NaN  \n3                           0.0  >=30  FEMALE   <19                NaN  \n4                           0.0  >=30  FEMALE  >=25                NaN  \n...                         ...   ...     ...   ...                ...  \n4904                        0.0   <30    MALE  29.0                NaN  \n4905                        0.0  >=30    MALE  23.0                NaN  \n4906                        0.0   <30    MALE  29.0                NaN  \n4907                        NaN   <30    MALE   <19                NaN  \n4908                        NaN  >=30    MALE  27.0                NaN  \n\n[4909 rows x 44 columns]",
      "text/html": "<div>\n<style scoped>\n    .dataframe tbody tr th:only-of-type {\n        vertical-align: middle;\n    }\n\n    .dataframe tbody tr th {\n        vertical-align: top;\n    }\n\n    .dataframe thead th {\n        text-align: right;\n    }\n</style>\n<table border=\"1\" class=\"dataframe\">\n  <thead>\n    <tr style=\"text-align: right;\">\n      <th></th>\n      <th>id</th>\n      <th>date</th>\n      <th>nightly_temperature</th>\n      <th>nremhr</th>\n      <th>rmssd</th>\n      <th>spo2</th>\n      <th>full_sleep_breathing_rate</th>\n      <th>stress_score</th>\n      <th>sleep_points_percentage</th>\n      <th>exertion_points_percentage</th>\n      <th>...</th>\n      <th>sleep_rem_ratio</th>\n      <th>steps</th>\n      <th>minutes_in_default_zone_1</th>\n      <th>minutes_below_default_zone_1</th>\n      <th>minutes_in_default_zone_2</th>\n      <th>minutes_in_default_zone_3</th>\n      <th>age</th>\n      <th>gender</th>\n      <th>bmi</th>\n      <th>label_stress_sema</th>\n    </tr>\n  </thead>\n  <tbody>\n    <tr>\n      <th>0</th>\n      <td>621e332267b776a24092a584</td>\n      <td>2021-05-24</td>\n      <td>NaN</td>\n      <td>NaN</td>\n      <td>NaN</td>\n      <td>NaN</td>\n      <td>NaN</td>\n      <td>NaN</td>\n      <td>NaN</td>\n      <td>NaN</td>\n      <td>...</td>\n      <td>NaN</td>\n      <td>21284.0</td>\n      <td>175.0</td>\n      <td>1130.0</td>\n      <td>9.0</td>\n      <td>0.0</td>\n      <td>&lt;30</td>\n      <td>MALE</td>\n      <td>21.0</td>\n      <td>NaN</td>\n    </tr>\n    <tr>\n      <th>1</th>\n      <td>621e30e467b776a240e817c7</td>\n      <td>2021-05-24</td>\n      <td>NaN</td>\n      <td>NaN</td>\n      <td>NaN</td>\n      <td>NaN</td>\n      <td>NaN</td>\n      <td>NaN</td>\n      <td>NaN</td>\n      <td>NaN</td>\n      <td>...</td>\n      <td>NaN</td>\n      <td>6506.0</td>\n      <td>105.0</td>\n      <td>703.0</td>\n      <td>64.0</td>\n      <td>2.0</td>\n      <td>&lt;30</td>\n      <td>MALE</td>\n      <td>&gt;=30</td>\n      <td>1.0</td>\n    </tr>\n    <tr>\n      <th>2</th>\n      <td>621e367e67b776a24087d75d</td>\n      <td>2021-05-24</td>\n      <td>NaN</td>\n      <td>NaN</td>\n      <td>NaN</td>\n      <td>NaN</td>\n      <td>NaN</td>\n      <td>NaN</td>\n      <td>NaN</td>\n      <td>NaN</td>\n      <td>...</td>\n      <td>NaN</td>\n      <td>4827.0</td>\n      <td>120.0</td>\n      <td>1319.0</td>\n      <td>0.0</td>\n      <td>0.0</td>\n      <td>NaN</td>\n      <td>MALE</td>\n      <td>NaN</td>\n      <td>NaN</td>\n    </tr>\n    <tr>\n      <th>3</th>\n      <td>621e360b67b776a24039709f</td>\n      <td>2021-05-24</td>\n      <td>NaN</td>\n      <td>68.321</td>\n      <td>31.413</td>\n      <td>NaN</td>\n      <td>15.4</td>\n      <td>69.0</td>\n      <td>0.633333</td>\n      <td>0.65</td>\n      <td>...</td>\n      <td>NaN</td>\n      <td>7493.0</td>\n      <td>127.0</td>\n      <td>1306.0</td>\n      <td>7.0</td>\n      <td>0.0</td>\n      <td>&gt;=30</td>\n      <td>FEMALE</td>\n      <td>&lt;19</td>\n      <td>NaN</td>\n    </tr>\n    <tr>\n      <th>4</th>\n      <td>621e2f6167b776a240e082a9</td>\n      <td>2021-05-24</td>\n      <td>NaN</td>\n      <td>NaN</td>\n      <td>NaN</td>\n      <td>NaN</td>\n      <td>NaN</td>\n      <td>NaN</td>\n      <td>NaN</td>\n      <td>NaN</td>\n      <td>...</td>\n      <td>NaN</td>\n      <td>6441.0</td>\n      <td>82.0</td>\n      <td>1306.0</td>\n      <td>2.0</td>\n      <td>0.0</td>\n      <td>&gt;=30</td>\n      <td>FEMALE</td>\n      <td>&gt;=25</td>\n      <td>NaN</td>\n    </tr>\n    <tr>\n      <th>...</th>\n      <td>...</td>\n      <td>...</td>\n      <td>...</td>\n      <td>...</td>\n      <td>...</td>\n      <td>...</td>\n      <td>...</td>\n      <td>...</td>\n      <td>...</td>\n      <td>...</td>\n      <td>...</td>\n      <td>...</td>\n      <td>...</td>\n      <td>...</td>\n      <td>...</td>\n      <td>...</td>\n      <td>...</td>\n      <td>...</td>\n      <td>...</td>\n      <td>...</td>\n      <td>...</td>\n    </tr>\n    <tr>\n      <th>4904</th>\n      <td>621e300767b776a2404dc717</td>\n      <td>2022-01-17</td>\n      <td>33.186399</td>\n      <td>NaN</td>\n      <td>NaN</td>\n      <td>NaN</td>\n      <td>NaN</td>\n      <td>NaN</td>\n      <td>NaN</td>\n      <td>NaN</td>\n      <td>...</td>\n      <td>0.742857</td>\n      <td>2223.0</td>\n      <td>19.0</td>\n      <td>1380.0</td>\n      <td>4.0</td>\n      <td>0.0</td>\n      <td>&lt;30</td>\n      <td>MALE</td>\n      <td>29.0</td>\n      <td>NaN</td>\n    </tr>\n    <tr>\n      <th>4905</th>\n      <td>621e309b67b776a240b532b0</td>\n      <td>2022-01-17</td>\n      <td>31.815133</td>\n      <td>NaN</td>\n      <td>NaN</td>\n      <td>NaN</td>\n      <td>NaN</td>\n      <td>NaN</td>\n      <td>NaN</td>\n      <td>NaN</td>\n      <td>...</td>\n      <td>1.066667</td>\n      <td>12096.0</td>\n      <td>129.0</td>\n      <td>1208.0</td>\n      <td>6.0</td>\n      <td>0.0</td>\n      <td>&gt;=30</td>\n      <td>MALE</td>\n      <td>23.0</td>\n      <td>NaN</td>\n    </tr>\n    <tr>\n      <th>4906</th>\n      <td>621e342e67b776a2404ce460</td>\n      <td>2022-01-17</td>\n      <td>NaN</td>\n      <td>NaN</td>\n      <td>NaN</td>\n      <td>NaN</td>\n      <td>NaN</td>\n      <td>NaN</td>\n      <td>NaN</td>\n      <td>NaN</td>\n      <td>...</td>\n      <td>NaN</td>\n      <td>11.0</td>\n      <td>0.0</td>\n      <td>7.0</td>\n      <td>0.0</td>\n      <td>0.0</td>\n      <td>&lt;30</td>\n      <td>MALE</td>\n      <td>29.0</td>\n      <td>NaN</td>\n    </tr>\n    <tr>\n      <th>4907</th>\n      <td>621e309267b776a240ae1cdb</td>\n      <td>2022-01-17</td>\n      <td>NaN</td>\n      <td>NaN</td>\n      <td>NaN</td>\n      <td>NaN</td>\n      <td>NaN</td>\n      <td>NaN</td>\n      <td>NaN</td>\n      <td>NaN</td>\n      <td>...</td>\n      <td>NaN</td>\n      <td>NaN</td>\n      <td>NaN</td>\n      <td>NaN</td>\n      <td>NaN</td>\n      <td>NaN</td>\n      <td>&lt;30</td>\n      <td>MALE</td>\n      <td>&lt;19</td>\n      <td>NaN</td>\n    </tr>\n    <tr>\n      <th>4908</th>\n      <td>621e324e67b776a2400191cb</td>\n      <td>2022-01-17</td>\n      <td>33.104768</td>\n      <td>NaN</td>\n      <td>NaN</td>\n      <td>NaN</td>\n      <td>NaN</td>\n      <td>NaN</td>\n      <td>NaN</td>\n      <td>NaN</td>\n      <td>...</td>\n      <td>0.381818</td>\n      <td>4278.0</td>\n      <td>NaN</td>\n      <td>NaN</td>\n      <td>NaN</td>\n      <td>NaN</td>\n      <td>&gt;=30</td>\n      <td>MALE</td>\n      <td>27.0</td>\n      <td>NaN</td>\n    </tr>\n  </tbody>\n</table>\n<p>4909 rows × 44 columns</p>\n</div>"
     },
     "execution_count": 81,
     "metadata": {},
     "output_type": "execute_result"
    }
   ],
   "source": [
    "# select only the experiment dates\n",
    "df = df.sort_values(by='date', ascending=True)\n",
    "df['date'] = pd.to_datetime(df['date'].astype(\"str\"), format='%Y-%m-%d')\n",
    "df = df.loc[((df['date'] > '2021-05-23') & (df['date'] < '2021-07-27')) | ((df['date'] > '2021-11-14') & (df['date'] < '2022-01-18'))]\n",
    "df.reset_index(inplace=True, drop=True)\n",
    "df"
   ],
   "metadata": {
    "collapsed": false,
    "ExecuteTime": {
     "end_time": "2024-02-07T12:07:53.826671Z",
     "start_time": "2024-02-07T12:07:53.776563400Z"
    }
   },
   "id": "8e5fb8a33e640727"
  },
  {
   "cell_type": "code",
   "execution_count": 82,
   "outputs": [
    {
     "data": {
      "text/plain": "                           id       date  label_panas_positive_affect  \\\n133  621e329067b776a2402ffad2 2021-05-31                           30   \n131  621e328667b776a240281372 2021-05-31                           40   \n146  621e32af67b776a24045b4cf 2021-05-31                           32   \n80   621e301e67b776a240608a72 2021-05-31                           40   \n153  621e32d967b776a240627414 2021-05-31                           35   \n..                        ...        ...                          ...   \n187  621e339967b776a240e502de 2022-01-12                           45   \n43   621e2f9167b776a240011ccb 2022-01-16                           43   \n249  621e367e67b776a24087d75d 2022-01-17                           27   \n122  621e324e67b776a2400191cb 2022-01-17                           45   \n161  621e32e667b776a2406d2f1c 2022-01-25                           40   \n\n     label_panas_negative_affect  \n133                           23  \n131                           28  \n146                           33  \n80                            24  \n153                           24  \n..                           ...  \n187                           13  \n43                            31  \n249                           21  \n122                           10  \n161                           21  \n\n[268 rows x 4 columns]",
      "text/html": "<div>\n<style scoped>\n    .dataframe tbody tr th:only-of-type {\n        vertical-align: middle;\n    }\n\n    .dataframe tbody tr th {\n        vertical-align: top;\n    }\n\n    .dataframe thead th {\n        text-align: right;\n    }\n</style>\n<table border=\"1\" class=\"dataframe\">\n  <thead>\n    <tr style=\"text-align: right;\">\n      <th></th>\n      <th>id</th>\n      <th>date</th>\n      <th>label_panas_positive_affect</th>\n      <th>label_panas_negative_affect</th>\n    </tr>\n  </thead>\n  <tbody>\n    <tr>\n      <th>133</th>\n      <td>621e329067b776a2402ffad2</td>\n      <td>2021-05-31</td>\n      <td>30</td>\n      <td>23</td>\n    </tr>\n    <tr>\n      <th>131</th>\n      <td>621e328667b776a240281372</td>\n      <td>2021-05-31</td>\n      <td>40</td>\n      <td>28</td>\n    </tr>\n    <tr>\n      <th>146</th>\n      <td>621e32af67b776a24045b4cf</td>\n      <td>2021-05-31</td>\n      <td>32</td>\n      <td>33</td>\n    </tr>\n    <tr>\n      <th>80</th>\n      <td>621e301e67b776a240608a72</td>\n      <td>2021-05-31</td>\n      <td>40</td>\n      <td>24</td>\n    </tr>\n    <tr>\n      <th>153</th>\n      <td>621e32d967b776a240627414</td>\n      <td>2021-05-31</td>\n      <td>35</td>\n      <td>24</td>\n    </tr>\n    <tr>\n      <th>...</th>\n      <td>...</td>\n      <td>...</td>\n      <td>...</td>\n      <td>...</td>\n    </tr>\n    <tr>\n      <th>187</th>\n      <td>621e339967b776a240e502de</td>\n      <td>2022-01-12</td>\n      <td>45</td>\n      <td>13</td>\n    </tr>\n    <tr>\n      <th>43</th>\n      <td>621e2f9167b776a240011ccb</td>\n      <td>2022-01-16</td>\n      <td>43</td>\n      <td>31</td>\n    </tr>\n    <tr>\n      <th>249</th>\n      <td>621e367e67b776a24087d75d</td>\n      <td>2022-01-17</td>\n      <td>27</td>\n      <td>21</td>\n    </tr>\n    <tr>\n      <th>122</th>\n      <td>621e324e67b776a2400191cb</td>\n      <td>2022-01-17</td>\n      <td>45</td>\n      <td>10</td>\n    </tr>\n    <tr>\n      <th>161</th>\n      <td>621e32e667b776a2406d2f1c</td>\n      <td>2022-01-25</td>\n      <td>40</td>\n      <td>21</td>\n    </tr>\n  </tbody>\n</table>\n<p>268 rows × 4 columns</p>\n</div>"
     },
     "execution_count": 82,
     "metadata": {},
     "output_type": "execute_result"
    }
   ],
   "source": [
    "panas = pd.read_csv('../data/lifesnaps/panas.csv')\n",
    "panas = panas.rename(columns={\"user_id\": \"id\", \"submitdate\": \"date\", \"negative_affect_score\":\"label_panas_negative_affect\", \"positive_affect_score\":\"label_panas_positive_affect\"})\n",
    "panas[\"date\"] = pd.to_datetime(pd.to_datetime(panas[\"date\"]).dt.date)\n",
    "panas = panas.sort_values(by='date', ascending=True)\n",
    "panas = panas.drop(columns=['Unnamed: 0', 'type'])\n",
    "panas"
   ],
   "metadata": {
    "collapsed": false,
    "ExecuteTime": {
     "end_time": "2024-02-07T12:07:54.411175500Z",
     "start_time": "2024-02-07T12:07:54.334887800Z"
    }
   },
   "id": "e5b486b293162839"
  },
  {
   "cell_type": "code",
   "execution_count": 83,
   "outputs": [
    {
     "data": {
      "text/plain": "                            id       date  nightly_temperature  nremhr  \\\n0     621e332267b776a24092a584 2021-05-24                  NaN     NaN   \n1     621e30e467b776a240e817c7 2021-05-24                  NaN     NaN   \n2     621e367e67b776a24087d75d 2021-05-24                  NaN     NaN   \n3     621e360b67b776a24039709f 2021-05-24                  NaN  68.321   \n4     621e2f6167b776a240e082a9 2021-05-24                  NaN     NaN   \n...                        ...        ...                  ...     ...   \n4904  621e300767b776a2404dc717 2022-01-17            33.186399     NaN   \n4905  621e309b67b776a240b532b0 2022-01-17            31.815133     NaN   \n4906  621e342e67b776a2404ce460 2022-01-17                  NaN     NaN   \n4907  621e309267b776a240ae1cdb 2022-01-17                  NaN     NaN   \n4908  621e324e67b776a2400191cb 2022-01-17            33.104768     NaN   \n\n       rmssd  spo2  full_sleep_breathing_rate  stress_score  \\\n0        NaN   NaN                        NaN           NaN   \n1        NaN   NaN                        NaN           NaN   \n2        NaN   NaN                        NaN           NaN   \n3     31.413   NaN                       15.4          69.0   \n4        NaN   NaN                        NaN           NaN   \n...      ...   ...                        ...           ...   \n4904     NaN   NaN                        NaN           NaN   \n4905     NaN   NaN                        NaN           NaN   \n4906     NaN   NaN                        NaN           NaN   \n4907     NaN   NaN                        NaN           NaN   \n4908     NaN   NaN                        NaN           NaN   \n\n      sleep_points_percentage  exertion_points_percentage  ...  \\\n0                         NaN                         NaN  ...   \n1                         NaN                         NaN  ...   \n2                         NaN                         NaN  ...   \n3                    0.633333                        0.65  ...   \n4                         NaN                         NaN  ...   \n...                       ...                         ...  ...   \n4904                      NaN                         NaN  ...   \n4905                      NaN                         NaN  ...   \n4906                      NaN                         NaN  ...   \n4907                      NaN                         NaN  ...   \n4908                      NaN                         NaN  ...   \n\n      minutes_in_default_zone_1  minutes_below_default_zone_1  \\\n0                         175.0                        1130.0   \n1                         105.0                         703.0   \n2                         120.0                        1319.0   \n3                         127.0                        1306.0   \n4                          82.0                        1306.0   \n...                         ...                           ...   \n4904                       19.0                        1380.0   \n4905                      129.0                        1208.0   \n4906                        0.0                           7.0   \n4907                        NaN                           NaN   \n4908                        NaN                           NaN   \n\n     minutes_in_default_zone_2  minutes_in_default_zone_3   age  gender   bmi  \\\n0                          9.0                        0.0   <30    MALE  21.0   \n1                         64.0                        2.0   <30    MALE  >=30   \n2                          0.0                        0.0   NaN    MALE   NaN   \n3                          7.0                        0.0  >=30  FEMALE   <19   \n4                          2.0                        0.0  >=30  FEMALE  >=25   \n...                        ...                        ...   ...     ...   ...   \n4904                       4.0                        0.0   <30    MALE  29.0   \n4905                       6.0                        0.0  >=30    MALE  23.0   \n4906                       0.0                        0.0   <30    MALE  29.0   \n4907                       NaN                        NaN   <30    MALE   <19   \n4908                       NaN                        NaN  >=30    MALE  27.0   \n\n      label_stress_sema  label_panas_positive_affect  \\\n0                   NaN                          NaN   \n1                   1.0                          NaN   \n2                   NaN                          NaN   \n3                   NaN                          NaN   \n4                   NaN                          NaN   \n...                 ...                          ...   \n4904                NaN                          NaN   \n4905                NaN                          NaN   \n4906                NaN                          NaN   \n4907                NaN                          NaN   \n4908                NaN                         45.0   \n\n      label_panas_negative_affect  \n0                             NaN  \n1                             NaN  \n2                             NaN  \n3                             NaN  \n4                             NaN  \n...                           ...  \n4904                          NaN  \n4905                          NaN  \n4906                          NaN  \n4907                          NaN  \n4908                         10.0  \n\n[4909 rows x 46 columns]",
      "text/html": "<div>\n<style scoped>\n    .dataframe tbody tr th:only-of-type {\n        vertical-align: middle;\n    }\n\n    .dataframe tbody tr th {\n        vertical-align: top;\n    }\n\n    .dataframe thead th {\n        text-align: right;\n    }\n</style>\n<table border=\"1\" class=\"dataframe\">\n  <thead>\n    <tr style=\"text-align: right;\">\n      <th></th>\n      <th>id</th>\n      <th>date</th>\n      <th>nightly_temperature</th>\n      <th>nremhr</th>\n      <th>rmssd</th>\n      <th>spo2</th>\n      <th>full_sleep_breathing_rate</th>\n      <th>stress_score</th>\n      <th>sleep_points_percentage</th>\n      <th>exertion_points_percentage</th>\n      <th>...</th>\n      <th>minutes_in_default_zone_1</th>\n      <th>minutes_below_default_zone_1</th>\n      <th>minutes_in_default_zone_2</th>\n      <th>minutes_in_default_zone_3</th>\n      <th>age</th>\n      <th>gender</th>\n      <th>bmi</th>\n      <th>label_stress_sema</th>\n      <th>label_panas_positive_affect</th>\n      <th>label_panas_negative_affect</th>\n    </tr>\n  </thead>\n  <tbody>\n    <tr>\n      <th>0</th>\n      <td>621e332267b776a24092a584</td>\n      <td>2021-05-24</td>\n      <td>NaN</td>\n      <td>NaN</td>\n      <td>NaN</td>\n      <td>NaN</td>\n      <td>NaN</td>\n      <td>NaN</td>\n      <td>NaN</td>\n      <td>NaN</td>\n      <td>...</td>\n      <td>175.0</td>\n      <td>1130.0</td>\n      <td>9.0</td>\n      <td>0.0</td>\n      <td>&lt;30</td>\n      <td>MALE</td>\n      <td>21.0</td>\n      <td>NaN</td>\n      <td>NaN</td>\n      <td>NaN</td>\n    </tr>\n    <tr>\n      <th>1</th>\n      <td>621e30e467b776a240e817c7</td>\n      <td>2021-05-24</td>\n      <td>NaN</td>\n      <td>NaN</td>\n      <td>NaN</td>\n      <td>NaN</td>\n      <td>NaN</td>\n      <td>NaN</td>\n      <td>NaN</td>\n      <td>NaN</td>\n      <td>...</td>\n      <td>105.0</td>\n      <td>703.0</td>\n      <td>64.0</td>\n      <td>2.0</td>\n      <td>&lt;30</td>\n      <td>MALE</td>\n      <td>&gt;=30</td>\n      <td>1.0</td>\n      <td>NaN</td>\n      <td>NaN</td>\n    </tr>\n    <tr>\n      <th>2</th>\n      <td>621e367e67b776a24087d75d</td>\n      <td>2021-05-24</td>\n      <td>NaN</td>\n      <td>NaN</td>\n      <td>NaN</td>\n      <td>NaN</td>\n      <td>NaN</td>\n      <td>NaN</td>\n      <td>NaN</td>\n      <td>NaN</td>\n      <td>...</td>\n      <td>120.0</td>\n      <td>1319.0</td>\n      <td>0.0</td>\n      <td>0.0</td>\n      <td>NaN</td>\n      <td>MALE</td>\n      <td>NaN</td>\n      <td>NaN</td>\n      <td>NaN</td>\n      <td>NaN</td>\n    </tr>\n    <tr>\n      <th>3</th>\n      <td>621e360b67b776a24039709f</td>\n      <td>2021-05-24</td>\n      <td>NaN</td>\n      <td>68.321</td>\n      <td>31.413</td>\n      <td>NaN</td>\n      <td>15.4</td>\n      <td>69.0</td>\n      <td>0.633333</td>\n      <td>0.65</td>\n      <td>...</td>\n      <td>127.0</td>\n      <td>1306.0</td>\n      <td>7.0</td>\n      <td>0.0</td>\n      <td>&gt;=30</td>\n      <td>FEMALE</td>\n      <td>&lt;19</td>\n      <td>NaN</td>\n      <td>NaN</td>\n      <td>NaN</td>\n    </tr>\n    <tr>\n      <th>4</th>\n      <td>621e2f6167b776a240e082a9</td>\n      <td>2021-05-24</td>\n      <td>NaN</td>\n      <td>NaN</td>\n      <td>NaN</td>\n      <td>NaN</td>\n      <td>NaN</td>\n      <td>NaN</td>\n      <td>NaN</td>\n      <td>NaN</td>\n      <td>...</td>\n      <td>82.0</td>\n      <td>1306.0</td>\n      <td>2.0</td>\n      <td>0.0</td>\n      <td>&gt;=30</td>\n      <td>FEMALE</td>\n      <td>&gt;=25</td>\n      <td>NaN</td>\n      <td>NaN</td>\n      <td>NaN</td>\n    </tr>\n    <tr>\n      <th>...</th>\n      <td>...</td>\n      <td>...</td>\n      <td>...</td>\n      <td>...</td>\n      <td>...</td>\n      <td>...</td>\n      <td>...</td>\n      <td>...</td>\n      <td>...</td>\n      <td>...</td>\n      <td>...</td>\n      <td>...</td>\n      <td>...</td>\n      <td>...</td>\n      <td>...</td>\n      <td>...</td>\n      <td>...</td>\n      <td>...</td>\n      <td>...</td>\n      <td>...</td>\n      <td>...</td>\n    </tr>\n    <tr>\n      <th>4904</th>\n      <td>621e300767b776a2404dc717</td>\n      <td>2022-01-17</td>\n      <td>33.186399</td>\n      <td>NaN</td>\n      <td>NaN</td>\n      <td>NaN</td>\n      <td>NaN</td>\n      <td>NaN</td>\n      <td>NaN</td>\n      <td>NaN</td>\n      <td>...</td>\n      <td>19.0</td>\n      <td>1380.0</td>\n      <td>4.0</td>\n      <td>0.0</td>\n      <td>&lt;30</td>\n      <td>MALE</td>\n      <td>29.0</td>\n      <td>NaN</td>\n      <td>NaN</td>\n      <td>NaN</td>\n    </tr>\n    <tr>\n      <th>4905</th>\n      <td>621e309b67b776a240b532b0</td>\n      <td>2022-01-17</td>\n      <td>31.815133</td>\n      <td>NaN</td>\n      <td>NaN</td>\n      <td>NaN</td>\n      <td>NaN</td>\n      <td>NaN</td>\n      <td>NaN</td>\n      <td>NaN</td>\n      <td>...</td>\n      <td>129.0</td>\n      <td>1208.0</td>\n      <td>6.0</td>\n      <td>0.0</td>\n      <td>&gt;=30</td>\n      <td>MALE</td>\n      <td>23.0</td>\n      <td>NaN</td>\n      <td>NaN</td>\n      <td>NaN</td>\n    </tr>\n    <tr>\n      <th>4906</th>\n      <td>621e342e67b776a2404ce460</td>\n      <td>2022-01-17</td>\n      <td>NaN</td>\n      <td>NaN</td>\n      <td>NaN</td>\n      <td>NaN</td>\n      <td>NaN</td>\n      <td>NaN</td>\n      <td>NaN</td>\n      <td>NaN</td>\n      <td>...</td>\n      <td>0.0</td>\n      <td>7.0</td>\n      <td>0.0</td>\n      <td>0.0</td>\n      <td>&lt;30</td>\n      <td>MALE</td>\n      <td>29.0</td>\n      <td>NaN</td>\n      <td>NaN</td>\n      <td>NaN</td>\n    </tr>\n    <tr>\n      <th>4907</th>\n      <td>621e309267b776a240ae1cdb</td>\n      <td>2022-01-17</td>\n      <td>NaN</td>\n      <td>NaN</td>\n      <td>NaN</td>\n      <td>NaN</td>\n      <td>NaN</td>\n      <td>NaN</td>\n      <td>NaN</td>\n      <td>NaN</td>\n      <td>...</td>\n      <td>NaN</td>\n      <td>NaN</td>\n      <td>NaN</td>\n      <td>NaN</td>\n      <td>&lt;30</td>\n      <td>MALE</td>\n      <td>&lt;19</td>\n      <td>NaN</td>\n      <td>NaN</td>\n      <td>NaN</td>\n    </tr>\n    <tr>\n      <th>4908</th>\n      <td>621e324e67b776a2400191cb</td>\n      <td>2022-01-17</td>\n      <td>33.104768</td>\n      <td>NaN</td>\n      <td>NaN</td>\n      <td>NaN</td>\n      <td>NaN</td>\n      <td>NaN</td>\n      <td>NaN</td>\n      <td>NaN</td>\n      <td>...</td>\n      <td>NaN</td>\n      <td>NaN</td>\n      <td>NaN</td>\n      <td>NaN</td>\n      <td>&gt;=30</td>\n      <td>MALE</td>\n      <td>27.0</td>\n      <td>NaN</td>\n      <td>45.0</td>\n      <td>10.0</td>\n    </tr>\n  </tbody>\n</table>\n<p>4909 rows × 46 columns</p>\n</div>"
     },
     "execution_count": 83,
     "metadata": {},
     "output_type": "execute_result"
    }
   ],
   "source": [
    "df = df.merge(panas, how='left', on=['id','date'])\n",
    "df"
   ],
   "metadata": {
    "collapsed": false,
    "ExecuteTime": {
     "end_time": "2024-02-07T12:07:55.105273200Z",
     "start_time": "2024-02-07T12:07:55.062195400Z"
    }
   },
   "id": "e6b6c9ea3acca795"
  },
  {
   "cell_type": "code",
   "execution_count": 84,
   "outputs": [
    {
     "data": {
      "text/plain": "                           id       date  label_stai_stress\n0    621e2e8e67b776a24055b564 2021-05-31               45.0\n140  621e328667b776a240281372 2021-05-31               48.0\n142  621e329067b776a2402ffad2 2021-05-31               55.0\n105  621e30e467b776a240e817c7 2021-05-31               52.0\n155  621e32af67b776a24045b4cf 2021-05-31               52.0\n..                        ...        ...                ...\n224  621e346f67b776a24081744f 2022-01-12               49.0\n48   621e2f9167b776a240011ccb 2022-01-16               59.0\n255  621e367e67b776a24087d75d 2022-01-17               47.0\n133  621e324e67b776a2400191cb 2022-01-17               51.0\n168  621e32e667b776a2406d2f1c 2022-01-25               54.0\n\n[279 rows x 3 columns]",
      "text/html": "<div>\n<style scoped>\n    .dataframe tbody tr th:only-of-type {\n        vertical-align: middle;\n    }\n\n    .dataframe tbody tr th {\n        vertical-align: top;\n    }\n\n    .dataframe thead th {\n        text-align: right;\n    }\n</style>\n<table border=\"1\" class=\"dataframe\">\n  <thead>\n    <tr style=\"text-align: right;\">\n      <th></th>\n      <th>id</th>\n      <th>date</th>\n      <th>label_stai_stress</th>\n    </tr>\n  </thead>\n  <tbody>\n    <tr>\n      <th>0</th>\n      <td>621e2e8e67b776a24055b564</td>\n      <td>2021-05-31</td>\n      <td>45.0</td>\n    </tr>\n    <tr>\n      <th>140</th>\n      <td>621e328667b776a240281372</td>\n      <td>2021-05-31</td>\n      <td>48.0</td>\n    </tr>\n    <tr>\n      <th>142</th>\n      <td>621e329067b776a2402ffad2</td>\n      <td>2021-05-31</td>\n      <td>55.0</td>\n    </tr>\n    <tr>\n      <th>105</th>\n      <td>621e30e467b776a240e817c7</td>\n      <td>2021-05-31</td>\n      <td>52.0</td>\n    </tr>\n    <tr>\n      <th>155</th>\n      <td>621e32af67b776a24045b4cf</td>\n      <td>2021-05-31</td>\n      <td>52.0</td>\n    </tr>\n    <tr>\n      <th>...</th>\n      <td>...</td>\n      <td>...</td>\n      <td>...</td>\n    </tr>\n    <tr>\n      <th>224</th>\n      <td>621e346f67b776a24081744f</td>\n      <td>2022-01-12</td>\n      <td>49.0</td>\n    </tr>\n    <tr>\n      <th>48</th>\n      <td>621e2f9167b776a240011ccb</td>\n      <td>2022-01-16</td>\n      <td>59.0</td>\n    </tr>\n    <tr>\n      <th>255</th>\n      <td>621e367e67b776a24087d75d</td>\n      <td>2022-01-17</td>\n      <td>47.0</td>\n    </tr>\n    <tr>\n      <th>133</th>\n      <td>621e324e67b776a2400191cb</td>\n      <td>2022-01-17</td>\n      <td>51.0</td>\n    </tr>\n    <tr>\n      <th>168</th>\n      <td>621e32e667b776a2406d2f1c</td>\n      <td>2022-01-25</td>\n      <td>54.0</td>\n    </tr>\n  </tbody>\n</table>\n<p>279 rows × 3 columns</p>\n</div>"
     },
     "execution_count": 84,
     "metadata": {},
     "output_type": "execute_result"
    }
   ],
   "source": [
    "stai = pd.read_csv('../data/lifesnaps/stai.csv')\n",
    "stai = stai.rename(columns={\"user_id\": \"id\", \"submitdate\": \"date\", \"stai_stress\":\"label_stai_stress\"})\n",
    "stai[\"date\"] = pd.to_datetime(pd.to_datetime(stai[\"date\"]).dt.date)\n",
    "stai = stai.sort_values(by='date', ascending=True)\n",
    "stai = stai.drop(columns=['type', 'stai_stress_category', 'Unnamed: 0'])\n",
    "stai"
   ],
   "metadata": {
    "collapsed": false,
    "ExecuteTime": {
     "end_time": "2024-02-07T12:07:55.751316100Z",
     "start_time": "2024-02-07T12:07:55.710172Z"
    }
   },
   "id": "a13039fa13ba718c"
  },
  {
   "cell_type": "code",
   "execution_count": 85,
   "outputs": [
    {
     "data": {
      "text/plain": "                            id       date  nightly_temperature  nremhr  \\\n0     621e332267b776a24092a584 2021-05-24                  NaN     NaN   \n1     621e30e467b776a240e817c7 2021-05-24                  NaN     NaN   \n2     621e367e67b776a24087d75d 2021-05-24                  NaN     NaN   \n3     621e360b67b776a24039709f 2021-05-24                  NaN  68.321   \n4     621e2f6167b776a240e082a9 2021-05-24                  NaN     NaN   \n...                        ...        ...                  ...     ...   \n4904  621e300767b776a2404dc717 2022-01-17            33.186399     NaN   \n4905  621e309b67b776a240b532b0 2022-01-17            31.815133     NaN   \n4906  621e342e67b776a2404ce460 2022-01-17                  NaN     NaN   \n4907  621e309267b776a240ae1cdb 2022-01-17                  NaN     NaN   \n4908  621e324e67b776a2400191cb 2022-01-17            33.104768     NaN   \n\n       rmssd  spo2  full_sleep_breathing_rate  stress_score  \\\n0        NaN   NaN                        NaN           NaN   \n1        NaN   NaN                        NaN           NaN   \n2        NaN   NaN                        NaN           NaN   \n3     31.413   NaN                       15.4          69.0   \n4        NaN   NaN                        NaN           NaN   \n...      ...   ...                        ...           ...   \n4904     NaN   NaN                        NaN           NaN   \n4905     NaN   NaN                        NaN           NaN   \n4906     NaN   NaN                        NaN           NaN   \n4907     NaN   NaN                        NaN           NaN   \n4908     NaN   NaN                        NaN           NaN   \n\n      sleep_points_percentage  exertion_points_percentage  ...  \\\n0                         NaN                         NaN  ...   \n1                         NaN                         NaN  ...   \n2                         NaN                         NaN  ...   \n3                    0.633333                        0.65  ...   \n4                         NaN                         NaN  ...   \n...                       ...                         ...  ...   \n4904                      NaN                         NaN  ...   \n4905                      NaN                         NaN  ...   \n4906                      NaN                         NaN  ...   \n4907                      NaN                         NaN  ...   \n4908                      NaN                         NaN  ...   \n\n      minutes_below_default_zone_1  minutes_in_default_zone_2  \\\n0                           1130.0                        9.0   \n1                            703.0                       64.0   \n2                           1319.0                        0.0   \n3                           1306.0                        7.0   \n4                           1306.0                        2.0   \n...                            ...                        ...   \n4904                        1380.0                        4.0   \n4905                        1208.0                        6.0   \n4906                           7.0                        0.0   \n4907                           NaN                        NaN   \n4908                           NaN                        NaN   \n\n     minutes_in_default_zone_3   age  gender   bmi label_stress_sema  \\\n0                          0.0   <30    MALE  21.0               NaN   \n1                          2.0   <30    MALE  >=30               1.0   \n2                          0.0   NaN    MALE   NaN               NaN   \n3                          0.0  >=30  FEMALE   <19               NaN   \n4                          0.0  >=30  FEMALE  >=25               NaN   \n...                        ...   ...     ...   ...               ...   \n4904                       0.0   <30    MALE  29.0               NaN   \n4905                       0.0  >=30    MALE  23.0               NaN   \n4906                       0.0   <30    MALE  29.0               NaN   \n4907                       NaN   <30    MALE   <19               NaN   \n4908                       NaN  >=30    MALE  27.0               NaN   \n\n      label_panas_positive_affect  label_panas_negative_affect  \\\n0                             NaN                          NaN   \n1                             NaN                          NaN   \n2                             NaN                          NaN   \n3                             NaN                          NaN   \n4                             NaN                          NaN   \n...                           ...                          ...   \n4904                          NaN                          NaN   \n4905                          NaN                          NaN   \n4906                          NaN                          NaN   \n4907                          NaN                          NaN   \n4908                         45.0                         10.0   \n\n      label_stai_stress  \n0                   NaN  \n1                   NaN  \n2                   NaN  \n3                   NaN  \n4                   NaN  \n...                 ...  \n4904                NaN  \n4905                NaN  \n4906                NaN  \n4907                NaN  \n4908               51.0  \n\n[4909 rows x 47 columns]",
      "text/html": "<div>\n<style scoped>\n    .dataframe tbody tr th:only-of-type {\n        vertical-align: middle;\n    }\n\n    .dataframe tbody tr th {\n        vertical-align: top;\n    }\n\n    .dataframe thead th {\n        text-align: right;\n    }\n</style>\n<table border=\"1\" class=\"dataframe\">\n  <thead>\n    <tr style=\"text-align: right;\">\n      <th></th>\n      <th>id</th>\n      <th>date</th>\n      <th>nightly_temperature</th>\n      <th>nremhr</th>\n      <th>rmssd</th>\n      <th>spo2</th>\n      <th>full_sleep_breathing_rate</th>\n      <th>stress_score</th>\n      <th>sleep_points_percentage</th>\n      <th>exertion_points_percentage</th>\n      <th>...</th>\n      <th>minutes_below_default_zone_1</th>\n      <th>minutes_in_default_zone_2</th>\n      <th>minutes_in_default_zone_3</th>\n      <th>age</th>\n      <th>gender</th>\n      <th>bmi</th>\n      <th>label_stress_sema</th>\n      <th>label_panas_positive_affect</th>\n      <th>label_panas_negative_affect</th>\n      <th>label_stai_stress</th>\n    </tr>\n  </thead>\n  <tbody>\n    <tr>\n      <th>0</th>\n      <td>621e332267b776a24092a584</td>\n      <td>2021-05-24</td>\n      <td>NaN</td>\n      <td>NaN</td>\n      <td>NaN</td>\n      <td>NaN</td>\n      <td>NaN</td>\n      <td>NaN</td>\n      <td>NaN</td>\n      <td>NaN</td>\n      <td>...</td>\n      <td>1130.0</td>\n      <td>9.0</td>\n      <td>0.0</td>\n      <td>&lt;30</td>\n      <td>MALE</td>\n      <td>21.0</td>\n      <td>NaN</td>\n      <td>NaN</td>\n      <td>NaN</td>\n      <td>NaN</td>\n    </tr>\n    <tr>\n      <th>1</th>\n      <td>621e30e467b776a240e817c7</td>\n      <td>2021-05-24</td>\n      <td>NaN</td>\n      <td>NaN</td>\n      <td>NaN</td>\n      <td>NaN</td>\n      <td>NaN</td>\n      <td>NaN</td>\n      <td>NaN</td>\n      <td>NaN</td>\n      <td>...</td>\n      <td>703.0</td>\n      <td>64.0</td>\n      <td>2.0</td>\n      <td>&lt;30</td>\n      <td>MALE</td>\n      <td>&gt;=30</td>\n      <td>1.0</td>\n      <td>NaN</td>\n      <td>NaN</td>\n      <td>NaN</td>\n    </tr>\n    <tr>\n      <th>2</th>\n      <td>621e367e67b776a24087d75d</td>\n      <td>2021-05-24</td>\n      <td>NaN</td>\n      <td>NaN</td>\n      <td>NaN</td>\n      <td>NaN</td>\n      <td>NaN</td>\n      <td>NaN</td>\n      <td>NaN</td>\n      <td>NaN</td>\n      <td>...</td>\n      <td>1319.0</td>\n      <td>0.0</td>\n      <td>0.0</td>\n      <td>NaN</td>\n      <td>MALE</td>\n      <td>NaN</td>\n      <td>NaN</td>\n      <td>NaN</td>\n      <td>NaN</td>\n      <td>NaN</td>\n    </tr>\n    <tr>\n      <th>3</th>\n      <td>621e360b67b776a24039709f</td>\n      <td>2021-05-24</td>\n      <td>NaN</td>\n      <td>68.321</td>\n      <td>31.413</td>\n      <td>NaN</td>\n      <td>15.4</td>\n      <td>69.0</td>\n      <td>0.633333</td>\n      <td>0.65</td>\n      <td>...</td>\n      <td>1306.0</td>\n      <td>7.0</td>\n      <td>0.0</td>\n      <td>&gt;=30</td>\n      <td>FEMALE</td>\n      <td>&lt;19</td>\n      <td>NaN</td>\n      <td>NaN</td>\n      <td>NaN</td>\n      <td>NaN</td>\n    </tr>\n    <tr>\n      <th>4</th>\n      <td>621e2f6167b776a240e082a9</td>\n      <td>2021-05-24</td>\n      <td>NaN</td>\n      <td>NaN</td>\n      <td>NaN</td>\n      <td>NaN</td>\n      <td>NaN</td>\n      <td>NaN</td>\n      <td>NaN</td>\n      <td>NaN</td>\n      <td>...</td>\n      <td>1306.0</td>\n      <td>2.0</td>\n      <td>0.0</td>\n      <td>&gt;=30</td>\n      <td>FEMALE</td>\n      <td>&gt;=25</td>\n      <td>NaN</td>\n      <td>NaN</td>\n      <td>NaN</td>\n      <td>NaN</td>\n    </tr>\n    <tr>\n      <th>...</th>\n      <td>...</td>\n      <td>...</td>\n      <td>...</td>\n      <td>...</td>\n      <td>...</td>\n      <td>...</td>\n      <td>...</td>\n      <td>...</td>\n      <td>...</td>\n      <td>...</td>\n      <td>...</td>\n      <td>...</td>\n      <td>...</td>\n      <td>...</td>\n      <td>...</td>\n      <td>...</td>\n      <td>...</td>\n      <td>...</td>\n      <td>...</td>\n      <td>...</td>\n      <td>...</td>\n    </tr>\n    <tr>\n      <th>4904</th>\n      <td>621e300767b776a2404dc717</td>\n      <td>2022-01-17</td>\n      <td>33.186399</td>\n      <td>NaN</td>\n      <td>NaN</td>\n      <td>NaN</td>\n      <td>NaN</td>\n      <td>NaN</td>\n      <td>NaN</td>\n      <td>NaN</td>\n      <td>...</td>\n      <td>1380.0</td>\n      <td>4.0</td>\n      <td>0.0</td>\n      <td>&lt;30</td>\n      <td>MALE</td>\n      <td>29.0</td>\n      <td>NaN</td>\n      <td>NaN</td>\n      <td>NaN</td>\n      <td>NaN</td>\n    </tr>\n    <tr>\n      <th>4905</th>\n      <td>621e309b67b776a240b532b0</td>\n      <td>2022-01-17</td>\n      <td>31.815133</td>\n      <td>NaN</td>\n      <td>NaN</td>\n      <td>NaN</td>\n      <td>NaN</td>\n      <td>NaN</td>\n      <td>NaN</td>\n      <td>NaN</td>\n      <td>...</td>\n      <td>1208.0</td>\n      <td>6.0</td>\n      <td>0.0</td>\n      <td>&gt;=30</td>\n      <td>MALE</td>\n      <td>23.0</td>\n      <td>NaN</td>\n      <td>NaN</td>\n      <td>NaN</td>\n      <td>NaN</td>\n    </tr>\n    <tr>\n      <th>4906</th>\n      <td>621e342e67b776a2404ce460</td>\n      <td>2022-01-17</td>\n      <td>NaN</td>\n      <td>NaN</td>\n      <td>NaN</td>\n      <td>NaN</td>\n      <td>NaN</td>\n      <td>NaN</td>\n      <td>NaN</td>\n      <td>NaN</td>\n      <td>...</td>\n      <td>7.0</td>\n      <td>0.0</td>\n      <td>0.0</td>\n      <td>&lt;30</td>\n      <td>MALE</td>\n      <td>29.0</td>\n      <td>NaN</td>\n      <td>NaN</td>\n      <td>NaN</td>\n      <td>NaN</td>\n    </tr>\n    <tr>\n      <th>4907</th>\n      <td>621e309267b776a240ae1cdb</td>\n      <td>2022-01-17</td>\n      <td>NaN</td>\n      <td>NaN</td>\n      <td>NaN</td>\n      <td>NaN</td>\n      <td>NaN</td>\n      <td>NaN</td>\n      <td>NaN</td>\n      <td>NaN</td>\n      <td>...</td>\n      <td>NaN</td>\n      <td>NaN</td>\n      <td>NaN</td>\n      <td>&lt;30</td>\n      <td>MALE</td>\n      <td>&lt;19</td>\n      <td>NaN</td>\n      <td>NaN</td>\n      <td>NaN</td>\n      <td>NaN</td>\n    </tr>\n    <tr>\n      <th>4908</th>\n      <td>621e324e67b776a2400191cb</td>\n      <td>2022-01-17</td>\n      <td>33.104768</td>\n      <td>NaN</td>\n      <td>NaN</td>\n      <td>NaN</td>\n      <td>NaN</td>\n      <td>NaN</td>\n      <td>NaN</td>\n      <td>NaN</td>\n      <td>...</td>\n      <td>NaN</td>\n      <td>NaN</td>\n      <td>NaN</td>\n      <td>&gt;=30</td>\n      <td>MALE</td>\n      <td>27.0</td>\n      <td>NaN</td>\n      <td>45.0</td>\n      <td>10.0</td>\n      <td>51.0</td>\n    </tr>\n  </tbody>\n</table>\n<p>4909 rows × 47 columns</p>\n</div>"
     },
     "execution_count": 85,
     "metadata": {},
     "output_type": "execute_result"
    }
   ],
   "source": [
    "df = df.merge(stai, how='left', on=['id','date'])\n",
    "df"
   ],
   "metadata": {
    "collapsed": false,
    "ExecuteTime": {
     "end_time": "2024-02-07T12:07:56.984696700Z",
     "start_time": "2024-02-07T12:07:56.943575900Z"
    }
   },
   "id": "d4120c746ac2010b"
  },
  {
   "cell_type": "code",
   "outputs": [
    {
     "data": {
      "text/plain": "Index(['id', 'date', 'nightly_temperature', 'nremhr', 'rmssd', 'spo2',\n       'full_sleep_breathing_rate', 'stress_score', 'sleep_points_percentage',\n       'exertion_points_percentage', 'responsiveness_points_percentage',\n       'daily_temperature_variation', 'badgeType', 'calories',\n       'filteredDemographicVO2Max', 'distance', 'activityType', 'bpm',\n       'lightly_active_minutes', 'moderately_active_minutes',\n       'very_active_minutes', 'sedentary_minutes', 'mindfulness_session',\n       'scl_avg', 'resting_hr', 'sleep_duration', 'minutesToFallAsleep',\n       'minutesAsleep', 'minutesAwake', 'minutesAfterWakeup',\n       'sleep_efficiency', 'sleep_deep_ratio', 'sleep_wake_ratio',\n       'sleep_light_ratio', 'sleep_rem_ratio', 'steps',\n       'minutes_in_default_zone_1', 'minutes_below_default_zone_1',\n       'minutes_in_default_zone_2', 'minutes_in_default_zone_3', 'age',\n       'gender', 'bmi', 'label_stress_sema', 'label_panas_positive_affect',\n       'label_panas_negative_affect', 'label_stai_stress'],\n      dtype='object')"
     },
     "execution_count": 86,
     "metadata": {},
     "output_type": "execute_result"
    }
   ],
   "source": [
    "df.columns"
   ],
   "metadata": {
    "collapsed": false,
    "ExecuteTime": {
     "end_time": "2024-02-07T12:07:57.741438800Z",
     "start_time": "2024-02-07T12:07:57.716316200Z"
    }
   },
   "id": "bee8a0d3feac3be2",
   "execution_count": 86
  },
  {
   "cell_type": "code",
   "outputs": [
    {
     "data": {
      "text/plain": "(array([45., 36., 54., 32., 37., 15., 19., 10.,  6.,  2.]),\n array([10. , 13.5, 17. , 20.5, 24. , 27.5, 31. , 34.5, 38. , 41.5, 45. ]),\n <BarContainer object of 10 artists>)"
     },
     "execution_count": 87,
     "metadata": {},
     "output_type": "execute_result"
    },
    {
     "data": {
      "text/plain": "<Figure size 640x480 with 1 Axes>",
      "image/png": "[encoded data removed]"
     },
     "metadata": {},
     "output_type": "display_data"
    }
   ],
   "source": [
    "plt.hist(df.label_panas_negative_affect)"
   ],
   "metadata": {
    "collapsed": false,
    "ExecuteTime": {
     "end_time": "2024-02-07T12:07:58.550009900Z",
     "start_time": "2024-02-07T12:07:58.408869Z"
    }
   },
   "id": "9ce5fcf38e0fc5ee",
   "execution_count": 87
  },
  {
   "cell_type": "code",
   "outputs": [
    {
     "name": "stdout",
     "output_type": "stream",
     "text": [
      "Mean PANAS: 21.29296875 - STD PANAS: 7.611917215851759\n"
     ]
    }
   ],
   "source": [
    "mean_panas = df['label_panas_negative_affect'].mean()\n",
    "std_panas = df['label_panas_negative_affect'].std()\n",
    "df['negative_affect_category'] = df['label_panas_negative_affect'].apply(lambda score: get_category(score, mean_panas, std_panas))\n",
    "print(\"Mean PANAS: {} - STD PANAS: {}\".format(mean_panas, std_panas))"
   ],
   "metadata": {
    "collapsed": false,
    "ExecuteTime": {
     "end_time": "2024-02-07T12:07:58.943787700Z",
     "start_time": "2024-02-07T12:07:58.918795400Z"
    }
   },
   "id": "f159431121fcdbcc",
   "execution_count": 88
  },
  {
   "cell_type": "code",
   "outputs": [
    {
     "data": {
      "text/plain": "(array([4738.,    0.,    0.,    0.,    0.,   98.,    0.,    0.,    0.,\n          73.]),\n array([0. , 0.2, 0.4, 0.6, 0.8, 1. , 1.2, 1.4, 1.6, 1.8, 2. ]),\n <BarContainer object of 10 artists>)"
     },
     "execution_count": 89,
     "metadata": {},
     "output_type": "execute_result"
    },
    {
     "data": {
      "text/plain": "<Figure size 640x480 with 1 Axes>",
      "image/png": "[encoded data removed]"
     },
     "metadata": {},
     "output_type": "display_data"
    }
   ],
   "source": [
    "plt.hist(df.negative_affect_category)"
   ],
   "metadata": {
    "collapsed": false,
    "ExecuteTime": {
     "end_time": "2024-02-07T12:07:59.790843400Z",
     "start_time": "2024-02-07T12:07:59.681675400Z"
    }
   },
   "id": "ffb32680e4b31f17",
   "execution_count": 89
  },
  {
   "cell_type": "code",
   "outputs": [
    {
     "data": {
      "text/plain": "(array([ 1.,  1.,  8., 11., 15., 49., 64., 73., 32., 13.]),\n array([26. , 29.4, 32.8, 36.2, 39.6, 43. , 46.4, 49.8, 53.2, 56.6, 60. ]),\n <BarContainer object of 10 artists>)"
     },
     "execution_count": 90,
     "metadata": {},
     "output_type": "execute_result"
    },
    {
     "data": {
      "text/plain": "<Figure size 640x480 with 1 Axes>",
      "image/png": "[encoded data removed]"
     },
     "metadata": {},
     "output_type": "display_data"
    }
   ],
   "source": [
    "plt.hist(df.label_stai_stress)"
   ],
   "metadata": {
    "collapsed": false,
    "ExecuteTime": {
     "end_time": "2024-02-07T12:08:03.212472800Z",
     "start_time": "2024-02-07T12:08:02.974668900Z"
    }
   },
   "id": "3073c92753f1e462",
   "execution_count": 90
  },
  {
   "cell_type": "code",
   "outputs": [
    {
     "name": "stdout",
     "output_type": "stream",
     "text": [
      "Mean STAI stress: 48.30711610486891 - STD STAI stress: 5.561284159392198\n"
     ]
    }
   ],
   "source": [
    "mean_panas = df['label_stai_stress'].mean()\n",
    "std_panas = df['label_stai_stress'].std()\n",
    "df['stai_stress_category'] = df['label_stai_stress'].apply(lambda score: get_category(score, mean_panas, std_panas))\n",
    "print(\"Mean STAI stress: {} - STD STAI stress: {}\".format(mean_panas, std_panas))"
   ],
   "metadata": {
    "collapsed": false,
    "ExecuteTime": {
     "end_time": "2024-02-07T12:08:05.473406200Z",
     "start_time": "2024-02-07T12:08:05.440370400Z"
    }
   },
   "id": "fbdf9e24b41b2fa9",
   "execution_count": 91
  },
  {
   "cell_type": "code",
   "outputs": [
    {
     "data": {
      "text/plain": "(array([4757.,    0.,    0.,    0.,    0.,   77.,    0.,    0.,    0.,\n          75.]),\n array([0. , 0.2, 0.4, 0.6, 0.8, 1. , 1.2, 1.4, 1.6, 1.8, 2. ]),\n <BarContainer object of 10 artists>)"
     },
     "execution_count": 92,
     "metadata": {},
     "output_type": "execute_result"
    },
    {
     "data": {
      "text/plain": "<Figure size 640x480 with 1 Axes>",
      "image/png": "[encoded data removed]"
     },
     "metadata": {},
     "output_type": "display_data"
    }
   ],
   "source": [
    "plt.hist(df.stai_stress_category)"
   ],
   "metadata": {
    "collapsed": false,
    "ExecuteTime": {
     "end_time": "2024-02-07T12:08:06.188260600Z",
     "start_time": "2024-02-07T12:08:06.068187300Z"
    }
   },
   "id": "6656ab0631240f24",
   "execution_count": 92
  },
  {
   "cell_type": "code",
   "outputs": [
    {
     "data": {
      "text/plain": "Index(['id', 'date', 'nightly_temperature', 'nremhr', 'rmssd', 'spo2',\n       'full_sleep_breathing_rate', 'stress_score', 'sleep_points_percentage',\n       'exertion_points_percentage', 'responsiveness_points_percentage',\n       'daily_temperature_variation', 'badgeType', 'calories',\n       'filteredDemographicVO2Max', 'distance', 'activityType', 'bpm',\n       'lightly_active_minutes', 'moderately_active_minutes',\n       'very_active_minutes', 'sedentary_minutes', 'mindfulness_session',\n       'scl_avg', 'resting_hr', 'sleep_duration', 'minutesToFallAsleep',\n       'minutesAsleep', 'minutesAwake', 'minutesAfterWakeup',\n       'sleep_efficiency', 'sleep_deep_ratio', 'sleep_wake_ratio',\n       'sleep_light_ratio', 'sleep_rem_ratio', 'steps',\n       'minutes_in_default_zone_1', 'minutes_below_default_zone_1',\n       'minutes_in_default_zone_2', 'minutes_in_default_zone_3', 'age',\n       'gender', 'bmi', 'label_stress_sema', 'label_panas_positive_affect',\n       'label_panas_negative_affect', 'label_stai_stress',\n       'negative_affect_category', 'stai_stress_category'],\n      dtype='object')"
     },
     "execution_count": 93,
     "metadata": {},
     "output_type": "execute_result"
    }
   ],
   "source": [
    "df.columns"
   ],
   "metadata": {
    "collapsed": false,
    "ExecuteTime": {
     "end_time": "2024-02-07T12:08:14.283695100Z",
     "start_time": "2024-02-07T12:08:14.272237500Z"
    }
   },
   "id": "7d096e8b78f4cce3",
   "execution_count": 93
  },
  {
   "cell_type": "code",
   "outputs": [],
   "source": [
    "df = df.drop(columns=['label_panas_positive_affect', 'label_panas_negative_affect', 'label_stai_stress'])"
   ],
   "metadata": {
    "collapsed": false,
    "ExecuteTime": {
     "end_time": "2024-02-07T12:09:17.379765600Z",
     "start_time": "2024-02-07T12:09:17.335685500Z"
    }
   },
   "id": "e27ed3a9b0fa6de1",
   "execution_count": 94
  },
  {
   "cell_type": "code",
   "execution_count": 95,
   "outputs": [],
   "source": [
    "df.to_pickle('../data/lifesnaps/lifesnapsv1.pkl')"
   ],
   "metadata": {
    "collapsed": false,
    "ExecuteTime": {
     "end_time": "2024-02-07T12:09:17.983527400Z",
     "start_time": "2024-02-07T12:09:17.964091200Z"
    }
   },
   "id": "f6441cc6901136f9"
  },
  {
   "cell_type": "code",
   "execution_count": 96,
   "outputs": [],
   "source": [
    "#create_report(df).show_browser()"
   ],
   "metadata": {
    "collapsed": false,
    "ExecuteTime": {
     "end_time": "2024-02-07T12:09:18.824486600Z",
     "start_time": "2024-02-07T12:09:18.807587600Z"
    }
   },
   "id": "8f32cdfb995d31d2"
  },
  {
   "cell_type": "markdown",
   "source": [
    "# Basic Preprocessing"
   ],
   "metadata": {
    "collapsed": false
   },
   "id": "f12c581e14703410"
  },
  {
   "cell_type": "code",
   "execution_count": 97,
   "outputs": [],
   "source": [
    "def sin_transform(values):\n",
    "    \"\"\"\n",
    "    Applies SIN transform to a series value.\n",
    "    Args:\n",
    "        values (pd.Series): A series to apply SIN transform on.\n",
    "    Returns\n",
    "        (pd.Series): The transformed series.\n",
    "    \"\"\"\n",
    "\n",
    "    return np.sin(2 * np.pi * values / len(set(values)))\n",
    "\n",
    "\n",
    "def cos_transform(values):\n",
    "    \"\"\"\n",
    "    Applies COS transform to a series value.\n",
    "    Args:\n",
    "        values (pd.Series): A series to apply SIN transform on.\n",
    "    Returns\n",
    "        (pd.Series): The transformed series.\n",
    "    \"\"\"\n",
    "    return np.cos(2 * np.pi * values / len(set(values)))\n",
    "\n",
    "\n",
    "def date_engineering(data):  # data could be any dataframe that needs date engineering\n",
    "\n",
    "    data['date'] = pd.to_datetime(data.date, format='%m/%d/%y %H:%M:%S')\n",
    "    data = data.astype({\"date\": str})\n",
    "\n",
    "    # Extract features from date\n",
    "    data[\"year\"] = data[\"date\"].apply(lambda x: datetime.strptime(x, '%Y-%m-%d').year)\n",
    "    data[\"month\"] = data[\"date\"].apply(lambda x: datetime.strptime(x, '%Y-%m-%d').month)\n",
    "    data[\"weekday\"] = data[\"date\"].apply(lambda x: datetime.strptime(x, '%Y-%m-%d').weekday())\n",
    "    data[\"week\"] = data[\"date\"].apply(lambda x: datetime.strptime(x, '%Y-%m-%d').isocalendar()[1])\n",
    "    data[\"day\"] = data[\"date\"].apply(lambda x: datetime.strptime(x, '%Y-%m-%d').day)\n",
    "\n",
    "    # Sin transformation in date features\n",
    "    data[\"month_sin\"] = sin_transform(data[\"month\"])\n",
    "    data[\"weekday_sin\"] = sin_transform(data[\"weekday\"])\n",
    "    data[\"week_sin\"] = sin_transform(data[\"week\"])\n",
    "    data[\"day_sin\"] = sin_transform(data[\"day\"])\n",
    "\n",
    "    # Cosine transformation in date features\n",
    "    data[\"month_cos\"] = cos_transform(data[\"month\"])\n",
    "    data[\"weekday_cos\"] = cos_transform(data[\"weekday\"])\n",
    "    data[\"week_cos\"] = cos_transform(data[\"week\"])\n",
    "    data[\"day_cos\"] = cos_transform(data[\"day\"])\n",
    "\n",
    "    data = data.drop(columns=['year', 'month', 'weekday', 'week', 'day'])\n",
    "\n",
    "    return data"
   ],
   "metadata": {
    "collapsed": false,
    "ExecuteTime": {
     "end_time": "2024-02-07T12:09:19.943728500Z",
     "start_time": "2024-02-07T12:09:19.905968300Z"
    }
   },
   "id": "f861f51ade520d18"
  },
  {
   "cell_type": "code",
   "execution_count": 98,
   "outputs": [
    {
     "data": {
      "text/plain": "                            id        date  nightly_temperature  nremhr  \\\n0     621e332267b776a24092a584  2021-05-24                  NaN     NaN   \n1     621e30e467b776a240e817c7  2021-05-24                  NaN     NaN   \n2     621e367e67b776a24087d75d  2021-05-24                  NaN     NaN   \n3     621e360b67b776a24039709f  2021-05-24                  NaN  68.321   \n4     621e2f6167b776a240e082a9  2021-05-24                  NaN     NaN   \n...                        ...         ...                  ...     ...   \n4904  621e300767b776a2404dc717  2022-01-17            33.186399     NaN   \n4905  621e309b67b776a240b532b0  2022-01-17            31.815133     NaN   \n4906  621e342e67b776a2404ce460  2022-01-17                  NaN     NaN   \n4907  621e309267b776a240ae1cdb  2022-01-17                  NaN     NaN   \n4908  621e324e67b776a2400191cb  2022-01-17            33.104768     NaN   \n\n       rmssd  spo2  full_sleep_breathing_rate  stress_score  \\\n0        NaN   NaN                        NaN           NaN   \n1        NaN   NaN                        NaN           NaN   \n2        NaN   NaN                        NaN           NaN   \n3     31.413   NaN                       15.4          69.0   \n4        NaN   NaN                        NaN           NaN   \n...      ...   ...                        ...           ...   \n4904     NaN   NaN                        NaN           NaN   \n4905     NaN   NaN                        NaN           NaN   \n4906     NaN   NaN                        NaN           NaN   \n4907     NaN   NaN                        NaN           NaN   \n4908     NaN   NaN                        NaN           NaN   \n\n      sleep_points_percentage  exertion_points_percentage  ...  \\\n0                         NaN                         NaN  ...   \n1                         NaN                         NaN  ...   \n2                         NaN                         NaN  ...   \n3                    0.633333                        0.65  ...   \n4                         NaN                         NaN  ...   \n...                       ...                         ...  ...   \n4904                      NaN                         NaN  ...   \n4905                      NaN                         NaN  ...   \n4906                      NaN                         NaN  ...   \n4907                      NaN                         NaN  ...   \n4908                      NaN                         NaN  ...   \n\n      negative_affect_category  stai_stress_category month_sin  weekday_sin  \\\n0                      Average               Average -0.866025          0.0   \n1                      Average               Average -0.866025          0.0   \n2                      Average               Average -0.866025          0.0   \n3                      Average               Average -0.866025          0.0   \n4                      Average               Average -0.866025          0.0   \n...                        ...                   ...       ...          ...   \n4904                   Average               Average  0.866025          0.0   \n4905                   Average               Average  0.866025          0.0   \n4906                   Average               Average  0.866025          0.0   \n4907                   Average               Average  0.866025          0.0   \n4908             Below average               Average  0.866025          0.0   \n\n      week_sin   day_sin month_cos  weekday_cos  week_cos   day_cos  \n0     0.309017 -0.988468       0.5          1.0  0.951057  0.151428  \n1     0.309017 -0.988468       0.5          1.0  0.951057  0.151428  \n2     0.309017 -0.988468       0.5          1.0  0.951057  0.151428  \n3     0.309017 -0.988468       0.5          1.0  0.951057  0.151428  \n4     0.309017 -0.988468       0.5          1.0  0.951057  0.151428  \n...        ...       ...       ...          ...       ...       ...  \n4904  0.809017 -0.299363       0.5          1.0  0.587785 -0.954139  \n4905  0.809017 -0.299363       0.5          1.0  0.587785 -0.954139  \n4906  0.809017 -0.299363       0.5          1.0  0.587785 -0.954139  \n4907  0.809017 -0.299363       0.5          1.0  0.587785 -0.954139  \n4908  0.809017 -0.299363       0.5          1.0  0.587785 -0.954139  \n\n[4909 rows x 54 columns]",
      "text/html": "<div>\n<style scoped>\n    .dataframe tbody tr th:only-of-type {\n        vertical-align: middle;\n    }\n\n    .dataframe tbody tr th {\n        vertical-align: top;\n    }\n\n    .dataframe thead th {\n        text-align: right;\n    }\n</style>\n<table border=\"1\" class=\"dataframe\">\n  <thead>\n    <tr style=\"text-align: right;\">\n      <th></th>\n      <th>id</th>\n      <th>date</th>\n      <th>nightly_temperature</th>\n      <th>nremhr</th>\n      <th>rmssd</th>\n      <th>spo2</th>\n      <th>full_sleep_breathing_rate</th>\n      <th>stress_score</th>\n      <th>sleep_points_percentage</th>\n      <th>exertion_points_percentage</th>\n      <th>...</th>\n      <th>negative_affect_category</th>\n      <th>stai_stress_category</th>\n      <th>month_sin</th>\n      <th>weekday_sin</th>\n      <th>week_sin</th>\n      <th>day_sin</th>\n      <th>month_cos</th>\n      <th>weekday_cos</th>\n      <th>week_cos</th>\n      <th>day_cos</th>\n    </tr>\n  </thead>\n  <tbody>\n    <tr>\n      <th>0</th>\n      <td>621e332267b776a24092a584</td>\n      <td>2021-05-24</td>\n      <td>NaN</td>\n      <td>NaN</td>\n      <td>NaN</td>\n      <td>NaN</td>\n      <td>NaN</td>\n      <td>NaN</td>\n      <td>NaN</td>\n      <td>NaN</td>\n      <td>...</td>\n      <td>Average</td>\n      <td>Average</td>\n      <td>-0.866025</td>\n      <td>0.0</td>\n      <td>0.309017</td>\n      <td>-0.988468</td>\n      <td>0.5</td>\n      <td>1.0</td>\n      <td>0.951057</td>\n      <td>0.151428</td>\n    </tr>\n    <tr>\n      <th>1</th>\n      <td>621e30e467b776a240e817c7</td>\n      <td>2021-05-24</td>\n      <td>NaN</td>\n      <td>NaN</td>\n      <td>NaN</td>\n      <td>NaN</td>\n      <td>NaN</td>\n      <td>NaN</td>\n      <td>NaN</td>\n      <td>NaN</td>\n      <td>...</td>\n      <td>Average</td>\n      <td>Average</td>\n      <td>-0.866025</td>\n      <td>0.0</td>\n      <td>0.309017</td>\n      <td>-0.988468</td>\n      <td>0.5</td>\n      <td>1.0</td>\n      <td>0.951057</td>\n      <td>0.151428</td>\n    </tr>\n    <tr>\n      <th>2</th>\n      <td>621e367e67b776a24087d75d</td>\n      <td>2021-05-24</td>\n      <td>NaN</td>\n      <td>NaN</td>\n      <td>NaN</td>\n      <td>NaN</td>\n      <td>NaN</td>\n      <td>NaN</td>\n      <td>NaN</td>\n      <td>NaN</td>\n      <td>...</td>\n      <td>Average</td>\n      <td>Average</td>\n      <td>-0.866025</td>\n      <td>0.0</td>\n      <td>0.309017</td>\n      <td>-0.988468</td>\n      <td>0.5</td>\n      <td>1.0</td>\n      <td>0.951057</td>\n      <td>0.151428</td>\n    </tr>\n    <tr>\n      <th>3</th>\n      <td>621e360b67b776a24039709f</td>\n      <td>2021-05-24</td>\n      <td>NaN</td>\n      <td>68.321</td>\n      <td>31.413</td>\n      <td>NaN</td>\n      <td>15.4</td>\n      <td>69.0</td>\n      <td>0.633333</td>\n      <td>0.65</td>\n      <td>...</td>\n      <td>Average</td>\n      <td>Average</td>\n      <td>-0.866025</td>\n      <td>0.0</td>\n      <td>0.309017</td>\n      <td>-0.988468</td>\n      <td>0.5</td>\n      <td>1.0</td>\n      <td>0.951057</td>\n      <td>0.151428</td>\n    </tr>\n    <tr>\n      <th>4</th>\n      <td>621e2f6167b776a240e082a9</td>\n      <td>2021-05-24</td>\n      <td>NaN</td>\n      <td>NaN</td>\n      <td>NaN</td>\n      <td>NaN</td>\n      <td>NaN</td>\n      <td>NaN</td>\n      <td>NaN</td>\n      <td>NaN</td>\n      <td>...</td>\n      <td>Average</td>\n      <td>Average</td>\n      <td>-0.866025</td>\n      <td>0.0</td>\n      <td>0.309017</td>\n      <td>-0.988468</td>\n      <td>0.5</td>\n      <td>1.0</td>\n      <td>0.951057</td>\n      <td>0.151428</td>\n    </tr>\n    <tr>\n      <th>...</th>\n      <td>...</td>\n      <td>...</td>\n      <td>...</td>\n      <td>...</td>\n      <td>...</td>\n      <td>...</td>\n      <td>...</td>\n      <td>...</td>\n      <td>...</td>\n      <td>...</td>\n      <td>...</td>\n      <td>...</td>\n      <td>...</td>\n      <td>...</td>\n      <td>...</td>\n      <td>...</td>\n      <td>...</td>\n      <td>...</td>\n      <td>...</td>\n      <td>...</td>\n      <td>...</td>\n    </tr>\n    <tr>\n      <th>4904</th>\n      <td>621e300767b776a2404dc717</td>\n      <td>2022-01-17</td>\n      <td>33.186399</td>\n      <td>NaN</td>\n      <td>NaN</td>\n      <td>NaN</td>\n      <td>NaN</td>\n      <td>NaN</td>\n      <td>NaN</td>\n      <td>NaN</td>\n      <td>...</td>\n      <td>Average</td>\n      <td>Average</td>\n      <td>0.866025</td>\n      <td>0.0</td>\n      <td>0.809017</td>\n      <td>-0.299363</td>\n      <td>0.5</td>\n      <td>1.0</td>\n      <td>0.587785</td>\n      <td>-0.954139</td>\n    </tr>\n    <tr>\n      <th>4905</th>\n      <td>621e309b67b776a240b532b0</td>\n      <td>2022-01-17</td>\n      <td>31.815133</td>\n      <td>NaN</td>\n      <td>NaN</td>\n      <td>NaN</td>\n      <td>NaN</td>\n      <td>NaN</td>\n      <td>NaN</td>\n      <td>NaN</td>\n      <td>...</td>\n      <td>Average</td>\n      <td>Average</td>\n      <td>0.866025</td>\n      <td>0.0</td>\n      <td>0.809017</td>\n      <td>-0.299363</td>\n      <td>0.5</td>\n      <td>1.0</td>\n      <td>0.587785</td>\n      <td>-0.954139</td>\n    </tr>\n    <tr>\n      <th>4906</th>\n      <td>621e342e67b776a2404ce460</td>\n      <td>2022-01-17</td>\n      <td>NaN</td>\n      <td>NaN</td>\n      <td>NaN</td>\n      <td>NaN</td>\n      <td>NaN</td>\n      <td>NaN</td>\n      <td>NaN</td>\n      <td>NaN</td>\n      <td>...</td>\n      <td>Average</td>\n      <td>Average</td>\n      <td>0.866025</td>\n      <td>0.0</td>\n      <td>0.809017</td>\n      <td>-0.299363</td>\n      <td>0.5</td>\n      <td>1.0</td>\n      <td>0.587785</td>\n      <td>-0.954139</td>\n    </tr>\n    <tr>\n      <th>4907</th>\n      <td>621e309267b776a240ae1cdb</td>\n      <td>2022-01-17</td>\n      <td>NaN</td>\n      <td>NaN</td>\n      <td>NaN</td>\n      <td>NaN</td>\n      <td>NaN</td>\n      <td>NaN</td>\n      <td>NaN</td>\n      <td>NaN</td>\n      <td>...</td>\n      <td>Average</td>\n      <td>Average</td>\n      <td>0.866025</td>\n      <td>0.0</td>\n      <td>0.809017</td>\n      <td>-0.299363</td>\n      <td>0.5</td>\n      <td>1.0</td>\n      <td>0.587785</td>\n      <td>-0.954139</td>\n    </tr>\n    <tr>\n      <th>4908</th>\n      <td>621e324e67b776a2400191cb</td>\n      <td>2022-01-17</td>\n      <td>33.104768</td>\n      <td>NaN</td>\n      <td>NaN</td>\n      <td>NaN</td>\n      <td>NaN</td>\n      <td>NaN</td>\n      <td>NaN</td>\n      <td>NaN</td>\n      <td>...</td>\n      <td>Below average</td>\n      <td>Average</td>\n      <td>0.866025</td>\n      <td>0.0</td>\n      <td>0.809017</td>\n      <td>-0.299363</td>\n      <td>0.5</td>\n      <td>1.0</td>\n      <td>0.587785</td>\n      <td>-0.954139</td>\n    </tr>\n  </tbody>\n</table>\n<p>4909 rows × 54 columns</p>\n</div>"
     },
     "execution_count": 98,
     "metadata": {},
     "output_type": "execute_result"
    }
   ],
   "source": [
    "df = date_engineering(df)\n",
    "df"
   ],
   "metadata": {
    "collapsed": false,
    "ExecuteTime": {
     "end_time": "2024-02-07T12:09:20.720214100Z",
     "start_time": "2024-02-07T12:09:20.525128300Z"
    }
   },
   "id": "5bff2d6ae2788b6c"
  },
  {
   "cell_type": "code",
   "execution_count": 99,
   "outputs": [
    {
     "data": {
      "text/plain": "Index(['id', 'date', 'nightly_temperature', 'nremhr', 'rmssd', 'spo2',\n       'full_sleep_breathing_rate', 'stress_score', 'sleep_points_percentage',\n       'exertion_points_percentage', 'responsiveness_points_percentage',\n       'daily_temperature_variation', 'badgeType', 'calories',\n       'filteredDemographicVO2Max', 'distance', 'activityType', 'bpm',\n       'lightly_active_minutes', 'moderately_active_minutes',\n       'very_active_minutes', 'sedentary_minutes', 'mindfulness_session',\n       'scl_avg', 'resting_hr', 'sleep_duration', 'minutesToFallAsleep',\n       'minutesAsleep', 'minutesAwake', 'minutesAfterWakeup',\n       'sleep_efficiency', 'sleep_deep_ratio', 'sleep_wake_ratio',\n       'sleep_light_ratio', 'sleep_rem_ratio', 'steps',\n       'minutes_in_default_zone_1', 'minutes_below_default_zone_1',\n       'minutes_in_default_zone_2', 'minutes_in_default_zone_3', 'age',\n       'gender', 'bmi', 'label_stress_sema', 'negative_affect_category',\n       'stai_stress_category', 'month_sin', 'weekday_sin', 'week_sin',\n       'day_sin', 'month_cos', 'weekday_cos', 'week_cos', 'day_cos'],\n      dtype='object')"
     },
     "execution_count": 99,
     "metadata": {},
     "output_type": "execute_result"
    }
   ],
   "source": [
    "df.columns"
   ],
   "metadata": {
    "collapsed": false,
    "ExecuteTime": {
     "end_time": "2024-02-07T12:09:21.006165700Z",
     "start_time": "2024-02-07T12:09:20.972438900Z"
    }
   },
   "id": "b32db67a49521257"
  },
  {
   "cell_type": "code",
   "execution_count": 100,
   "outputs": [],
   "source": [
    "#create_report(df).show_browser()"
   ],
   "metadata": {
    "collapsed": false,
    "ExecuteTime": {
     "end_time": "2024-02-07T12:09:21.512452600Z",
     "start_time": "2024-02-07T12:09:21.493513200Z"
    }
   },
   "id": "34af25c592c78709"
  },
  {
   "cell_type": "code",
   "execution_count": 101,
   "outputs": [
    {
     "name": "stderr",
     "output_type": "stream",
     "text": [
      "C:\\Users\\ChristinaKaragianni\\anaconda3\\envs\\py38\\lib\\site-packages\\numpy\\lib\\nanfunctions.py:1215: RuntimeWarning: Mean of empty slice\n",
      "  return np.nanmean(a, axis, out=out, keepdims=keepdims)\n",
      "C:\\Users\\ChristinaKaragianni\\anaconda3\\envs\\py38\\lib\\site-packages\\numpy\\lib\\nanfunctions.py:1215: RuntimeWarning: Mean of empty slice\n",
      "  return np.nanmean(a, axis, out=out, keepdims=keepdims)\n",
      "C:\\Users\\ChristinaKaragianni\\anaconda3\\envs\\py38\\lib\\site-packages\\numpy\\lib\\nanfunctions.py:1215: RuntimeWarning: Mean of empty slice\n",
      "  return np.nanmean(a, axis, out=out, keepdims=keepdims)\n",
      "C:\\Users\\ChristinaKaragianni\\anaconda3\\envs\\py38\\lib\\site-packages\\numpy\\lib\\nanfunctions.py:1215: RuntimeWarning: Mean of empty slice\n",
      "  return np.nanmean(a, axis, out=out, keepdims=keepdims)\n",
      "C:\\Users\\ChristinaKaragianni\\anaconda3\\envs\\py38\\lib\\site-packages\\numpy\\lib\\nanfunctions.py:1215: RuntimeWarning: Mean of empty slice\n",
      "  return np.nanmean(a, axis, out=out, keepdims=keepdims)\n",
      "C:\\Users\\ChristinaKaragianni\\anaconda3\\envs\\py38\\lib\\site-packages\\numpy\\lib\\nanfunctions.py:1215: RuntimeWarning: Mean of empty slice\n",
      "  return np.nanmean(a, axis, out=out, keepdims=keepdims)\n",
      "C:\\Users\\ChristinaKaragianni\\anaconda3\\envs\\py38\\lib\\site-packages\\numpy\\lib\\nanfunctions.py:1215: RuntimeWarning: Mean of empty slice\n",
      "  return np.nanmean(a, axis, out=out, keepdims=keepdims)\n",
      "C:\\Users\\ChristinaKaragianni\\anaconda3\\envs\\py38\\lib\\site-packages\\numpy\\lib\\nanfunctions.py:1215: RuntimeWarning: Mean of empty slice\n",
      "  return np.nanmean(a, axis, out=out, keepdims=keepdims)\n",
      "C:\\Users\\ChristinaKaragianni\\anaconda3\\envs\\py38\\lib\\site-packages\\numpy\\lib\\nanfunctions.py:1215: RuntimeWarning: Mean of empty slice\n",
      "  return np.nanmean(a, axis, out=out, keepdims=keepdims)\n",
      "C:\\Users\\ChristinaKaragianni\\anaconda3\\envs\\py38\\lib\\site-packages\\numpy\\lib\\nanfunctions.py:1215: RuntimeWarning: Mean of empty slice\n",
      "  return np.nanmean(a, axis, out=out, keepdims=keepdims)\n",
      "C:\\Users\\ChristinaKaragianni\\anaconda3\\envs\\py38\\lib\\site-packages\\numpy\\lib\\nanfunctions.py:1215: RuntimeWarning: Mean of empty slice\n",
      "  return np.nanmean(a, axis, out=out, keepdims=keepdims)\n",
      "C:\\Users\\ChristinaKaragianni\\anaconda3\\envs\\py38\\lib\\site-packages\\numpy\\lib\\nanfunctions.py:1215: RuntimeWarning: Mean of empty slice\n",
      "  return np.nanmean(a, axis, out=out, keepdims=keepdims)\n",
      "C:\\Users\\ChristinaKaragianni\\anaconda3\\envs\\py38\\lib\\site-packages\\numpy\\lib\\nanfunctions.py:1215: RuntimeWarning: Mean of empty slice\n",
      "  return np.nanmean(a, axis, out=out, keepdims=keepdims)\n",
      "C:\\Users\\ChristinaKaragianni\\anaconda3\\envs\\py38\\lib\\site-packages\\numpy\\lib\\nanfunctions.py:1215: RuntimeWarning: Mean of empty slice\n",
      "  return np.nanmean(a, axis, out=out, keepdims=keepdims)\n",
      "C:\\Users\\ChristinaKaragianni\\anaconda3\\envs\\py38\\lib\\site-packages\\numpy\\lib\\nanfunctions.py:1215: RuntimeWarning: Mean of empty slice\n",
      "  return np.nanmean(a, axis, out=out, keepdims=keepdims)\n",
      "C:\\Users\\ChristinaKaragianni\\anaconda3\\envs\\py38\\lib\\site-packages\\numpy\\lib\\nanfunctions.py:1215: RuntimeWarning: Mean of empty slice\n",
      "  return np.nanmean(a, axis, out=out, keepdims=keepdims)\n",
      "C:\\Users\\ChristinaKaragianni\\anaconda3\\envs\\py38\\lib\\site-packages\\numpy\\lib\\nanfunctions.py:1215: RuntimeWarning: Mean of empty slice\n",
      "  return np.nanmean(a, axis, out=out, keepdims=keepdims)\n",
      "C:\\Users\\ChristinaKaragianni\\anaconda3\\envs\\py38\\lib\\site-packages\\numpy\\lib\\nanfunctions.py:1215: RuntimeWarning: Mean of empty slice\n",
      "  return np.nanmean(a, axis, out=out, keepdims=keepdims)\n",
      "C:\\Users\\ChristinaKaragianni\\anaconda3\\envs\\py38\\lib\\site-packages\\numpy\\lib\\nanfunctions.py:1215: RuntimeWarning: Mean of empty slice\n",
      "  return np.nanmean(a, axis, out=out, keepdims=keepdims)\n",
      "C:\\Users\\ChristinaKaragianni\\anaconda3\\envs\\py38\\lib\\site-packages\\numpy\\lib\\nanfunctions.py:1215: RuntimeWarning: Mean of empty slice\n",
      "  return np.nanmean(a, axis, out=out, keepdims=keepdims)\n",
      "C:\\Users\\ChristinaKaragianni\\anaconda3\\envs\\py38\\lib\\site-packages\\numpy\\lib\\nanfunctions.py:1215: RuntimeWarning: Mean of empty slice\n",
      "  return np.nanmean(a, axis, out=out, keepdims=keepdims)\n",
      "C:\\Users\\ChristinaKaragianni\\anaconda3\\envs\\py38\\lib\\site-packages\\numpy\\lib\\nanfunctions.py:1215: RuntimeWarning: Mean of empty slice\n",
      "  return np.nanmean(a, axis, out=out, keepdims=keepdims)\n",
      "C:\\Users\\ChristinaKaragianni\\anaconda3\\envs\\py38\\lib\\site-packages\\numpy\\lib\\nanfunctions.py:1215: RuntimeWarning: Mean of empty slice\n",
      "  return np.nanmean(a, axis, out=out, keepdims=keepdims)\n",
      "C:\\Users\\ChristinaKaragianni\\anaconda3\\envs\\py38\\lib\\site-packages\\numpy\\lib\\nanfunctions.py:1215: RuntimeWarning: Mean of empty slice\n",
      "  return np.nanmean(a, axis, out=out, keepdims=keepdims)\n",
      "C:\\Users\\ChristinaKaragianni\\anaconda3\\envs\\py38\\lib\\site-packages\\numpy\\lib\\nanfunctions.py:1215: RuntimeWarning: Mean of empty slice\n",
      "  return np.nanmean(a, axis, out=out, keepdims=keepdims)\n",
      "C:\\Users\\ChristinaKaragianni\\anaconda3\\envs\\py38\\lib\\site-packages\\numpy\\lib\\nanfunctions.py:1215: RuntimeWarning: Mean of empty slice\n",
      "  return np.nanmean(a, axis, out=out, keepdims=keepdims)\n",
      "C:\\Users\\ChristinaKaragianni\\anaconda3\\envs\\py38\\lib\\site-packages\\numpy\\lib\\nanfunctions.py:1215: RuntimeWarning: Mean of empty slice\n",
      "  return np.nanmean(a, axis, out=out, keepdims=keepdims)\n",
      "C:\\Users\\ChristinaKaragianni\\anaconda3\\envs\\py38\\lib\\site-packages\\numpy\\lib\\nanfunctions.py:1215: RuntimeWarning: Mean of empty slice\n",
      "  return np.nanmean(a, axis, out=out, keepdims=keepdims)\n",
      "C:\\Users\\ChristinaKaragianni\\anaconda3\\envs\\py38\\lib\\site-packages\\numpy\\lib\\nanfunctions.py:1215: RuntimeWarning: Mean of empty slice\n",
      "  return np.nanmean(a, axis, out=out, keepdims=keepdims)\n",
      "C:\\Users\\ChristinaKaragianni\\anaconda3\\envs\\py38\\lib\\site-packages\\numpy\\lib\\nanfunctions.py:1215: RuntimeWarning: Mean of empty slice\n",
      "  return np.nanmean(a, axis, out=out, keepdims=keepdims)\n",
      "C:\\Users\\ChristinaKaragianni\\anaconda3\\envs\\py38\\lib\\site-packages\\numpy\\lib\\nanfunctions.py:1215: RuntimeWarning: Mean of empty slice\n",
      "  return np.nanmean(a, axis, out=out, keepdims=keepdims)\n",
      "C:\\Users\\ChristinaKaragianni\\anaconda3\\envs\\py38\\lib\\site-packages\\numpy\\lib\\nanfunctions.py:1215: RuntimeWarning: Mean of empty slice\n",
      "  return np.nanmean(a, axis, out=out, keepdims=keepdims)\n",
      "C:\\Users\\ChristinaKaragianni\\anaconda3\\envs\\py38\\lib\\site-packages\\numpy\\lib\\nanfunctions.py:1215: RuntimeWarning: Mean of empty slice\n",
      "  return np.nanmean(a, axis, out=out, keepdims=keepdims)\n",
      "C:\\Users\\ChristinaKaragianni\\anaconda3\\envs\\py38\\lib\\site-packages\\numpy\\lib\\nanfunctions.py:1215: RuntimeWarning: Mean of empty slice\n",
      "  return np.nanmean(a, axis, out=out, keepdims=keepdims)\n",
      "C:\\Users\\ChristinaKaragianni\\anaconda3\\envs\\py38\\lib\\site-packages\\numpy\\lib\\nanfunctions.py:1215: RuntimeWarning: Mean of empty slice\n",
      "  return np.nanmean(a, axis, out=out, keepdims=keepdims)\n",
      "C:\\Users\\ChristinaKaragianni\\anaconda3\\envs\\py38\\lib\\site-packages\\numpy\\lib\\nanfunctions.py:1215: RuntimeWarning: Mean of empty slice\n",
      "  return np.nanmean(a, axis, out=out, keepdims=keepdims)\n",
      "C:\\Users\\ChristinaKaragianni\\anaconda3\\envs\\py38\\lib\\site-packages\\numpy\\lib\\nanfunctions.py:1215: RuntimeWarning: Mean of empty slice\n",
      "  return np.nanmean(a, axis, out=out, keepdims=keepdims)\n",
      "C:\\Users\\ChristinaKaragianni\\anaconda3\\envs\\py38\\lib\\site-packages\\numpy\\lib\\nanfunctions.py:1215: RuntimeWarning: Mean of empty slice\n",
      "  return np.nanmean(a, axis, out=out, keepdims=keepdims)\n",
      "C:\\Users\\ChristinaKaragianni\\anaconda3\\envs\\py38\\lib\\site-packages\\numpy\\lib\\nanfunctions.py:1215: RuntimeWarning: Mean of empty slice\n",
      "  return np.nanmean(a, axis, out=out, keepdims=keepdims)\n",
      "C:\\Users\\ChristinaKaragianni\\anaconda3\\envs\\py38\\lib\\site-packages\\numpy\\lib\\nanfunctions.py:1215: RuntimeWarning: Mean of empty slice\n",
      "  return np.nanmean(a, axis, out=out, keepdims=keepdims)\n",
      "C:\\Users\\ChristinaKaragianni\\anaconda3\\envs\\py38\\lib\\site-packages\\numpy\\lib\\nanfunctions.py:1215: RuntimeWarning: Mean of empty slice\n",
      "  return np.nanmean(a, axis, out=out, keepdims=keepdims)\n",
      "C:\\Users\\ChristinaKaragianni\\anaconda3\\envs\\py38\\lib\\site-packages\\numpy\\lib\\nanfunctions.py:1215: RuntimeWarning: Mean of empty slice\n",
      "  return np.nanmean(a, axis, out=out, keepdims=keepdims)\n",
      "C:\\Users\\ChristinaKaragianni\\anaconda3\\envs\\py38\\lib\\site-packages\\numpy\\lib\\nanfunctions.py:1215: RuntimeWarning: Mean of empty slice\n",
      "  return np.nanmean(a, axis, out=out, keepdims=keepdims)\n",
      "C:\\Users\\ChristinaKaragianni\\anaconda3\\envs\\py38\\lib\\site-packages\\numpy\\lib\\nanfunctions.py:1215: RuntimeWarning: Mean of empty slice\n",
      "  return np.nanmean(a, axis, out=out, keepdims=keepdims)\n",
      "C:\\Users\\ChristinaKaragianni\\anaconda3\\envs\\py38\\lib\\site-packages\\numpy\\lib\\nanfunctions.py:1215: RuntimeWarning: Mean of empty slice\n",
      "  return np.nanmean(a, axis, out=out, keepdims=keepdims)\n",
      "C:\\Users\\ChristinaKaragianni\\anaconda3\\envs\\py38\\lib\\site-packages\\numpy\\lib\\nanfunctions.py:1215: RuntimeWarning: Mean of empty slice\n",
      "  return np.nanmean(a, axis, out=out, keepdims=keepdims)\n",
      "C:\\Users\\ChristinaKaragianni\\anaconda3\\envs\\py38\\lib\\site-packages\\numpy\\lib\\nanfunctions.py:1215: RuntimeWarning: Mean of empty slice\n",
      "  return np.nanmean(a, axis, out=out, keepdims=keepdims)\n",
      "C:\\Users\\ChristinaKaragianni\\anaconda3\\envs\\py38\\lib\\site-packages\\numpy\\lib\\nanfunctions.py:1215: RuntimeWarning: Mean of empty slice\n",
      "  return np.nanmean(a, axis, out=out, keepdims=keepdims)\n",
      "C:\\Users\\ChristinaKaragianni\\anaconda3\\envs\\py38\\lib\\site-packages\\numpy\\lib\\nanfunctions.py:1215: RuntimeWarning: Mean of empty slice\n",
      "  return np.nanmean(a, axis, out=out, keepdims=keepdims)\n",
      "C:\\Users\\ChristinaKaragianni\\anaconda3\\envs\\py38\\lib\\site-packages\\numpy\\lib\\nanfunctions.py:1215: RuntimeWarning: Mean of empty slice\n",
      "  return np.nanmean(a, axis, out=out, keepdims=keepdims)\n",
      "C:\\Users\\ChristinaKaragianni\\anaconda3\\envs\\py38\\lib\\site-packages\\numpy\\lib\\nanfunctions.py:1215: RuntimeWarning: Mean of empty slice\n",
      "  return np.nanmean(a, axis, out=out, keepdims=keepdims)\n",
      "C:\\Users\\ChristinaKaragianni\\anaconda3\\envs\\py38\\lib\\site-packages\\numpy\\lib\\nanfunctions.py:1215: RuntimeWarning: Mean of empty slice\n",
      "  return np.nanmean(a, axis, out=out, keepdims=keepdims)\n",
      "C:\\Users\\ChristinaKaragianni\\anaconda3\\envs\\py38\\lib\\site-packages\\numpy\\lib\\nanfunctions.py:1215: RuntimeWarning: Mean of empty slice\n",
      "  return np.nanmean(a, axis, out=out, keepdims=keepdims)\n",
      "C:\\Users\\ChristinaKaragianni\\anaconda3\\envs\\py38\\lib\\site-packages\\numpy\\lib\\nanfunctions.py:1215: RuntimeWarning: Mean of empty slice\n",
      "  return np.nanmean(a, axis, out=out, keepdims=keepdims)\n",
      "C:\\Users\\ChristinaKaragianni\\anaconda3\\envs\\py38\\lib\\site-packages\\numpy\\lib\\nanfunctions.py:1215: RuntimeWarning: Mean of empty slice\n",
      "  return np.nanmean(a, axis, out=out, keepdims=keepdims)\n",
      "C:\\Users\\ChristinaKaragianni\\anaconda3\\envs\\py38\\lib\\site-packages\\numpy\\lib\\nanfunctions.py:1215: RuntimeWarning: Mean of empty slice\n",
      "  return np.nanmean(a, axis, out=out, keepdims=keepdims)\n",
      "C:\\Users\\ChristinaKaragianni\\anaconda3\\envs\\py38\\lib\\site-packages\\numpy\\lib\\nanfunctions.py:1215: RuntimeWarning: Mean of empty slice\n",
      "  return np.nanmean(a, axis, out=out, keepdims=keepdims)\n",
      "C:\\Users\\ChristinaKaragianni\\anaconda3\\envs\\py38\\lib\\site-packages\\numpy\\lib\\nanfunctions.py:1215: RuntimeWarning: Mean of empty slice\n",
      "  return np.nanmean(a, axis, out=out, keepdims=keepdims)\n",
      "C:\\Users\\ChristinaKaragianni\\anaconda3\\envs\\py38\\lib\\site-packages\\numpy\\lib\\nanfunctions.py:1215: RuntimeWarning: Mean of empty slice\n",
      "  return np.nanmean(a, axis, out=out, keepdims=keepdims)\n",
      "C:\\Users\\ChristinaKaragianni\\anaconda3\\envs\\py38\\lib\\site-packages\\numpy\\lib\\nanfunctions.py:1215: RuntimeWarning: Mean of empty slice\n",
      "  return np.nanmean(a, axis, out=out, keepdims=keepdims)\n",
      "C:\\Users\\ChristinaKaragianni\\anaconda3\\envs\\py38\\lib\\site-packages\\numpy\\lib\\nanfunctions.py:1215: RuntimeWarning: Mean of empty slice\n",
      "  return np.nanmean(a, axis, out=out, keepdims=keepdims)\n",
      "C:\\Users\\ChristinaKaragianni\\anaconda3\\envs\\py38\\lib\\site-packages\\numpy\\lib\\nanfunctions.py:1215: RuntimeWarning: Mean of empty slice\n",
      "  return np.nanmean(a, axis, out=out, keepdims=keepdims)\n",
      "C:\\Users\\ChristinaKaragianni\\anaconda3\\envs\\py38\\lib\\site-packages\\numpy\\lib\\nanfunctions.py:1215: RuntimeWarning: Mean of empty slice\n",
      "  return np.nanmean(a, axis, out=out, keepdims=keepdims)\n",
      "C:\\Users\\ChristinaKaragianni\\anaconda3\\envs\\py38\\lib\\site-packages\\numpy\\lib\\nanfunctions.py:1215: RuntimeWarning: Mean of empty slice\n",
      "  return np.nanmean(a, axis, out=out, keepdims=keepdims)\n",
      "C:\\Users\\ChristinaKaragianni\\anaconda3\\envs\\py38\\lib\\site-packages\\numpy\\lib\\nanfunctions.py:1215: RuntimeWarning: Mean of empty slice\n",
      "  return np.nanmean(a, axis, out=out, keepdims=keepdims)\n",
      "C:\\Users\\ChristinaKaragianni\\anaconda3\\envs\\py38\\lib\\site-packages\\numpy\\lib\\nanfunctions.py:1215: RuntimeWarning: Mean of empty slice\n",
      "  return np.nanmean(a, axis, out=out, keepdims=keepdims)\n",
      "C:\\Users\\ChristinaKaragianni\\anaconda3\\envs\\py38\\lib\\site-packages\\numpy\\lib\\nanfunctions.py:1215: RuntimeWarning: Mean of empty slice\n",
      "  return np.nanmean(a, axis, out=out, keepdims=keepdims)\n",
      "C:\\Users\\ChristinaKaragianni\\anaconda3\\envs\\py38\\lib\\site-packages\\numpy\\lib\\nanfunctions.py:1215: RuntimeWarning: Mean of empty slice\n",
      "  return np.nanmean(a, axis, out=out, keepdims=keepdims)\n",
      "C:\\Users\\ChristinaKaragianni\\anaconda3\\envs\\py38\\lib\\site-packages\\numpy\\lib\\nanfunctions.py:1215: RuntimeWarning: Mean of empty slice\n",
      "  return np.nanmean(a, axis, out=out, keepdims=keepdims)\n",
      "C:\\Users\\ChristinaKaragianni\\anaconda3\\envs\\py38\\lib\\site-packages\\numpy\\lib\\nanfunctions.py:1215: RuntimeWarning: Mean of empty slice\n",
      "  return np.nanmean(a, axis, out=out, keepdims=keepdims)\n",
      "C:\\Users\\ChristinaKaragianni\\anaconda3\\envs\\py38\\lib\\site-packages\\numpy\\lib\\nanfunctions.py:1215: RuntimeWarning: Mean of empty slice\n",
      "  return np.nanmean(a, axis, out=out, keepdims=keepdims)\n",
      "C:\\Users\\ChristinaKaragianni\\anaconda3\\envs\\py38\\lib\\site-packages\\numpy\\lib\\nanfunctions.py:1215: RuntimeWarning: Mean of empty slice\n",
      "  return np.nanmean(a, axis, out=out, keepdims=keepdims)\n",
      "C:\\Users\\ChristinaKaragianni\\anaconda3\\envs\\py38\\lib\\site-packages\\numpy\\lib\\nanfunctions.py:1215: RuntimeWarning: Mean of empty slice\n",
      "  return np.nanmean(a, axis, out=out, keepdims=keepdims)\n",
      "C:\\Users\\ChristinaKaragianni\\anaconda3\\envs\\py38\\lib\\site-packages\\numpy\\lib\\nanfunctions.py:1215: RuntimeWarning: Mean of empty slice\n",
      "  return np.nanmean(a, axis, out=out, keepdims=keepdims)\n",
      "C:\\Users\\ChristinaKaragianni\\anaconda3\\envs\\py38\\lib\\site-packages\\numpy\\lib\\nanfunctions.py:1215: RuntimeWarning: Mean of empty slice\n",
      "  return np.nanmean(a, axis, out=out, keepdims=keepdims)\n",
      "C:\\Users\\ChristinaKaragianni\\anaconda3\\envs\\py38\\lib\\site-packages\\numpy\\lib\\nanfunctions.py:1215: RuntimeWarning: Mean of empty slice\n",
      "  return np.nanmean(a, axis, out=out, keepdims=keepdims)\n",
      "C:\\Users\\ChristinaKaragianni\\anaconda3\\envs\\py38\\lib\\site-packages\\numpy\\lib\\nanfunctions.py:1215: RuntimeWarning: Mean of empty slice\n",
      "  return np.nanmean(a, axis, out=out, keepdims=keepdims)\n",
      "C:\\Users\\ChristinaKaragianni\\anaconda3\\envs\\py38\\lib\\site-packages\\numpy\\lib\\nanfunctions.py:1215: RuntimeWarning: Mean of empty slice\n",
      "  return np.nanmean(a, axis, out=out, keepdims=keepdims)\n",
      "C:\\Users\\ChristinaKaragianni\\anaconda3\\envs\\py38\\lib\\site-packages\\numpy\\lib\\nanfunctions.py:1215: RuntimeWarning: Mean of empty slice\n",
      "  return np.nanmean(a, axis, out=out, keepdims=keepdims)\n",
      "C:\\Users\\ChristinaKaragianni\\anaconda3\\envs\\py38\\lib\\site-packages\\numpy\\lib\\nanfunctions.py:1215: RuntimeWarning: Mean of empty slice\n",
      "  return np.nanmean(a, axis, out=out, keepdims=keepdims)\n",
      "C:\\Users\\ChristinaKaragianni\\anaconda3\\envs\\py38\\lib\\site-packages\\numpy\\lib\\nanfunctions.py:1215: RuntimeWarning: Mean of empty slice\n",
      "  return np.nanmean(a, axis, out=out, keepdims=keepdims)\n",
      "C:\\Users\\ChristinaKaragianni\\anaconda3\\envs\\py38\\lib\\site-packages\\numpy\\lib\\nanfunctions.py:1215: RuntimeWarning: Mean of empty slice\n",
      "  return np.nanmean(a, axis, out=out, keepdims=keepdims)\n",
      "C:\\Users\\ChristinaKaragianni\\anaconda3\\envs\\py38\\lib\\site-packages\\numpy\\lib\\nanfunctions.py:1215: RuntimeWarning: Mean of empty slice\n",
      "  return np.nanmean(a, axis, out=out, keepdims=keepdims)\n",
      "C:\\Users\\ChristinaKaragianni\\anaconda3\\envs\\py38\\lib\\site-packages\\numpy\\lib\\nanfunctions.py:1215: RuntimeWarning: Mean of empty slice\n",
      "  return np.nanmean(a, axis, out=out, keepdims=keepdims)\n",
      "C:\\Users\\ChristinaKaragianni\\anaconda3\\envs\\py38\\lib\\site-packages\\numpy\\lib\\nanfunctions.py:1215: RuntimeWarning: Mean of empty slice\n",
      "  return np.nanmean(a, axis, out=out, keepdims=keepdims)\n",
      "C:\\Users\\ChristinaKaragianni\\anaconda3\\envs\\py38\\lib\\site-packages\\numpy\\lib\\nanfunctions.py:1215: RuntimeWarning: Mean of empty slice\n",
      "  return np.nanmean(a, axis, out=out, keepdims=keepdims)\n",
      "C:\\Users\\ChristinaKaragianni\\anaconda3\\envs\\py38\\lib\\site-packages\\numpy\\lib\\nanfunctions.py:1215: RuntimeWarning: Mean of empty slice\n",
      "  return np.nanmean(a, axis, out=out, keepdims=keepdims)\n",
      "C:\\Users\\ChristinaKaragianni\\anaconda3\\envs\\py38\\lib\\site-packages\\numpy\\lib\\nanfunctions.py:1215: RuntimeWarning: Mean of empty slice\n",
      "  return np.nanmean(a, axis, out=out, keepdims=keepdims)\n",
      "C:\\Users\\ChristinaKaragianni\\anaconda3\\envs\\py38\\lib\\site-packages\\numpy\\lib\\nanfunctions.py:1215: RuntimeWarning: Mean of empty slice\n",
      "  return np.nanmean(a, axis, out=out, keepdims=keepdims)\n",
      "C:\\Users\\ChristinaKaragianni\\anaconda3\\envs\\py38\\lib\\site-packages\\numpy\\lib\\nanfunctions.py:1215: RuntimeWarning: Mean of empty slice\n",
      "  return np.nanmean(a, axis, out=out, keepdims=keepdims)\n",
      "C:\\Users\\ChristinaKaragianni\\anaconda3\\envs\\py38\\lib\\site-packages\\numpy\\lib\\nanfunctions.py:1215: RuntimeWarning: Mean of empty slice\n",
      "  return np.nanmean(a, axis, out=out, keepdims=keepdims)\n",
      "C:\\Users\\ChristinaKaragianni\\anaconda3\\envs\\py38\\lib\\site-packages\\numpy\\lib\\nanfunctions.py:1215: RuntimeWarning: Mean of empty slice\n",
      "  return np.nanmean(a, axis, out=out, keepdims=keepdims)\n",
      "C:\\Users\\ChristinaKaragianni\\anaconda3\\envs\\py38\\lib\\site-packages\\numpy\\lib\\nanfunctions.py:1215: RuntimeWarning: Mean of empty slice\n",
      "  return np.nanmean(a, axis, out=out, keepdims=keepdims)\n",
      "C:\\Users\\ChristinaKaragianni\\anaconda3\\envs\\py38\\lib\\site-packages\\numpy\\lib\\nanfunctions.py:1215: RuntimeWarning: Mean of empty slice\n",
      "  return np.nanmean(a, axis, out=out, keepdims=keepdims)\n",
      "C:\\Users\\ChristinaKaragianni\\anaconda3\\envs\\py38\\lib\\site-packages\\numpy\\lib\\nanfunctions.py:1215: RuntimeWarning: Mean of empty slice\n",
      "  return np.nanmean(a, axis, out=out, keepdims=keepdims)\n",
      "C:\\Users\\ChristinaKaragianni\\anaconda3\\envs\\py38\\lib\\site-packages\\numpy\\lib\\nanfunctions.py:1215: RuntimeWarning: Mean of empty slice\n",
      "  return np.nanmean(a, axis, out=out, keepdims=keepdims)\n",
      "C:\\Users\\ChristinaKaragianni\\anaconda3\\envs\\py38\\lib\\site-packages\\numpy\\lib\\nanfunctions.py:1215: RuntimeWarning: Mean of empty slice\n",
      "  return np.nanmean(a, axis, out=out, keepdims=keepdims)\n",
      "C:\\Users\\ChristinaKaragianni\\anaconda3\\envs\\py38\\lib\\site-packages\\numpy\\lib\\nanfunctions.py:1215: RuntimeWarning: Mean of empty slice\n",
      "  return np.nanmean(a, axis, out=out, keepdims=keepdims)\n",
      "C:\\Users\\ChristinaKaragianni\\anaconda3\\envs\\py38\\lib\\site-packages\\numpy\\lib\\nanfunctions.py:1215: RuntimeWarning: Mean of empty slice\n",
      "  return np.nanmean(a, axis, out=out, keepdims=keepdims)\n",
      "C:\\Users\\ChristinaKaragianni\\anaconda3\\envs\\py38\\lib\\site-packages\\numpy\\lib\\nanfunctions.py:1215: RuntimeWarning: Mean of empty slice\n",
      "  return np.nanmean(a, axis, out=out, keepdims=keepdims)\n",
      "C:\\Users\\ChristinaKaragianni\\anaconda3\\envs\\py38\\lib\\site-packages\\numpy\\lib\\nanfunctions.py:1215: RuntimeWarning: Mean of empty slice\n",
      "  return np.nanmean(a, axis, out=out, keepdims=keepdims)\n",
      "C:\\Users\\ChristinaKaragianni\\anaconda3\\envs\\py38\\lib\\site-packages\\numpy\\lib\\nanfunctions.py:1215: RuntimeWarning: Mean of empty slice\n",
      "  return np.nanmean(a, axis, out=out, keepdims=keepdims)\n",
      "C:\\Users\\ChristinaKaragianni\\anaconda3\\envs\\py38\\lib\\site-packages\\numpy\\lib\\nanfunctions.py:1215: RuntimeWarning: Mean of empty slice\n",
      "  return np.nanmean(a, axis, out=out, keepdims=keepdims)\n",
      "C:\\Users\\ChristinaKaragianni\\anaconda3\\envs\\py38\\lib\\site-packages\\numpy\\lib\\nanfunctions.py:1215: RuntimeWarning: Mean of empty slice\n",
      "  return np.nanmean(a, axis, out=out, keepdims=keepdims)\n",
      "C:\\Users\\ChristinaKaragianni\\anaconda3\\envs\\py38\\lib\\site-packages\\numpy\\lib\\nanfunctions.py:1215: RuntimeWarning: Mean of empty slice\n",
      "  return np.nanmean(a, axis, out=out, keepdims=keepdims)\n",
      "C:\\Users\\ChristinaKaragianni\\anaconda3\\envs\\py38\\lib\\site-packages\\numpy\\lib\\nanfunctions.py:1215: RuntimeWarning: Mean of empty slice\n",
      "  return np.nanmean(a, axis, out=out, keepdims=keepdims)\n",
      "C:\\Users\\ChristinaKaragianni\\anaconda3\\envs\\py38\\lib\\site-packages\\numpy\\lib\\nanfunctions.py:1215: RuntimeWarning: Mean of empty slice\n",
      "  return np.nanmean(a, axis, out=out, keepdims=keepdims)\n",
      "C:\\Users\\ChristinaKaragianni\\anaconda3\\envs\\py38\\lib\\site-packages\\numpy\\lib\\nanfunctions.py:1215: RuntimeWarning: Mean of empty slice\n",
      "  return np.nanmean(a, axis, out=out, keepdims=keepdims)\n",
      "C:\\Users\\ChristinaKaragianni\\anaconda3\\envs\\py38\\lib\\site-packages\\numpy\\lib\\nanfunctions.py:1215: RuntimeWarning: Mean of empty slice\n",
      "  return np.nanmean(a, axis, out=out, keepdims=keepdims)\n",
      "C:\\Users\\ChristinaKaragianni\\anaconda3\\envs\\py38\\lib\\site-packages\\numpy\\lib\\nanfunctions.py:1215: RuntimeWarning: Mean of empty slice\n",
      "  return np.nanmean(a, axis, out=out, keepdims=keepdims)\n",
      "C:\\Users\\ChristinaKaragianni\\anaconda3\\envs\\py38\\lib\\site-packages\\numpy\\lib\\nanfunctions.py:1215: RuntimeWarning: Mean of empty slice\n",
      "  return np.nanmean(a, axis, out=out, keepdims=keepdims)\n",
      "C:\\Users\\ChristinaKaragianni\\anaconda3\\envs\\py38\\lib\\site-packages\\numpy\\lib\\nanfunctions.py:1215: RuntimeWarning: Mean of empty slice\n",
      "  return np.nanmean(a, axis, out=out, keepdims=keepdims)\n",
      "C:\\Users\\ChristinaKaragianni\\anaconda3\\envs\\py38\\lib\\site-packages\\numpy\\lib\\nanfunctions.py:1215: RuntimeWarning: Mean of empty slice\n",
      "  return np.nanmean(a, axis, out=out, keepdims=keepdims)\n",
      "C:\\Users\\ChristinaKaragianni\\anaconda3\\envs\\py38\\lib\\site-packages\\numpy\\lib\\nanfunctions.py:1215: RuntimeWarning: Mean of empty slice\n",
      "  return np.nanmean(a, axis, out=out, keepdims=keepdims)\n",
      "C:\\Users\\ChristinaKaragianni\\anaconda3\\envs\\py38\\lib\\site-packages\\numpy\\lib\\nanfunctions.py:1215: RuntimeWarning: Mean of empty slice\n",
      "  return np.nanmean(a, axis, out=out, keepdims=keepdims)\n",
      "C:\\Users\\ChristinaKaragianni\\anaconda3\\envs\\py38\\lib\\site-packages\\numpy\\lib\\nanfunctions.py:1215: RuntimeWarning: Mean of empty slice\n",
      "  return np.nanmean(a, axis, out=out, keepdims=keepdims)\n",
      "C:\\Users\\ChristinaKaragianni\\anaconda3\\envs\\py38\\lib\\site-packages\\numpy\\lib\\nanfunctions.py:1215: RuntimeWarning: Mean of empty slice\n",
      "  return np.nanmean(a, axis, out=out, keepdims=keepdims)\n",
      "C:\\Users\\ChristinaKaragianni\\anaconda3\\envs\\py38\\lib\\site-packages\\numpy\\lib\\nanfunctions.py:1215: RuntimeWarning: Mean of empty slice\n",
      "  return np.nanmean(a, axis, out=out, keepdims=keepdims)\n",
      "C:\\Users\\ChristinaKaragianni\\anaconda3\\envs\\py38\\lib\\site-packages\\numpy\\lib\\nanfunctions.py:1215: RuntimeWarning: Mean of empty slice\n",
      "  return np.nanmean(a, axis, out=out, keepdims=keepdims)\n",
      "C:\\Users\\ChristinaKaragianni\\anaconda3\\envs\\py38\\lib\\site-packages\\numpy\\lib\\nanfunctions.py:1215: RuntimeWarning: Mean of empty slice\n",
      "  return np.nanmean(a, axis, out=out, keepdims=keepdims)\n",
      "C:\\Users\\ChristinaKaragianni\\anaconda3\\envs\\py38\\lib\\site-packages\\numpy\\lib\\nanfunctions.py:1215: RuntimeWarning: Mean of empty slice\n",
      "  return np.nanmean(a, axis, out=out, keepdims=keepdims)\n",
      "C:\\Users\\ChristinaKaragianni\\anaconda3\\envs\\py38\\lib\\site-packages\\numpy\\lib\\nanfunctions.py:1215: RuntimeWarning: Mean of empty slice\n",
      "  return np.nanmean(a, axis, out=out, keepdims=keepdims)\n",
      "C:\\Users\\ChristinaKaragianni\\anaconda3\\envs\\py38\\lib\\site-packages\\numpy\\lib\\nanfunctions.py:1215: RuntimeWarning: Mean of empty slice\n",
      "  return np.nanmean(a, axis, out=out, keepdims=keepdims)\n",
      "C:\\Users\\ChristinaKaragianni\\anaconda3\\envs\\py38\\lib\\site-packages\\numpy\\lib\\nanfunctions.py:1215: RuntimeWarning: Mean of empty slice\n",
      "  return np.nanmean(a, axis, out=out, keepdims=keepdims)\n",
      "C:\\Users\\ChristinaKaragianni\\anaconda3\\envs\\py38\\lib\\site-packages\\numpy\\lib\\nanfunctions.py:1215: RuntimeWarning: Mean of empty slice\n",
      "  return np.nanmean(a, axis, out=out, keepdims=keepdims)\n",
      "C:\\Users\\ChristinaKaragianni\\anaconda3\\envs\\py38\\lib\\site-packages\\numpy\\lib\\nanfunctions.py:1215: RuntimeWarning: Mean of empty slice\n",
      "  return np.nanmean(a, axis, out=out, keepdims=keepdims)\n",
      "C:\\Users\\ChristinaKaragianni\\anaconda3\\envs\\py38\\lib\\site-packages\\numpy\\lib\\nanfunctions.py:1215: RuntimeWarning: Mean of empty slice\n",
      "  return np.nanmean(a, axis, out=out, keepdims=keepdims)\n",
      "C:\\Users\\ChristinaKaragianni\\anaconda3\\envs\\py38\\lib\\site-packages\\numpy\\lib\\nanfunctions.py:1215: RuntimeWarning: Mean of empty slice\n",
      "  return np.nanmean(a, axis, out=out, keepdims=keepdims)\n",
      "C:\\Users\\ChristinaKaragianni\\anaconda3\\envs\\py38\\lib\\site-packages\\numpy\\lib\\nanfunctions.py:1215: RuntimeWarning: Mean of empty slice\n",
      "  return np.nanmean(a, axis, out=out, keepdims=keepdims)\n",
      "C:\\Users\\ChristinaKaragianni\\anaconda3\\envs\\py38\\lib\\site-packages\\numpy\\lib\\nanfunctions.py:1215: RuntimeWarning: Mean of empty slice\n",
      "  return np.nanmean(a, axis, out=out, keepdims=keepdims)\n",
      "C:\\Users\\ChristinaKaragianni\\anaconda3\\envs\\py38\\lib\\site-packages\\numpy\\lib\\nanfunctions.py:1215: RuntimeWarning: Mean of empty slice\n",
      "  return np.nanmean(a, axis, out=out, keepdims=keepdims)\n",
      "C:\\Users\\ChristinaKaragianni\\anaconda3\\envs\\py38\\lib\\site-packages\\numpy\\lib\\nanfunctions.py:1215: RuntimeWarning: Mean of empty slice\n",
      "  return np.nanmean(a, axis, out=out, keepdims=keepdims)\n",
      "C:\\Users\\ChristinaKaragianni\\anaconda3\\envs\\py38\\lib\\site-packages\\numpy\\lib\\nanfunctions.py:1215: RuntimeWarning: Mean of empty slice\n",
      "  return np.nanmean(a, axis, out=out, keepdims=keepdims)\n",
      "C:\\Users\\ChristinaKaragianni\\anaconda3\\envs\\py38\\lib\\site-packages\\numpy\\lib\\nanfunctions.py:1215: RuntimeWarning: Mean of empty slice\n",
      "  return np.nanmean(a, axis, out=out, keepdims=keepdims)\n",
      "C:\\Users\\ChristinaKaragianni\\anaconda3\\envs\\py38\\lib\\site-packages\\numpy\\lib\\nanfunctions.py:1215: RuntimeWarning: Mean of empty slice\n",
      "  return np.nanmean(a, axis, out=out, keepdims=keepdims)\n",
      "C:\\Users\\ChristinaKaragianni\\anaconda3\\envs\\py38\\lib\\site-packages\\numpy\\lib\\nanfunctions.py:1215: RuntimeWarning: Mean of empty slice\n",
      "  return np.nanmean(a, axis, out=out, keepdims=keepdims)\n",
      "C:\\Users\\ChristinaKaragianni\\anaconda3\\envs\\py38\\lib\\site-packages\\numpy\\lib\\nanfunctions.py:1215: RuntimeWarning: Mean of empty slice\n",
      "  return np.nanmean(a, axis, out=out, keepdims=keepdims)\n",
      "C:\\Users\\ChristinaKaragianni\\anaconda3\\envs\\py38\\lib\\site-packages\\numpy\\lib\\nanfunctions.py:1215: RuntimeWarning: Mean of empty slice\n",
      "  return np.nanmean(a, axis, out=out, keepdims=keepdims)\n",
      "C:\\Users\\ChristinaKaragianni\\anaconda3\\envs\\py38\\lib\\site-packages\\numpy\\lib\\nanfunctions.py:1215: RuntimeWarning: Mean of empty slice\n",
      "  return np.nanmean(a, axis, out=out, keepdims=keepdims)\n",
      "C:\\Users\\ChristinaKaragianni\\anaconda3\\envs\\py38\\lib\\site-packages\\numpy\\lib\\nanfunctions.py:1215: RuntimeWarning: Mean of empty slice\n",
      "  return np.nanmean(a, axis, out=out, keepdims=keepdims)\n",
      "C:\\Users\\ChristinaKaragianni\\anaconda3\\envs\\py38\\lib\\site-packages\\numpy\\lib\\nanfunctions.py:1215: RuntimeWarning: Mean of empty slice\n",
      "  return np.nanmean(a, axis, out=out, keepdims=keepdims)\n",
      "C:\\Users\\ChristinaKaragianni\\anaconda3\\envs\\py38\\lib\\site-packages\\numpy\\lib\\nanfunctions.py:1215: RuntimeWarning: Mean of empty slice\n",
      "  return np.nanmean(a, axis, out=out, keepdims=keepdims)\n",
      "C:\\Users\\ChristinaKaragianni\\anaconda3\\envs\\py38\\lib\\site-packages\\numpy\\lib\\nanfunctions.py:1215: RuntimeWarning: Mean of empty slice\n",
      "  return np.nanmean(a, axis, out=out, keepdims=keepdims)\n",
      "C:\\Users\\ChristinaKaragianni\\anaconda3\\envs\\py38\\lib\\site-packages\\numpy\\lib\\nanfunctions.py:1215: RuntimeWarning: Mean of empty slice\n",
      "  return np.nanmean(a, axis, out=out, keepdims=keepdims)\n",
      "C:\\Users\\ChristinaKaragianni\\anaconda3\\envs\\py38\\lib\\site-packages\\numpy\\lib\\nanfunctions.py:1215: RuntimeWarning: Mean of empty slice\n",
      "  return np.nanmean(a, axis, out=out, keepdims=keepdims)\n",
      "C:\\Users\\ChristinaKaragianni\\anaconda3\\envs\\py38\\lib\\site-packages\\numpy\\lib\\nanfunctions.py:1215: RuntimeWarning: Mean of empty slice\n",
      "  return np.nanmean(a, axis, out=out, keepdims=keepdims)\n",
      "C:\\Users\\ChristinaKaragianni\\anaconda3\\envs\\py38\\lib\\site-packages\\numpy\\lib\\nanfunctions.py:1215: RuntimeWarning: Mean of empty slice\n",
      "  return np.nanmean(a, axis, out=out, keepdims=keepdims)\n",
      "C:\\Users\\ChristinaKaragianni\\anaconda3\\envs\\py38\\lib\\site-packages\\numpy\\lib\\nanfunctions.py:1215: RuntimeWarning: Mean of empty slice\n",
      "  return np.nanmean(a, axis, out=out, keepdims=keepdims)\n",
      "C:\\Users\\ChristinaKaragianni\\anaconda3\\envs\\py38\\lib\\site-packages\\numpy\\lib\\nanfunctions.py:1215: RuntimeWarning: Mean of empty slice\n",
      "  return np.nanmean(a, axis, out=out, keepdims=keepdims)\n",
      "C:\\Users\\ChristinaKaragianni\\anaconda3\\envs\\py38\\lib\\site-packages\\numpy\\lib\\nanfunctions.py:1215: RuntimeWarning: Mean of empty slice\n",
      "  return np.nanmean(a, axis, out=out, keepdims=keepdims)\n",
      "C:\\Users\\ChristinaKaragianni\\anaconda3\\envs\\py38\\lib\\site-packages\\numpy\\lib\\nanfunctions.py:1215: RuntimeWarning: Mean of empty slice\n",
      "  return np.nanmean(a, axis, out=out, keepdims=keepdims)\n",
      "C:\\Users\\ChristinaKaragianni\\anaconda3\\envs\\py38\\lib\\site-packages\\numpy\\lib\\nanfunctions.py:1215: RuntimeWarning: Mean of empty slice\n",
      "  return np.nanmean(a, axis, out=out, keepdims=keepdims)\n",
      "C:\\Users\\ChristinaKaragianni\\anaconda3\\envs\\py38\\lib\\site-packages\\numpy\\lib\\nanfunctions.py:1215: RuntimeWarning: Mean of empty slice\n",
      "  return np.nanmean(a, axis, out=out, keepdims=keepdims)\n",
      "C:\\Users\\ChristinaKaragianni\\anaconda3\\envs\\py38\\lib\\site-packages\\numpy\\lib\\nanfunctions.py:1215: RuntimeWarning: Mean of empty slice\n",
      "  return np.nanmean(a, axis, out=out, keepdims=keepdims)\n",
      "C:\\Users\\ChristinaKaragianni\\anaconda3\\envs\\py38\\lib\\site-packages\\numpy\\lib\\nanfunctions.py:1215: RuntimeWarning: Mean of empty slice\n",
      "  return np.nanmean(a, axis, out=out, keepdims=keepdims)\n",
      "C:\\Users\\ChristinaKaragianni\\anaconda3\\envs\\py38\\lib\\site-packages\\numpy\\lib\\nanfunctions.py:1215: RuntimeWarning: Mean of empty slice\n",
      "  return np.nanmean(a, axis, out=out, keepdims=keepdims)\n",
      "C:\\Users\\ChristinaKaragianni\\anaconda3\\envs\\py38\\lib\\site-packages\\numpy\\lib\\nanfunctions.py:1215: RuntimeWarning: Mean of empty slice\n",
      "  return np.nanmean(a, axis, out=out, keepdims=keepdims)\n",
      "C:\\Users\\ChristinaKaragianni\\anaconda3\\envs\\py38\\lib\\site-packages\\numpy\\lib\\nanfunctions.py:1215: RuntimeWarning: Mean of empty slice\n",
      "  return np.nanmean(a, axis, out=out, keepdims=keepdims)\n",
      "C:\\Users\\ChristinaKaragianni\\anaconda3\\envs\\py38\\lib\\site-packages\\numpy\\lib\\nanfunctions.py:1215: RuntimeWarning: Mean of empty slice\n",
      "  return np.nanmean(a, axis, out=out, keepdims=keepdims)\n",
      "C:\\Users\\ChristinaKaragianni\\anaconda3\\envs\\py38\\lib\\site-packages\\numpy\\lib\\nanfunctions.py:1215: RuntimeWarning: Mean of empty slice\n",
      "  return np.nanmean(a, axis, out=out, keepdims=keepdims)\n",
      "C:\\Users\\ChristinaKaragianni\\anaconda3\\envs\\py38\\lib\\site-packages\\numpy\\lib\\nanfunctions.py:1215: RuntimeWarning: Mean of empty slice\n",
      "  return np.nanmean(a, axis, out=out, keepdims=keepdims)\n",
      "C:\\Users\\ChristinaKaragianni\\anaconda3\\envs\\py38\\lib\\site-packages\\numpy\\lib\\nanfunctions.py:1215: RuntimeWarning: Mean of empty slice\n",
      "  return np.nanmean(a, axis, out=out, keepdims=keepdims)\n",
      "C:\\Users\\ChristinaKaragianni\\anaconda3\\envs\\py38\\lib\\site-packages\\numpy\\lib\\nanfunctions.py:1215: RuntimeWarning: Mean of empty slice\n",
      "  return np.nanmean(a, axis, out=out, keepdims=keepdims)\n",
      "C:\\Users\\ChristinaKaragianni\\anaconda3\\envs\\py38\\lib\\site-packages\\numpy\\lib\\nanfunctions.py:1215: RuntimeWarning: Mean of empty slice\n",
      "  return np.nanmean(a, axis, out=out, keepdims=keepdims)\n",
      "C:\\Users\\ChristinaKaragianni\\anaconda3\\envs\\py38\\lib\\site-packages\\numpy\\lib\\nanfunctions.py:1215: RuntimeWarning: Mean of empty slice\n",
      "  return np.nanmean(a, axis, out=out, keepdims=keepdims)\n",
      "C:\\Users\\ChristinaKaragianni\\anaconda3\\envs\\py38\\lib\\site-packages\\numpy\\lib\\nanfunctions.py:1215: RuntimeWarning: Mean of empty slice\n",
      "  return np.nanmean(a, axis, out=out, keepdims=keepdims)\n",
      "C:\\Users\\ChristinaKaragianni\\anaconda3\\envs\\py38\\lib\\site-packages\\numpy\\lib\\nanfunctions.py:1215: RuntimeWarning: Mean of empty slice\n",
      "  return np.nanmean(a, axis, out=out, keepdims=keepdims)\n",
      "C:\\Users\\ChristinaKaragianni\\anaconda3\\envs\\py38\\lib\\site-packages\\numpy\\lib\\nanfunctions.py:1215: RuntimeWarning: Mean of empty slice\n",
      "  return np.nanmean(a, axis, out=out, keepdims=keepdims)\n",
      "C:\\Users\\ChristinaKaragianni\\anaconda3\\envs\\py38\\lib\\site-packages\\numpy\\lib\\nanfunctions.py:1215: RuntimeWarning: Mean of empty slice\n",
      "  return np.nanmean(a, axis, out=out, keepdims=keepdims)\n",
      "C:\\Users\\ChristinaKaragianni\\anaconda3\\envs\\py38\\lib\\site-packages\\numpy\\lib\\nanfunctions.py:1215: RuntimeWarning: Mean of empty slice\n",
      "  return np.nanmean(a, axis, out=out, keepdims=keepdims)\n",
      "C:\\Users\\ChristinaKaragianni\\anaconda3\\envs\\py38\\lib\\site-packages\\numpy\\lib\\nanfunctions.py:1215: RuntimeWarning: Mean of empty slice\n",
      "  return np.nanmean(a, axis, out=out, keepdims=keepdims)\n",
      "C:\\Users\\ChristinaKaragianni\\anaconda3\\envs\\py38\\lib\\site-packages\\numpy\\lib\\nanfunctions.py:1215: RuntimeWarning: Mean of empty slice\n",
      "  return np.nanmean(a, axis, out=out, keepdims=keepdims)\n",
      "C:\\Users\\ChristinaKaragianni\\anaconda3\\envs\\py38\\lib\\site-packages\\numpy\\lib\\nanfunctions.py:1215: RuntimeWarning: Mean of empty slice\n",
      "  return np.nanmean(a, axis, out=out, keepdims=keepdims)\n",
      "C:\\Users\\ChristinaKaragianni\\anaconda3\\envs\\py38\\lib\\site-packages\\numpy\\lib\\nanfunctions.py:1215: RuntimeWarning: Mean of empty slice\n",
      "  return np.nanmean(a, axis, out=out, keepdims=keepdims)\n",
      "C:\\Users\\ChristinaKaragianni\\anaconda3\\envs\\py38\\lib\\site-packages\\numpy\\lib\\nanfunctions.py:1215: RuntimeWarning: Mean of empty slice\n",
      "  return np.nanmean(a, axis, out=out, keepdims=keepdims)\n",
      "C:\\Users\\ChristinaKaragianni\\anaconda3\\envs\\py38\\lib\\site-packages\\numpy\\lib\\nanfunctions.py:1215: RuntimeWarning: Mean of empty slice\n",
      "  return np.nanmean(a, axis, out=out, keepdims=keepdims)\n",
      "C:\\Users\\ChristinaKaragianni\\anaconda3\\envs\\py38\\lib\\site-packages\\numpy\\lib\\nanfunctions.py:1215: RuntimeWarning: Mean of empty slice\n",
      "  return np.nanmean(a, axis, out=out, keepdims=keepdims)\n",
      "C:\\Users\\ChristinaKaragianni\\anaconda3\\envs\\py38\\lib\\site-packages\\numpy\\lib\\nanfunctions.py:1215: RuntimeWarning: Mean of empty slice\n",
      "  return np.nanmean(a, axis, out=out, keepdims=keepdims)\n",
      "C:\\Users\\ChristinaKaragianni\\anaconda3\\envs\\py38\\lib\\site-packages\\numpy\\lib\\nanfunctions.py:1215: RuntimeWarning: Mean of empty slice\n",
      "  return np.nanmean(a, axis, out=out, keepdims=keepdims)\n",
      "C:\\Users\\ChristinaKaragianni\\anaconda3\\envs\\py38\\lib\\site-packages\\numpy\\lib\\nanfunctions.py:1215: RuntimeWarning: Mean of empty slice\n",
      "  return np.nanmean(a, axis, out=out, keepdims=keepdims)\n",
      "C:\\Users\\ChristinaKaragianni\\anaconda3\\envs\\py38\\lib\\site-packages\\numpy\\lib\\nanfunctions.py:1215: RuntimeWarning: Mean of empty slice\n",
      "  return np.nanmean(a, axis, out=out, keepdims=keepdims)\n",
      "C:\\Users\\ChristinaKaragianni\\anaconda3\\envs\\py38\\lib\\site-packages\\numpy\\lib\\nanfunctions.py:1215: RuntimeWarning: Mean of empty slice\n",
      "  return np.nanmean(a, axis, out=out, keepdims=keepdims)\n",
      "C:\\Users\\ChristinaKaragianni\\anaconda3\\envs\\py38\\lib\\site-packages\\numpy\\lib\\nanfunctions.py:1215: RuntimeWarning: Mean of empty slice\n",
      "  return np.nanmean(a, axis, out=out, keepdims=keepdims)\n",
      "C:\\Users\\ChristinaKaragianni\\anaconda3\\envs\\py38\\lib\\site-packages\\numpy\\lib\\nanfunctions.py:1215: RuntimeWarning: Mean of empty slice\n",
      "  return np.nanmean(a, axis, out=out, keepdims=keepdims)\n",
      "C:\\Users\\ChristinaKaragianni\\anaconda3\\envs\\py38\\lib\\site-packages\\numpy\\lib\\nanfunctions.py:1215: RuntimeWarning: Mean of empty slice\n",
      "  return np.nanmean(a, axis, out=out, keepdims=keepdims)\n",
      "C:\\Users\\ChristinaKaragianni\\anaconda3\\envs\\py38\\lib\\site-packages\\numpy\\lib\\nanfunctions.py:1215: RuntimeWarning: Mean of empty slice\n",
      "  return np.nanmean(a, axis, out=out, keepdims=keepdims)\n",
      "C:\\Users\\ChristinaKaragianni\\anaconda3\\envs\\py38\\lib\\site-packages\\numpy\\lib\\nanfunctions.py:1215: RuntimeWarning: Mean of empty slice\n",
      "  return np.nanmean(a, axis, out=out, keepdims=keepdims)\n",
      "C:\\Users\\ChristinaKaragianni\\anaconda3\\envs\\py38\\lib\\site-packages\\numpy\\lib\\nanfunctions.py:1215: RuntimeWarning: Mean of empty slice\n",
      "  return np.nanmean(a, axis, out=out, keepdims=keepdims)\n",
      "C:\\Users\\ChristinaKaragianni\\anaconda3\\envs\\py38\\lib\\site-packages\\numpy\\lib\\nanfunctions.py:1215: RuntimeWarning: Mean of empty slice\n",
      "  return np.nanmean(a, axis, out=out, keepdims=keepdims)\n",
      "C:\\Users\\ChristinaKaragianni\\anaconda3\\envs\\py38\\lib\\site-packages\\numpy\\lib\\nanfunctions.py:1215: RuntimeWarning: Mean of empty slice\n",
      "  return np.nanmean(a, axis, out=out, keepdims=keepdims)\n",
      "C:\\Users\\ChristinaKaragianni\\anaconda3\\envs\\py38\\lib\\site-packages\\numpy\\lib\\nanfunctions.py:1215: RuntimeWarning: Mean of empty slice\n",
      "  return np.nanmean(a, axis, out=out, keepdims=keepdims)\n",
      "C:\\Users\\ChristinaKaragianni\\anaconda3\\envs\\py38\\lib\\site-packages\\numpy\\lib\\nanfunctions.py:1215: RuntimeWarning: Mean of empty slice\n",
      "  return np.nanmean(a, axis, out=out, keepdims=keepdims)\n",
      "C:\\Users\\ChristinaKaragianni\\anaconda3\\envs\\py38\\lib\\site-packages\\numpy\\lib\\nanfunctions.py:1215: RuntimeWarning: Mean of empty slice\n",
      "  return np.nanmean(a, axis, out=out, keepdims=keepdims)\n",
      "C:\\Users\\ChristinaKaragianni\\anaconda3\\envs\\py38\\lib\\site-packages\\numpy\\lib\\nanfunctions.py:1215: RuntimeWarning: Mean of empty slice\n",
      "  return np.nanmean(a, axis, out=out, keepdims=keepdims)\n",
      "C:\\Users\\ChristinaKaragianni\\anaconda3\\envs\\py38\\lib\\site-packages\\numpy\\lib\\nanfunctions.py:1215: RuntimeWarning: Mean of empty slice\n",
      "  return np.nanmean(a, axis, out=out, keepdims=keepdims)\n",
      "C:\\Users\\ChristinaKaragianni\\anaconda3\\envs\\py38\\lib\\site-packages\\numpy\\lib\\nanfunctions.py:1215: RuntimeWarning: Mean of empty slice\n",
      "  return np.nanmean(a, axis, out=out, keepdims=keepdims)\n",
      "C:\\Users\\ChristinaKaragianni\\anaconda3\\envs\\py38\\lib\\site-packages\\numpy\\lib\\nanfunctions.py:1215: RuntimeWarning: Mean of empty slice\n",
      "  return np.nanmean(a, axis, out=out, keepdims=keepdims)\n",
      "C:\\Users\\ChristinaKaragianni\\anaconda3\\envs\\py38\\lib\\site-packages\\numpy\\lib\\nanfunctions.py:1215: RuntimeWarning: Mean of empty slice\n",
      "  return np.nanmean(a, axis, out=out, keepdims=keepdims)\n",
      "C:\\Users\\ChristinaKaragianni\\anaconda3\\envs\\py38\\lib\\site-packages\\numpy\\lib\\nanfunctions.py:1215: RuntimeWarning: Mean of empty slice\n",
      "  return np.nanmean(a, axis, out=out, keepdims=keepdims)\n",
      "C:\\Users\\ChristinaKaragianni\\anaconda3\\envs\\py38\\lib\\site-packages\\numpy\\lib\\nanfunctions.py:1215: RuntimeWarning: Mean of empty slice\n",
      "  return np.nanmean(a, axis, out=out, keepdims=keepdims)\n",
      "C:\\Users\\ChristinaKaragianni\\anaconda3\\envs\\py38\\lib\\site-packages\\numpy\\lib\\nanfunctions.py:1215: RuntimeWarning: Mean of empty slice\n",
      "  return np.nanmean(a, axis, out=out, keepdims=keepdims)\n",
      "C:\\Users\\ChristinaKaragianni\\anaconda3\\envs\\py38\\lib\\site-packages\\numpy\\lib\\nanfunctions.py:1215: RuntimeWarning: Mean of empty slice\n",
      "  return np.nanmean(a, axis, out=out, keepdims=keepdims)\n",
      "C:\\Users\\ChristinaKaragianni\\anaconda3\\envs\\py38\\lib\\site-packages\\numpy\\lib\\nanfunctions.py:1215: RuntimeWarning: Mean of empty slice\n",
      "  return np.nanmean(a, axis, out=out, keepdims=keepdims)\n",
      "C:\\Users\\ChristinaKaragianni\\anaconda3\\envs\\py38\\lib\\site-packages\\numpy\\lib\\nanfunctions.py:1215: RuntimeWarning: Mean of empty slice\n",
      "  return np.nanmean(a, axis, out=out, keepdims=keepdims)\n",
      "C:\\Users\\ChristinaKaragianni\\anaconda3\\envs\\py38\\lib\\site-packages\\numpy\\lib\\nanfunctions.py:1215: RuntimeWarning: Mean of empty slice\n",
      "  return np.nanmean(a, axis, out=out, keepdims=keepdims)\n",
      "C:\\Users\\ChristinaKaragianni\\anaconda3\\envs\\py38\\lib\\site-packages\\numpy\\lib\\nanfunctions.py:1215: RuntimeWarning: Mean of empty slice\n",
      "  return np.nanmean(a, axis, out=out, keepdims=keepdims)\n",
      "C:\\Users\\ChristinaKaragianni\\anaconda3\\envs\\py38\\lib\\site-packages\\numpy\\lib\\nanfunctions.py:1215: RuntimeWarning: Mean of empty slice\n",
      "  return np.nanmean(a, axis, out=out, keepdims=keepdims)\n",
      "C:\\Users\\ChristinaKaragianni\\anaconda3\\envs\\py38\\lib\\site-packages\\numpy\\lib\\nanfunctions.py:1215: RuntimeWarning: Mean of empty slice\n",
      "  return np.nanmean(a, axis, out=out, keepdims=keepdims)\n",
      "C:\\Users\\ChristinaKaragianni\\anaconda3\\envs\\py38\\lib\\site-packages\\numpy\\lib\\nanfunctions.py:1215: RuntimeWarning: Mean of empty slice\n",
      "  return np.nanmean(a, axis, out=out, keepdims=keepdims)\n",
      "C:\\Users\\ChristinaKaragianni\\anaconda3\\envs\\py38\\lib\\site-packages\\numpy\\lib\\nanfunctions.py:1215: RuntimeWarning: Mean of empty slice\n",
      "  return np.nanmean(a, axis, out=out, keepdims=keepdims)\n",
      "C:\\Users\\ChristinaKaragianni\\anaconda3\\envs\\py38\\lib\\site-packages\\numpy\\lib\\nanfunctions.py:1215: RuntimeWarning: Mean of empty slice\n",
      "  return np.nanmean(a, axis, out=out, keepdims=keepdims)\n",
      "C:\\Users\\ChristinaKaragianni\\anaconda3\\envs\\py38\\lib\\site-packages\\numpy\\lib\\nanfunctions.py:1215: RuntimeWarning: Mean of empty slice\n",
      "  return np.nanmean(a, axis, out=out, keepdims=keepdims)\n",
      "C:\\Users\\ChristinaKaragianni\\anaconda3\\envs\\py38\\lib\\site-packages\\numpy\\lib\\nanfunctions.py:1215: RuntimeWarning: Mean of empty slice\n",
      "  return np.nanmean(a, axis, out=out, keepdims=keepdims)\n",
      "C:\\Users\\ChristinaKaragianni\\anaconda3\\envs\\py38\\lib\\site-packages\\numpy\\lib\\nanfunctions.py:1215: RuntimeWarning: Mean of empty slice\n",
      "  return np.nanmean(a, axis, out=out, keepdims=keepdims)\n",
      "C:\\Users\\ChristinaKaragianni\\anaconda3\\envs\\py38\\lib\\site-packages\\numpy\\lib\\nanfunctions.py:1215: RuntimeWarning: Mean of empty slice\n",
      "  return np.nanmean(a, axis, out=out, keepdims=keepdims)\n",
      "C:\\Users\\ChristinaKaragianni\\anaconda3\\envs\\py38\\lib\\site-packages\\numpy\\lib\\nanfunctions.py:1215: RuntimeWarning: Mean of empty slice\n",
      "  return np.nanmean(a, axis, out=out, keepdims=keepdims)\n",
      "C:\\Users\\ChristinaKaragianni\\anaconda3\\envs\\py38\\lib\\site-packages\\numpy\\lib\\nanfunctions.py:1215: RuntimeWarning: Mean of empty slice\n",
      "  return np.nanmean(a, axis, out=out, keepdims=keepdims)\n",
      "C:\\Users\\ChristinaKaragianni\\anaconda3\\envs\\py38\\lib\\site-packages\\numpy\\lib\\nanfunctions.py:1215: RuntimeWarning: Mean of empty slice\n",
      "  return np.nanmean(a, axis, out=out, keepdims=keepdims)\n",
      "C:\\Users\\ChristinaKaragianni\\anaconda3\\envs\\py38\\lib\\site-packages\\numpy\\lib\\nanfunctions.py:1215: RuntimeWarning: Mean of empty slice\n",
      "  return np.nanmean(a, axis, out=out, keepdims=keepdims)\n",
      "C:\\Users\\ChristinaKaragianni\\anaconda3\\envs\\py38\\lib\\site-packages\\numpy\\lib\\nanfunctions.py:1215: RuntimeWarning: Mean of empty slice\n",
      "  return np.nanmean(a, axis, out=out, keepdims=keepdims)\n",
      "C:\\Users\\ChristinaKaragianni\\anaconda3\\envs\\py38\\lib\\site-packages\\numpy\\lib\\nanfunctions.py:1215: RuntimeWarning: Mean of empty slice\n",
      "  return np.nanmean(a, axis, out=out, keepdims=keepdims)\n",
      "C:\\Users\\ChristinaKaragianni\\anaconda3\\envs\\py38\\lib\\site-packages\\numpy\\lib\\nanfunctions.py:1215: RuntimeWarning: Mean of empty slice\n",
      "  return np.nanmean(a, axis, out=out, keepdims=keepdims)\n",
      "C:\\Users\\ChristinaKaragianni\\anaconda3\\envs\\py38\\lib\\site-packages\\numpy\\lib\\nanfunctions.py:1215: RuntimeWarning: Mean of empty slice\n",
      "  return np.nanmean(a, axis, out=out, keepdims=keepdims)\n",
      "C:\\Users\\ChristinaKaragianni\\anaconda3\\envs\\py38\\lib\\site-packages\\numpy\\lib\\nanfunctions.py:1215: RuntimeWarning: Mean of empty slice\n",
      "  return np.nanmean(a, axis, out=out, keepdims=keepdims)\n",
      "C:\\Users\\ChristinaKaragianni\\anaconda3\\envs\\py38\\lib\\site-packages\\numpy\\lib\\nanfunctions.py:1215: RuntimeWarning: Mean of empty slice\n",
      "  return np.nanmean(a, axis, out=out, keepdims=keepdims)\n",
      "C:\\Users\\ChristinaKaragianni\\anaconda3\\envs\\py38\\lib\\site-packages\\numpy\\lib\\nanfunctions.py:1215: RuntimeWarning: Mean of empty slice\n",
      "  return np.nanmean(a, axis, out=out, keepdims=keepdims)\n",
      "C:\\Users\\ChristinaKaragianni\\anaconda3\\envs\\py38\\lib\\site-packages\\numpy\\lib\\nanfunctions.py:1215: RuntimeWarning: Mean of empty slice\n",
      "  return np.nanmean(a, axis, out=out, keepdims=keepdims)\n",
      "C:\\Users\\ChristinaKaragianni\\anaconda3\\envs\\py38\\lib\\site-packages\\numpy\\lib\\nanfunctions.py:1215: RuntimeWarning: Mean of empty slice\n",
      "  return np.nanmean(a, axis, out=out, keepdims=keepdims)\n",
      "C:\\Users\\ChristinaKaragianni\\anaconda3\\envs\\py38\\lib\\site-packages\\numpy\\lib\\nanfunctions.py:1215: RuntimeWarning: Mean of empty slice\n",
      "  return np.nanmean(a, axis, out=out, keepdims=keepdims)\n",
      "C:\\Users\\ChristinaKaragianni\\anaconda3\\envs\\py38\\lib\\site-packages\\numpy\\lib\\nanfunctions.py:1215: RuntimeWarning: Mean of empty slice\n",
      "  return np.nanmean(a, axis, out=out, keepdims=keepdims)\n",
      "C:\\Users\\ChristinaKaragianni\\anaconda3\\envs\\py38\\lib\\site-packages\\numpy\\lib\\nanfunctions.py:1215: RuntimeWarning: Mean of empty slice\n",
      "  return np.nanmean(a, axis, out=out, keepdims=keepdims)\n",
      "C:\\Users\\ChristinaKaragianni\\anaconda3\\envs\\py38\\lib\\site-packages\\numpy\\lib\\nanfunctions.py:1215: RuntimeWarning: Mean of empty slice\n",
      "  return np.nanmean(a, axis, out=out, keepdims=keepdims)\n",
      "C:\\Users\\ChristinaKaragianni\\anaconda3\\envs\\py38\\lib\\site-packages\\numpy\\lib\\nanfunctions.py:1215: RuntimeWarning: Mean of empty slice\n",
      "  return np.nanmean(a, axis, out=out, keepdims=keepdims)\n",
      "C:\\Users\\ChristinaKaragianni\\anaconda3\\envs\\py38\\lib\\site-packages\\numpy\\lib\\nanfunctions.py:1215: RuntimeWarning: Mean of empty slice\n",
      "  return np.nanmean(a, axis, out=out, keepdims=keepdims)\n",
      "C:\\Users\\ChristinaKaragianni\\anaconda3\\envs\\py38\\lib\\site-packages\\numpy\\lib\\nanfunctions.py:1215: RuntimeWarning: Mean of empty slice\n",
      "  return np.nanmean(a, axis, out=out, keepdims=keepdims)\n",
      "C:\\Users\\ChristinaKaragianni\\anaconda3\\envs\\py38\\lib\\site-packages\\numpy\\lib\\nanfunctions.py:1215: RuntimeWarning: Mean of empty slice\n",
      "  return np.nanmean(a, axis, out=out, keepdims=keepdims)\n",
      "C:\\Users\\ChristinaKaragianni\\anaconda3\\envs\\py38\\lib\\site-packages\\numpy\\lib\\nanfunctions.py:1215: RuntimeWarning: Mean of empty slice\n",
      "  return np.nanmean(a, axis, out=out, keepdims=keepdims)\n",
      "C:\\Users\\ChristinaKaragianni\\anaconda3\\envs\\py38\\lib\\site-packages\\numpy\\lib\\nanfunctions.py:1215: RuntimeWarning: Mean of empty slice\n",
      "  return np.nanmean(a, axis, out=out, keepdims=keepdims)\n",
      "C:\\Users\\ChristinaKaragianni\\anaconda3\\envs\\py38\\lib\\site-packages\\numpy\\lib\\nanfunctions.py:1215: RuntimeWarning: Mean of empty slice\n",
      "  return np.nanmean(a, axis, out=out, keepdims=keepdims)\n",
      "C:\\Users\\ChristinaKaragianni\\anaconda3\\envs\\py38\\lib\\site-packages\\numpy\\lib\\nanfunctions.py:1215: RuntimeWarning: Mean of empty slice\n",
      "  return np.nanmean(a, axis, out=out, keepdims=keepdims)\n",
      "C:\\Users\\ChristinaKaragianni\\anaconda3\\envs\\py38\\lib\\site-packages\\numpy\\lib\\nanfunctions.py:1215: RuntimeWarning: Mean of empty slice\n",
      "  return np.nanmean(a, axis, out=out, keepdims=keepdims)\n",
      "C:\\Users\\ChristinaKaragianni\\anaconda3\\envs\\py38\\lib\\site-packages\\numpy\\lib\\nanfunctions.py:1215: RuntimeWarning: Mean of empty slice\n",
      "  return np.nanmean(a, axis, out=out, keepdims=keepdims)\n",
      "C:\\Users\\ChristinaKaragianni\\anaconda3\\envs\\py38\\lib\\site-packages\\numpy\\lib\\nanfunctions.py:1215: RuntimeWarning: Mean of empty slice\n",
      "  return np.nanmean(a, axis, out=out, keepdims=keepdims)\n",
      "C:\\Users\\ChristinaKaragianni\\anaconda3\\envs\\py38\\lib\\site-packages\\numpy\\lib\\nanfunctions.py:1215: RuntimeWarning: Mean of empty slice\n",
      "  return np.nanmean(a, axis, out=out, keepdims=keepdims)\n",
      "C:\\Users\\ChristinaKaragianni\\anaconda3\\envs\\py38\\lib\\site-packages\\numpy\\lib\\nanfunctions.py:1215: RuntimeWarning: Mean of empty slice\n",
      "  return np.nanmean(a, axis, out=out, keepdims=keepdims)\n",
      "C:\\Users\\ChristinaKaragianni\\anaconda3\\envs\\py38\\lib\\site-packages\\numpy\\lib\\nanfunctions.py:1215: RuntimeWarning: Mean of empty slice\n",
      "  return np.nanmean(a, axis, out=out, keepdims=keepdims)\n",
      "C:\\Users\\ChristinaKaragianni\\anaconda3\\envs\\py38\\lib\\site-packages\\numpy\\lib\\nanfunctions.py:1215: RuntimeWarning: Mean of empty slice\n",
      "  return np.nanmean(a, axis, out=out, keepdims=keepdims)\n",
      "C:\\Users\\ChristinaKaragianni\\anaconda3\\envs\\py38\\lib\\site-packages\\numpy\\lib\\nanfunctions.py:1215: RuntimeWarning: Mean of empty slice\n",
      "  return np.nanmean(a, axis, out=out, keepdims=keepdims)\n",
      "C:\\Users\\ChristinaKaragianni\\anaconda3\\envs\\py38\\lib\\site-packages\\numpy\\lib\\nanfunctions.py:1215: RuntimeWarning: Mean of empty slice\n",
      "  return np.nanmean(a, axis, out=out, keepdims=keepdims)\n",
      "C:\\Users\\ChristinaKaragianni\\anaconda3\\envs\\py38\\lib\\site-packages\\numpy\\lib\\nanfunctions.py:1215: RuntimeWarning: Mean of empty slice\n",
      "  return np.nanmean(a, axis, out=out, keepdims=keepdims)\n",
      "C:\\Users\\ChristinaKaragianni\\anaconda3\\envs\\py38\\lib\\site-packages\\numpy\\lib\\nanfunctions.py:1215: RuntimeWarning: Mean of empty slice\n",
      "  return np.nanmean(a, axis, out=out, keepdims=keepdims)\n",
      "C:\\Users\\ChristinaKaragianni\\anaconda3\\envs\\py38\\lib\\site-packages\\numpy\\lib\\nanfunctions.py:1215: RuntimeWarning: Mean of empty slice\n",
      "  return np.nanmean(a, axis, out=out, keepdims=keepdims)\n",
      "C:\\Users\\ChristinaKaragianni\\anaconda3\\envs\\py38\\lib\\site-packages\\numpy\\lib\\nanfunctions.py:1215: RuntimeWarning: Mean of empty slice\n",
      "  return np.nanmean(a, axis, out=out, keepdims=keepdims)\n",
      "C:\\Users\\ChristinaKaragianni\\anaconda3\\envs\\py38\\lib\\site-packages\\numpy\\lib\\nanfunctions.py:1215: RuntimeWarning: Mean of empty slice\n",
      "  return np.nanmean(a, axis, out=out, keepdims=keepdims)\n",
      "C:\\Users\\ChristinaKaragianni\\anaconda3\\envs\\py38\\lib\\site-packages\\numpy\\lib\\nanfunctions.py:1215: RuntimeWarning: Mean of empty slice\n",
      "  return np.nanmean(a, axis, out=out, keepdims=keepdims)\n",
      "C:\\Users\\ChristinaKaragianni\\anaconda3\\envs\\py38\\lib\\site-packages\\numpy\\lib\\nanfunctions.py:1215: RuntimeWarning: Mean of empty slice\n",
      "  return np.nanmean(a, axis, out=out, keepdims=keepdims)\n",
      "C:\\Users\\ChristinaKaragianni\\anaconda3\\envs\\py38\\lib\\site-packages\\numpy\\lib\\nanfunctions.py:1215: RuntimeWarning: Mean of empty slice\n",
      "  return np.nanmean(a, axis, out=out, keepdims=keepdims)\n",
      "C:\\Users\\ChristinaKaragianni\\anaconda3\\envs\\py38\\lib\\site-packages\\numpy\\lib\\nanfunctions.py:1215: RuntimeWarning: Mean of empty slice\n",
      "  return np.nanmean(a, axis, out=out, keepdims=keepdims)\n",
      "C:\\Users\\ChristinaKaragianni\\anaconda3\\envs\\py38\\lib\\site-packages\\numpy\\lib\\nanfunctions.py:1215: RuntimeWarning: Mean of empty slice\n",
      "  return np.nanmean(a, axis, out=out, keepdims=keepdims)\n",
      "C:\\Users\\ChristinaKaragianni\\anaconda3\\envs\\py38\\lib\\site-packages\\numpy\\lib\\nanfunctions.py:1215: RuntimeWarning: Mean of empty slice\n",
      "  return np.nanmean(a, axis, out=out, keepdims=keepdims)\n",
      "C:\\Users\\ChristinaKaragianni\\anaconda3\\envs\\py38\\lib\\site-packages\\numpy\\lib\\nanfunctions.py:1215: RuntimeWarning: Mean of empty slice\n",
      "  return np.nanmean(a, axis, out=out, keepdims=keepdims)\n",
      "C:\\Users\\ChristinaKaragianni\\anaconda3\\envs\\py38\\lib\\site-packages\\numpy\\lib\\nanfunctions.py:1215: RuntimeWarning: Mean of empty slice\n",
      "  return np.nanmean(a, axis, out=out, keepdims=keepdims)\n",
      "C:\\Users\\ChristinaKaragianni\\anaconda3\\envs\\py38\\lib\\site-packages\\numpy\\lib\\nanfunctions.py:1215: RuntimeWarning: Mean of empty slice\n",
      "  return np.nanmean(a, axis, out=out, keepdims=keepdims)\n",
      "C:\\Users\\ChristinaKaragianni\\anaconda3\\envs\\py38\\lib\\site-packages\\numpy\\lib\\nanfunctions.py:1215: RuntimeWarning: Mean of empty slice\n",
      "  return np.nanmean(a, axis, out=out, keepdims=keepdims)\n",
      "C:\\Users\\ChristinaKaragianni\\anaconda3\\envs\\py38\\lib\\site-packages\\numpy\\lib\\nanfunctions.py:1215: RuntimeWarning: Mean of empty slice\n",
      "  return np.nanmean(a, axis, out=out, keepdims=keepdims)\n",
      "C:\\Users\\ChristinaKaragianni\\anaconda3\\envs\\py38\\lib\\site-packages\\numpy\\lib\\nanfunctions.py:1215: RuntimeWarning: Mean of empty slice\n",
      "  return np.nanmean(a, axis, out=out, keepdims=keepdims)\n",
      "C:\\Users\\ChristinaKaragianni\\anaconda3\\envs\\py38\\lib\\site-packages\\numpy\\lib\\nanfunctions.py:1215: RuntimeWarning: Mean of empty slice\n",
      "  return np.nanmean(a, axis, out=out, keepdims=keepdims)\n",
      "C:\\Users\\ChristinaKaragianni\\anaconda3\\envs\\py38\\lib\\site-packages\\numpy\\lib\\nanfunctions.py:1215: RuntimeWarning: Mean of empty slice\n",
      "  return np.nanmean(a, axis, out=out, keepdims=keepdims)\n",
      "C:\\Users\\ChristinaKaragianni\\anaconda3\\envs\\py38\\lib\\site-packages\\numpy\\lib\\nanfunctions.py:1215: RuntimeWarning: Mean of empty slice\n",
      "  return np.nanmean(a, axis, out=out, keepdims=keepdims)\n",
      "C:\\Users\\ChristinaKaragianni\\anaconda3\\envs\\py38\\lib\\site-packages\\numpy\\lib\\nanfunctions.py:1215: RuntimeWarning: Mean of empty slice\n",
      "  return np.nanmean(a, axis, out=out, keepdims=keepdims)\n",
      "C:\\Users\\ChristinaKaragianni\\anaconda3\\envs\\py38\\lib\\site-packages\\numpy\\lib\\nanfunctions.py:1215: RuntimeWarning: Mean of empty slice\n",
      "  return np.nanmean(a, axis, out=out, keepdims=keepdims)\n",
      "C:\\Users\\ChristinaKaragianni\\anaconda3\\envs\\py38\\lib\\site-packages\\numpy\\lib\\nanfunctions.py:1215: RuntimeWarning: Mean of empty slice\n",
      "  return np.nanmean(a, axis, out=out, keepdims=keepdims)\n",
      "C:\\Users\\ChristinaKaragianni\\anaconda3\\envs\\py38\\lib\\site-packages\\numpy\\lib\\nanfunctions.py:1215: RuntimeWarning: Mean of empty slice\n",
      "  return np.nanmean(a, axis, out=out, keepdims=keepdims)\n",
      "C:\\Users\\ChristinaKaragianni\\anaconda3\\envs\\py38\\lib\\site-packages\\numpy\\lib\\nanfunctions.py:1215: RuntimeWarning: Mean of empty slice\n",
      "  return np.nanmean(a, axis, out=out, keepdims=keepdims)\n",
      "C:\\Users\\ChristinaKaragianni\\anaconda3\\envs\\py38\\lib\\site-packages\\numpy\\lib\\nanfunctions.py:1215: RuntimeWarning: Mean of empty slice\n",
      "  return np.nanmean(a, axis, out=out, keepdims=keepdims)\n",
      "C:\\Users\\ChristinaKaragianni\\anaconda3\\envs\\py38\\lib\\site-packages\\numpy\\lib\\nanfunctions.py:1215: RuntimeWarning: Mean of empty slice\n",
      "  return np.nanmean(a, axis, out=out, keepdims=keepdims)\n",
      "C:\\Users\\ChristinaKaragianni\\anaconda3\\envs\\py38\\lib\\site-packages\\numpy\\lib\\nanfunctions.py:1215: RuntimeWarning: Mean of empty slice\n",
      "  return np.nanmean(a, axis, out=out, keepdims=keepdims)\n",
      "C:\\Users\\ChristinaKaragianni\\anaconda3\\envs\\py38\\lib\\site-packages\\numpy\\lib\\nanfunctions.py:1215: RuntimeWarning: Mean of empty slice\n",
      "  return np.nanmean(a, axis, out=out, keepdims=keepdims)\n",
      "C:\\Users\\ChristinaKaragianni\\anaconda3\\envs\\py38\\lib\\site-packages\\numpy\\lib\\nanfunctions.py:1215: RuntimeWarning: Mean of empty slice\n",
      "  return np.nanmean(a, axis, out=out, keepdims=keepdims)\n",
      "C:\\Users\\ChristinaKaragianni\\anaconda3\\envs\\py38\\lib\\site-packages\\numpy\\lib\\nanfunctions.py:1215: RuntimeWarning: Mean of empty slice\n",
      "  return np.nanmean(a, axis, out=out, keepdims=keepdims)\n",
      "C:\\Users\\ChristinaKaragianni\\anaconda3\\envs\\py38\\lib\\site-packages\\numpy\\lib\\nanfunctions.py:1215: RuntimeWarning: Mean of empty slice\n",
      "  return np.nanmean(a, axis, out=out, keepdims=keepdims)\n",
      "C:\\Users\\ChristinaKaragianni\\anaconda3\\envs\\py38\\lib\\site-packages\\numpy\\lib\\nanfunctions.py:1215: RuntimeWarning: Mean of empty slice\n",
      "  return np.nanmean(a, axis, out=out, keepdims=keepdims)\n",
      "C:\\Users\\ChristinaKaragianni\\anaconda3\\envs\\py38\\lib\\site-packages\\numpy\\lib\\nanfunctions.py:1215: RuntimeWarning: Mean of empty slice\n",
      "  return np.nanmean(a, axis, out=out, keepdims=keepdims)\n",
      "C:\\Users\\ChristinaKaragianni\\anaconda3\\envs\\py38\\lib\\site-packages\\numpy\\lib\\nanfunctions.py:1215: RuntimeWarning: Mean of empty slice\n",
      "  return np.nanmean(a, axis, out=out, keepdims=keepdims)\n",
      "C:\\Users\\ChristinaKaragianni\\anaconda3\\envs\\py38\\lib\\site-packages\\numpy\\lib\\nanfunctions.py:1215: RuntimeWarning: Mean of empty slice\n",
      "  return np.nanmean(a, axis, out=out, keepdims=keepdims)\n",
      "C:\\Users\\ChristinaKaragianni\\anaconda3\\envs\\py38\\lib\\site-packages\\numpy\\lib\\nanfunctions.py:1215: RuntimeWarning: Mean of empty slice\n",
      "  return np.nanmean(a, axis, out=out, keepdims=keepdims)\n",
      "C:\\Users\\ChristinaKaragianni\\anaconda3\\envs\\py38\\lib\\site-packages\\numpy\\lib\\nanfunctions.py:1215: RuntimeWarning: Mean of empty slice\n",
      "  return np.nanmean(a, axis, out=out, keepdims=keepdims)\n",
      "C:\\Users\\ChristinaKaragianni\\anaconda3\\envs\\py38\\lib\\site-packages\\numpy\\lib\\nanfunctions.py:1215: RuntimeWarning: Mean of empty slice\n",
      "  return np.nanmean(a, axis, out=out, keepdims=keepdims)\n",
      "C:\\Users\\ChristinaKaragianni\\anaconda3\\envs\\py38\\lib\\site-packages\\numpy\\lib\\nanfunctions.py:1215: RuntimeWarning: Mean of empty slice\n",
      "  return np.nanmean(a, axis, out=out, keepdims=keepdims)\n",
      "C:\\Users\\ChristinaKaragianni\\anaconda3\\envs\\py38\\lib\\site-packages\\numpy\\lib\\nanfunctions.py:1215: RuntimeWarning: Mean of empty slice\n",
      "  return np.nanmean(a, axis, out=out, keepdims=keepdims)\n",
      "C:\\Users\\ChristinaKaragianni\\anaconda3\\envs\\py38\\lib\\site-packages\\numpy\\lib\\nanfunctions.py:1215: RuntimeWarning: Mean of empty slice\n",
      "  return np.nanmean(a, axis, out=out, keepdims=keepdims)\n",
      "C:\\Users\\ChristinaKaragianni\\anaconda3\\envs\\py38\\lib\\site-packages\\numpy\\lib\\nanfunctions.py:1215: RuntimeWarning: Mean of empty slice\n",
      "  return np.nanmean(a, axis, out=out, keepdims=keepdims)\n",
      "C:\\Users\\ChristinaKaragianni\\anaconda3\\envs\\py38\\lib\\site-packages\\numpy\\lib\\nanfunctions.py:1215: RuntimeWarning: Mean of empty slice\n",
      "  return np.nanmean(a, axis, out=out, keepdims=keepdims)\n",
      "C:\\Users\\ChristinaKaragianni\\anaconda3\\envs\\py38\\lib\\site-packages\\numpy\\lib\\nanfunctions.py:1215: RuntimeWarning: Mean of empty slice\n",
      "  return np.nanmean(a, axis, out=out, keepdims=keepdims)\n",
      "C:\\Users\\ChristinaKaragianni\\anaconda3\\envs\\py38\\lib\\site-packages\\numpy\\lib\\nanfunctions.py:1215: RuntimeWarning: Mean of empty slice\n",
      "  return np.nanmean(a, axis, out=out, keepdims=keepdims)\n",
      "C:\\Users\\ChristinaKaragianni\\anaconda3\\envs\\py38\\lib\\site-packages\\numpy\\lib\\nanfunctions.py:1215: RuntimeWarning: Mean of empty slice\n",
      "  return np.nanmean(a, axis, out=out, keepdims=keepdims)\n",
      "C:\\Users\\ChristinaKaragianni\\anaconda3\\envs\\py38\\lib\\site-packages\\numpy\\lib\\nanfunctions.py:1215: RuntimeWarning: Mean of empty slice\n",
      "  return np.nanmean(a, axis, out=out, keepdims=keepdims)\n",
      "C:\\Users\\ChristinaKaragianni\\anaconda3\\envs\\py38\\lib\\site-packages\\numpy\\lib\\nanfunctions.py:1215: RuntimeWarning: Mean of empty slice\n",
      "  return np.nanmean(a, axis, out=out, keepdims=keepdims)\n",
      "C:\\Users\\ChristinaKaragianni\\anaconda3\\envs\\py38\\lib\\site-packages\\numpy\\lib\\nanfunctions.py:1215: RuntimeWarning: Mean of empty slice\n",
      "  return np.nanmean(a, axis, out=out, keepdims=keepdims)\n",
      "C:\\Users\\ChristinaKaragianni\\anaconda3\\envs\\py38\\lib\\site-packages\\numpy\\lib\\nanfunctions.py:1215: RuntimeWarning: Mean of empty slice\n",
      "  return np.nanmean(a, axis, out=out, keepdims=keepdims)\n",
      "C:\\Users\\ChristinaKaragianni\\anaconda3\\envs\\py38\\lib\\site-packages\\numpy\\lib\\nanfunctions.py:1215: RuntimeWarning: Mean of empty slice\n",
      "  return np.nanmean(a, axis, out=out, keepdims=keepdims)\n",
      "C:\\Users\\ChristinaKaragianni\\anaconda3\\envs\\py38\\lib\\site-packages\\numpy\\lib\\nanfunctions.py:1215: RuntimeWarning: Mean of empty slice\n",
      "  return np.nanmean(a, axis, out=out, keepdims=keepdims)\n",
      "C:\\Users\\ChristinaKaragianni\\anaconda3\\envs\\py38\\lib\\site-packages\\numpy\\lib\\nanfunctions.py:1215: RuntimeWarning: Mean of empty slice\n",
      "  return np.nanmean(a, axis, out=out, keepdims=keepdims)\n",
      "C:\\Users\\ChristinaKaragianni\\anaconda3\\envs\\py38\\lib\\site-packages\\numpy\\lib\\nanfunctions.py:1215: RuntimeWarning: Mean of empty slice\n",
      "  return np.nanmean(a, axis, out=out, keepdims=keepdims)\n",
      "C:\\Users\\ChristinaKaragianni\\anaconda3\\envs\\py38\\lib\\site-packages\\numpy\\lib\\nanfunctions.py:1215: RuntimeWarning: Mean of empty slice\n",
      "  return np.nanmean(a, axis, out=out, keepdims=keepdims)\n",
      "C:\\Users\\ChristinaKaragianni\\anaconda3\\envs\\py38\\lib\\site-packages\\numpy\\lib\\nanfunctions.py:1215: RuntimeWarning: Mean of empty slice\n",
      "  return np.nanmean(a, axis, out=out, keepdims=keepdims)\n",
      "C:\\Users\\ChristinaKaragianni\\anaconda3\\envs\\py38\\lib\\site-packages\\numpy\\lib\\nanfunctions.py:1215: RuntimeWarning: Mean of empty slice\n",
      "  return np.nanmean(a, axis, out=out, keepdims=keepdims)\n",
      "C:\\Users\\ChristinaKaragianni\\anaconda3\\envs\\py38\\lib\\site-packages\\numpy\\lib\\nanfunctions.py:1215: RuntimeWarning: Mean of empty slice\n",
      "  return np.nanmean(a, axis, out=out, keepdims=keepdims)\n",
      "C:\\Users\\ChristinaKaragianni\\anaconda3\\envs\\py38\\lib\\site-packages\\numpy\\lib\\nanfunctions.py:1215: RuntimeWarning: Mean of empty slice\n",
      "  return np.nanmean(a, axis, out=out, keepdims=keepdims)\n",
      "C:\\Users\\ChristinaKaragianni\\anaconda3\\envs\\py38\\lib\\site-packages\\numpy\\lib\\nanfunctions.py:1215: RuntimeWarning: Mean of empty slice\n",
      "  return np.nanmean(a, axis, out=out, keepdims=keepdims)\n",
      "C:\\Users\\ChristinaKaragianni\\anaconda3\\envs\\py38\\lib\\site-packages\\numpy\\lib\\nanfunctions.py:1215: RuntimeWarning: Mean of empty slice\n",
      "  return np.nanmean(a, axis, out=out, keepdims=keepdims)\n",
      "C:\\Users\\ChristinaKaragianni\\anaconda3\\envs\\py38\\lib\\site-packages\\numpy\\lib\\nanfunctions.py:1215: RuntimeWarning: Mean of empty slice\n",
      "  return np.nanmean(a, axis, out=out, keepdims=keepdims)\n",
      "C:\\Users\\ChristinaKaragianni\\anaconda3\\envs\\py38\\lib\\site-packages\\numpy\\lib\\nanfunctions.py:1215: RuntimeWarning: Mean of empty slice\n",
      "  return np.nanmean(a, axis, out=out, keepdims=keepdims)\n",
      "C:\\Users\\ChristinaKaragianni\\anaconda3\\envs\\py38\\lib\\site-packages\\numpy\\lib\\nanfunctions.py:1215: RuntimeWarning: Mean of empty slice\n",
      "  return np.nanmean(a, axis, out=out, keepdims=keepdims)\n",
      "C:\\Users\\ChristinaKaragianni\\anaconda3\\envs\\py38\\lib\\site-packages\\numpy\\lib\\nanfunctions.py:1215: RuntimeWarning: Mean of empty slice\n",
      "  return np.nanmean(a, axis, out=out, keepdims=keepdims)\n",
      "C:\\Users\\ChristinaKaragianni\\anaconda3\\envs\\py38\\lib\\site-packages\\numpy\\lib\\nanfunctions.py:1215: RuntimeWarning: Mean of empty slice\n",
      "  return np.nanmean(a, axis, out=out, keepdims=keepdims)\n",
      "C:\\Users\\ChristinaKaragianni\\anaconda3\\envs\\py38\\lib\\site-packages\\numpy\\lib\\nanfunctions.py:1215: RuntimeWarning: Mean of empty slice\n",
      "  return np.nanmean(a, axis, out=out, keepdims=keepdims)\n",
      "C:\\Users\\ChristinaKaragianni\\anaconda3\\envs\\py38\\lib\\site-packages\\numpy\\lib\\nanfunctions.py:1215: RuntimeWarning: Mean of empty slice\n",
      "  return np.nanmean(a, axis, out=out, keepdims=keepdims)\n",
      "C:\\Users\\ChristinaKaragianni\\anaconda3\\envs\\py38\\lib\\site-packages\\numpy\\lib\\nanfunctions.py:1215: RuntimeWarning: Mean of empty slice\n",
      "  return np.nanmean(a, axis, out=out, keepdims=keepdims)\n",
      "C:\\Users\\ChristinaKaragianni\\anaconda3\\envs\\py38\\lib\\site-packages\\numpy\\lib\\nanfunctions.py:1215: RuntimeWarning: Mean of empty slice\n",
      "  return np.nanmean(a, axis, out=out, keepdims=keepdims)\n",
      "C:\\Users\\ChristinaKaragianni\\anaconda3\\envs\\py38\\lib\\site-packages\\numpy\\lib\\nanfunctions.py:1215: RuntimeWarning: Mean of empty slice\n",
      "  return np.nanmean(a, axis, out=out, keepdims=keepdims)\n",
      "C:\\Users\\ChristinaKaragianni\\anaconda3\\envs\\py38\\lib\\site-packages\\numpy\\lib\\nanfunctions.py:1215: RuntimeWarning: Mean of empty slice\n",
      "  return np.nanmean(a, axis, out=out, keepdims=keepdims)\n",
      "C:\\Users\\ChristinaKaragianni\\anaconda3\\envs\\py38\\lib\\site-packages\\numpy\\lib\\nanfunctions.py:1215: RuntimeWarning: Mean of empty slice\n",
      "  return np.nanmean(a, axis, out=out, keepdims=keepdims)\n",
      "C:\\Users\\ChristinaKaragianni\\anaconda3\\envs\\py38\\lib\\site-packages\\numpy\\lib\\nanfunctions.py:1215: RuntimeWarning: Mean of empty slice\n",
      "  return np.nanmean(a, axis, out=out, keepdims=keepdims)\n",
      "C:\\Users\\ChristinaKaragianni\\anaconda3\\envs\\py38\\lib\\site-packages\\numpy\\lib\\nanfunctions.py:1215: RuntimeWarning: Mean of empty slice\n",
      "  return np.nanmean(a, axis, out=out, keepdims=keepdims)\n",
      "C:\\Users\\ChristinaKaragianni\\anaconda3\\envs\\py38\\lib\\site-packages\\numpy\\lib\\nanfunctions.py:1215: RuntimeWarning: Mean of empty slice\n",
      "  return np.nanmean(a, axis, out=out, keepdims=keepdims)\n",
      "C:\\Users\\ChristinaKaragianni\\anaconda3\\envs\\py38\\lib\\site-packages\\numpy\\lib\\nanfunctions.py:1215: RuntimeWarning: Mean of empty slice\n",
      "  return np.nanmean(a, axis, out=out, keepdims=keepdims)\n",
      "C:\\Users\\ChristinaKaragianni\\anaconda3\\envs\\py38\\lib\\site-packages\\numpy\\lib\\nanfunctions.py:1215: RuntimeWarning: Mean of empty slice\n",
      "  return np.nanmean(a, axis, out=out, keepdims=keepdims)\n",
      "C:\\Users\\ChristinaKaragianni\\anaconda3\\envs\\py38\\lib\\site-packages\\numpy\\lib\\nanfunctions.py:1215: RuntimeWarning: Mean of empty slice\n",
      "  return np.nanmean(a, axis, out=out, keepdims=keepdims)\n",
      "C:\\Users\\ChristinaKaragianni\\anaconda3\\envs\\py38\\lib\\site-packages\\numpy\\lib\\nanfunctions.py:1215: RuntimeWarning: Mean of empty slice\n",
      "  return np.nanmean(a, axis, out=out, keepdims=keepdims)\n",
      "C:\\Users\\ChristinaKaragianni\\anaconda3\\envs\\py38\\lib\\site-packages\\numpy\\lib\\nanfunctions.py:1215: RuntimeWarning: Mean of empty slice\n",
      "  return np.nanmean(a, axis, out=out, keepdims=keepdims)\n",
      "C:\\Users\\ChristinaKaragianni\\anaconda3\\envs\\py38\\lib\\site-packages\\numpy\\lib\\nanfunctions.py:1215: RuntimeWarning: Mean of empty slice\n",
      "  return np.nanmean(a, axis, out=out, keepdims=keepdims)\n",
      "C:\\Users\\ChristinaKaragianni\\anaconda3\\envs\\py38\\lib\\site-packages\\numpy\\lib\\nanfunctions.py:1215: RuntimeWarning: Mean of empty slice\n",
      "  return np.nanmean(a, axis, out=out, keepdims=keepdims)\n",
      "C:\\Users\\ChristinaKaragianni\\anaconda3\\envs\\py38\\lib\\site-packages\\numpy\\lib\\nanfunctions.py:1215: RuntimeWarning: Mean of empty slice\n",
      "  return np.nanmean(a, axis, out=out, keepdims=keepdims)\n",
      "C:\\Users\\ChristinaKaragianni\\anaconda3\\envs\\py38\\lib\\site-packages\\numpy\\lib\\nanfunctions.py:1215: RuntimeWarning: Mean of empty slice\n",
      "  return np.nanmean(a, axis, out=out, keepdims=keepdims)\n",
      "C:\\Users\\ChristinaKaragianni\\anaconda3\\envs\\py38\\lib\\site-packages\\numpy\\lib\\nanfunctions.py:1215: RuntimeWarning: Mean of empty slice\n",
      "  return np.nanmean(a, axis, out=out, keepdims=keepdims)\n",
      "C:\\Users\\ChristinaKaragianni\\anaconda3\\envs\\py38\\lib\\site-packages\\numpy\\lib\\nanfunctions.py:1215: RuntimeWarning: Mean of empty slice\n",
      "  return np.nanmean(a, axis, out=out, keepdims=keepdims)\n",
      "C:\\Users\\ChristinaKaragianni\\anaconda3\\envs\\py38\\lib\\site-packages\\numpy\\lib\\nanfunctions.py:1215: RuntimeWarning: Mean of empty slice\n",
      "  return np.nanmean(a, axis, out=out, keepdims=keepdims)\n",
      "C:\\Users\\ChristinaKaragianni\\anaconda3\\envs\\py38\\lib\\site-packages\\numpy\\lib\\nanfunctions.py:1215: RuntimeWarning: Mean of empty slice\n",
      "  return np.nanmean(a, axis, out=out, keepdims=keepdims)\n",
      "C:\\Users\\ChristinaKaragianni\\anaconda3\\envs\\py38\\lib\\site-packages\\numpy\\lib\\nanfunctions.py:1215: RuntimeWarning: Mean of empty slice\n",
      "  return np.nanmean(a, axis, out=out, keepdims=keepdims)\n",
      "C:\\Users\\ChristinaKaragianni\\anaconda3\\envs\\py38\\lib\\site-packages\\numpy\\lib\\nanfunctions.py:1215: RuntimeWarning: Mean of empty slice\n",
      "  return np.nanmean(a, axis, out=out, keepdims=keepdims)\n",
      "C:\\Users\\ChristinaKaragianni\\anaconda3\\envs\\py38\\lib\\site-packages\\numpy\\lib\\nanfunctions.py:1215: RuntimeWarning: Mean of empty slice\n",
      "  return np.nanmean(a, axis, out=out, keepdims=keepdims)\n",
      "C:\\Users\\ChristinaKaragianni\\anaconda3\\envs\\py38\\lib\\site-packages\\numpy\\lib\\nanfunctions.py:1215: RuntimeWarning: Mean of empty slice\n",
      "  return np.nanmean(a, axis, out=out, keepdims=keepdims)\n",
      "C:\\Users\\ChristinaKaragianni\\anaconda3\\envs\\py38\\lib\\site-packages\\numpy\\lib\\nanfunctions.py:1215: RuntimeWarning: Mean of empty slice\n",
      "  return np.nanmean(a, axis, out=out, keepdims=keepdims)\n",
      "C:\\Users\\ChristinaKaragianni\\anaconda3\\envs\\py38\\lib\\site-packages\\numpy\\lib\\nanfunctions.py:1215: RuntimeWarning: Mean of empty slice\n",
      "  return np.nanmean(a, axis, out=out, keepdims=keepdims)\n",
      "C:\\Users\\ChristinaKaragianni\\anaconda3\\envs\\py38\\lib\\site-packages\\numpy\\lib\\nanfunctions.py:1215: RuntimeWarning: Mean of empty slice\n",
      "  return np.nanmean(a, axis, out=out, keepdims=keepdims)\n",
      "C:\\Users\\ChristinaKaragianni\\anaconda3\\envs\\py38\\lib\\site-packages\\numpy\\lib\\nanfunctions.py:1215: RuntimeWarning: Mean of empty slice\n",
      "  return np.nanmean(a, axis, out=out, keepdims=keepdims)\n",
      "C:\\Users\\ChristinaKaragianni\\anaconda3\\envs\\py38\\lib\\site-packages\\numpy\\lib\\nanfunctions.py:1215: RuntimeWarning: Mean of empty slice\n",
      "  return np.nanmean(a, axis, out=out, keepdims=keepdims)\n",
      "C:\\Users\\ChristinaKaragianni\\anaconda3\\envs\\py38\\lib\\site-packages\\numpy\\lib\\nanfunctions.py:1215: RuntimeWarning: Mean of empty slice\n",
      "  return np.nanmean(a, axis, out=out, keepdims=keepdims)\n",
      "C:\\Users\\ChristinaKaragianni\\anaconda3\\envs\\py38\\lib\\site-packages\\numpy\\lib\\nanfunctions.py:1215: RuntimeWarning: Mean of empty slice\n",
      "  return np.nanmean(a, axis, out=out, keepdims=keepdims)\n",
      "C:\\Users\\ChristinaKaragianni\\anaconda3\\envs\\py38\\lib\\site-packages\\numpy\\lib\\nanfunctions.py:1215: RuntimeWarning: Mean of empty slice\n",
      "  return np.nanmean(a, axis, out=out, keepdims=keepdims)\n",
      "C:\\Users\\ChristinaKaragianni\\anaconda3\\envs\\py38\\lib\\site-packages\\numpy\\lib\\nanfunctions.py:1215: RuntimeWarning: Mean of empty slice\n",
      "  return np.nanmean(a, axis, out=out, keepdims=keepdims)\n",
      "C:\\Users\\ChristinaKaragianni\\anaconda3\\envs\\py38\\lib\\site-packages\\numpy\\lib\\nanfunctions.py:1215: RuntimeWarning: Mean of empty slice\n",
      "  return np.nanmean(a, axis, out=out, keepdims=keepdims)\n",
      "C:\\Users\\ChristinaKaragianni\\anaconda3\\envs\\py38\\lib\\site-packages\\numpy\\lib\\nanfunctions.py:1215: RuntimeWarning: Mean of empty slice\n",
      "  return np.nanmean(a, axis, out=out, keepdims=keepdims)\n",
      "C:\\Users\\ChristinaKaragianni\\anaconda3\\envs\\py38\\lib\\site-packages\\numpy\\lib\\nanfunctions.py:1215: RuntimeWarning: Mean of empty slice\n",
      "  return np.nanmean(a, axis, out=out, keepdims=keepdims)\n",
      "C:\\Users\\ChristinaKaragianni\\anaconda3\\envs\\py38\\lib\\site-packages\\numpy\\lib\\nanfunctions.py:1215: RuntimeWarning: Mean of empty slice\n",
      "  return np.nanmean(a, axis, out=out, keepdims=keepdims)\n",
      "C:\\Users\\ChristinaKaragianni\\anaconda3\\envs\\py38\\lib\\site-packages\\numpy\\lib\\nanfunctions.py:1215: RuntimeWarning: Mean of empty slice\n",
      "  return np.nanmean(a, axis, out=out, keepdims=keepdims)\n",
      "C:\\Users\\ChristinaKaragianni\\anaconda3\\envs\\py38\\lib\\site-packages\\numpy\\lib\\nanfunctions.py:1215: RuntimeWarning: Mean of empty slice\n",
      "  return np.nanmean(a, axis, out=out, keepdims=keepdims)\n",
      "C:\\Users\\ChristinaKaragianni\\anaconda3\\envs\\py38\\lib\\site-packages\\numpy\\lib\\nanfunctions.py:1215: RuntimeWarning: Mean of empty slice\n",
      "  return np.nanmean(a, axis, out=out, keepdims=keepdims)\n",
      "C:\\Users\\ChristinaKaragianni\\anaconda3\\envs\\py38\\lib\\site-packages\\numpy\\lib\\nanfunctions.py:1215: RuntimeWarning: Mean of empty slice\n",
      "  return np.nanmean(a, axis, out=out, keepdims=keepdims)\n",
      "C:\\Users\\ChristinaKaragianni\\anaconda3\\envs\\py38\\lib\\site-packages\\numpy\\lib\\nanfunctions.py:1215: RuntimeWarning: Mean of empty slice\n",
      "  return np.nanmean(a, axis, out=out, keepdims=keepdims)\n",
      "C:\\Users\\ChristinaKaragianni\\anaconda3\\envs\\py38\\lib\\site-packages\\numpy\\lib\\nanfunctions.py:1215: RuntimeWarning: Mean of empty slice\n",
      "  return np.nanmean(a, axis, out=out, keepdims=keepdims)\n",
      "C:\\Users\\ChristinaKaragianni\\anaconda3\\envs\\py38\\lib\\site-packages\\numpy\\lib\\nanfunctions.py:1215: RuntimeWarning: Mean of empty slice\n",
      "  return np.nanmean(a, axis, out=out, keepdims=keepdims)\n",
      "C:\\Users\\ChristinaKaragianni\\anaconda3\\envs\\py38\\lib\\site-packages\\numpy\\lib\\nanfunctions.py:1215: RuntimeWarning: Mean of empty slice\n",
      "  return np.nanmean(a, axis, out=out, keepdims=keepdims)\n",
      "C:\\Users\\ChristinaKaragianni\\anaconda3\\envs\\py38\\lib\\site-packages\\numpy\\lib\\nanfunctions.py:1215: RuntimeWarning: Mean of empty slice\n",
      "  return np.nanmean(a, axis, out=out, keepdims=keepdims)\n",
      "C:\\Users\\ChristinaKaragianni\\anaconda3\\envs\\py38\\lib\\site-packages\\numpy\\lib\\nanfunctions.py:1215: RuntimeWarning: Mean of empty slice\n",
      "  return np.nanmean(a, axis, out=out, keepdims=keepdims)\n",
      "C:\\Users\\ChristinaKaragianni\\anaconda3\\envs\\py38\\lib\\site-packages\\numpy\\lib\\nanfunctions.py:1215: RuntimeWarning: Mean of empty slice\n",
      "  return np.nanmean(a, axis, out=out, keepdims=keepdims)\n",
      "C:\\Users\\ChristinaKaragianni\\anaconda3\\envs\\py38\\lib\\site-packages\\numpy\\lib\\nanfunctions.py:1215: RuntimeWarning: Mean of empty slice\n",
      "  return np.nanmean(a, axis, out=out, keepdims=keepdims)\n",
      "C:\\Users\\ChristinaKaragianni\\anaconda3\\envs\\py38\\lib\\site-packages\\numpy\\lib\\nanfunctions.py:1215: RuntimeWarning: Mean of empty slice\n",
      "  return np.nanmean(a, axis, out=out, keepdims=keepdims)\n",
      "C:\\Users\\ChristinaKaragianni\\anaconda3\\envs\\py38\\lib\\site-packages\\numpy\\lib\\nanfunctions.py:1215: RuntimeWarning: Mean of empty slice\n",
      "  return np.nanmean(a, axis, out=out, keepdims=keepdims)\n",
      "C:\\Users\\ChristinaKaragianni\\anaconda3\\envs\\py38\\lib\\site-packages\\numpy\\lib\\nanfunctions.py:1215: RuntimeWarning: Mean of empty slice\n",
      "  return np.nanmean(a, axis, out=out, keepdims=keepdims)\n",
      "C:\\Users\\ChristinaKaragianni\\anaconda3\\envs\\py38\\lib\\site-packages\\numpy\\lib\\nanfunctions.py:1215: RuntimeWarning: Mean of empty slice\n",
      "  return np.nanmean(a, axis, out=out, keepdims=keepdims)\n",
      "C:\\Users\\ChristinaKaragianni\\anaconda3\\envs\\py38\\lib\\site-packages\\numpy\\lib\\nanfunctions.py:1215: RuntimeWarning: Mean of empty slice\n",
      "  return np.nanmean(a, axis, out=out, keepdims=keepdims)\n",
      "C:\\Users\\ChristinaKaragianni\\anaconda3\\envs\\py38\\lib\\site-packages\\numpy\\lib\\nanfunctions.py:1215: RuntimeWarning: Mean of empty slice\n",
      "  return np.nanmean(a, axis, out=out, keepdims=keepdims)\n",
      "C:\\Users\\ChristinaKaragianni\\anaconda3\\envs\\py38\\lib\\site-packages\\numpy\\lib\\nanfunctions.py:1215: RuntimeWarning: Mean of empty slice\n",
      "  return np.nanmean(a, axis, out=out, keepdims=keepdims)\n",
      "C:\\Users\\ChristinaKaragianni\\anaconda3\\envs\\py38\\lib\\site-packages\\numpy\\lib\\nanfunctions.py:1215: RuntimeWarning: Mean of empty slice\n",
      "  return np.nanmean(a, axis, out=out, keepdims=keepdims)\n",
      "C:\\Users\\ChristinaKaragianni\\anaconda3\\envs\\py38\\lib\\site-packages\\numpy\\lib\\nanfunctions.py:1215: RuntimeWarning: Mean of empty slice\n",
      "  return np.nanmean(a, axis, out=out, keepdims=keepdims)\n",
      "C:\\Users\\ChristinaKaragianni\\anaconda3\\envs\\py38\\lib\\site-packages\\numpy\\lib\\nanfunctions.py:1215: RuntimeWarning: Mean of empty slice\n",
      "  return np.nanmean(a, axis, out=out, keepdims=keepdims)\n",
      "C:\\Users\\ChristinaKaragianni\\anaconda3\\envs\\py38\\lib\\site-packages\\numpy\\lib\\nanfunctions.py:1215: RuntimeWarning: Mean of empty slice\n",
      "  return np.nanmean(a, axis, out=out, keepdims=keepdims)\n",
      "C:\\Users\\ChristinaKaragianni\\anaconda3\\envs\\py38\\lib\\site-packages\\numpy\\lib\\nanfunctions.py:1215: RuntimeWarning: Mean of empty slice\n",
      "  return np.nanmean(a, axis, out=out, keepdims=keepdims)\n",
      "C:\\Users\\ChristinaKaragianni\\anaconda3\\envs\\py38\\lib\\site-packages\\numpy\\lib\\nanfunctions.py:1215: RuntimeWarning: Mean of empty slice\n",
      "  return np.nanmean(a, axis, out=out, keepdims=keepdims)\n",
      "C:\\Users\\ChristinaKaragianni\\anaconda3\\envs\\py38\\lib\\site-packages\\numpy\\lib\\nanfunctions.py:1215: RuntimeWarning: Mean of empty slice\n",
      "  return np.nanmean(a, axis, out=out, keepdims=keepdims)\n",
      "C:\\Users\\ChristinaKaragianni\\anaconda3\\envs\\py38\\lib\\site-packages\\numpy\\lib\\nanfunctions.py:1215: RuntimeWarning: Mean of empty slice\n",
      "  return np.nanmean(a, axis, out=out, keepdims=keepdims)\n",
      "C:\\Users\\ChristinaKaragianni\\anaconda3\\envs\\py38\\lib\\site-packages\\numpy\\lib\\nanfunctions.py:1215: RuntimeWarning: Mean of empty slice\n",
      "  return np.nanmean(a, axis, out=out, keepdims=keepdims)\n",
      "C:\\Users\\ChristinaKaragianni\\anaconda3\\envs\\py38\\lib\\site-packages\\numpy\\lib\\nanfunctions.py:1215: RuntimeWarning: Mean of empty slice\n",
      "  return np.nanmean(a, axis, out=out, keepdims=keepdims)\n",
      "C:\\Users\\ChristinaKaragianni\\anaconda3\\envs\\py38\\lib\\site-packages\\numpy\\lib\\nanfunctions.py:1215: RuntimeWarning: Mean of empty slice\n",
      "  return np.nanmean(a, axis, out=out, keepdims=keepdims)\n",
      "C:\\Users\\ChristinaKaragianni\\anaconda3\\envs\\py38\\lib\\site-packages\\numpy\\lib\\nanfunctions.py:1215: RuntimeWarning: Mean of empty slice\n",
      "  return np.nanmean(a, axis, out=out, keepdims=keepdims)\n",
      "C:\\Users\\ChristinaKaragianni\\anaconda3\\envs\\py38\\lib\\site-packages\\numpy\\lib\\nanfunctions.py:1215: RuntimeWarning: Mean of empty slice\n",
      "  return np.nanmean(a, axis, out=out, keepdims=keepdims)\n",
      "C:\\Users\\ChristinaKaragianni\\anaconda3\\envs\\py38\\lib\\site-packages\\numpy\\lib\\nanfunctions.py:1215: RuntimeWarning: Mean of empty slice\n",
      "  return np.nanmean(a, axis, out=out, keepdims=keepdims)\n",
      "C:\\Users\\ChristinaKaragianni\\anaconda3\\envs\\py38\\lib\\site-packages\\numpy\\lib\\nanfunctions.py:1215: RuntimeWarning: Mean of empty slice\n",
      "  return np.nanmean(a, axis, out=out, keepdims=keepdims)\n",
      "C:\\Users\\ChristinaKaragianni\\anaconda3\\envs\\py38\\lib\\site-packages\\numpy\\lib\\nanfunctions.py:1215: RuntimeWarning: Mean of empty slice\n",
      "  return np.nanmean(a, axis, out=out, keepdims=keepdims)\n",
      "C:\\Users\\ChristinaKaragianni\\anaconda3\\envs\\py38\\lib\\site-packages\\numpy\\lib\\nanfunctions.py:1215: RuntimeWarning: Mean of empty slice\n",
      "  return np.nanmean(a, axis, out=out, keepdims=keepdims)\n",
      "C:\\Users\\ChristinaKaragianni\\anaconda3\\envs\\py38\\lib\\site-packages\\numpy\\lib\\nanfunctions.py:1215: RuntimeWarning: Mean of empty slice\n",
      "  return np.nanmean(a, axis, out=out, keepdims=keepdims)\n",
      "C:\\Users\\ChristinaKaragianni\\anaconda3\\envs\\py38\\lib\\site-packages\\numpy\\lib\\nanfunctions.py:1215: RuntimeWarning: Mean of empty slice\n",
      "  return np.nanmean(a, axis, out=out, keepdims=keepdims)\n",
      "C:\\Users\\ChristinaKaragianni\\anaconda3\\envs\\py38\\lib\\site-packages\\numpy\\lib\\nanfunctions.py:1215: RuntimeWarning: Mean of empty slice\n",
      "  return np.nanmean(a, axis, out=out, keepdims=keepdims)\n",
      "C:\\Users\\ChristinaKaragianni\\anaconda3\\envs\\py38\\lib\\site-packages\\numpy\\lib\\nanfunctions.py:1215: RuntimeWarning: Mean of empty slice\n",
      "  return np.nanmean(a, axis, out=out, keepdims=keepdims)\n",
      "C:\\Users\\ChristinaKaragianni\\anaconda3\\envs\\py38\\lib\\site-packages\\numpy\\lib\\nanfunctions.py:1215: RuntimeWarning: Mean of empty slice\n",
      "  return np.nanmean(a, axis, out=out, keepdims=keepdims)\n",
      "C:\\Users\\ChristinaKaragianni\\anaconda3\\envs\\py38\\lib\\site-packages\\numpy\\lib\\nanfunctions.py:1215: RuntimeWarning: Mean of empty slice\n",
      "  return np.nanmean(a, axis, out=out, keepdims=keepdims)\n",
      "C:\\Users\\ChristinaKaragianni\\anaconda3\\envs\\py38\\lib\\site-packages\\numpy\\lib\\nanfunctions.py:1215: RuntimeWarning: Mean of empty slice\n",
      "  return np.nanmean(a, axis, out=out, keepdims=keepdims)\n",
      "C:\\Users\\ChristinaKaragianni\\anaconda3\\envs\\py38\\lib\\site-packages\\numpy\\lib\\nanfunctions.py:1215: RuntimeWarning: Mean of empty slice\n",
      "  return np.nanmean(a, axis, out=out, keepdims=keepdims)\n",
      "C:\\Users\\ChristinaKaragianni\\anaconda3\\envs\\py38\\lib\\site-packages\\numpy\\lib\\nanfunctions.py:1215: RuntimeWarning: Mean of empty slice\n",
      "  return np.nanmean(a, axis, out=out, keepdims=keepdims)\n",
      "C:\\Users\\ChristinaKaragianni\\anaconda3\\envs\\py38\\lib\\site-packages\\numpy\\lib\\nanfunctions.py:1215: RuntimeWarning: Mean of empty slice\n",
      "  return np.nanmean(a, axis, out=out, keepdims=keepdims)\n",
      "C:\\Users\\ChristinaKaragianni\\anaconda3\\envs\\py38\\lib\\site-packages\\numpy\\lib\\nanfunctions.py:1215: RuntimeWarning: Mean of empty slice\n",
      "  return np.nanmean(a, axis, out=out, keepdims=keepdims)\n",
      "C:\\Users\\ChristinaKaragianni\\anaconda3\\envs\\py38\\lib\\site-packages\\numpy\\lib\\nanfunctions.py:1215: RuntimeWarning: Mean of empty slice\n",
      "  return np.nanmean(a, axis, out=out, keepdims=keepdims)\n",
      "C:\\Users\\ChristinaKaragianni\\anaconda3\\envs\\py38\\lib\\site-packages\\numpy\\lib\\nanfunctions.py:1215: RuntimeWarning: Mean of empty slice\n",
      "  return np.nanmean(a, axis, out=out, keepdims=keepdims)\n",
      "C:\\Users\\ChristinaKaragianni\\anaconda3\\envs\\py38\\lib\\site-packages\\numpy\\lib\\nanfunctions.py:1215: RuntimeWarning: Mean of empty slice\n",
      "  return np.nanmean(a, axis, out=out, keepdims=keepdims)\n",
      "C:\\Users\\ChristinaKaragianni\\anaconda3\\envs\\py38\\lib\\site-packages\\numpy\\lib\\nanfunctions.py:1215: RuntimeWarning: Mean of empty slice\n",
      "  return np.nanmean(a, axis, out=out, keepdims=keepdims)\n",
      "C:\\Users\\ChristinaKaragianni\\anaconda3\\envs\\py38\\lib\\site-packages\\numpy\\lib\\nanfunctions.py:1215: RuntimeWarning: Mean of empty slice\n",
      "  return np.nanmean(a, axis, out=out, keepdims=keepdims)\n",
      "C:\\Users\\ChristinaKaragianni\\anaconda3\\envs\\py38\\lib\\site-packages\\numpy\\lib\\nanfunctions.py:1215: RuntimeWarning: Mean of empty slice\n",
      "  return np.nanmean(a, axis, out=out, keepdims=keepdims)\n",
      "C:\\Users\\ChristinaKaragianni\\anaconda3\\envs\\py38\\lib\\site-packages\\numpy\\lib\\nanfunctions.py:1215: RuntimeWarning: Mean of empty slice\n",
      "  return np.nanmean(a, axis, out=out, keepdims=keepdims)\n",
      "C:\\Users\\ChristinaKaragianni\\anaconda3\\envs\\py38\\lib\\site-packages\\numpy\\lib\\nanfunctions.py:1215: RuntimeWarning: Mean of empty slice\n",
      "  return np.nanmean(a, axis, out=out, keepdims=keepdims)\n",
      "C:\\Users\\ChristinaKaragianni\\anaconda3\\envs\\py38\\lib\\site-packages\\numpy\\lib\\nanfunctions.py:1215: RuntimeWarning: Mean of empty slice\n",
      "  return np.nanmean(a, axis, out=out, keepdims=keepdims)\n",
      "C:\\Users\\ChristinaKaragianni\\anaconda3\\envs\\py38\\lib\\site-packages\\numpy\\lib\\nanfunctions.py:1215: RuntimeWarning: Mean of empty slice\n",
      "  return np.nanmean(a, axis, out=out, keepdims=keepdims)\n",
      "C:\\Users\\ChristinaKaragianni\\anaconda3\\envs\\py38\\lib\\site-packages\\numpy\\lib\\nanfunctions.py:1215: RuntimeWarning: Mean of empty slice\n",
      "  return np.nanmean(a, axis, out=out, keepdims=keepdims)\n",
      "C:\\Users\\ChristinaKaragianni\\anaconda3\\envs\\py38\\lib\\site-packages\\numpy\\lib\\nanfunctions.py:1215: RuntimeWarning: Mean of empty slice\n",
      "  return np.nanmean(a, axis, out=out, keepdims=keepdims)\n",
      "C:\\Users\\ChristinaKaragianni\\anaconda3\\envs\\py38\\lib\\site-packages\\numpy\\lib\\nanfunctions.py:1215: RuntimeWarning: Mean of empty slice\n",
      "  return np.nanmean(a, axis, out=out, keepdims=keepdims)\n",
      "C:\\Users\\ChristinaKaragianni\\anaconda3\\envs\\py38\\lib\\site-packages\\numpy\\lib\\nanfunctions.py:1215: RuntimeWarning: Mean of empty slice\n",
      "  return np.nanmean(a, axis, out=out, keepdims=keepdims)\n",
      "C:\\Users\\ChristinaKaragianni\\anaconda3\\envs\\py38\\lib\\site-packages\\numpy\\lib\\nanfunctions.py:1215: RuntimeWarning: Mean of empty slice\n",
      "  return np.nanmean(a, axis, out=out, keepdims=keepdims)\n",
      "C:\\Users\\ChristinaKaragianni\\anaconda3\\envs\\py38\\lib\\site-packages\\numpy\\lib\\nanfunctions.py:1215: RuntimeWarning: Mean of empty slice\n",
      "  return np.nanmean(a, axis, out=out, keepdims=keepdims)\n",
      "C:\\Users\\ChristinaKaragianni\\anaconda3\\envs\\py38\\lib\\site-packages\\numpy\\lib\\nanfunctions.py:1215: RuntimeWarning: Mean of empty slice\n",
      "  return np.nanmean(a, axis, out=out, keepdims=keepdims)\n",
      "C:\\Users\\ChristinaKaragianni\\anaconda3\\envs\\py38\\lib\\site-packages\\numpy\\lib\\nanfunctions.py:1215: RuntimeWarning: Mean of empty slice\n",
      "  return np.nanmean(a, axis, out=out, keepdims=keepdims)\n",
      "C:\\Users\\ChristinaKaragianni\\anaconda3\\envs\\py38\\lib\\site-packages\\numpy\\lib\\nanfunctions.py:1215: RuntimeWarning: Mean of empty slice\n",
      "  return np.nanmean(a, axis, out=out, keepdims=keepdims)\n",
      "C:\\Users\\ChristinaKaragianni\\anaconda3\\envs\\py38\\lib\\site-packages\\numpy\\lib\\nanfunctions.py:1215: RuntimeWarning: Mean of empty slice\n",
      "  return np.nanmean(a, axis, out=out, keepdims=keepdims)\n",
      "C:\\Users\\ChristinaKaragianni\\anaconda3\\envs\\py38\\lib\\site-packages\\numpy\\lib\\nanfunctions.py:1215: RuntimeWarning: Mean of empty slice\n",
      "  return np.nanmean(a, axis, out=out, keepdims=keepdims)\n",
      "C:\\Users\\ChristinaKaragianni\\anaconda3\\envs\\py38\\lib\\site-packages\\numpy\\lib\\nanfunctions.py:1215: RuntimeWarning: Mean of empty slice\n",
      "  return np.nanmean(a, axis, out=out, keepdims=keepdims)\n",
      "C:\\Users\\ChristinaKaragianni\\anaconda3\\envs\\py38\\lib\\site-packages\\numpy\\lib\\nanfunctions.py:1215: RuntimeWarning: Mean of empty slice\n",
      "  return np.nanmean(a, axis, out=out, keepdims=keepdims)\n",
      "C:\\Users\\ChristinaKaragianni\\anaconda3\\envs\\py38\\lib\\site-packages\\numpy\\lib\\nanfunctions.py:1215: RuntimeWarning: Mean of empty slice\n",
      "  return np.nanmean(a, axis, out=out, keepdims=keepdims)\n",
      "C:\\Users\\ChristinaKaragianni\\anaconda3\\envs\\py38\\lib\\site-packages\\numpy\\lib\\nanfunctions.py:1215: RuntimeWarning: Mean of empty slice\n",
      "  return np.nanmean(a, axis, out=out, keepdims=keepdims)\n",
      "C:\\Users\\ChristinaKaragianni\\anaconda3\\envs\\py38\\lib\\site-packages\\numpy\\lib\\nanfunctions.py:1215: RuntimeWarning: Mean of empty slice\n",
      "  return np.nanmean(a, axis, out=out, keepdims=keepdims)\n",
      "C:\\Users\\ChristinaKaragianni\\anaconda3\\envs\\py38\\lib\\site-packages\\numpy\\lib\\nanfunctions.py:1215: RuntimeWarning: Mean of empty slice\n",
      "  return np.nanmean(a, axis, out=out, keepdims=keepdims)\n",
      "C:\\Users\\ChristinaKaragianni\\anaconda3\\envs\\py38\\lib\\site-packages\\numpy\\lib\\nanfunctions.py:1215: RuntimeWarning: Mean of empty slice\n",
      "  return np.nanmean(a, axis, out=out, keepdims=keepdims)\n",
      "C:\\Users\\ChristinaKaragianni\\anaconda3\\envs\\py38\\lib\\site-packages\\numpy\\lib\\nanfunctions.py:1215: RuntimeWarning: Mean of empty slice\n",
      "  return np.nanmean(a, axis, out=out, keepdims=keepdims)\n",
      "C:\\Users\\ChristinaKaragianni\\anaconda3\\envs\\py38\\lib\\site-packages\\numpy\\lib\\nanfunctions.py:1215: RuntimeWarning: Mean of empty slice\n",
      "  return np.nanmean(a, axis, out=out, keepdims=keepdims)\n",
      "C:\\Users\\ChristinaKaragianni\\anaconda3\\envs\\py38\\lib\\site-packages\\numpy\\lib\\nanfunctions.py:1215: RuntimeWarning: Mean of empty slice\n",
      "  return np.nanmean(a, axis, out=out, keepdims=keepdims)\n",
      "C:\\Users\\ChristinaKaragianni\\anaconda3\\envs\\py38\\lib\\site-packages\\numpy\\lib\\nanfunctions.py:1215: RuntimeWarning: Mean of empty slice\n",
      "  return np.nanmean(a, axis, out=out, keepdims=keepdims)\n",
      "C:\\Users\\ChristinaKaragianni\\anaconda3\\envs\\py38\\lib\\site-packages\\numpy\\lib\\nanfunctions.py:1215: RuntimeWarning: Mean of empty slice\n",
      "  return np.nanmean(a, axis, out=out, keepdims=keepdims)\n",
      "C:\\Users\\ChristinaKaragianni\\anaconda3\\envs\\py38\\lib\\site-packages\\numpy\\lib\\nanfunctions.py:1215: RuntimeWarning: Mean of empty slice\n",
      "  return np.nanmean(a, axis, out=out, keepdims=keepdims)\n",
      "C:\\Users\\ChristinaKaragianni\\anaconda3\\envs\\py38\\lib\\site-packages\\numpy\\lib\\nanfunctions.py:1215: RuntimeWarning: Mean of empty slice\n",
      "  return np.nanmean(a, axis, out=out, keepdims=keepdims)\n",
      "C:\\Users\\ChristinaKaragianni\\anaconda3\\envs\\py38\\lib\\site-packages\\numpy\\lib\\nanfunctions.py:1215: RuntimeWarning: Mean of empty slice\n",
      "  return np.nanmean(a, axis, out=out, keepdims=keepdims)\n",
      "C:\\Users\\ChristinaKaragianni\\anaconda3\\envs\\py38\\lib\\site-packages\\numpy\\lib\\nanfunctions.py:1215: RuntimeWarning: Mean of empty slice\n",
      "  return np.nanmean(a, axis, out=out, keepdims=keepdims)\n",
      "C:\\Users\\ChristinaKaragianni\\anaconda3\\envs\\py38\\lib\\site-packages\\numpy\\lib\\nanfunctions.py:1215: RuntimeWarning: Mean of empty slice\n",
      "  return np.nanmean(a, axis, out=out, keepdims=keepdims)\n",
      "C:\\Users\\ChristinaKaragianni\\anaconda3\\envs\\py38\\lib\\site-packages\\numpy\\lib\\nanfunctions.py:1215: RuntimeWarning: Mean of empty slice\n",
      "  return np.nanmean(a, axis, out=out, keepdims=keepdims)\n",
      "C:\\Users\\ChristinaKaragianni\\anaconda3\\envs\\py38\\lib\\site-packages\\numpy\\lib\\nanfunctions.py:1215: RuntimeWarning: Mean of empty slice\n",
      "  return np.nanmean(a, axis, out=out, keepdims=keepdims)\n",
      "C:\\Users\\ChristinaKaragianni\\anaconda3\\envs\\py38\\lib\\site-packages\\numpy\\lib\\nanfunctions.py:1215: RuntimeWarning: Mean of empty slice\n",
      "  return np.nanmean(a, axis, out=out, keepdims=keepdims)\n",
      "C:\\Users\\ChristinaKaragianni\\anaconda3\\envs\\py38\\lib\\site-packages\\numpy\\lib\\nanfunctions.py:1215: RuntimeWarning: Mean of empty slice\n",
      "  return np.nanmean(a, axis, out=out, keepdims=keepdims)\n",
      "C:\\Users\\ChristinaKaragianni\\anaconda3\\envs\\py38\\lib\\site-packages\\numpy\\lib\\nanfunctions.py:1215: RuntimeWarning: Mean of empty slice\n",
      "  return np.nanmean(a, axis, out=out, keepdims=keepdims)\n",
      "C:\\Users\\ChristinaKaragianni\\anaconda3\\envs\\py38\\lib\\site-packages\\numpy\\lib\\nanfunctions.py:1215: RuntimeWarning: Mean of empty slice\n",
      "  return np.nanmean(a, axis, out=out, keepdims=keepdims)\n",
      "C:\\Users\\ChristinaKaragianni\\anaconda3\\envs\\py38\\lib\\site-packages\\numpy\\lib\\nanfunctions.py:1215: RuntimeWarning: Mean of empty slice\n",
      "  return np.nanmean(a, axis, out=out, keepdims=keepdims)\n",
      "C:\\Users\\ChristinaKaragianni\\anaconda3\\envs\\py38\\lib\\site-packages\\numpy\\lib\\nanfunctions.py:1215: RuntimeWarning: Mean of empty slice\n",
      "  return np.nanmean(a, axis, out=out, keepdims=keepdims)\n",
      "C:\\Users\\ChristinaKaragianni\\anaconda3\\envs\\py38\\lib\\site-packages\\numpy\\lib\\nanfunctions.py:1215: RuntimeWarning: Mean of empty slice\n",
      "  return np.nanmean(a, axis, out=out, keepdims=keepdims)\n",
      "C:\\Users\\ChristinaKaragianni\\anaconda3\\envs\\py38\\lib\\site-packages\\numpy\\lib\\nanfunctions.py:1215: RuntimeWarning: Mean of empty slice\n",
      "  return np.nanmean(a, axis, out=out, keepdims=keepdims)\n"
     ]
    },
    {
     "data": {
      "text/plain": "                            id        date  nightly_temperature   nremhr  \\\n0     621e332267b776a24092a584  2021-05-24            34.036874  57.4370   \n1     621e30e467b776a240e817c7  2021-05-24            33.274919  52.5365   \n2     621e367e67b776a24087d75d  2021-05-24            33.019585  62.9565   \n3     621e360b67b776a24039709f  2021-05-24            34.175203  68.3210   \n4     621e2f6167b776a240e082a9  2021-05-24            34.892637  62.5580   \n...                        ...         ...                  ...      ...   \n4904  621e300767b776a2404dc717  2022-01-17            33.186399  62.3900   \n4905  621e309b67b776a240b532b0  2022-01-17            31.815133  62.3900   \n4906  621e342e67b776a2404ce460  2022-01-17            33.864390  51.0640   \n4907  621e309267b776a240ae1cdb  2022-01-17            34.121912  62.3900   \n4908  621e324e67b776a2400191cb  2022-01-17            33.104768  62.3900   \n\n       rmssd   spo2  full_sleep_breathing_rate  stress_score  \\\n0     37.914  95.60                       17.2           0.0   \n1     38.161  94.50                       17.2           0.0   \n2     32.762  96.00                       12.0          72.0   \n3     31.413  96.00                       15.4          69.0   \n4     24.507  97.20                       13.0          68.0   \n...      ...    ...                        ...           ...   \n4904  34.057  95.85                       15.0          72.0   \n4905  34.057  96.00                       15.0          72.0   \n4906  80.576  96.00                       17.2          66.0   \n4907  34.057  96.00                       15.0          72.0   \n4908  34.057  96.00                       15.0          72.0   \n\n      sleep_points_percentage  exertion_points_percentage  ...  \\\n0                    0.000000                       0.000  ...   \n1                    0.000000                       0.000  ...   \n2                    0.733333                       0.700  ...   \n3                    0.633333                       0.650  ...   \n4                    0.666667                       0.625  ...   \n...                       ...                         ...  ...   \n4904                 0.733333                       0.700  ...   \n4905                 0.733333                       0.700  ...   \n4906                 0.533333                       0.650  ...   \n4907                 0.733333                       0.700  ...   \n4908                 0.733333                       0.700  ...   \n\n      negative_affect_category  stai_stress_category month_sin  weekday_sin  \\\n0                      Average               Average -0.866025          0.0   \n1                      Average               Average -0.866025          0.0   \n2                      Average               Average -0.866025          0.0   \n3                      Average               Average -0.866025          0.0   \n4                      Average               Average -0.866025          0.0   \n...                        ...                   ...       ...          ...   \n4904                   Average               Average  0.866025          0.0   \n4905                   Average               Average  0.866025          0.0   \n4906                   Average               Average  0.866025          0.0   \n4907                   Average               Average  0.866025          0.0   \n4908             Below average               Average  0.866025          0.0   \n\n      week_sin   day_sin month_cos  weekday_cos  week_cos   day_cos  \n0     0.309017 -0.988468       0.5          1.0  0.951057  0.151428  \n1     0.309017 -0.988468       0.5          1.0  0.951057  0.151428  \n2     0.309017 -0.988468       0.5          1.0  0.951057  0.151428  \n3     0.309017 -0.988468       0.5          1.0  0.951057  0.151428  \n4     0.309017 -0.988468       0.5          1.0  0.951057  0.151428  \n...        ...       ...       ...          ...       ...       ...  \n4904  0.809017 -0.299363       0.5          1.0  0.587785 -0.954139  \n4905  0.809017 -0.299363       0.5          1.0  0.587785 -0.954139  \n4906  0.809017 -0.299363       0.5          1.0  0.587785 -0.954139  \n4907  0.809017 -0.299363       0.5          1.0  0.587785 -0.954139  \n4908  0.809017 -0.299363       0.5          1.0  0.587785 -0.954139  \n\n[4909 rows x 54 columns]",
      "text/html": "<div>\n<style scoped>\n    .dataframe tbody tr th:only-of-type {\n        vertical-align: middle;\n    }\n\n    .dataframe tbody tr th {\n        vertical-align: top;\n    }\n\n    .dataframe thead th {\n        text-align: right;\n    }\n</style>\n<table border=\"1\" class=\"dataframe\">\n  <thead>\n    <tr style=\"text-align: right;\">\n      <th></th>\n      <th>id</th>\n      <th>date</th>\n      <th>nightly_temperature</th>\n      <th>nremhr</th>\n      <th>rmssd</th>\n      <th>spo2</th>\n      <th>full_sleep_breathing_rate</th>\n      <th>stress_score</th>\n      <th>sleep_points_percentage</th>\n      <th>exertion_points_percentage</th>\n      <th>...</th>\n      <th>negative_affect_category</th>\n      <th>stai_stress_category</th>\n      <th>month_sin</th>\n      <th>weekday_sin</th>\n      <th>week_sin</th>\n      <th>day_sin</th>\n      <th>month_cos</th>\n      <th>weekday_cos</th>\n      <th>week_cos</th>\n      <th>day_cos</th>\n    </tr>\n  </thead>\n  <tbody>\n    <tr>\n      <th>0</th>\n      <td>621e332267b776a24092a584</td>\n      <td>2021-05-24</td>\n      <td>34.036874</td>\n      <td>57.4370</td>\n      <td>37.914</td>\n      <td>95.60</td>\n      <td>17.2</td>\n      <td>0.0</td>\n      <td>0.000000</td>\n      <td>0.000</td>\n      <td>...</td>\n      <td>Average</td>\n      <td>Average</td>\n      <td>-0.866025</td>\n      <td>0.0</td>\n      <td>0.309017</td>\n      <td>-0.988468</td>\n      <td>0.5</td>\n      <td>1.0</td>\n      <td>0.951057</td>\n      <td>0.151428</td>\n    </tr>\n    <tr>\n      <th>1</th>\n      <td>621e30e467b776a240e817c7</td>\n      <td>2021-05-24</td>\n      <td>33.274919</td>\n      <td>52.5365</td>\n      <td>38.161</td>\n      <td>94.50</td>\n      <td>17.2</td>\n      <td>0.0</td>\n      <td>0.000000</td>\n      <td>0.000</td>\n      <td>...</td>\n      <td>Average</td>\n      <td>Average</td>\n      <td>-0.866025</td>\n      <td>0.0</td>\n      <td>0.309017</td>\n      <td>-0.988468</td>\n      <td>0.5</td>\n      <td>1.0</td>\n      <td>0.951057</td>\n      <td>0.151428</td>\n    </tr>\n    <tr>\n      <th>2</th>\n      <td>621e367e67b776a24087d75d</td>\n      <td>2021-05-24</td>\n      <td>33.019585</td>\n      <td>62.9565</td>\n      <td>32.762</td>\n      <td>96.00</td>\n      <td>12.0</td>\n      <td>72.0</td>\n      <td>0.733333</td>\n      <td>0.700</td>\n      <td>...</td>\n      <td>Average</td>\n      <td>Average</td>\n      <td>-0.866025</td>\n      <td>0.0</td>\n      <td>0.309017</td>\n      <td>-0.988468</td>\n      <td>0.5</td>\n      <td>1.0</td>\n      <td>0.951057</td>\n      <td>0.151428</td>\n    </tr>\n    <tr>\n      <th>3</th>\n      <td>621e360b67b776a24039709f</td>\n      <td>2021-05-24</td>\n      <td>34.175203</td>\n      <td>68.3210</td>\n      <td>31.413</td>\n      <td>96.00</td>\n      <td>15.4</td>\n      <td>69.0</td>\n      <td>0.633333</td>\n      <td>0.650</td>\n      <td>...</td>\n      <td>Average</td>\n      <td>Average</td>\n      <td>-0.866025</td>\n      <td>0.0</td>\n      <td>0.309017</td>\n      <td>-0.988468</td>\n      <td>0.5</td>\n      <td>1.0</td>\n      <td>0.951057</td>\n      <td>0.151428</td>\n    </tr>\n    <tr>\n      <th>4</th>\n      <td>621e2f6167b776a240e082a9</td>\n      <td>2021-05-24</td>\n      <td>34.892637</td>\n      <td>62.5580</td>\n      <td>24.507</td>\n      <td>97.20</td>\n      <td>13.0</td>\n      <td>68.0</td>\n      <td>0.666667</td>\n      <td>0.625</td>\n      <td>...</td>\n      <td>Average</td>\n      <td>Average</td>\n      <td>-0.866025</td>\n      <td>0.0</td>\n      <td>0.309017</td>\n      <td>-0.988468</td>\n      <td>0.5</td>\n      <td>1.0</td>\n      <td>0.951057</td>\n      <td>0.151428</td>\n    </tr>\n    <tr>\n      <th>...</th>\n      <td>...</td>\n      <td>...</td>\n      <td>...</td>\n      <td>...</td>\n      <td>...</td>\n      <td>...</td>\n      <td>...</td>\n      <td>...</td>\n      <td>...</td>\n      <td>...</td>\n      <td>...</td>\n      <td>...</td>\n      <td>...</td>\n      <td>...</td>\n      <td>...</td>\n      <td>...</td>\n      <td>...</td>\n      <td>...</td>\n      <td>...</td>\n      <td>...</td>\n      <td>...</td>\n    </tr>\n    <tr>\n      <th>4904</th>\n      <td>621e300767b776a2404dc717</td>\n      <td>2022-01-17</td>\n      <td>33.186399</td>\n      <td>62.3900</td>\n      <td>34.057</td>\n      <td>95.85</td>\n      <td>15.0</td>\n      <td>72.0</td>\n      <td>0.733333</td>\n      <td>0.700</td>\n      <td>...</td>\n      <td>Average</td>\n      <td>Average</td>\n      <td>0.866025</td>\n      <td>0.0</td>\n      <td>0.809017</td>\n      <td>-0.299363</td>\n      <td>0.5</td>\n      <td>1.0</td>\n      <td>0.587785</td>\n      <td>-0.954139</td>\n    </tr>\n    <tr>\n      <th>4905</th>\n      <td>621e309b67b776a240b532b0</td>\n      <td>2022-01-17</td>\n      <td>31.815133</td>\n      <td>62.3900</td>\n      <td>34.057</td>\n      <td>96.00</td>\n      <td>15.0</td>\n      <td>72.0</td>\n      <td>0.733333</td>\n      <td>0.700</td>\n      <td>...</td>\n      <td>Average</td>\n      <td>Average</td>\n      <td>0.866025</td>\n      <td>0.0</td>\n      <td>0.809017</td>\n      <td>-0.299363</td>\n      <td>0.5</td>\n      <td>1.0</td>\n      <td>0.587785</td>\n      <td>-0.954139</td>\n    </tr>\n    <tr>\n      <th>4906</th>\n      <td>621e342e67b776a2404ce460</td>\n      <td>2022-01-17</td>\n      <td>33.864390</td>\n      <td>51.0640</td>\n      <td>80.576</td>\n      <td>96.00</td>\n      <td>17.2</td>\n      <td>66.0</td>\n      <td>0.533333</td>\n      <td>0.650</td>\n      <td>...</td>\n      <td>Average</td>\n      <td>Average</td>\n      <td>0.866025</td>\n      <td>0.0</td>\n      <td>0.809017</td>\n      <td>-0.299363</td>\n      <td>0.5</td>\n      <td>1.0</td>\n      <td>0.587785</td>\n      <td>-0.954139</td>\n    </tr>\n    <tr>\n      <th>4907</th>\n      <td>621e309267b776a240ae1cdb</td>\n      <td>2022-01-17</td>\n      <td>34.121912</td>\n      <td>62.3900</td>\n      <td>34.057</td>\n      <td>96.00</td>\n      <td>15.0</td>\n      <td>72.0</td>\n      <td>0.733333</td>\n      <td>0.700</td>\n      <td>...</td>\n      <td>Average</td>\n      <td>Average</td>\n      <td>0.866025</td>\n      <td>0.0</td>\n      <td>0.809017</td>\n      <td>-0.299363</td>\n      <td>0.5</td>\n      <td>1.0</td>\n      <td>0.587785</td>\n      <td>-0.954139</td>\n    </tr>\n    <tr>\n      <th>4908</th>\n      <td>621e324e67b776a2400191cb</td>\n      <td>2022-01-17</td>\n      <td>33.104768</td>\n      <td>62.3900</td>\n      <td>34.057</td>\n      <td>96.00</td>\n      <td>15.0</td>\n      <td>72.0</td>\n      <td>0.733333</td>\n      <td>0.700</td>\n      <td>...</td>\n      <td>Below average</td>\n      <td>Average</td>\n      <td>0.866025</td>\n      <td>0.0</td>\n      <td>0.809017</td>\n      <td>-0.299363</td>\n      <td>0.5</td>\n      <td>1.0</td>\n      <td>0.587785</td>\n      <td>-0.954139</td>\n    </tr>\n  </tbody>\n</table>\n<p>4909 rows × 54 columns</p>\n</div>"
     },
     "execution_count": 101,
     "metadata": {},
     "output_type": "execute_result"
    }
   ],
   "source": [
    "label_columns = ['label_stress_sema', 'label_panas_positive_affect',\n",
    "       'label_panas_negative_affect', 'label_stai_stress']\n",
    "\n",
    "# Identify numerical and categorical columns\n",
    "numerical_cols = df.select_dtypes(include=['float64', 'int64']).columns.tolist()\n",
    "categorical_cols = df.select_dtypes(exclude=['float64', 'int64']).columns.tolist()\n",
    "\n",
    "# Exclude label columns from numerical and categorical lists\n",
    "numerical_cols = [col for col in numerical_cols if col not in label_columns]\n",
    "categorical_cols = [col for col in categorical_cols if col not in label_columns]\n",
    "\n",
    "# Ensure 'id' is not in these lists\n",
    "if 'id' in numerical_cols:\n",
    "    numerical_cols.remove('id')\n",
    "    \n",
    "if 'id' in categorical_cols:\n",
    "    categorical_cols.remove('id')\n",
    "\n",
    "# 1. For numerical columns:\n",
    "for col in numerical_cols:\n",
    "    df[col] = df.groupby('id')[col].transform(lambda x: x.fillna(x.median()))\n",
    "    df[col].fillna(df[col].median(), inplace=True)\n",
    "\n",
    "# 2. For categorical columns:\n",
    "for col in categorical_cols:\n",
    "    mode = df.groupby('id')[col].transform(lambda x: x.mode().iloc[0] if not x.mode().empty else x)\n",
    "    df[col] = df[col].fillna(mode)\n",
    "    df[col].fillna(df[col].mode().iloc[0], inplace=True)\n",
    "    \n",
    "df"
   ],
   "metadata": {
    "collapsed": false,
    "ExecuteTime": {
     "end_time": "2024-02-07T12:09:22.841922400Z",
     "start_time": "2024-02-07T12:09:21.855421Z"
    }
   },
   "id": "174100d34203f00d"
  },
  {
   "cell_type": "code",
   "execution_count": 102,
   "outputs": [],
   "source": [
    "#create_report(df).show_browser()"
   ],
   "metadata": {
    "collapsed": false,
    "ExecuteTime": {
     "end_time": "2024-02-07T12:09:22.854353Z",
     "start_time": "2024-02-07T12:09:22.837062200Z"
    }
   },
   "id": "25f91e9b9a6eecb0"
  },
  {
   "cell_type": "code",
   "execution_count": 103,
   "outputs": [
    {
     "data": {
      "text/plain": "Index(['id', 'date', 'nightly_temperature', 'nremhr', 'rmssd', 'spo2',\n       'full_sleep_breathing_rate', 'stress_score', 'sleep_points_percentage',\n       'exertion_points_percentage', 'responsiveness_points_percentage',\n       'daily_temperature_variation', 'badgeType', 'calories',\n       'filteredDemographicVO2Max', 'distance', 'activityType', 'bpm',\n       'lightly_active_minutes', 'moderately_active_minutes',\n       'very_active_minutes', 'sedentary_minutes', 'mindfulness_session',\n       'scl_avg', 'resting_hr', 'sleep_duration', 'minutesToFallAsleep',\n       'minutesAsleep', 'minutesAwake', 'minutesAfterWakeup',\n       'sleep_efficiency', 'sleep_deep_ratio', 'sleep_wake_ratio',\n       'sleep_light_ratio', 'sleep_rem_ratio', 'steps',\n       'minutes_in_default_zone_1', 'minutes_below_default_zone_1',\n       'minutes_in_default_zone_2', 'minutes_in_default_zone_3', 'age',\n       'gender', 'bmi', 'label_stress_sema', 'negative_affect_category',\n       'stai_stress_category', 'month_sin', 'weekday_sin', 'week_sin',\n       'day_sin', 'month_cos', 'weekday_cos', 'week_cos', 'day_cos'],\n      dtype='object')"
     },
     "execution_count": 103,
     "metadata": {},
     "output_type": "execute_result"
    }
   ],
   "source": [
    "df.columns"
   ],
   "metadata": {
    "collapsed": false,
    "ExecuteTime": {
     "end_time": "2024-02-07T12:09:22.885432900Z",
     "start_time": "2024-02-07T12:09:22.851063Z"
    }
   },
   "id": "33c6ead3c8e9c5c1"
  },
  {
   "cell_type": "code",
   "execution_count": 104,
   "outputs": [],
   "source": [
    "def parse_bmi(bmi):\n",
    "    if isinstance(bmi, str):\n",
    "        if bmi == '<19':\n",
    "            return 18.0\n",
    "        elif bmi == '>=30':\n",
    "            return 30.0\n",
    "        elif bmi == '>=25':\n",
    "            return 25.0\n",
    "        else:\n",
    "            return float(bmi)\n",
    "    return bmi\n",
    "\n",
    "def one_hot_encoding(fitbit):\n",
    "    # List columns that we expect to be in the dataframe and need one-hot encoding\n",
    "    categorical_columns = ['badgeType', 'activityType']\n",
    "    \n",
    "    for col in categorical_columns:\n",
    "        if col in fitbit.columns:\n",
    "            # Get one-hot encoding of the column\n",
    "            one_hot = pd.get_dummies(fitbit[col], prefix=col)\n",
    "            # Drop the original column\n",
    "            fitbit = fitbit.drop(col, axis=1)\n",
    "            # Join the one-hot encoded dataframe\n",
    "            fitbit = fitbit.join(one_hot)\n",
    "    \n",
    "    # Replace other categorical columns if they exist in the dataframe\n",
    "    if 'mindfulness_session' in fitbit.columns:\n",
    "        fitbit['mindfulness_session'].replace(to_replace=['False', True], value=[0, 1], inplace=True)\n",
    "    \n",
    "    if 'age' in fitbit.columns:\n",
    "        fitbit['age'].replace(to_replace=['<30', '>=30'], value=[0, 1], inplace=True)\n",
    "\n",
    "    if 'gender' in fitbit.columns:\n",
    "        fitbit['gender'].replace(to_replace=['MALE', 'FEMALE'], value=[0, 1], inplace=True)\n",
    "    \n",
    "    if 'heart_rate_alert' in fitbit.columns:\n",
    "        fitbit['heart_rate_alert'].replace(to_replace=['NONE', 'LOW_HR'], value=[0, 1], inplace=True)\n",
    "\n",
    "    # Update bmi column\n",
    "    if 'bmi' in fitbit.columns:\n",
    "        fitbit['bmi'] = fitbit.bmi.apply(parse_bmi)\n",
    "        fitbit['bmi'] = fitbit.bmi.apply(lambda bmi: 0 if bmi < 18.5 else (1 if bmi < 25 else (2 if bmi < 30 else 3)))\n",
    "         # 0: Underweight, 1: Normal, 2: Overweight, 3: Obese\n",
    "    \n",
    "    return fitbit"
   ],
   "metadata": {
    "collapsed": false,
    "ExecuteTime": {
     "end_time": "2024-02-07T12:09:22.910338500Z",
     "start_time": "2024-02-07T12:09:22.876213600Z"
    }
   },
   "id": "e11afdc2be9f34ef"
  },
  {
   "cell_type": "code",
   "execution_count": 105,
   "outputs": [
    {
     "data": {
      "text/plain": "                            id        date  nightly_temperature   nremhr  \\\n0     621e332267b776a24092a584  2021-05-24            34.036874  57.4370   \n1     621e30e467b776a240e817c7  2021-05-24            33.274919  52.5365   \n2     621e367e67b776a24087d75d  2021-05-24            33.019585  62.9565   \n3     621e360b67b776a24039709f  2021-05-24            34.175203  68.3210   \n4     621e2f6167b776a240e082a9  2021-05-24            34.892637  62.5580   \n...                        ...         ...                  ...      ...   \n4904  621e300767b776a2404dc717  2022-01-17            33.186399  62.3900   \n4905  621e309b67b776a240b532b0  2022-01-17            31.815133  62.3900   \n4906  621e342e67b776a2404ce460  2022-01-17            33.864390  51.0640   \n4907  621e309267b776a240ae1cdb  2022-01-17            34.121912  62.3900   \n4908  621e324e67b776a2400191cb  2022-01-17            33.104768  62.3900   \n\n       rmssd   spo2  full_sleep_breathing_rate  stress_score  \\\n0     37.914  95.60                       17.2           0.0   \n1     38.161  94.50                       17.2           0.0   \n2     32.762  96.00                       12.0          72.0   \n3     31.413  96.00                       15.4          69.0   \n4     24.507  97.20                       13.0          68.0   \n...      ...    ...                        ...           ...   \n4904  34.057  95.85                       15.0          72.0   \n4905  34.057  96.00                       15.0          72.0   \n4906  80.576  96.00                       17.2          66.0   \n4907  34.057  96.00                       15.0          72.0   \n4908  34.057  96.00                       15.0          72.0   \n\n      sleep_points_percentage  exertion_points_percentage  ...  \\\n0                    0.000000                       0.000  ...   \n1                    0.000000                       0.000  ...   \n2                    0.733333                       0.700  ...   \n3                    0.633333                       0.650  ...   \n4                    0.666667                       0.625  ...   \n...                       ...                         ...  ...   \n4904                 0.733333                       0.700  ...   \n4905                 0.733333                       0.700  ...   \n4906                 0.533333                       0.650  ...   \n4907                 0.733333                       0.700  ...   \n4908                 0.733333                       0.700  ...   \n\n      activityType_['Workout', 'Bike']  \\\n0                                    0   \n1                                    0   \n2                                    0   \n3                                    0   \n4                                    0   \n...                                ...   \n4904                                 0   \n4905                                 0   \n4906                                 0   \n4907                                 0   \n4908                                 0   \n\n      activityType_['Workout', 'Hike', 'Walk']  \\\n0                                            0   \n1                                            0   \n2                                            0   \n3                                            0   \n4                                            0   \n...                                        ...   \n4904                                         0   \n4905                                         0   \n4906                                         0   \n4907                                         0   \n4908                                         0   \n\n      activityType_['Workout', 'Treadmill', 'Walk']  \\\n0                                                 0   \n1                                                 0   \n2                                                 0   \n3                                                 0   \n4                                                 0   \n...                                             ...   \n4904                                              0   \n4905                                              0   \n4906                                              0   \n4907                                              0   \n4908                                              0   \n\n      activityType_['Workout', 'Walk', 'Bike']  \\\n0                                            0   \n1                                            0   \n2                                            0   \n3                                            0   \n4                                            0   \n...                                        ...   \n4904                                         0   \n4905                                         0   \n4906                                         0   \n4907                                         0   \n4908                                         0   \n\n      activityType_['Workout', 'Walk']  activityType_['Workout']  \\\n0                                    0                         0   \n1                                    0                         0   \n2                                    0                         0   \n3                                    0                         0   \n4                                    0                         0   \n...                                ...                       ...   \n4904                                 0                         0   \n4905                                 0                         0   \n4906                                 0                         0   \n4907                                 0                         0   \n4908                                 0                         0   \n\n      activityType_['Yoga/Pilates', 'Sport']  \\\n0                                          0   \n1                                          0   \n2                                          0   \n3                                          0   \n4                                          0   \n...                                      ...   \n4904                                       0   \n4905                                       0   \n4906                                       0   \n4907                                       0   \n4908                                       0   \n\n      activityType_['Yoga/Pilates', 'Walk']  \\\n0                                         0   \n1                                         0   \n2                                         0   \n3                                         0   \n4                                         0   \n...                                     ...   \n4904                                      0   \n4905                                      0   \n4906                                      0   \n4907                                      0   \n4908                                      0   \n\n      activityType_['Yoga/Pilates', 'Workout']  activityType_['Yoga/Pilates']  \n0                                            0                              0  \n1                                            0                              0  \n2                                            0                              0  \n3                                            0                              0  \n4                                            0                              0  \n...                                        ...                            ...  \n4904                                         0                              0  \n4905                                         0                              0  \n4906                                         0                              0  \n4907                                         0                              0  \n4908                                         0                              0  \n\n[4909 rows x 134 columns]",
      "text/html": "<div>\n<style scoped>\n    .dataframe tbody tr th:only-of-type {\n        vertical-align: middle;\n    }\n\n    .dataframe tbody tr th {\n        vertical-align: top;\n    }\n\n    .dataframe thead th {\n        text-align: right;\n    }\n</style>\n<table border=\"1\" class=\"dataframe\">\n  <thead>\n    <tr style=\"text-align: right;\">\n      <th></th>\n      <th>id</th>\n      <th>date</th>\n      <th>nightly_temperature</th>\n      <th>nremhr</th>\n      <th>rmssd</th>\n      <th>spo2</th>\n      <th>full_sleep_breathing_rate</th>\n      <th>stress_score</th>\n      <th>sleep_points_percentage</th>\n      <th>exertion_points_percentage</th>\n      <th>...</th>\n      <th>activityType_['Workout', 'Bike']</th>\n      <th>activityType_['Workout', 'Hike', 'Walk']</th>\n      <th>activityType_['Workout', 'Treadmill', 'Walk']</th>\n      <th>activityType_['Workout', 'Walk', 'Bike']</th>\n      <th>activityType_['Workout', 'Walk']</th>\n      <th>activityType_['Workout']</th>\n      <th>activityType_['Yoga/Pilates', 'Sport']</th>\n      <th>activityType_['Yoga/Pilates', 'Walk']</th>\n      <th>activityType_['Yoga/Pilates', 'Workout']</th>\n      <th>activityType_['Yoga/Pilates']</th>\n    </tr>\n  </thead>\n  <tbody>\n    <tr>\n      <th>0</th>\n      <td>621e332267b776a24092a584</td>\n      <td>2021-05-24</td>\n      <td>34.036874</td>\n      <td>57.4370</td>\n      <td>37.914</td>\n      <td>95.60</td>\n      <td>17.2</td>\n      <td>0.0</td>\n      <td>0.000000</td>\n      <td>0.000</td>\n      <td>...</td>\n      <td>0</td>\n      <td>0</td>\n      <td>0</td>\n      <td>0</td>\n      <td>0</td>\n      <td>0</td>\n      <td>0</td>\n      <td>0</td>\n      <td>0</td>\n      <td>0</td>\n    </tr>\n    <tr>\n      <th>1</th>\n      <td>621e30e467b776a240e817c7</td>\n      <td>2021-05-24</td>\n      <td>33.274919</td>\n      <td>52.5365</td>\n      <td>38.161</td>\n      <td>94.50</td>\n      <td>17.2</td>\n      <td>0.0</td>\n      <td>0.000000</td>\n      <td>0.000</td>\n      <td>...</td>\n      <td>0</td>\n      <td>0</td>\n      <td>0</td>\n      <td>0</td>\n      <td>0</td>\n      <td>0</td>\n      <td>0</td>\n      <td>0</td>\n      <td>0</td>\n      <td>0</td>\n    </tr>\n    <tr>\n      <th>2</th>\n      <td>621e367e67b776a24087d75d</td>\n      <td>2021-05-24</td>\n      <td>33.019585</td>\n      <td>62.9565</td>\n      <td>32.762</td>\n      <td>96.00</td>\n      <td>12.0</td>\n      <td>72.0</td>\n      <td>0.733333</td>\n      <td>0.700</td>\n      <td>...</td>\n      <td>0</td>\n      <td>0</td>\n      <td>0</td>\n      <td>0</td>\n      <td>0</td>\n      <td>0</td>\n      <td>0</td>\n      <td>0</td>\n      <td>0</td>\n      <td>0</td>\n    </tr>\n    <tr>\n      <th>3</th>\n      <td>621e360b67b776a24039709f</td>\n      <td>2021-05-24</td>\n      <td>34.175203</td>\n      <td>68.3210</td>\n      <td>31.413</td>\n      <td>96.00</td>\n      <td>15.4</td>\n      <td>69.0</td>\n      <td>0.633333</td>\n      <td>0.650</td>\n      <td>...</td>\n      <td>0</td>\n      <td>0</td>\n      <td>0</td>\n      <td>0</td>\n      <td>0</td>\n      <td>0</td>\n      <td>0</td>\n      <td>0</td>\n      <td>0</td>\n      <td>0</td>\n    </tr>\n    <tr>\n      <th>4</th>\n      <td>621e2f6167b776a240e082a9</td>\n      <td>2021-05-24</td>\n      <td>34.892637</td>\n      <td>62.5580</td>\n      <td>24.507</td>\n      <td>97.20</td>\n      <td>13.0</td>\n      <td>68.0</td>\n      <td>0.666667</td>\n      <td>0.625</td>\n      <td>...</td>\n      <td>0</td>\n      <td>0</td>\n      <td>0</td>\n      <td>0</td>\n      <td>0</td>\n      <td>0</td>\n      <td>0</td>\n      <td>0</td>\n      <td>0</td>\n      <td>0</td>\n    </tr>\n    <tr>\n      <th>...</th>\n      <td>...</td>\n      <td>...</td>\n      <td>...</td>\n      <td>...</td>\n      <td>...</td>\n      <td>...</td>\n      <td>...</td>\n      <td>...</td>\n      <td>...</td>\n      <td>...</td>\n      <td>...</td>\n      <td>...</td>\n      <td>...</td>\n      <td>...</td>\n      <td>...</td>\n      <td>...</td>\n      <td>...</td>\n      <td>...</td>\n      <td>...</td>\n      <td>...</td>\n      <td>...</td>\n    </tr>\n    <tr>\n      <th>4904</th>\n      <td>621e300767b776a2404dc717</td>\n      <td>2022-01-17</td>\n      <td>33.186399</td>\n      <td>62.3900</td>\n      <td>34.057</td>\n      <td>95.85</td>\n      <td>15.0</td>\n      <td>72.0</td>\n      <td>0.733333</td>\n      <td>0.700</td>\n      <td>...</td>\n      <td>0</td>\n      <td>0</td>\n      <td>0</td>\n      <td>0</td>\n      <td>0</td>\n      <td>0</td>\n      <td>0</td>\n      <td>0</td>\n      <td>0</td>\n      <td>0</td>\n    </tr>\n    <tr>\n      <th>4905</th>\n      <td>621e309b67b776a240b532b0</td>\n      <td>2022-01-17</td>\n      <td>31.815133</td>\n      <td>62.3900</td>\n      <td>34.057</td>\n      <td>96.00</td>\n      <td>15.0</td>\n      <td>72.0</td>\n      <td>0.733333</td>\n      <td>0.700</td>\n      <td>...</td>\n      <td>0</td>\n      <td>0</td>\n      <td>0</td>\n      <td>0</td>\n      <td>0</td>\n      <td>0</td>\n      <td>0</td>\n      <td>0</td>\n      <td>0</td>\n      <td>0</td>\n    </tr>\n    <tr>\n      <th>4906</th>\n      <td>621e342e67b776a2404ce460</td>\n      <td>2022-01-17</td>\n      <td>33.864390</td>\n      <td>51.0640</td>\n      <td>80.576</td>\n      <td>96.00</td>\n      <td>17.2</td>\n      <td>66.0</td>\n      <td>0.533333</td>\n      <td>0.650</td>\n      <td>...</td>\n      <td>0</td>\n      <td>0</td>\n      <td>0</td>\n      <td>0</td>\n      <td>0</td>\n      <td>0</td>\n      <td>0</td>\n      <td>0</td>\n      <td>0</td>\n      <td>0</td>\n    </tr>\n    <tr>\n      <th>4907</th>\n      <td>621e309267b776a240ae1cdb</td>\n      <td>2022-01-17</td>\n      <td>34.121912</td>\n      <td>62.3900</td>\n      <td>34.057</td>\n      <td>96.00</td>\n      <td>15.0</td>\n      <td>72.0</td>\n      <td>0.733333</td>\n      <td>0.700</td>\n      <td>...</td>\n      <td>0</td>\n      <td>0</td>\n      <td>0</td>\n      <td>0</td>\n      <td>0</td>\n      <td>0</td>\n      <td>0</td>\n      <td>0</td>\n      <td>0</td>\n      <td>0</td>\n    </tr>\n    <tr>\n      <th>4908</th>\n      <td>621e324e67b776a2400191cb</td>\n      <td>2022-01-17</td>\n      <td>33.104768</td>\n      <td>62.3900</td>\n      <td>34.057</td>\n      <td>96.00</td>\n      <td>15.0</td>\n      <td>72.0</td>\n      <td>0.733333</td>\n      <td>0.700</td>\n      <td>...</td>\n      <td>0</td>\n      <td>0</td>\n      <td>0</td>\n      <td>0</td>\n      <td>0</td>\n      <td>0</td>\n      <td>0</td>\n      <td>0</td>\n      <td>0</td>\n      <td>0</td>\n    </tr>\n  </tbody>\n</table>\n<p>4909 rows × 134 columns</p>\n</div>"
     },
     "execution_count": 105,
     "metadata": {},
     "output_type": "execute_result"
    }
   ],
   "source": [
    "df = parse_bmi(df)\n",
    "df = one_hot_encoding(df)\n",
    "df"
   ],
   "metadata": {
    "collapsed": false,
    "ExecuteTime": {
     "end_time": "2024-02-07T12:09:23.056525100Z",
     "start_time": "2024-02-07T12:09:23.008002Z"
    }
   },
   "id": "a05cd3ac832b3656"
  },
  {
   "cell_type": "code",
   "execution_count": 106,
   "outputs": [],
   "source": [
    "df.to_pickle('../data/lifesnaps/lifesnapsv2.pkl')"
   ],
   "metadata": {
    "collapsed": false,
    "ExecuteTime": {
     "end_time": "2024-02-07T12:09:23.391296900Z",
     "start_time": "2024-02-07T12:09:23.344205400Z"
    }
   },
   "id": "f2f9989f2f77289b"
  },
  {
   "cell_type": "code",
   "outputs": [],
   "source": [
    "#create_report(df).show_browser()"
   ],
   "metadata": {
    "collapsed": false,
    "ExecuteTime": {
     "end_time": "2024-02-07T12:09:23.824772400Z",
     "start_time": "2024-02-07T12:09:23.773949400Z"
    }
   },
   "id": "98fc43722b1afcf2",
   "execution_count": 107
  },
  {
   "cell_type": "code",
   "outputs": [],
   "source": [],
   "metadata": {
    "collapsed": false,
    "ExecuteTime": {
     "end_time": "2024-02-07T12:01:12.929983400Z",
     "start_time": "2024-02-07T12:01:12.904322900Z"
    }
   },
   "id": "5557ee628d11e334",
   "execution_count": 44
  }
 ],
 "metadata": {
  "kernelspec": {
   "display_name": "Python 3",
   "language": "python",
   "name": "python3"
  },
  "language_info": {
   "codemirror_mode": {
    "name": "ipython",
    "version": 2
   },
   "file_extension": ".py",
   "mimetype": "text/x-python",
   "name": "python",
   "nbconvert_exporter": "python",
   "pygments_lexer": "ipython2",
   "version": "2.7.6"
  }
 },
 "nbformat": 4,
 "nbformat_minor": 5
}
