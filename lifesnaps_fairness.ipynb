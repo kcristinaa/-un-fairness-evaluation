{
 "cells": [
  {
   "cell_type": "code",
   "execution_count": 126,
   "id": "initial_id",
   "metadata": {
    "collapsed": true,
    "ExecuteTime": {
     "end_time": "2023-10-20T11:28:49.973376300Z",
     "start_time": "2023-10-20T11:28:49.954244300Z"
    }
   },
   "outputs": [],
   "source": [
    "import pandas as pd\n",
    "from aif360.datasets import StandardDataset\n",
    "from aif360.datasets import BinaryLabelDataset\n",
    "from aif360.metrics import BinaryLabelDatasetMetric\n",
    "from aif360.algorithms.preprocessing import Reweighing\n",
    "from sklearn.model_selection import train_test_split"
   ]
  },
  {
   "cell_type": "code",
   "execution_count": 127,
   "outputs": [
    {
     "data": {
      "text/plain": "                            id        date  nightly_temperature   nremhr  \\\n0     621e332267b776a24092a584  2021-05-24            34.036874  57.4370   \n1     621e30e467b776a240e817c7  2021-05-24            33.274919  52.5365   \n2     621e367e67b776a24087d75d  2021-05-24            33.019585  62.9565   \n3     621e360b67b776a24039709f  2021-05-24            34.175203  68.3210   \n4     621e2f6167b776a240e082a9  2021-05-24            34.892637  62.5580   \n...                        ...         ...                  ...      ...   \n4904  621e300767b776a2404dc717  2022-01-17            33.186399  62.3900   \n4905  621e309b67b776a240b532b0  2022-01-17            31.815133  62.3900   \n4906  621e342e67b776a2404ce460  2022-01-17            33.864390  51.0640   \n4907  621e309267b776a240ae1cdb  2022-01-17            34.121912  62.3900   \n4908  621e324e67b776a2400191cb  2022-01-17            33.104768  62.3900   \n\n       rmssd   spo2  full_sleep_breathing_rate  stress_score  \\\n0     37.914  95.60                       17.2           0.0   \n1     38.161  94.50                       17.2           0.0   \n2     32.762  96.00                       12.0          72.0   \n3     31.413  96.00                       15.4          69.0   \n4     24.507  97.20                       13.0          68.0   \n...      ...    ...                        ...           ...   \n4904  34.057  95.85                       15.0          72.0   \n4905  34.057  96.00                       15.0          72.0   \n4906  80.576  96.00                       17.2          66.0   \n4907  34.057  96.00                       15.0          72.0   \n4908  34.057  96.00                       15.0          72.0   \n\n      sleep_points_percentage  exertion_points_percentage  ...  \\\n0                    0.000000                       0.000  ...   \n1                    0.000000                       0.000  ...   \n2                    0.733333                       0.700  ...   \n3                    0.633333                       0.650  ...   \n4                    0.666667                       0.625  ...   \n...                       ...                         ...  ...   \n4904                 0.733333                       0.700  ...   \n4905                 0.733333                       0.700  ...   \n4906                 0.533333                       0.650  ...   \n4907                 0.733333                       0.700  ...   \n4908                 0.733333                       0.700  ...   \n\n      activityType_['Workout', 'Bike']  \\\n0                                    0   \n1                                    0   \n2                                    0   \n3                                    0   \n4                                    0   \n...                                ...   \n4904                                 0   \n4905                                 0   \n4906                                 0   \n4907                                 0   \n4908                                 0   \n\n      activityType_['Workout', 'Hike', 'Walk']  \\\n0                                            0   \n1                                            0   \n2                                            0   \n3                                            0   \n4                                            0   \n...                                        ...   \n4904                                         0   \n4905                                         0   \n4906                                         0   \n4907                                         0   \n4908                                         0   \n\n      activityType_['Workout', 'Treadmill', 'Walk']  \\\n0                                                 0   \n1                                                 0   \n2                                                 0   \n3                                                 0   \n4                                                 0   \n...                                             ...   \n4904                                              0   \n4905                                              0   \n4906                                              0   \n4907                                              0   \n4908                                              0   \n\n      activityType_['Workout', 'Walk', 'Bike']  \\\n0                                            0   \n1                                            0   \n2                                            0   \n3                                            0   \n4                                            0   \n...                                        ...   \n4904                                         0   \n4905                                         0   \n4906                                         0   \n4907                                         0   \n4908                                         0   \n\n      activityType_['Workout', 'Walk']  activityType_['Workout']  \\\n0                                    0                         0   \n1                                    0                         0   \n2                                    0                         0   \n3                                    0                         0   \n4                                    0                         0   \n...                                ...                       ...   \n4904                                 0                         0   \n4905                                 0                         0   \n4906                                 0                         0   \n4907                                 0                         0   \n4908                                 0                         0   \n\n      activityType_['Yoga/Pilates', 'Sport']  \\\n0                                          0   \n1                                          0   \n2                                          0   \n3                                          0   \n4                                          0   \n...                                      ...   \n4904                                       0   \n4905                                       0   \n4906                                       0   \n4907                                       0   \n4908                                       0   \n\n      activityType_['Yoga/Pilates', 'Walk']  \\\n0                                         0   \n1                                         0   \n2                                         0   \n3                                         0   \n4                                         0   \n...                                     ...   \n4904                                      0   \n4905                                      0   \n4906                                      0   \n4907                                      0   \n4908                                      0   \n\n      activityType_['Yoga/Pilates', 'Workout']  activityType_['Yoga/Pilates']  \n0                                            0                              0  \n1                                            0                              0  \n2                                            0                              0  \n3                                            0                              0  \n4                                            0                              0  \n...                                        ...                            ...  \n4904                                         0                              0  \n4905                                         0                              0  \n4906                                         0                              0  \n4907                                         0                              0  \n4908                                         0                              0  \n\n[4909 rows x 135 columns]",
      "text/html": "<div>\n<style scoped>\n    .dataframe tbody tr th:only-of-type {\n        vertical-align: middle;\n    }\n\n    .dataframe tbody tr th {\n        vertical-align: top;\n    }\n\n    .dataframe thead th {\n        text-align: right;\n    }\n</style>\n<table border=\"1\" class=\"dataframe\">\n  <thead>\n    <tr style=\"text-align: right;\">\n      <th></th>\n      <th>id</th>\n      <th>date</th>\n      <th>nightly_temperature</th>\n      <th>nremhr</th>\n      <th>rmssd</th>\n      <th>spo2</th>\n      <th>full_sleep_breathing_rate</th>\n      <th>stress_score</th>\n      <th>sleep_points_percentage</th>\n      <th>exertion_points_percentage</th>\n      <th>...</th>\n      <th>activityType_['Workout', 'Bike']</th>\n      <th>activityType_['Workout', 'Hike', 'Walk']</th>\n      <th>activityType_['Workout', 'Treadmill', 'Walk']</th>\n      <th>activityType_['Workout', 'Walk', 'Bike']</th>\n      <th>activityType_['Workout', 'Walk']</th>\n      <th>activityType_['Workout']</th>\n      <th>activityType_['Yoga/Pilates', 'Sport']</th>\n      <th>activityType_['Yoga/Pilates', 'Walk']</th>\n      <th>activityType_['Yoga/Pilates', 'Workout']</th>\n      <th>activityType_['Yoga/Pilates']</th>\n    </tr>\n  </thead>\n  <tbody>\n    <tr>\n      <th>0</th>\n      <td>621e332267b776a24092a584</td>\n      <td>2021-05-24</td>\n      <td>34.036874</td>\n      <td>57.4370</td>\n      <td>37.914</td>\n      <td>95.60</td>\n      <td>17.2</td>\n      <td>0.0</td>\n      <td>0.000000</td>\n      <td>0.000</td>\n      <td>...</td>\n      <td>0</td>\n      <td>0</td>\n      <td>0</td>\n      <td>0</td>\n      <td>0</td>\n      <td>0</td>\n      <td>0</td>\n      <td>0</td>\n      <td>0</td>\n      <td>0</td>\n    </tr>\n    <tr>\n      <th>1</th>\n      <td>621e30e467b776a240e817c7</td>\n      <td>2021-05-24</td>\n      <td>33.274919</td>\n      <td>52.5365</td>\n      <td>38.161</td>\n      <td>94.50</td>\n      <td>17.2</td>\n      <td>0.0</td>\n      <td>0.000000</td>\n      <td>0.000</td>\n      <td>...</td>\n      <td>0</td>\n      <td>0</td>\n      <td>0</td>\n      <td>0</td>\n      <td>0</td>\n      <td>0</td>\n      <td>0</td>\n      <td>0</td>\n      <td>0</td>\n      <td>0</td>\n    </tr>\n    <tr>\n      <th>2</th>\n      <td>621e367e67b776a24087d75d</td>\n      <td>2021-05-24</td>\n      <td>33.019585</td>\n      <td>62.9565</td>\n      <td>32.762</td>\n      <td>96.00</td>\n      <td>12.0</td>\n      <td>72.0</td>\n      <td>0.733333</td>\n      <td>0.700</td>\n      <td>...</td>\n      <td>0</td>\n      <td>0</td>\n      <td>0</td>\n      <td>0</td>\n      <td>0</td>\n      <td>0</td>\n      <td>0</td>\n      <td>0</td>\n      <td>0</td>\n      <td>0</td>\n    </tr>\n    <tr>\n      <th>3</th>\n      <td>621e360b67b776a24039709f</td>\n      <td>2021-05-24</td>\n      <td>34.175203</td>\n      <td>68.3210</td>\n      <td>31.413</td>\n      <td>96.00</td>\n      <td>15.4</td>\n      <td>69.0</td>\n      <td>0.633333</td>\n      <td>0.650</td>\n      <td>...</td>\n      <td>0</td>\n      <td>0</td>\n      <td>0</td>\n      <td>0</td>\n      <td>0</td>\n      <td>0</td>\n      <td>0</td>\n      <td>0</td>\n      <td>0</td>\n      <td>0</td>\n    </tr>\n    <tr>\n      <th>4</th>\n      <td>621e2f6167b776a240e082a9</td>\n      <td>2021-05-24</td>\n      <td>34.892637</td>\n      <td>62.5580</td>\n      <td>24.507</td>\n      <td>97.20</td>\n      <td>13.0</td>\n      <td>68.0</td>\n      <td>0.666667</td>\n      <td>0.625</td>\n      <td>...</td>\n      <td>0</td>\n      <td>0</td>\n      <td>0</td>\n      <td>0</td>\n      <td>0</td>\n      <td>0</td>\n      <td>0</td>\n      <td>0</td>\n      <td>0</td>\n      <td>0</td>\n    </tr>\n    <tr>\n      <th>...</th>\n      <td>...</td>\n      <td>...</td>\n      <td>...</td>\n      <td>...</td>\n      <td>...</td>\n      <td>...</td>\n      <td>...</td>\n      <td>...</td>\n      <td>...</td>\n      <td>...</td>\n      <td>...</td>\n      <td>...</td>\n      <td>...</td>\n      <td>...</td>\n      <td>...</td>\n      <td>...</td>\n      <td>...</td>\n      <td>...</td>\n      <td>...</td>\n      <td>...</td>\n      <td>...</td>\n    </tr>\n    <tr>\n      <th>4904</th>\n      <td>621e300767b776a2404dc717</td>\n      <td>2022-01-17</td>\n      <td>33.186399</td>\n      <td>62.3900</td>\n      <td>34.057</td>\n      <td>95.85</td>\n      <td>15.0</td>\n      <td>72.0</td>\n      <td>0.733333</td>\n      <td>0.700</td>\n      <td>...</td>\n      <td>0</td>\n      <td>0</td>\n      <td>0</td>\n      <td>0</td>\n      <td>0</td>\n      <td>0</td>\n      <td>0</td>\n      <td>0</td>\n      <td>0</td>\n      <td>0</td>\n    </tr>\n    <tr>\n      <th>4905</th>\n      <td>621e309b67b776a240b532b0</td>\n      <td>2022-01-17</td>\n      <td>31.815133</td>\n      <td>62.3900</td>\n      <td>34.057</td>\n      <td>96.00</td>\n      <td>15.0</td>\n      <td>72.0</td>\n      <td>0.733333</td>\n      <td>0.700</td>\n      <td>...</td>\n      <td>0</td>\n      <td>0</td>\n      <td>0</td>\n      <td>0</td>\n      <td>0</td>\n      <td>0</td>\n      <td>0</td>\n      <td>0</td>\n      <td>0</td>\n      <td>0</td>\n    </tr>\n    <tr>\n      <th>4906</th>\n      <td>621e342e67b776a2404ce460</td>\n      <td>2022-01-17</td>\n      <td>33.864390</td>\n      <td>51.0640</td>\n      <td>80.576</td>\n      <td>96.00</td>\n      <td>17.2</td>\n      <td>66.0</td>\n      <td>0.533333</td>\n      <td>0.650</td>\n      <td>...</td>\n      <td>0</td>\n      <td>0</td>\n      <td>0</td>\n      <td>0</td>\n      <td>0</td>\n      <td>0</td>\n      <td>0</td>\n      <td>0</td>\n      <td>0</td>\n      <td>0</td>\n    </tr>\n    <tr>\n      <th>4907</th>\n      <td>621e309267b776a240ae1cdb</td>\n      <td>2022-01-17</td>\n      <td>34.121912</td>\n      <td>62.3900</td>\n      <td>34.057</td>\n      <td>96.00</td>\n      <td>15.0</td>\n      <td>72.0</td>\n      <td>0.733333</td>\n      <td>0.700</td>\n      <td>...</td>\n      <td>0</td>\n      <td>0</td>\n      <td>0</td>\n      <td>0</td>\n      <td>0</td>\n      <td>0</td>\n      <td>0</td>\n      <td>0</td>\n      <td>0</td>\n      <td>0</td>\n    </tr>\n    <tr>\n      <th>4908</th>\n      <td>621e324e67b776a2400191cb</td>\n      <td>2022-01-17</td>\n      <td>33.104768</td>\n      <td>62.3900</td>\n      <td>34.057</td>\n      <td>96.00</td>\n      <td>15.0</td>\n      <td>72.0</td>\n      <td>0.733333</td>\n      <td>0.700</td>\n      <td>...</td>\n      <td>0</td>\n      <td>0</td>\n      <td>0</td>\n      <td>0</td>\n      <td>0</td>\n      <td>0</td>\n      <td>0</td>\n      <td>0</td>\n      <td>0</td>\n      <td>0</td>\n    </tr>\n  </tbody>\n</table>\n<p>4909 rows × 135 columns</p>\n</div>"
     },
     "execution_count": 127,
     "metadata": {},
     "output_type": "execute_result"
    }
   ],
   "source": [
    "df = pd.read_pickle('data/lifesnaps/lifesnapsv2.pkl')\n",
    "df"
   ],
   "metadata": {
    "collapsed": false,
    "ExecuteTime": {
     "end_time": "2023-10-20T11:28:50.281331Z",
     "start_time": "2023-10-20T11:28:50.246642500Z"
    }
   },
   "id": "6782c44d0744382c"
  },
  {
   "cell_type": "code",
   "execution_count": 128,
   "outputs": [
    {
     "name": "stderr",
     "output_type": "stream",
     "text": [
      "WARNING:root:Missing Data: 4734 rows removed from StandardDataset.\n"
     ]
    }
   ],
   "source": [
    "dataset = StandardDataset(df,\n",
    "                          protected_attribute_names=['gender'],\n",
    "                          privileged_classes=[[1]], \n",
    "                          label_name='label_stress_sema',\n",
    "                          favorable_classes=[0],\n",
    "                          features_to_drop=['id', 'date'] \n",
    "                         )"
   ],
   "metadata": {
    "collapsed": false,
    "ExecuteTime": {
     "end_time": "2023-10-20T11:28:50.657508200Z",
     "start_time": "2023-10-20T11:28:50.603541400Z"
    }
   },
   "id": "75955f1c36e7d2a3"
  },
  {
   "cell_type": "code",
   "execution_count": 129,
   "outputs": [],
   "source": [
    "# Define privileged and unprivileged groups\n",
    "privileged_groups = [{'gender': 1}]\n",
    "unprivileged_groups = [{'gender': 0}]\n",
    "\n",
    "# Create the metric object\n",
    "metric = BinaryLabelDatasetMetric(dataset,\n",
    "                                  unprivileged_groups=unprivileged_groups,\n",
    "                                  privileged_groups=privileged_groups)"
   ],
   "metadata": {
    "collapsed": false,
    "ExecuteTime": {
     "end_time": "2023-10-20T11:28:50.813836700Z",
     "start_time": "2023-10-20T11:28:50.792521500Z"
    }
   },
   "id": "8f40bf6c94683429"
  },
  {
   "cell_type": "code",
   "execution_count": 130,
   "outputs": [
    {
     "name": "stdout",
     "output_type": "stream",
     "text": [
      "Disparate Impact (DI): 0.9141932002158661\n"
     ]
    }
   ],
   "source": [
    "# Disparate Impact (DI)\n",
    "# DI = (probability of favorable outcome for unprivileged group) / (probability of favorable outcome for privileged group)\n",
    "# If DI = 1, there is no disparate impact\n",
    "# the DI value ideally should be close to 1 for fairness. A value less than 1 indicates potential discrimination against the unprivileged group, while a value greater than 1 indicates potential discrimination against the privileged group.\n",
    "\n",
    "disparate_impact = metric.disparate_impact()\n",
    "print(\"Disparate Impact (DI):\", disparate_impact)"
   ],
   "metadata": {
    "collapsed": false,
    "ExecuteTime": {
     "end_time": "2023-10-20T11:28:51.124253900Z",
     "start_time": "2023-10-20T11:28:51.112233500Z"
    }
   },
   "id": "856a9110cad3f8ba"
  },
  {
   "cell_type": "code",
   "execution_count": 131,
   "outputs": [
    {
     "name": "stdout",
     "output_type": "stream",
     "text": [
      "Statistical Parity Difference (SPD): -0.06630525437864887\n"
     ]
    }
   ],
   "source": [
    "# Statistical Parity Difference (SPD)\n",
    "# A value of 0 means that members of the unprivileged group (female) and the privileged group (male) are exposed to advertising messages at equal rates, which is considered a fair situation. A negative value of statistical parity difference indicates that the unprivileged group is at a disadvantage and a positive value indicates that the privileged group is at a disadvantage.\n",
    "\n",
    "spd = metric.statistical_parity_difference()\n",
    "print(\"Statistical Parity Difference (SPD):\", spd)"
   ],
   "metadata": {
    "collapsed": false,
    "ExecuteTime": {
     "end_time": "2023-10-20T11:28:51.506268800Z",
     "start_time": "2023-10-20T11:28:51.488826Z"
    }
   },
   "id": "2e113eadcb8be828"
  },
  {
   "cell_type": "code",
   "execution_count": null,
   "outputs": [],
   "source": [],
   "metadata": {
    "collapsed": false
   },
   "id": "e19bec809d977be"
  }
 ],
 "metadata": {
  "kernelspec": {
   "display_name": "Python 3",
   "language": "python",
   "name": "python3"
  },
  "language_info": {
   "codemirror_mode": {
    "name": "ipython",
    "version": 2
   },
   "file_extension": ".py",
   "mimetype": "text/x-python",
   "name": "python",
   "nbconvert_exporter": "python",
   "pygments_lexer": "ipython2",
   "version": "2.7.6"
  }
 },
 "nbformat": 4,
 "nbformat_minor": 5
}
