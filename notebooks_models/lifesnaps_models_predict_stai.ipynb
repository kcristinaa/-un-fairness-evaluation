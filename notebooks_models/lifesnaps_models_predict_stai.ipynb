{
 "cells": [
  {
   "cell_type": "markdown",
   "source": [
    "# Import necessary libraries"
   ],
   "metadata": {
    "collapsed": false
   }
  },
  {
   "cell_type": "code",
   "execution_count": 17,
   "outputs": [],
   "source": [
    "import pandas as pd\n",
    "from sklearn.preprocessing import label_binarize\n",
    "import seaborn as sns\n",
    "from sklearn.metrics import roc_curve, auc, roc_auc_score, recall_score\n",
    "import matplotlib.pyplot as plt\n",
    "from imblearn.over_sampling import SMOTE\n",
    "import numpy as np\n",
    "from sklearn.linear_model import LogisticRegression\n",
    "from sklearn.discriminant_analysis import QuadraticDiscriminantAnalysis\n",
    "from sklearn.model_selection import LeavePGroupsOut\n",
    "from sklearn.ensemble import RandomForestClassifier, GradientBoostingClassifier\n",
    "from xgboost import XGBClassifier\n",
    "from sklearn.metrics import confusion_matrix, f1_score\n",
    "from sklearn.neural_network import MLPClassifier\n",
    "from sklearn.dummy import DummyClassifier\n",
    "from sklearn.svm import SVC\n",
    "from sklearn.linear_model import LogisticRegression\n",
    "from sklearn.preprocessing import StandardScaler\n",
    "from sklearn.decomposition import PCA"
   ],
   "metadata": {
    "collapsed": false,
    "ExecuteTime": {
     "end_time": "2024-04-14T19:10:41.824113900Z",
     "start_time": "2024-04-14T19:10:41.814121400Z"
    }
   }
  },
  {
   "cell_type": "markdown",
   "source": [
    "# Functions"
   ],
   "metadata": {
    "collapsed": false
   },
   "id": "25b45ad170d08fae"
  },
  {
   "cell_type": "code",
   "outputs": [],
   "source": [
    "def train_test_split_per_user(data, train_size=0.8, target_column='label_negative_affect_category'):\n",
    "    users = list(set(data.id))\n",
    "    users = sorted(users, reverse=True)  # fix randomness\n",
    "    total_users = len(users)\n",
    "    slice_idx = int(train_size * total_users)\n",
    "    users_train = users[:slice_idx]\n",
    "    users_test = users[slice_idx:]\n",
    "    \n",
    "    # Split data based on user IDs\n",
    "    train_data = data[data.id.isin(users_train)]\n",
    "    test_data = data[data.id.isin(users_test)]\n",
    "    \n",
    "    x_train = train_data.drop(['id', target_column], axis=1) \n",
    "    y_train = train_data[target_column]  \n",
    "    x_test = test_data.drop(['id', target_column], axis=1) \n",
    "    y_test = test_data[target_column]  \n",
    "    \n",
    "    return x_train, y_train, x_test, y_test"
   ],
   "metadata": {
    "collapsed": false,
    "ExecuteTime": {
     "end_time": "2024-04-14T19:10:42.179431400Z",
     "start_time": "2024-04-14T19:10:42.163020700Z"
    }
   },
   "id": "8c5304fb9b21d87f",
   "execution_count": 18
  },
  {
   "cell_type": "code",
   "outputs": [],
   "source": [
    "def plot_confusion_matrix(y_true, y_pred):\n",
    "    cm = confusion_matrix(y_true, y_pred)\n",
    "    sns.heatmap(cm, annot=True, fmt=\"d\", cmap=\"Blues\")\n",
    "    plt.ylabel('Actual label')\n",
    "    plt.xlabel('Predicted label')\n",
    "    plt.title('Confusion Matrix')\n",
    "    plt.show()"
   ],
   "metadata": {
    "collapsed": false,
    "ExecuteTime": {
     "end_time": "2024-04-14T19:10:42.382768600Z",
     "start_time": "2024-04-14T19:10:42.352206100Z"
    }
   },
   "id": "2e1ec32f1a165502",
   "execution_count": 19
  },
  {
   "cell_type": "markdown",
   "source": [
    "# Read the data"
   ],
   "metadata": {
    "collapsed": false
   }
  },
  {
   "cell_type": "code",
   "outputs": [
    {
     "data": {
      "text/plain": "                            id  nightly_temperature   nremhr   rmssd  spo2  \\\n298   621e335a67b776a240bb12ff            35.560128  62.3900  34.057  96.0   \n301   621e34db67b776a240c9c2be            34.847500  62.3900  34.057  96.0   \n302   621e30e467b776a240e817c7            33.274919  52.5365  38.161  94.5   \n305   621e32af67b776a24045b4cf            33.926363  56.3910  41.789  96.7   \n310   621e2fce67b776a240279baa            34.379283  73.5040  21.036  98.0   \n...                        ...                  ...      ...     ...   ...   \n4707  621e346f67b776a24081744f            33.933047  72.3240  26.077  96.0   \n4725  621e339967b776a240e502de            34.097435  51.6640  47.480  95.5   \n4870  621e2f9167b776a240011ccb            34.359505  59.2550  26.811  95.4   \n4899  621e367e67b776a24087d75d            33.189233  54.6510  40.814  96.0   \n4908  621e324e67b776a2400191cb            33.104768  62.3900  34.057  96.0   \n\n      full_sleep_breathing_rate  stress_score  sleep_points_percentage  \\\n298                        15.0          72.0                 0.733333   \n301                        15.0          72.0                 0.733333   \n302                        17.2          72.0                 0.733333   \n305                        13.4          72.0                 0.733333   \n310                        15.2          72.0                 0.733333   \n...                         ...           ...                      ...   \n4707                       18.8          72.0                 0.733333   \n4725                       12.4          72.0                 0.733333   \n4870                       15.4          72.0                 0.700000   \n4899                       11.6          72.0                 0.733333   \n4908                       15.0          72.0                 0.733333   \n\n      exertion_points_percentage  responsiveness_points_percentage  ...  bmi  \\\n298                        0.700                          0.700000  ...    1   \n301                        0.700                          0.700000  ...    1   \n302                        0.700                          0.700000  ...    3   \n305                        0.700                          0.666667  ...    1   \n310                        0.700                          0.666667  ...    1   \n...                          ...                               ...  ...  ...   \n4707                       0.700                          0.700000  ...    3   \n4725                       0.725                          0.700000  ...    1   \n4870                       0.700                          0.766667  ...    1   \n4899                       0.700                          0.700000  ...    3   \n4908                       0.700                          0.700000  ...    2   \n\n      month_sin  weekday_sin  week_sin       day_sin  month_cos  weekday_cos  \\\n298   -0.866025     0.000000  0.587785 -2.449294e-16        0.5     1.000000   \n301   -0.866025     0.000000  0.587785 -2.449294e-16        0.5     1.000000   \n302   -0.866025     0.000000  0.587785 -2.449294e-16        0.5     1.000000   \n305   -0.866025     0.000000  0.587785 -2.449294e-16        0.5     1.000000   \n310   -0.866025     0.000000  0.587785 -2.449294e-16        0.5     1.000000   \n...         ...          ...       ...           ...        ...          ...   \n4707   0.866025     0.974928  0.587785  6.513725e-01        0.5    -0.222521   \n4725   0.866025     0.974928  0.587785  6.513725e-01        0.5    -0.222521   \n4870   0.866025    -0.781831  0.587785 -1.011683e-01        0.5     0.623490   \n4899   0.866025     0.000000  0.809017 -2.993631e-01        0.5     1.000000   \n4908   0.866025     0.000000  0.809017 -2.993631e-01        0.5     1.000000   \n\n      week_cos   day_cos  label_stai_stress  \n298   0.809017  1.000000                  0  \n301   0.809017  1.000000                  1  \n302   0.809017  1.000000                  2  \n305   0.809017  1.000000                  2  \n310   0.809017  1.000000                  2  \n...        ...       ...                ...  \n4707  0.809017 -0.758758                  1  \n4725  0.809017 -0.758758                  1  \n4870  0.809017 -0.994869                  2  \n4899  0.587785 -0.954139                  0  \n4908  0.587785 -0.954139                  1  \n\n[267 rows x 44 columns]",
      "text/html": "<div>\n<style scoped>\n    .dataframe tbody tr th:only-of-type {\n        vertical-align: middle;\n    }\n\n    .dataframe tbody tr th {\n        vertical-align: top;\n    }\n\n    .dataframe thead th {\n        text-align: right;\n    }\n</style>\n<table border=\"1\" class=\"dataframe\">\n  <thead>\n    <tr style=\"text-align: right;\">\n      <th></th>\n      <th>id</th>\n      <th>nightly_temperature</th>\n      <th>nremhr</th>\n      <th>rmssd</th>\n      <th>spo2</th>\n      <th>full_sleep_breathing_rate</th>\n      <th>stress_score</th>\n      <th>sleep_points_percentage</th>\n      <th>exertion_points_percentage</th>\n      <th>responsiveness_points_percentage</th>\n      <th>...</th>\n      <th>bmi</th>\n      <th>month_sin</th>\n      <th>weekday_sin</th>\n      <th>week_sin</th>\n      <th>day_sin</th>\n      <th>month_cos</th>\n      <th>weekday_cos</th>\n      <th>week_cos</th>\n      <th>day_cos</th>\n      <th>label_stai_stress</th>\n    </tr>\n  </thead>\n  <tbody>\n    <tr>\n      <th>298</th>\n      <td>621e335a67b776a240bb12ff</td>\n      <td>35.560128</td>\n      <td>62.3900</td>\n      <td>34.057</td>\n      <td>96.0</td>\n      <td>15.0</td>\n      <td>72.0</td>\n      <td>0.733333</td>\n      <td>0.700</td>\n      <td>0.700000</td>\n      <td>...</td>\n      <td>1</td>\n      <td>-0.866025</td>\n      <td>0.000000</td>\n      <td>0.587785</td>\n      <td>-2.449294e-16</td>\n      <td>0.5</td>\n      <td>1.000000</td>\n      <td>0.809017</td>\n      <td>1.000000</td>\n      <td>0</td>\n    </tr>\n    <tr>\n      <th>301</th>\n      <td>621e34db67b776a240c9c2be</td>\n      <td>34.847500</td>\n      <td>62.3900</td>\n      <td>34.057</td>\n      <td>96.0</td>\n      <td>15.0</td>\n      <td>72.0</td>\n      <td>0.733333</td>\n      <td>0.700</td>\n      <td>0.700000</td>\n      <td>...</td>\n      <td>1</td>\n      <td>-0.866025</td>\n      <td>0.000000</td>\n      <td>0.587785</td>\n      <td>-2.449294e-16</td>\n      <td>0.5</td>\n      <td>1.000000</td>\n      <td>0.809017</td>\n      <td>1.000000</td>\n      <td>1</td>\n    </tr>\n    <tr>\n      <th>302</th>\n      <td>621e30e467b776a240e817c7</td>\n      <td>33.274919</td>\n      <td>52.5365</td>\n      <td>38.161</td>\n      <td>94.5</td>\n      <td>17.2</td>\n      <td>72.0</td>\n      <td>0.733333</td>\n      <td>0.700</td>\n      <td>0.700000</td>\n      <td>...</td>\n      <td>3</td>\n      <td>-0.866025</td>\n      <td>0.000000</td>\n      <td>0.587785</td>\n      <td>-2.449294e-16</td>\n      <td>0.5</td>\n      <td>1.000000</td>\n      <td>0.809017</td>\n      <td>1.000000</td>\n      <td>2</td>\n    </tr>\n    <tr>\n      <th>305</th>\n      <td>621e32af67b776a24045b4cf</td>\n      <td>33.926363</td>\n      <td>56.3910</td>\n      <td>41.789</td>\n      <td>96.7</td>\n      <td>13.4</td>\n      <td>72.0</td>\n      <td>0.733333</td>\n      <td>0.700</td>\n      <td>0.666667</td>\n      <td>...</td>\n      <td>1</td>\n      <td>-0.866025</td>\n      <td>0.000000</td>\n      <td>0.587785</td>\n      <td>-2.449294e-16</td>\n      <td>0.5</td>\n      <td>1.000000</td>\n      <td>0.809017</td>\n      <td>1.000000</td>\n      <td>2</td>\n    </tr>\n    <tr>\n      <th>310</th>\n      <td>621e2fce67b776a240279baa</td>\n      <td>34.379283</td>\n      <td>73.5040</td>\n      <td>21.036</td>\n      <td>98.0</td>\n      <td>15.2</td>\n      <td>72.0</td>\n      <td>0.733333</td>\n      <td>0.700</td>\n      <td>0.666667</td>\n      <td>...</td>\n      <td>1</td>\n      <td>-0.866025</td>\n      <td>0.000000</td>\n      <td>0.587785</td>\n      <td>-2.449294e-16</td>\n      <td>0.5</td>\n      <td>1.000000</td>\n      <td>0.809017</td>\n      <td>1.000000</td>\n      <td>2</td>\n    </tr>\n    <tr>\n      <th>...</th>\n      <td>...</td>\n      <td>...</td>\n      <td>...</td>\n      <td>...</td>\n      <td>...</td>\n      <td>...</td>\n      <td>...</td>\n      <td>...</td>\n      <td>...</td>\n      <td>...</td>\n      <td>...</td>\n      <td>...</td>\n      <td>...</td>\n      <td>...</td>\n      <td>...</td>\n      <td>...</td>\n      <td>...</td>\n      <td>...</td>\n      <td>...</td>\n      <td>...</td>\n      <td>...</td>\n    </tr>\n    <tr>\n      <th>4707</th>\n      <td>621e346f67b776a24081744f</td>\n      <td>33.933047</td>\n      <td>72.3240</td>\n      <td>26.077</td>\n      <td>96.0</td>\n      <td>18.8</td>\n      <td>72.0</td>\n      <td>0.733333</td>\n      <td>0.700</td>\n      <td>0.700000</td>\n      <td>...</td>\n      <td>3</td>\n      <td>0.866025</td>\n      <td>0.974928</td>\n      <td>0.587785</td>\n      <td>6.513725e-01</td>\n      <td>0.5</td>\n      <td>-0.222521</td>\n      <td>0.809017</td>\n      <td>-0.758758</td>\n      <td>1</td>\n    </tr>\n    <tr>\n      <th>4725</th>\n      <td>621e339967b776a240e502de</td>\n      <td>34.097435</td>\n      <td>51.6640</td>\n      <td>47.480</td>\n      <td>95.5</td>\n      <td>12.4</td>\n      <td>72.0</td>\n      <td>0.733333</td>\n      <td>0.725</td>\n      <td>0.700000</td>\n      <td>...</td>\n      <td>1</td>\n      <td>0.866025</td>\n      <td>0.974928</td>\n      <td>0.587785</td>\n      <td>6.513725e-01</td>\n      <td>0.5</td>\n      <td>-0.222521</td>\n      <td>0.809017</td>\n      <td>-0.758758</td>\n      <td>1</td>\n    </tr>\n    <tr>\n      <th>4870</th>\n      <td>621e2f9167b776a240011ccb</td>\n      <td>34.359505</td>\n      <td>59.2550</td>\n      <td>26.811</td>\n      <td>95.4</td>\n      <td>15.4</td>\n      <td>72.0</td>\n      <td>0.700000</td>\n      <td>0.700</td>\n      <td>0.766667</td>\n      <td>...</td>\n      <td>1</td>\n      <td>0.866025</td>\n      <td>-0.781831</td>\n      <td>0.587785</td>\n      <td>-1.011683e-01</td>\n      <td>0.5</td>\n      <td>0.623490</td>\n      <td>0.809017</td>\n      <td>-0.994869</td>\n      <td>2</td>\n    </tr>\n    <tr>\n      <th>4899</th>\n      <td>621e367e67b776a24087d75d</td>\n      <td>33.189233</td>\n      <td>54.6510</td>\n      <td>40.814</td>\n      <td>96.0</td>\n      <td>11.6</td>\n      <td>72.0</td>\n      <td>0.733333</td>\n      <td>0.700</td>\n      <td>0.700000</td>\n      <td>...</td>\n      <td>3</td>\n      <td>0.866025</td>\n      <td>0.000000</td>\n      <td>0.809017</td>\n      <td>-2.993631e-01</td>\n      <td>0.5</td>\n      <td>1.000000</td>\n      <td>0.587785</td>\n      <td>-0.954139</td>\n      <td>0</td>\n    </tr>\n    <tr>\n      <th>4908</th>\n      <td>621e324e67b776a2400191cb</td>\n      <td>33.104768</td>\n      <td>62.3900</td>\n      <td>34.057</td>\n      <td>96.0</td>\n      <td>15.0</td>\n      <td>72.0</td>\n      <td>0.733333</td>\n      <td>0.700</td>\n      <td>0.700000</td>\n      <td>...</td>\n      <td>2</td>\n      <td>0.866025</td>\n      <td>0.000000</td>\n      <td>0.809017</td>\n      <td>-2.993631e-01</td>\n      <td>0.5</td>\n      <td>1.000000</td>\n      <td>0.587785</td>\n      <td>-0.954139</td>\n      <td>1</td>\n    </tr>\n  </tbody>\n</table>\n<p>267 rows × 44 columns</p>\n</div>"
     },
     "execution_count": 20,
     "metadata": {},
     "output_type": "execute_result"
    }
   ],
   "source": [
    "df = pd.read_pickle('../data/lifesnaps/lifesnapsv2.pkl')\n",
    "df['id'] = df['id'].astype(str)\n",
    "df = df[df['label_stai_stress'].notna()]\n",
    "df = df.drop(columns=['label_panas_negative_affect', 'label_stress_sema'])\n",
    "df"
   ],
   "metadata": {
    "collapsed": false,
    "ExecuteTime": {
     "end_time": "2024-04-14T19:10:42.726385100Z",
     "start_time": "2024-04-14T19:10:42.693251600Z"
    }
   },
   "id": "af918cafd98a972",
   "execution_count": 20
  },
  {
   "cell_type": "code",
   "execution_count": 21,
   "outputs": [
    {
     "data": {
      "text/plain": "0    102\n1     88\n2     77\nName: label_stai_stress, dtype: int64"
     },
     "execution_count": 21,
     "metadata": {},
     "output_type": "execute_result"
    }
   ],
   "source": [
    "df['label_stai_stress'].value_counts()"
   ],
   "metadata": {
    "collapsed": false,
    "ExecuteTime": {
     "end_time": "2024-04-14T19:10:42.920167100Z",
     "start_time": "2024-04-14T19:10:42.885572900Z"
    }
   }
  },
  {
   "cell_type": "code",
   "execution_count": 22,
   "outputs": [],
   "source": [
    "features = ['nightly_temperature', 'nremhr', 'rmssd', 'spo2', 'full_sleep_breathing_rate', 'stress_score', 'sleep_points_percentage', 'exertion_points_percentage', 'responsiveness_points_percentage', 'daily_temperature_variation', 'calories', 'filteredDemographicVO2Max', 'distance', 'bpm', 'lightly_active_minutes','moderately_active_minutes', 'very_active_minutes', 'sedentary_minutes', 'scl_avg', 'resting_hr', 'sleep_duration', 'minutesAsleep', 'minutesAwake', 'sleep_efficiency', 'sleep_deep_ratio', 'sleep_wake_ratio', 'sleep_light_ratio', 'sleep_rem_ratio', 'steps', 'minutes_in_default_zone_1', 'minutes_below_default_zone_1', 'month_sin', 'weekday_sin', 'week_sin', 'day_sin', 'month_cos', 'weekday_cos', 'week_cos', 'day_cos']\n",
    "\n",
    "scaler = StandardScaler()\n",
    "df[features] = scaler.fit_transform(df[features])"
   ],
   "metadata": {
    "collapsed": false,
    "ExecuteTime": {
     "end_time": "2024-04-14T19:10:43.127909100Z",
     "start_time": "2024-04-14T19:10:43.101898100Z"
    }
   }
  },
  {
   "cell_type": "markdown",
   "source": [
    "# Generic Model\n",
    "each user belongs to either the train or the test set"
   ],
   "metadata": {
    "collapsed": false
   }
  },
  {
   "cell_type": "code",
   "execution_count": 23,
   "outputs": [
    {
     "name": "stdout",
     "output_type": "stream",
     "text": [
      "(199, 42) (199,) (68, 42) (68,)\n"
     ]
    }
   ],
   "source": [
    "X_train, y_train, X_test, y_test = train_test_split_per_user(df,target_column='label_stai_stress')\n",
    "print(X_train.shape, y_train.shape, X_test.shape, y_test.shape)\n",
    "\n",
    "smote = SMOTE(random_state=42)\n",
    "X_train_smote, y_train_smote = smote.fit_resample(X_train, y_train)"
   ],
   "metadata": {
    "collapsed": false,
    "ExecuteTime": {
     "end_time": "2024-04-14T19:10:43.487976Z",
     "start_time": "2024-04-14T19:10:43.452873500Z"
    }
   }
  },
  {
   "cell_type": "code",
   "execution_count": 24,
   "outputs": [
    {
     "name": "stdout",
     "output_type": "stream",
     "text": [
      "Dummy f1 score: 0.1323529411764706\n"
     ]
    },
    {
     "data": {
      "text/plain": "<Figure size 640x480 with 2 Axes>",
      "image/png": "[encoded data removed]"
     },
     "metadata": {},
     "output_type": "display_data"
    }
   ],
   "source": [
    "# Dummy Classifier for comparison\n",
    "dummy_clf = DummyClassifier(strategy='most_frequent')\n",
    "dummy_clf.fit(X_train, y_train)\n",
    "dummy_predictions = dummy_clf.predict(X_test)\n",
    "\n",
    "f1 = f1_score(y_test, dummy_predictions, average='micro')\n",
    "print(f'Dummy f1 score: {f1}')\n",
    "plot_confusion_matrix(y_test, dummy_predictions)"
   ],
   "metadata": {
    "collapsed": false,
    "ExecuteTime": {
     "end_time": "2024-04-14T19:10:43.812309900Z",
     "start_time": "2024-04-14T19:10:43.655970700Z"
    }
   }
  },
  {
   "cell_type": "code",
   "execution_count": 25,
   "outputs": [],
   "source": [
    "#clf = SVC(probability=True)\n",
    "#clf = RandomForestClassifier(n_estimators=100, random_state=42)\n",
    "#clf = XGBClassifier(n_estimators=100, random_state=42)\n",
    "#clf = GradientBoostingClassifier(n_estimators=160, learning_rate=0.3, random_state=42)\n",
    "clf = LogisticRegression(max_iter=200, random_state=42)"
   ],
   "metadata": {
    "collapsed": false,
    "ExecuteTime": {
     "end_time": "2024-04-14T19:10:43.927553200Z",
     "start_time": "2024-04-14T19:10:43.908210500Z"
    }
   }
  },
  {
   "cell_type": "code",
   "execution_count": 26,
   "outputs": [
    {
     "name": "stdout",
     "output_type": "stream",
     "text": [
      "F1 Score: 0.5\n",
      "[[25  8  8]\n",
      " [ 4  3  2]\n",
      " [ 7  5  6]]\n"
     ]
    }
   ],
   "source": [
    "clf.fit(X_train_smote, y_train_smote)\n",
    "y_pred = clf.predict(X_test)\n",
    "f1 = f1_score(y_test, y_pred, average='micro')\n",
    "print(f\"F1 Score: {f1}\")\n",
    "print(confusion_matrix(y_test, y_pred))"
   ],
   "metadata": {
    "collapsed": false,
    "ExecuteTime": {
     "end_time": "2024-04-14T19:10:44.081132400Z",
     "start_time": "2024-04-14T19:10:44.044068500Z"
    }
   }
  },
  {
   "cell_type": "code",
   "execution_count": 27,
   "outputs": [],
   "source": [
    "y_pred_df = pd.DataFrame(y_pred, columns=['label_stai_stress'])\n",
    "\n",
    "y_test.to_csv('../data/lifesnaps/predictions/stai_y_test_generic.csv', index=False)\n",
    "y_pred_df.to_csv('../data/lifesnaps/predictions/stai_pred_generic.csv', index=False)\n",
    "X_test.to_csv('../data/lifesnaps/predictions/stai_X_test_generic.csv', index=False)"
   ],
   "metadata": {
    "collapsed": false,
    "ExecuteTime": {
     "end_time": "2024-04-14T19:10:44.324699700Z",
     "start_time": "2024-04-14T19:10:44.308224500Z"
    }
   }
  },
  {
   "cell_type": "code",
   "execution_count": 28,
   "outputs": [
    {
     "ename": "NameError",
     "evalue": "name 'cycle' is not defined",
     "output_type": "error",
     "traceback": [
      "\u001B[1;31m---------------------------------------------------------------------------\u001B[0m",
      "\u001B[1;31mNameError\u001B[0m                                 Traceback (most recent call last)",
      "Cell \u001B[1;32mIn[28], line 21\u001B[0m\n\u001B[0;32m     19\u001B[0m plt\u001B[38;5;241m.\u001B[39mfigure(figsize\u001B[38;5;241m=\u001B[39m(\u001B[38;5;241m10\u001B[39m, \u001B[38;5;241m8\u001B[39m))\n\u001B[0;32m     20\u001B[0m lw \u001B[38;5;241m=\u001B[39m \u001B[38;5;241m2\u001B[39m\n\u001B[1;32m---> 21\u001B[0m colors \u001B[38;5;241m=\u001B[39m \u001B[43mcycle\u001B[49m([\u001B[38;5;124m'\u001B[39m\u001B[38;5;124maqua\u001B[39m\u001B[38;5;124m'\u001B[39m, \u001B[38;5;124m'\u001B[39m\u001B[38;5;124mdarkorange\u001B[39m\u001B[38;5;124m'\u001B[39m, \u001B[38;5;124m'\u001B[39m\u001B[38;5;124mcornflowerblue\u001B[39m\u001B[38;5;124m'\u001B[39m])\n\u001B[0;32m     22\u001B[0m \u001B[38;5;28;01mfor\u001B[39;00m i, color \u001B[38;5;129;01min\u001B[39;00m \u001B[38;5;28mzip\u001B[39m(\u001B[38;5;28mrange\u001B[39m(n_classes), colors):\n\u001B[0;32m     23\u001B[0m     plt\u001B[38;5;241m.\u001B[39mplot(fpr[i], tpr[i], color\u001B[38;5;241m=\u001B[39mcolor, lw\u001B[38;5;241m=\u001B[39mlw,\n\u001B[0;32m     24\u001B[0m              label\u001B[38;5;241m=\u001B[39m\u001B[38;5;124m'\u001B[39m\u001B[38;5;124mROC curve of class \u001B[39m\u001B[38;5;132;01m{0}\u001B[39;00m\u001B[38;5;124m (area = \u001B[39m\u001B[38;5;132;01m{1:0.2f}\u001B[39;00m\u001B[38;5;124m)\u001B[39m\u001B[38;5;124m'\u001B[39m\n\u001B[0;32m     25\u001B[0m              \u001B[38;5;124m'\u001B[39m\u001B[38;5;124m'\u001B[39m\u001B[38;5;241m.\u001B[39mformat(i, roc_auc[i]))\n",
      "\u001B[1;31mNameError\u001B[0m: name 'cycle' is not defined"
     ]
    },
    {
     "data": {
      "text/plain": "<Figure size 1000x800 with 0 Axes>"
     },
     "metadata": {},
     "output_type": "display_data"
    }
   ],
   "source": [
    "y_prob = clf.predict_proba(X_test)  # matrix of probabilities\n",
    "# Binarize the output labels for multi-class ROC AUC\n",
    "y_test_binarized = label_binarize(y_test, classes=[0, 1, 2])\n",
    "n_classes = y_test_binarized.shape[1]\n",
    "\n",
    "# Compute ROC curve and ROC area for each class\n",
    "fpr = dict()\n",
    "tpr = dict()\n",
    "roc_auc = dict()\n",
    "for i in range(n_classes):\n",
    "    fpr[i], tpr[i], _ = roc_curve(y_test_binarized[:, i], y_prob[:, i])\n",
    "    roc_auc[i] = auc(fpr[i], tpr[i])\n",
    "\n",
    "# Compute micro-average ROC curve and ROC area\n",
    "fpr[\"micro\"], tpr[\"micro\"], _ = roc_curve(y_test_binarized.ravel(), y_prob.ravel())\n",
    "roc_auc[\"micro\"] = auc(fpr[\"micro\"], tpr[\"micro\"])\n",
    "\n",
    "# Plotting\n",
    "plt.figure(figsize=(10, 8))\n",
    "lw = 2\n",
    "colors = cycle(['aqua', 'darkorange', 'cornflowerblue'])\n",
    "for i, color in zip(range(n_classes), colors):\n",
    "    plt.plot(fpr[i], tpr[i], color=color, lw=lw,\n",
    "             label='ROC curve of class {0} (area = {1:0.2f})'\n",
    "             ''.format(i, roc_auc[i]))\n",
    "\n",
    "plt.plot([0, 1], [0, 1], 'k--', lw=lw)\n",
    "plt.xlim([0.0, 1.0])\n",
    "plt.ylim([0.0, 1.05])\n",
    "plt.xlabel('False Positive Rate')\n",
    "plt.ylabel('True Positive Rate')\n",
    "plt.title('Multi-class ROC')\n",
    "plt.legend(loc=\"lower right\")\n",
    "plt.show()"
   ],
   "metadata": {
    "collapsed": false,
    "ExecuteTime": {
     "end_time": "2024-04-14T19:10:44.500846900Z",
     "start_time": "2024-04-14T19:10:44.447581900Z"
    }
   }
  },
  {
   "cell_type": "markdown",
   "source": [
    "# Leave one person out (LOPO) method"
   ],
   "metadata": {
    "collapsed": false
   }
  },
  {
   "cell_type": "code",
   "execution_count": 29,
   "outputs": [
    {
     "name": "stdout",
     "output_type": "stream",
     "text": [
      "Average f1-scores across all LOPO iterations: 0.43100479185384843\n",
      "[[40 43 19]\n",
      " [34 32 22]\n",
      " [19 19 39]]\n"
     ]
    }
   ],
   "source": [
    "X = df.drop(['label_stai_stress', 'id'], axis=1)  # Features\n",
    "y = df['label_stai_stress']  # Target variable\n",
    "unique_labels = y.unique()\n",
    "groups = df['id']  # Group identifier for LOPO\n",
    "\n",
    "#model = DummyClassifier(strategy='most_frequent')\n",
    "#model = SVC(probability=True)\n",
    "#model = RandomForestClassifier(n_estimators=100, random_state=42)\n",
    "#model = XGBClassifier(n_estimators=100, random_state=42)\n",
    "#model = GradientBoostingClassifier(n_estimators=160, learning_rate=0.3, random_state=42)\n",
    "model = LogisticRegression(max_iter=200, random_state=42)\n",
    "\n",
    "cv = LeavePGroupsOut(n_groups=1)\n",
    "scores = []\n",
    "confusion_matrices = []\n",
    "\n",
    "\n",
    "for train_idx, test_idx in cv.split(X, y, groups):\n",
    "    X_train, X_test = X.iloc[train_idx], X.iloc[test_idx]\n",
    "    y_train, y_test = y.iloc[train_idx], y.iloc[test_idx]\n",
    "\n",
    "    smote = SMOTE(random_state=42)\n",
    "    X_train_smote, y_train_smote = smote.fit_resample(X_train, y_train)\n",
    "\n",
    "    model.fit(X_train_smote, y_train_smote)\n",
    "    y_pred = model.predict(X_test)\n",
    "    score = f1_score(y_test, y_pred, average='micro')\n",
    "    scores.append(score)\n",
    "    cm = confusion_matrix(y_test, y_pred, labels=unique_labels)\n",
    "    confusion_matrices.append(cm)\n",
    "\n",
    "# Calculate the average performance across all LOPO iterations\n",
    "average_score = np.mean(scores)\n",
    "print(f'Average f1-scores across all LOPO iterations: {average_score}')\n",
    "total_confusion_matrix = np.sum(confusion_matrices, axis=0)\n",
    "print(total_confusion_matrix)"
   ],
   "metadata": {
    "collapsed": false,
    "ExecuteTime": {
     "end_time": "2024-04-14T19:10:46.019534100Z",
     "start_time": "2024-04-14T19:10:44.853181700Z"
    }
   }
  },
  {
   "cell_type": "code",
   "execution_count": 30,
   "outputs": [
    {
     "name": "stdout",
     "output_type": "stream",
     "text": [
      "Average f1-scores across all LOPO iterations: 0.4597259658580413\n",
      "[[47 40 15]\n",
      " [37 30 21]\n",
      " [19 19 39]]\n"
     ]
    }
   ],
   "source": [
    "X = df.drop(['label_stai_stress', 'id'], axis=1)  # Features\n",
    "y = df['label_stai_stress']  # Target variable\n",
    "unique_labels = y.unique()\n",
    "groups = df['id']  # Group identifier for LOPO\n",
    "\n",
    "model = LogisticRegression(max_iter=200, random_state=42)\n",
    "\n",
    "cv = LeavePGroupsOut(n_groups=1)\n",
    "scores = []\n",
    "confusion_matrices = []\n",
    "all_y_pred = []\n",
    "all_y_test = []\n",
    "all_X_test = []\n",
    "\n",
    "for train_idx, test_idx in cv.split(X, y, groups):\n",
    "    X_train, X_test = X.iloc[train_idx], X.iloc[test_idx]\n",
    "    y_train, y_test = y.iloc[train_idx], y.iloc[test_idx]\n",
    "\n",
    "    smote = SMOTE(random_state=42)\n",
    "    X_train_smote, y_train_smote = smote.fit_resample(X_train, y_train)\n",
    "\n",
    "    model.fit(X_train, y_train)\n",
    "    y_pred = model.predict(X_test)\n",
    "    score = f1_score(y_test, y_pred, average='micro')\n",
    "    scores.append(score)\n",
    "    cm = confusion_matrix(y_test, y_pred, labels=unique_labels)\n",
    "    confusion_matrices.append(cm)\n",
    "\n",
    "    # Append the current iteration's data to the lists\n",
    "    all_y_pred.extend(y_pred.tolist())\n",
    "    all_y_test.extend(y_test.tolist())\n",
    "    all_X_test.append(X_test)\n",
    "\n",
    "# Calculate the average performance across all LOPO iterations\n",
    "average_score = np.mean(scores)\n",
    "print(f'Average f1-scores across all LOPO iterations: {average_score}')\n",
    "total_confusion_matrix = np.sum(confusion_matrices, axis=0)\n",
    "print(total_confusion_matrix)\n",
    "\n",
    "# Convert lists and DataFrame pieces to full DataFrames\n",
    "all_y_pred_df = pd.DataFrame(all_y_pred, columns=['label_stai_stress'])\n",
    "all_y_test_df = pd.DataFrame(all_y_test, columns=['label_stai_stress'])\n",
    "all_X_test_df = pd.concat(all_X_test).reset_index(drop=True)\n",
    "\n",
    "# Saving the DataFrames to CSV files\n",
    "all_y_test_df.to_csv('../data/lifesnaps/predictions/stai_y_test_LOPO.csv', index=False)\n",
    "all_y_pred_df.to_csv('../data/lifesnaps/predictions/stai_y_pred_LOPO.csv', index=False)\n",
    "all_X_test_df.to_csv('../data/lifesnaps/predictions/stai_X_test_LOPO.csv', index=False)"
   ],
   "metadata": {
    "collapsed": false,
    "ExecuteTime": {
     "end_time": "2024-04-14T19:10:47.324643600Z",
     "start_time": "2024-04-14T19:10:46.024533200Z"
    }
   }
  },
  {
   "cell_type": "markdown",
   "source": [
    "# Deep learning"
   ],
   "metadata": {
    "collapsed": false
   }
  },
  {
   "cell_type": "code",
   "outputs": [
    {
     "name": "stdout",
     "output_type": "stream",
     "text": [
      "F1 Score: 0.4264705882352941\n"
     ]
    },
    {
     "ename": "NameError",
     "evalue": "name 'cycle' is not defined",
     "output_type": "error",
     "traceback": [
      "\u001B[1;31m---------------------------------------------------------------------------\u001B[0m",
      "\u001B[1;31mNameError\u001B[0m                                 Traceback (most recent call last)",
      "Cell \u001B[1;32mIn[31], line 36\u001B[0m\n\u001B[0;32m     34\u001B[0m plt\u001B[38;5;241m.\u001B[39mfigure(figsize\u001B[38;5;241m=\u001B[39m(\u001B[38;5;241m10\u001B[39m, \u001B[38;5;241m8\u001B[39m))\n\u001B[0;32m     35\u001B[0m lw \u001B[38;5;241m=\u001B[39m \u001B[38;5;241m2\u001B[39m\n\u001B[1;32m---> 36\u001B[0m colors \u001B[38;5;241m=\u001B[39m \u001B[43mcycle\u001B[49m([\u001B[38;5;124m'\u001B[39m\u001B[38;5;124maqua\u001B[39m\u001B[38;5;124m'\u001B[39m, \u001B[38;5;124m'\u001B[39m\u001B[38;5;124mdarkorange\u001B[39m\u001B[38;5;124m'\u001B[39m, \u001B[38;5;124m'\u001B[39m\u001B[38;5;124mcornflowerblue\u001B[39m\u001B[38;5;124m'\u001B[39m])\n\u001B[0;32m     37\u001B[0m \u001B[38;5;28;01mfor\u001B[39;00m i, color \u001B[38;5;129;01min\u001B[39;00m \u001B[38;5;28mzip\u001B[39m(\u001B[38;5;28mrange\u001B[39m(n_classes), colors):\n\u001B[0;32m     38\u001B[0m     plt\u001B[38;5;241m.\u001B[39mplot(fpr[i], tpr[i], color\u001B[38;5;241m=\u001B[39mcolor, lw\u001B[38;5;241m=\u001B[39mlw,\n\u001B[0;32m     39\u001B[0m              label\u001B[38;5;241m=\u001B[39m\u001B[38;5;124m'\u001B[39m\u001B[38;5;124mROC curve of class \u001B[39m\u001B[38;5;132;01m{0}\u001B[39;00m\u001B[38;5;124m (area = \u001B[39m\u001B[38;5;132;01m{1:0.2f}\u001B[39;00m\u001B[38;5;124m)\u001B[39m\u001B[38;5;124m'\u001B[39m\n\u001B[0;32m     40\u001B[0m              \u001B[38;5;124m'\u001B[39m\u001B[38;5;124m'\u001B[39m\u001B[38;5;241m.\u001B[39mformat(i, roc_auc[i]))\n",
      "\u001B[1;31mNameError\u001B[0m: name 'cycle' is not defined"
     ]
    },
    {
     "data": {
      "text/plain": "<Figure size 1000x800 with 0 Axes>"
     },
     "metadata": {},
     "output_type": "display_data"
    }
   ],
   "source": [
    "X_train, y_train, X_test, y_test = train_test_split_per_user(df,target_column='label_stai_stress')\n",
    "\n",
    "smote = SMOTE(random_state=42)\n",
    "X_train_smote, y_train_smote = smote.fit_resample(X_train, y_train)\n",
    "\n",
    "mlp = MLPClassifier(random_state=42, max_iter=800)\n",
    "mlp.fit(X_train_smote, y_train_smote)\n",
    "\n",
    "y_pred = mlp.predict(X_test)\n",
    "y_pred_proba = mlp.predict_proba(X_test)[:, 1]  # Get probability for the positive class\n",
    "\n",
    "# F1 Score\n",
    "f1 = f1_score(y_test, y_pred, average='micro')\n",
    "print(f'F1 Score: {f1}')\n",
    "\n",
    "y_prob = clf.predict_proba(X_test)  # matrix of probabilities\n",
    "# Binarize the output labels for multi-class ROC AUC\n",
    "y_test_binarized = label_binarize(y_test, classes=[0, 1, 2])\n",
    "n_classes = y_test_binarized.shape[1]\n",
    "\n",
    "# Compute ROC curve and ROC area for each class\n",
    "fpr = dict()\n",
    "tpr = dict()\n",
    "roc_auc = dict()\n",
    "for i in range(n_classes):\n",
    "    fpr[i], tpr[i], _ = roc_curve(y_test_binarized[:, i], y_prob[:, i])\n",
    "    roc_auc[i] = auc(fpr[i], tpr[i])\n",
    "\n",
    "# Compute micro-average ROC curve and ROC area\n",
    "fpr[\"micro\"], tpr[\"micro\"], _ = roc_curve(y_test_binarized.ravel(), y_prob.ravel())\n",
    "roc_auc[\"micro\"] = auc(fpr[\"micro\"], tpr[\"micro\"])\n",
    "\n",
    "# Plotting\n",
    "plt.figure(figsize=(10, 8))\n",
    "lw = 2\n",
    "colors = cycle(['aqua', 'darkorange', 'cornflowerblue'])\n",
    "for i, color in zip(range(n_classes), colors):\n",
    "    plt.plot(fpr[i], tpr[i], color=color, lw=lw,\n",
    "             label='ROC curve of class {0} (area = {1:0.2f})'\n",
    "             ''.format(i, roc_auc[i]))\n",
    "\n",
    "plt.plot([0, 1], [0, 1], 'k--', lw=lw)\n",
    "plt.xlim([0.0, 1.0])\n",
    "plt.ylim([0.0, 1.05])\n",
    "plt.xlabel('False Positive Rate')\n",
    "plt.ylabel('True Positive Rate')\n",
    "plt.title('Multi-class ROC')\n",
    "plt.legend(loc=\"lower right\")\n",
    "plt.show()\n",
    "\n",
    "# Calculate confusion matrix\n",
    "cm = confusion_matrix(y_test, y_pred)\n",
    "\n",
    "# Plotting the confusion matrix\n",
    "plt.figure(figsize=(10, 7))\n",
    "sns.heatmap(cm, annot=True, fmt=\"d\", cmap=\"Blues\")\n",
    "plt.title('Confusion Matrix')\n",
    "plt.xlabel('Predicted labels')\n",
    "plt.ylabel('True labels')\n",
    "plt.show()"
   ],
   "metadata": {
    "collapsed": false,
    "ExecuteTime": {
     "end_time": "2024-04-14T19:10:47.751341300Z",
     "start_time": "2024-04-14T19:10:47.330643200Z"
    }
   },
   "id": "72397c6a0a439c88",
   "execution_count": 31
  },
  {
   "cell_type": "code",
   "execution_count": null,
   "outputs": [],
   "source": [],
   "metadata": {
    "collapsed": false
   }
  },
  {
   "cell_type": "code",
   "execution_count": null,
   "outputs": [],
   "source": [],
   "metadata": {
    "collapsed": false
   }
  },
  {
   "cell_type": "code",
   "execution_count": null,
   "outputs": [],
   "source": [],
   "metadata": {
    "collapsed": false
   }
  }
 ],
 "metadata": {
  "kernelspec": {
   "display_name": "Python 3",
   "language": "python",
   "name": "python3"
  },
  "language_info": {
   "codemirror_mode": {
    "name": "ipython",
    "version": 2
   },
   "file_extension": ".py",
   "mimetype": "text/x-python",
   "name": "python",
   "nbconvert_exporter": "python",
   "pygments_lexer": "ipython2",
   "version": "2.7.6"
  }
 },
 "nbformat": 4,
 "nbformat_minor": 5
}
