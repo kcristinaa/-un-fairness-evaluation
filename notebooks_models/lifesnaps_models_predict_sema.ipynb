{
 "cells": [
  {
   "cell_type": "markdown",
   "id": "6e682326-7dc3-4b0d-a4db-1d8dca76d806",
   "metadata": {},
   "source": [
    "# Import necessary libraries"
   ]
  },
  {
   "cell_type": "code",
   "execution_count": 14,
   "id": "initial_id",
   "metadata": {
    "ExecuteTime": {
     "end_time": "2024-04-14T18:50:36.868531900Z",
     "start_time": "2024-04-14T18:50:36.752942Z"
    },
    "tags": []
   },
   "outputs": [],
   "source": [
    "import pandas as pd\n",
    "from sklearn.preprocessing import label_binarize\n",
    "import seaborn as sns\n",
    "from sklearn.metrics import roc_curve, auc, roc_auc_score, recall_score\n",
    "import matplotlib.pyplot as plt\n",
    "from imblearn.over_sampling import SMOTE\n",
    "import numpy as np\n",
    "from sklearn.linear_model import LogisticRegression\n",
    "from sklearn.discriminant_analysis import QuadraticDiscriminantAnalysis\n",
    "from sklearn.model_selection import LeavePGroupsOut\n",
    "from sklearn.ensemble import RandomForestClassifier, GradientBoostingClassifier\n",
    "from xgboost import XGBClassifier\n",
    "from sklearn.metrics import confusion_matrix, f1_score\n",
    "from sklearn.neural_network import MLPClassifier\n",
    "from sklearn.dummy import DummyClassifier\n",
    "from sklearn.svm import SVC\n",
    "from sklearn.linear_model import LogisticRegression\n",
    "from sklearn.discriminant_analysis import LinearDiscriminantAnalysis\n",
    "from lightgbm import LGBMClassifier\n",
    "from sklearn.preprocessing import StandardScaler\n",
    "from sklearn.decomposition import PCA"
   ]
  },
  {
   "cell_type": "markdown",
   "id": "b322f08c-e5ae-47ff-92a6-9afbf558a7e7",
   "metadata": {},
   "source": [
    "# Functions"
   ]
  },
  {
   "cell_type": "code",
   "execution_count": 15,
   "id": "8c5304fb9b21d87f",
   "metadata": {
    "ExecuteTime": {
     "end_time": "2024-04-14T18:50:36.868531900Z",
     "start_time": "2024-04-14T18:50:36.773376800Z"
    },
    "collapsed": false,
    "jupyter": {
     "outputs_hidden": false
    },
    "tags": []
   },
   "outputs": [],
   "source": [
    "\n",
    "def train_test_split_per_user(data, train_size=0.8, target_column='label_negative_affect_category'):\n",
    "    users = list(set(data.id))\n",
    "    users = sorted(users, reverse=True)  \n",
    "    total_users = len(users)\n",
    "    slice_idx = int(train_size * total_users)\n",
    "    users_train = users[:slice_idx]\n",
    "    users_test = users[slice_idx:]\n",
    "    \n",
    "    # Split data based on user IDs\n",
    "    train_data = data[data.id.isin(users_train)]\n",
    "    test_data = data[data.id.isin(users_test)]\n",
    "    \n",
    "    x_train = train_data.drop(['id', target_column], axis=1) \n",
    "    y_train = train_data[target_column]  \n",
    "    x_test = test_data.drop(['id', target_column], axis=1) \n",
    "    y_test = test_data[target_column]  \n",
    "    \n",
    "    return x_train, y_train, x_test, y_test"
   ]
  },
  {
   "cell_type": "code",
   "execution_count": 16,
   "id": "2e1ec32f1a165502",
   "metadata": {
    "ExecuteTime": {
     "end_time": "2024-04-14T18:50:36.868531900Z",
     "start_time": "2024-04-14T18:50:36.783748200Z"
    },
    "collapsed": false,
    "jupyter": {
     "outputs_hidden": false
    },
    "tags": []
   },
   "outputs": [],
   "source": [
    "def plot_confusion_matrix(y_true, y_pred):\n",
    "    cm = confusion_matrix(y_true, y_pred)\n",
    "    sns.heatmap(cm, annot=True, fmt=\"d\", cmap=\"Blues\")\n",
    "    plt.ylabel('Actual label')\n",
    "    plt.xlabel('Predicted label')\n",
    "    plt.title('Confusion Matrix')\n",
    "    plt.show()"
   ]
  },
  {
   "cell_type": "markdown",
   "id": "5f369ec1-a7cc-45dd-87e3-ce65ca36d2df",
   "metadata": {},
   "source": [
    "# Read the data"
   ]
  },
  {
   "cell_type": "code",
   "execution_count": 17,
   "id": "af918cafd98a972",
   "metadata": {
    "ExecuteTime": {
     "end_time": "2024-04-14T18:50:36.870530Z",
     "start_time": "2024-04-14T18:50:36.800559Z"
    },
    "collapsed": false,
    "jupyter": {
     "outputs_hidden": false
    },
    "tags": []
   },
   "outputs": [
    {
     "data": {
      "text/html": [
       "<div>\n",
       "<style scoped>\n",
       "    .dataframe tbody tr th:only-of-type {\n",
       "        vertical-align: middle;\n",
       "    }\n",
       "\n",
       "    .dataframe tbody tr th {\n",
       "        vertical-align: top;\n",
       "    }\n",
       "\n",
       "    .dataframe thead th {\n",
       "        text-align: right;\n",
       "    }\n",
       "</style>\n",
       "<table border=\"1\" class=\"dataframe\">\n",
       "  <thead>\n",
       "    <tr style=\"text-align: right;\">\n",
       "      <th></th>\n",
       "      <th>id</th>\n",
       "      <th>nightly_temperature</th>\n",
       "      <th>nremhr</th>\n",
       "      <th>rmssd</th>\n",
       "      <th>spo2</th>\n",
       "      <th>full_sleep_breathing_rate</th>\n",
       "      <th>stress_score</th>\n",
       "      <th>sleep_points_percentage</th>\n",
       "      <th>exertion_points_percentage</th>\n",
       "      <th>responsiveness_points_percentage</th>\n",
       "      <th>...</th>\n",
       "      <th>bmi</th>\n",
       "      <th>month_sin</th>\n",
       "      <th>weekday_sin</th>\n",
       "      <th>week_sin</th>\n",
       "      <th>day_sin</th>\n",
       "      <th>month_cos</th>\n",
       "      <th>weekday_cos</th>\n",
       "      <th>week_cos</th>\n",
       "      <th>day_cos</th>\n",
       "      <th>label_stress_sema</th>\n",
       "    </tr>\n",
       "  </thead>\n",
       "  <tbody>\n",
       "    <tr>\n",
       "      <th>1</th>\n",
       "      <td>621e30e467b776a240e817c7</td>\n",
       "      <td>33.274919</td>\n",
       "      <td>52.5365</td>\n",
       "      <td>38.1610</td>\n",
       "      <td>94.5</td>\n",
       "      <td>17.2</td>\n",
       "      <td>72.0</td>\n",
       "      <td>0.733333</td>\n",
       "      <td>0.7</td>\n",
       "      <td>0.700000</td>\n",
       "      <td>...</td>\n",
       "      <td>3</td>\n",
       "      <td>-0.866025</td>\n",
       "      <td>0.000000</td>\n",
       "      <td>0.309017</td>\n",
       "      <td>-0.988468</td>\n",
       "      <td>0.5</td>\n",
       "      <td>1.00000</td>\n",
       "      <td>0.951057</td>\n",
       "      <td>0.151428</td>\n",
       "      <td>1.0</td>\n",
       "    </tr>\n",
       "    <tr>\n",
       "      <th>6</th>\n",
       "      <td>621e32af67b776a24045b4cf</td>\n",
       "      <td>34.119702</td>\n",
       "      <td>51.6220</td>\n",
       "      <td>43.5360</td>\n",
       "      <td>97.8</td>\n",
       "      <td>13.8</td>\n",
       "      <td>72.0</td>\n",
       "      <td>0.733333</td>\n",
       "      <td>0.7</td>\n",
       "      <td>0.700000</td>\n",
       "      <td>...</td>\n",
       "      <td>1</td>\n",
       "      <td>-0.866025</td>\n",
       "      <td>0.000000</td>\n",
       "      <td>0.309017</td>\n",
       "      <td>-0.988468</td>\n",
       "      <td>0.5</td>\n",
       "      <td>1.00000</td>\n",
       "      <td>0.951057</td>\n",
       "      <td>0.151428</td>\n",
       "      <td>0.0</td>\n",
       "    </tr>\n",
       "    <tr>\n",
       "      <th>8</th>\n",
       "      <td>621e301e67b776a240608a72</td>\n",
       "      <td>34.710232</td>\n",
       "      <td>62.3900</td>\n",
       "      <td>34.0570</td>\n",
       "      <td>96.0</td>\n",
       "      <td>15.0</td>\n",
       "      <td>74.0</td>\n",
       "      <td>0.700000</td>\n",
       "      <td>0.7</td>\n",
       "      <td>0.700000</td>\n",
       "      <td>...</td>\n",
       "      <td>1</td>\n",
       "      <td>-0.866025</td>\n",
       "      <td>0.000000</td>\n",
       "      <td>0.309017</td>\n",
       "      <td>-0.988468</td>\n",
       "      <td>0.5</td>\n",
       "      <td>1.00000</td>\n",
       "      <td>0.951057</td>\n",
       "      <td>0.151428</td>\n",
       "      <td>0.0</td>\n",
       "    </tr>\n",
       "    <tr>\n",
       "      <th>9</th>\n",
       "      <td>621e337667b776a240ce78ab</td>\n",
       "      <td>33.662874</td>\n",
       "      <td>52.9270</td>\n",
       "      <td>39.9390</td>\n",
       "      <td>95.5</td>\n",
       "      <td>11.2</td>\n",
       "      <td>72.0</td>\n",
       "      <td>0.733333</td>\n",
       "      <td>0.7</td>\n",
       "      <td>0.700000</td>\n",
       "      <td>...</td>\n",
       "      <td>1</td>\n",
       "      <td>-0.866025</td>\n",
       "      <td>0.000000</td>\n",
       "      <td>0.309017</td>\n",
       "      <td>-0.988468</td>\n",
       "      <td>0.5</td>\n",
       "      <td>1.00000</td>\n",
       "      <td>0.951057</td>\n",
       "      <td>0.151428</td>\n",
       "      <td>0.0</td>\n",
       "    </tr>\n",
       "    <tr>\n",
       "      <th>17</th>\n",
       "      <td>621e2f7a67b776a240f14425</td>\n",
       "      <td>32.556993</td>\n",
       "      <td>62.3900</td>\n",
       "      <td>34.0570</td>\n",
       "      <td>96.7</td>\n",
       "      <td>15.0</td>\n",
       "      <td>72.0</td>\n",
       "      <td>0.733333</td>\n",
       "      <td>0.7</td>\n",
       "      <td>0.700000</td>\n",
       "      <td>...</td>\n",
       "      <td>1</td>\n",
       "      <td>-0.866025</td>\n",
       "      <td>0.000000</td>\n",
       "      <td>0.309017</td>\n",
       "      <td>-0.988468</td>\n",
       "      <td>0.5</td>\n",
       "      <td>1.00000</td>\n",
       "      <td>0.951057</td>\n",
       "      <td>0.151428</td>\n",
       "      <td>0.0</td>\n",
       "    </tr>\n",
       "    <tr>\n",
       "      <th>...</th>\n",
       "      <td>...</td>\n",
       "      <td>...</td>\n",
       "      <td>...</td>\n",
       "      <td>...</td>\n",
       "      <td>...</td>\n",
       "      <td>...</td>\n",
       "      <td>...</td>\n",
       "      <td>...</td>\n",
       "      <td>...</td>\n",
       "      <td>...</td>\n",
       "      <td>...</td>\n",
       "      <td>...</td>\n",
       "      <td>...</td>\n",
       "      <td>...</td>\n",
       "      <td>...</td>\n",
       "      <td>...</td>\n",
       "      <td>...</td>\n",
       "      <td>...</td>\n",
       "      <td>...</td>\n",
       "      <td>...</td>\n",
       "      <td>...</td>\n",
       "    </tr>\n",
       "    <tr>\n",
       "      <th>4873</th>\n",
       "      <td>621e33cf67b776a240087de9</td>\n",
       "      <td>33.892631</td>\n",
       "      <td>62.8590</td>\n",
       "      <td>49.3950</td>\n",
       "      <td>96.0</td>\n",
       "      <td>12.0</td>\n",
       "      <td>72.0</td>\n",
       "      <td>0.733333</td>\n",
       "      <td>0.7</td>\n",
       "      <td>0.766667</td>\n",
       "      <td>...</td>\n",
       "      <td>2</td>\n",
       "      <td>0.866025</td>\n",
       "      <td>-0.781831</td>\n",
       "      <td>0.587785</td>\n",
       "      <td>-0.101168</td>\n",
       "      <td>0.5</td>\n",
       "      <td>0.62349</td>\n",
       "      <td>0.809017</td>\n",
       "      <td>-0.994869</td>\n",
       "      <td>1.0</td>\n",
       "    </tr>\n",
       "    <tr>\n",
       "      <th>4888</th>\n",
       "      <td>621e346f67b776a24081744f</td>\n",
       "      <td>32.903545</td>\n",
       "      <td>71.8630</td>\n",
       "      <td>25.4750</td>\n",
       "      <td>96.0</td>\n",
       "      <td>18.2</td>\n",
       "      <td>72.0</td>\n",
       "      <td>0.733333</td>\n",
       "      <td>0.7</td>\n",
       "      <td>0.733333</td>\n",
       "      <td>...</td>\n",
       "      <td>3</td>\n",
       "      <td>0.866025</td>\n",
       "      <td>0.000000</td>\n",
       "      <td>0.809017</td>\n",
       "      <td>-0.299363</td>\n",
       "      <td>0.5</td>\n",
       "      <td>1.00000</td>\n",
       "      <td>0.587785</td>\n",
       "      <td>-0.954139</td>\n",
       "      <td>1.0</td>\n",
       "    </tr>\n",
       "    <tr>\n",
       "      <th>4891</th>\n",
       "      <td>621e2f9167b776a240011ccb</td>\n",
       "      <td>34.716690</td>\n",
       "      <td>58.4890</td>\n",
       "      <td>28.3290</td>\n",
       "      <td>96.5</td>\n",
       "      <td>14.2</td>\n",
       "      <td>72.0</td>\n",
       "      <td>0.733333</td>\n",
       "      <td>0.7</td>\n",
       "      <td>0.700000</td>\n",
       "      <td>...</td>\n",
       "      <td>1</td>\n",
       "      <td>0.866025</td>\n",
       "      <td>0.000000</td>\n",
       "      <td>0.809017</td>\n",
       "      <td>-0.299363</td>\n",
       "      <td>0.5</td>\n",
       "      <td>1.00000</td>\n",
       "      <td>0.587785</td>\n",
       "      <td>-0.954139</td>\n",
       "      <td>1.0</td>\n",
       "    </tr>\n",
       "    <tr>\n",
       "      <th>4900</th>\n",
       "      <td>621e331067b776a24085dd3f</td>\n",
       "      <td>34.683800</td>\n",
       "      <td>62.3900</td>\n",
       "      <td>34.0570</td>\n",
       "      <td>96.0</td>\n",
       "      <td>15.0</td>\n",
       "      <td>72.0</td>\n",
       "      <td>0.733333</td>\n",
       "      <td>0.7</td>\n",
       "      <td>0.700000</td>\n",
       "      <td>...</td>\n",
       "      <td>1</td>\n",
       "      <td>0.866025</td>\n",
       "      <td>0.000000</td>\n",
       "      <td>0.809017</td>\n",
       "      <td>-0.299363</td>\n",
       "      <td>0.5</td>\n",
       "      <td>1.00000</td>\n",
       "      <td>0.587785</td>\n",
       "      <td>-0.954139</td>\n",
       "      <td>0.0</td>\n",
       "    </tr>\n",
       "    <tr>\n",
       "      <th>4901</th>\n",
       "      <td>621e30f467b776a240f22944</td>\n",
       "      <td>34.352490</td>\n",
       "      <td>55.0970</td>\n",
       "      <td>52.7735</td>\n",
       "      <td>96.0</td>\n",
       "      <td>13.4</td>\n",
       "      <td>72.0</td>\n",
       "      <td>0.733333</td>\n",
       "      <td>0.7</td>\n",
       "      <td>0.700000</td>\n",
       "      <td>...</td>\n",
       "      <td>1</td>\n",
       "      <td>0.866025</td>\n",
       "      <td>0.000000</td>\n",
       "      <td>0.809017</td>\n",
       "      <td>-0.299363</td>\n",
       "      <td>0.5</td>\n",
       "      <td>1.00000</td>\n",
       "      <td>0.587785</td>\n",
       "      <td>-0.954139</td>\n",
       "      <td>0.0</td>\n",
       "    </tr>\n",
       "  </tbody>\n",
       "</table>\n",
       "<p>2246 rows × 44 columns</p>\n",
       "</div>"
      ],
      "text/plain": [
       "                            id  nightly_temperature   nremhr    rmssd  spo2  \\\n",
       "1     621e30e467b776a240e817c7            33.274919  52.5365  38.1610  94.5   \n",
       "6     621e32af67b776a24045b4cf            34.119702  51.6220  43.5360  97.8   \n",
       "8     621e301e67b776a240608a72            34.710232  62.3900  34.0570  96.0   \n",
       "9     621e337667b776a240ce78ab            33.662874  52.9270  39.9390  95.5   \n",
       "17    621e2f7a67b776a240f14425            32.556993  62.3900  34.0570  96.7   \n",
       "...                        ...                  ...      ...      ...   ...   \n",
       "4873  621e33cf67b776a240087de9            33.892631  62.8590  49.3950  96.0   \n",
       "4888  621e346f67b776a24081744f            32.903545  71.8630  25.4750  96.0   \n",
       "4891  621e2f9167b776a240011ccb            34.716690  58.4890  28.3290  96.5   \n",
       "4900  621e331067b776a24085dd3f            34.683800  62.3900  34.0570  96.0   \n",
       "4901  621e30f467b776a240f22944            34.352490  55.0970  52.7735  96.0   \n",
       "\n",
       "      full_sleep_breathing_rate  stress_score  sleep_points_percentage  \\\n",
       "1                          17.2          72.0                 0.733333   \n",
       "6                          13.8          72.0                 0.733333   \n",
       "8                          15.0          74.0                 0.700000   \n",
       "9                          11.2          72.0                 0.733333   \n",
       "17                         15.0          72.0                 0.733333   \n",
       "...                         ...           ...                      ...   \n",
       "4873                       12.0          72.0                 0.733333   \n",
       "4888                       18.2          72.0                 0.733333   \n",
       "4891                       14.2          72.0                 0.733333   \n",
       "4900                       15.0          72.0                 0.733333   \n",
       "4901                       13.4          72.0                 0.733333   \n",
       "\n",
       "      exertion_points_percentage  responsiveness_points_percentage  ...  bmi  \\\n",
       "1                            0.7                          0.700000  ...    3   \n",
       "6                            0.7                          0.700000  ...    1   \n",
       "8                            0.7                          0.700000  ...    1   \n",
       "9                            0.7                          0.700000  ...    1   \n",
       "17                           0.7                          0.700000  ...    1   \n",
       "...                          ...                               ...  ...  ...   \n",
       "4873                         0.7                          0.766667  ...    2   \n",
       "4888                         0.7                          0.733333  ...    3   \n",
       "4891                         0.7                          0.700000  ...    1   \n",
       "4900                         0.7                          0.700000  ...    1   \n",
       "4901                         0.7                          0.700000  ...    1   \n",
       "\n",
       "      month_sin  weekday_sin  week_sin   day_sin  month_cos  weekday_cos  \\\n",
       "1     -0.866025     0.000000  0.309017 -0.988468        0.5      1.00000   \n",
       "6     -0.866025     0.000000  0.309017 -0.988468        0.5      1.00000   \n",
       "8     -0.866025     0.000000  0.309017 -0.988468        0.5      1.00000   \n",
       "9     -0.866025     0.000000  0.309017 -0.988468        0.5      1.00000   \n",
       "17    -0.866025     0.000000  0.309017 -0.988468        0.5      1.00000   \n",
       "...         ...          ...       ...       ...        ...          ...   \n",
       "4873   0.866025    -0.781831  0.587785 -0.101168        0.5      0.62349   \n",
       "4888   0.866025     0.000000  0.809017 -0.299363        0.5      1.00000   \n",
       "4891   0.866025     0.000000  0.809017 -0.299363        0.5      1.00000   \n",
       "4900   0.866025     0.000000  0.809017 -0.299363        0.5      1.00000   \n",
       "4901   0.866025     0.000000  0.809017 -0.299363        0.5      1.00000   \n",
       "\n",
       "      week_cos   day_cos  label_stress_sema  \n",
       "1     0.951057  0.151428                1.0  \n",
       "6     0.951057  0.151428                0.0  \n",
       "8     0.951057  0.151428                0.0  \n",
       "9     0.951057  0.151428                0.0  \n",
       "17    0.951057  0.151428                0.0  \n",
       "...        ...       ...                ...  \n",
       "4873  0.809017 -0.994869                1.0  \n",
       "4888  0.587785 -0.954139                1.0  \n",
       "4891  0.587785 -0.954139                1.0  \n",
       "4900  0.587785 -0.954139                0.0  \n",
       "4901  0.587785 -0.954139                0.0  \n",
       "\n",
       "[2246 rows x 44 columns]"
      ]
     },
     "execution_count": 17,
     "metadata": {},
     "output_type": "execute_result"
    }
   ],
   "source": [
    "df = pd.read_pickle('../data/lifesnaps/lifesnapsv2.pkl')\n",
    "df['id'] = df['id'].astype(str)\n",
    "df = df[df['label_stress_sema'].notna()]\n",
    "df = df.drop(columns=['label_panas_negative_affect', 'label_stai_stress'])\n",
    "df"
   ]
  },
  {
   "cell_type": "code",
   "execution_count": 18,
   "id": "2bf3df00-33ac-47a1-bb91-195b98723c53",
   "metadata": {
    "ExecuteTime": {
     "end_time": "2024-04-14T18:50:36.870530Z",
     "start_time": "2024-04-14T18:50:36.833099800Z"
    },
    "tags": []
   },
   "outputs": [
    {
     "data": {
      "text/plain": [
       "Index(['id', 'nightly_temperature', 'nremhr', 'rmssd', 'spo2',\n",
       "       'full_sleep_breathing_rate', 'stress_score', 'sleep_points_percentage',\n",
       "       'exertion_points_percentage', 'responsiveness_points_percentage',\n",
       "       'daily_temperature_variation', 'calories', 'filteredDemographicVO2Max',\n",
       "       'distance', 'bpm', 'lightly_active_minutes',\n",
       "       'moderately_active_minutes', 'very_active_minutes', 'sedentary_minutes',\n",
       "       'scl_avg', 'resting_hr', 'sleep_duration', 'minutesAsleep',\n",
       "       'minutesAwake', 'sleep_efficiency', 'sleep_deep_ratio',\n",
       "       'sleep_wake_ratio', 'sleep_light_ratio', 'sleep_rem_ratio', 'steps',\n",
       "       'minutes_in_default_zone_1', 'minutes_below_default_zone_1', 'age',\n",
       "       'gender', 'bmi', 'month_sin', 'weekday_sin', 'week_sin', 'day_sin',\n",
       "       'month_cos', 'weekday_cos', 'week_cos', 'day_cos', 'label_stress_sema'],\n",
       "      dtype='object')"
      ]
     },
     "execution_count": 18,
     "metadata": {},
     "output_type": "execute_result"
    }
   ],
   "source": [
    "df.columns"
   ]
  },
  {
   "cell_type": "code",
   "execution_count": 19,
   "id": "0661e273-7bdf-465e-b21a-9ec947f30cf1",
   "metadata": {
    "ExecuteTime": {
     "end_time": "2024-04-14T18:50:36.870530Z",
     "start_time": "2024-04-14T18:50:36.848151300Z"
    },
    "tags": []
   },
   "outputs": [
    {
     "data": {
      "text/plain": [
       "0.0    1750\n",
       "1.0     496\n",
       "Name: label_stress_sema, dtype: int64"
      ]
     },
     "execution_count": 19,
     "metadata": {},
     "output_type": "execute_result"
    }
   ],
   "source": [
    "df['label_stress_sema'].value_counts()"
   ]
  },
  {
   "cell_type": "code",
   "execution_count": 20,
   "id": "62273205",
   "metadata": {
    "ExecuteTime": {
     "end_time": "2024-04-14T18:50:36.891692100Z",
     "start_time": "2024-04-14T18:50:36.864532200Z"
    },
    "collapsed": false,
    "jupyter": {
     "outputs_hidden": false
    }
   },
   "outputs": [],
   "source": [
    "features = ['nightly_temperature', 'nremhr', 'rmssd', 'spo2', 'full_sleep_breathing_rate', 'stress_score', 'sleep_points_percentage', 'exertion_points_percentage', 'responsiveness_points_percentage', 'daily_temperature_variation', 'calories', 'filteredDemographicVO2Max', 'distance', 'bpm', 'lightly_active_minutes','moderately_active_minutes', 'very_active_minutes', 'sedentary_minutes', 'scl_avg', 'resting_hr', 'sleep_duration', 'minutesAsleep', 'minutesAwake', 'sleep_efficiency', 'sleep_deep_ratio', 'sleep_wake_ratio', 'sleep_light_ratio', 'sleep_rem_ratio', 'steps', 'minutes_in_default_zone_1', 'minutes_below_default_zone_1', 'month_sin', 'weekday_sin', 'week_sin', 'day_sin', 'month_cos', 'weekday_cos', 'week_cos', 'day_cos']\n",
    "\n",
    "scaler = StandardScaler()\n",
    "df[features] = scaler.fit_transform(df[features])"
   ]
  },
  {
   "cell_type": "markdown",
   "id": "c66f78e4",
   "metadata": {},
   "source": [
    "# Generic Model\n",
    "each user belongs to either the train or the test set"
   ]
  },
  {
   "cell_type": "code",
   "execution_count": 21,
   "id": "efd91d62",
   "metadata": {
    "ExecuteTime": {
     "end_time": "2024-04-14T18:50:36.949114100Z",
     "start_time": "2024-04-14T18:50:36.895084900Z"
    },
    "collapsed": false,
    "jupyter": {
     "outputs_hidden": false
    },
    "tags": []
   },
   "outputs": [
    {
     "name": "stdout",
     "output_type": "stream",
     "text": [
      "(1682, 42) (1682,) (564, 42) (564,)\n"
     ]
    }
   ],
   "source": [
    "X_train, y_train, X_test, y_test = train_test_split_per_user(df,target_column='label_stress_sema')\n",
    "print(X_train.shape, y_train.shape, X_test.shape, y_test.shape)\n",
    "\n",
    "smote = SMOTE(random_state=42)\n",
    "X_train_smote, y_train_smote = smote.fit_resample(X_train, y_train)"
   ]
  },
  {
   "cell_type": "code",
   "execution_count": 9,
   "id": "e7c9019d",
   "metadata": {
    "ExecuteTime": {
     "end_time": "2024-04-14T18:50:37.076580Z",
     "start_time": "2024-04-14T18:50:36.923796500Z"
    },
    "collapsed": false,
    "jupyter": {
     "outputs_hidden": false
    }
   },
   "outputs": [
    {
     "name": "stdout",
     "output_type": "stream",
     "text": [
      "Dummy f1 score: 0.7553191489361702\n"
     ]
    },
    {
     "data": {
      "image/png": "[encoded data removed]",
      "text/plain": [
       "<Figure size 640x480 with 2 Axes>"
      ]
     },
     "metadata": {},
     "output_type": "display_data"
    }
   ],
   "source": [
    "# Dummy Classifier for comparison\n",
    "dummy_clf = DummyClassifier(strategy='most_frequent')\n",
    "dummy_clf.fit(X_train, y_train)\n",
    "dummy_predictions = dummy_clf.predict(X_test)\n",
    "\n",
    "f1 = f1_score(y_test, dummy_predictions, average='micro')\n",
    "print(f'Dummy f1 score: {f1}')\n",
    "plot_confusion_matrix(y_test, dummy_predictions)"
   ]
  },
  {
   "cell_type": "code",
   "execution_count": 22,
   "id": "6ed312b1",
   "metadata": {
    "ExecuteTime": {
     "end_time": "2024-04-14T18:50:37.135297300Z",
     "start_time": "2024-04-14T18:50:37.078575Z"
    },
    "collapsed": false,
    "jupyter": {
     "outputs_hidden": false
    },
    "tags": []
   },
   "outputs": [],
   "source": [
    "#clf = SVC(probability=True)\n",
    "clf = RandomForestClassifier(n_estimators=100, random_state=42)\n",
    "#clf = XGBClassifier(n_estimators=100, random_state=42)\n",
    "#clf = GradientBoostingClassifier(n_estimators=160, learning_rate=0.3, random_state=42)\n",
    "#clf = LogisticRegression(max_iter=200, random_state=42)\n",
    "#clf = LinearDiscriminantAnalysis(covariance_estimator=None, n_components=None, priors=None, shrinkage=None, solver='svd', store_covariance=False, tol=0.0001)\n",
    "#clf = LGBMClassifier(boosting_type='gbdt', n_estimators=100)"
   ]
  },
  {
   "cell_type": "code",
   "execution_count": 23,
   "id": "0c71b563",
   "metadata": {
    "ExecuteTime": {
     "end_time": "2024-04-14T18:50:37.771061700Z",
     "start_time": "2024-04-14T18:50:37.093354200Z"
    },
    "collapsed": false,
    "jupyter": {
     "outputs_hidden": false
    },
    "tags": []
   },
   "outputs": [
    {
     "name": "stdout",
     "output_type": "stream",
     "text": [
      "F1 Score: 0.7464539007092198\n",
      "[[421   5]\n",
      " [138   0]]\n"
     ]
    }
   ],
   "source": [
    "clf.fit(X_train, y_train)\n",
    "y_pred = clf.predict(X_test)\n",
    "\n",
    "f1 = f1_score(y_test, y_pred, average='micro')\n",
    "print(f\"F1 Score: {f1}\")\n",
    "print(confusion_matrix(y_test, y_pred))"
   ]
  },
  {
   "cell_type": "code",
   "execution_count": 24,
   "id": "4c187d77",
   "metadata": {
    "ExecuteTime": {
     "end_time": "2024-04-14T18:50:37.818434400Z",
     "start_time": "2024-04-14T18:50:37.775730300Z"
    },
    "collapsed": false,
    "jupyter": {
     "outputs_hidden": false
    }
   },
   "outputs": [],
   "source": [
    "y_pred_df = pd.DataFrame(y_pred, columns=['label_stress_sema'])\n",
    "\n",
    "y_test.to_csv('../data/lifesnaps/predictions/sema_y_test_generic.csv', index=False)\n",
    "y_pred_df.to_csv('../data/lifesnaps/predictions/sema_pred_generic.csv', index=False)\n",
    "X_test.to_csv('../data/lifesnaps/predictions/sema_X_test_generic.csv', index=False)"
   ]
  },
  {
   "cell_type": "code",
   "execution_count": 25,
   "id": "6802af3f",
   "metadata": {
    "ExecuteTime": {
     "end_time": "2024-04-14T18:50:37.974544700Z",
     "start_time": "2024-04-14T18:50:37.823434900Z"
    },
    "collapsed": false,
    "jupyter": {
     "outputs_hidden": false
    },
    "tags": []
   },
   "outputs": [
    {
     "data": {
      "image/png": "[encoded data removed]",
      "text/plain": [
       "<Figure size 640x480 with 1 Axes>"
      ]
     },
     "metadata": {},
     "output_type": "display_data"
    }
   ],
   "source": [
    "# Predict probabilities\n",
    "y_scores = clf.predict_proba(X_test)[:, 0]\n",
    "\n",
    "# Compute ROC curve and AUC\n",
    "fpr, tpr, thresholds = roc_curve(y_test, y_scores)\n",
    "roc_auc = auc(fpr, tpr)\n",
    "\n",
    "# Plotting the ROC curve\n",
    "plt.figure()\n",
    "plt.plot(fpr, tpr, color='darkorange', lw=2, label='ROC curve (area = %0.2f)' % roc_auc)\n",
    "plt.plot([0, 1], [0, 1], color='navy', lw=2, linestyle='--')\n",
    "plt.xlim([0.0, 1.0])\n",
    "plt.ylim([0.0, 1.05])\n",
    "plt.xlabel('False Positive Rate')\n",
    "plt.ylabel('True Positive Rate')\n",
    "plt.title('Receiver Operating Characteristic')\n",
    "plt.legend(loc=\"lower right\")\n",
    "plt.show()"
   ]
  },
  {
   "cell_type": "markdown",
   "id": "d6fa65f0",
   "metadata": {},
   "source": [
    "# Leave one person out (LOPO) method"
   ]
  },
  {
   "cell_type": "code",
   "execution_count": 27,
   "id": "effa3d3b",
   "metadata": {
    "ExecuteTime": {
     "end_time": "2024-04-14T18:50:48.888816800Z",
     "start_time": "2024-04-14T18:50:37.979545600Z"
    },
    "collapsed": false,
    "jupyter": {
     "outputs_hidden": false
    },
    "tags": []
   },
   "outputs": [
    {
     "name": "stdout",
     "output_type": "stream",
     "text": [
      "Average f1-scores across all LOPO iterations: 0.7692959264811884\n",
      "[[   2  494]\n",
      " [   9 1741]]\n"
     ]
    }
   ],
   "source": [
    "X = df.drop(['label_stress_sema', 'id'], axis=1)  # Features\n",
    "y = df['label_stress_sema']  # Target variable\n",
    "unique_labels = y.unique()\n",
    "groups = df['id']  # Group identifier for LOPO\n",
    "\n",
    "model = RandomForestClassifier(n_estimators=100, random_state=42)\n",
    "\n",
    "cv = LeavePGroupsOut(n_groups=1)\n",
    "scores = []\n",
    "confusion_matrices = []\n",
    "all_y_pred = []\n",
    "all_y_test = []\n",
    "all_X_test = []\n",
    "\n",
    "for train_idx, test_idx in cv.split(X, y, groups):\n",
    "    X_train, X_test = X.iloc[train_idx], X.iloc[test_idx]\n",
    "    y_train, y_test = y.iloc[train_idx], y.iloc[test_idx]\n",
    "\n",
    "    smote = SMOTE(random_state=42)\n",
    "    X_train_smote, y_train_smote = smote.fit_resample(X_train, y_train)\n",
    "\n",
    "    model.fit(X_train, y_train)\n",
    "    y_pred = model.predict(X_test)\n",
    "    score = f1_score(y_test, y_pred, average='micro')\n",
    "    scores.append(score)\n",
    "    cm = confusion_matrix(y_test, y_pred, labels=unique_labels)\n",
    "    confusion_matrices.append(cm)\n",
    "\n",
    "    # Append the current iteration's data to the lists\n",
    "    all_y_pred.extend(y_pred.tolist())\n",
    "    all_y_test.extend(y_test.tolist())\n",
    "    all_X_test.append(X_test)\n",
    "\n",
    "# Calculate the average performance across all LOPO iterations\n",
    "average_score = np.mean(scores)\n",
    "print(f'Average f1-scores across all LOPO iterations: {average_score}')\n",
    "total_confusion_matrix = np.sum(confusion_matrices, axis=0)\n",
    "print(total_confusion_matrix)\n",
    "\n",
    "# Convert lists and DataFrame pieces to full DataFrames\n",
    "all_y_pred_df = pd.DataFrame(all_y_pred, columns=['label_stress_sema'])\n",
    "all_y_test_df = pd.DataFrame(all_y_test, columns=['label_stress_sema'])\n",
    "all_X_test_df = pd.concat(all_X_test).reset_index(drop=True)\n",
    "\n",
    "# Saving the DataFrames to CSV files\n",
    "all_y_test_df.to_csv('../data/lifesnaps/predictions/sema_y_test_LOPO.csv', index=False)\n",
    "all_y_pred_df.to_csv('../data/lifesnaps/predictions/sema_y_pred_LOPO.csv', index=False)\n",
    "all_X_test_df.to_csv('../data/lifesnaps/predictions/sema_X_test_LOPO.csv', index=False)"
   ]
  },
  {
   "cell_type": "code",
   "execution_count": 50,
   "id": "777d1bfc",
   "metadata": {
    "ExecuteTime": {
     "end_time": "2024-04-14T18:51:02.841902400Z",
     "start_time": "2024-04-14T18:51:02.799278500Z"
    },
    "collapsed": false,
    "jupyter": {
     "outputs_hidden": false
    }
   },
   "outputs": [
    {
     "data": {
      "text/html": [
       "<div>\n",
       "<style scoped>\n",
       "    .dataframe tbody tr th:only-of-type {\n",
       "        vertical-align: middle;\n",
       "    }\n",
       "\n",
       "    .dataframe tbody tr th {\n",
       "        vertical-align: top;\n",
       "    }\n",
       "\n",
       "    .dataframe thead th {\n",
       "        text-align: right;\n",
       "    }\n",
       "</style>\n",
       "<table border=\"1\" class=\"dataframe\">\n",
       "  <thead>\n",
       "    <tr style=\"text-align: right;\">\n",
       "      <th></th>\n",
       "      <th>label_stress_sema</th>\n",
       "    </tr>\n",
       "  </thead>\n",
       "  <tbody>\n",
       "    <tr>\n",
       "      <th>0</th>\n",
       "      <td>0.0</td>\n",
       "    </tr>\n",
       "    <tr>\n",
       "      <th>1</th>\n",
       "      <td>0.0</td>\n",
       "    </tr>\n",
       "    <tr>\n",
       "      <th>2</th>\n",
       "      <td>0.0</td>\n",
       "    </tr>\n",
       "    <tr>\n",
       "      <th>3</th>\n",
       "      <td>0.0</td>\n",
       "    </tr>\n",
       "    <tr>\n",
       "      <th>4</th>\n",
       "      <td>0.0</td>\n",
       "    </tr>\n",
       "    <tr>\n",
       "      <th>...</th>\n",
       "      <td>...</td>\n",
       "    </tr>\n",
       "    <tr>\n",
       "      <th>2241</th>\n",
       "      <td>0.0</td>\n",
       "    </tr>\n",
       "    <tr>\n",
       "      <th>2242</th>\n",
       "      <td>0.0</td>\n",
       "    </tr>\n",
       "    <tr>\n",
       "      <th>2243</th>\n",
       "      <td>0.0</td>\n",
       "    </tr>\n",
       "    <tr>\n",
       "      <th>2244</th>\n",
       "      <td>0.0</td>\n",
       "    </tr>\n",
       "    <tr>\n",
       "      <th>2245</th>\n",
       "      <td>0.0</td>\n",
       "    </tr>\n",
       "  </tbody>\n",
       "</table>\n",
       "<p>2246 rows × 1 columns</p>\n",
       "</div>"
      ],
      "text/plain": [
       "      label_stress_sema\n",
       "0                   0.0\n",
       "1                   0.0\n",
       "2                   0.0\n",
       "3                   0.0\n",
       "4                   0.0\n",
       "...                 ...\n",
       "2241                0.0\n",
       "2242                0.0\n",
       "2243                0.0\n",
       "2244                0.0\n",
       "2245                0.0\n",
       "\n",
       "[2246 rows x 1 columns]"
      ]
     },
     "execution_count": 50,
     "metadata": {},
     "output_type": "execute_result"
    }
   ],
   "source": [
    "all_y_pred_df"
   ]
  },
  {
   "cell_type": "markdown",
   "id": "f53e5885-ea0d-4dca-a145-3a5ff77f597e",
   "metadata": {
    "collapsed": false,
    "jupyter": {
     "outputs_hidden": false
    }
   },
   "source": [
    "# Deep Learning"
   ]
  },
  {
   "cell_type": "code",
   "execution_count": 51,
   "id": "1e3b2e91-6eb3-4c2b-aba5-d5e8637c4394",
   "metadata": {
    "ExecuteTime": {
     "end_time": "2024-04-14T18:51:07.735889800Z",
     "start_time": "2024-04-14T18:51:02.814850100Z"
    },
    "tags": []
   },
   "outputs": [
    {
     "name": "stdout",
     "output_type": "stream",
     "text": [
      "F1 Score: 0.2905405405405405\n"
     ]
    },
    {
     "data": {
      "image/png": "[encoded data removed]",
      "text/plain": [
       "<Figure size 800x600 with 1 Axes>"
      ]
     },
     "metadata": {},
     "output_type": "display_data"
    }
   ],
   "source": [
    "X_train, y_train, X_test, y_test = train_test_split_per_user(df,target_column='label_stress_sema')\n",
    "\n",
    "smote = SMOTE(random_state=42)\n",
    "X_train_smote, y_train_smote = smote.fit_resample(X_train, y_train)\n",
    "\n",
    "mlp = MLPClassifier(random_state=42, max_iter=800)\n",
    "#mlp = MLPClassifier(max_iter=1000, activation = 'relu', alpha=0.001, hidden_layer_sizes=(50,), random_state=42)\n",
    "mlp.fit(X_train_smote, y_train_smote)\n",
    "\n",
    "y_pred = mlp.predict(X_test)\n",
    "y_pred_proba = mlp.predict_proba(X_test)[:, 1]  # Get probability for the positive class\n",
    "\n",
    "# F1 Score\n",
    "f1 = f1_score(y_test, y_pred)\n",
    "print(f'F1 Score: {f1}')\n",
    "\n",
    "# ROC Curve\n",
    "fpr, tpr, thresholds = roc_curve(y_test, y_pred_proba)\n",
    "roc_auc = roc_auc_score(y_test, y_pred_proba)\n",
    "\n",
    "# Plotting\n",
    "plt.figure(figsize=(8, 6))\n",
    "plt.plot(fpr, tpr, color='orange', label=f'ROC curve (area = {roc_auc:.2f})')\n",
    "plt.plot([0, 1], [0, 1], color='darkblue', linestyle='--')\n",
    "plt.xlabel('False Positive Rate')\n",
    "plt.ylabel('True Positive Rate')\n",
    "plt.title('Receiver Operating Characteristic (ROC) Curve')\n",
    "plt.legend()\n",
    "plt.show()"
   ]
  },
  {
   "cell_type": "code",
   "execution_count": 51,
   "id": "30da1591",
   "metadata": {
    "ExecuteTime": {
     "end_time": "2024-04-14T18:51:07.835936100Z",
     "start_time": "2024-04-14T18:51:07.730618300Z"
    },
    "collapsed": false,
    "jupyter": {
     "outputs_hidden": false
    }
   },
   "outputs": [],
   "source": []
  },
  {
   "cell_type": "code",
   "execution_count": 51,
   "id": "a5e81e96",
   "metadata": {
    "ExecuteTime": {
     "end_time": "2024-04-14T18:51:07.845030Z",
     "start_time": "2024-04-14T18:51:07.746734700Z"
    },
    "collapsed": false,
    "jupyter": {
     "outputs_hidden": false
    }
   },
   "outputs": [],
   "source": []
  },
  {
   "cell_type": "code",
   "execution_count": 51,
   "id": "1968c74e",
   "metadata": {
    "ExecuteTime": {
     "end_time": "2024-04-14T18:51:07.846031800Z",
     "start_time": "2024-04-14T18:51:07.765502600Z"
    },
    "collapsed": false,
    "jupyter": {
     "outputs_hidden": false
    }
   },
   "outputs": [],
   "source": []
  }
 ],
 "metadata": {
  "kernelspec": {
   "display_name": "Python 3 (ipykernel)",
   "language": "python",
   "name": "python3"
  },
  "language_info": {
   "codemirror_mode": {
    "name": "ipython",
    "version": 3
   },
   "file_extension": ".py",
   "mimetype": "text/x-python",
   "name": "python",
   "nbconvert_exporter": "python",
   "pygments_lexer": "ipython3",
   "version": "3.10.13"
  }
 },
 "nbformat": 4,
 "nbformat_minor": 5
}
