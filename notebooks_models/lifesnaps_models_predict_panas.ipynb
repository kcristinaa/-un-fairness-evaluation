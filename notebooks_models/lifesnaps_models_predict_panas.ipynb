{
 "cells": [
  {
   "cell_type": "markdown",
   "id": "a786a7e7-4784-4231-a6ca-497eb5a0913e",
   "metadata": {},
   "source": [
    "# Import necessary libraries"
   ]
  },
  {
   "cell_type": "code",
   "execution_count": 3,
   "id": "initial_id",
   "metadata": {
    "tags": [],
    "ExecuteTime": {
     "end_time": "2024-04-14T18:58:25.011656800Z",
     "start_time": "2024-04-14T18:58:24.972815900Z"
    }
   },
   "outputs": [],
   "source": [
    "import pandas as pd\n",
    "from sklearn.preprocessing import label_binarize\n",
    "import seaborn as sns\n",
    "from sklearn.metrics import roc_curve, auc, roc_auc_score, recall_score\n",
    "import matplotlib.pyplot as plt\n",
    "from imblearn.over_sampling import SMOTE\n",
    "import numpy as np\n",
    "from sklearn.linear_model import LogisticRegression\n",
    "from sklearn.discriminant_analysis import QuadraticDiscriminantAnalysis\n",
    "from sklearn.model_selection import LeavePGroupsOut\n",
    "from sklearn.ensemble import RandomForestClassifier, GradientBoostingClassifier\n",
    "from xgboost import XGBClassifier\n",
    "from sklearn.metrics import confusion_matrix, f1_score\n",
    "from sklearn.neural_network import MLPClassifier\n",
    "from sklearn.dummy import DummyClassifier\n",
    "from sklearn.svm import SVC\n",
    "from sklearn.linear_model import LogisticRegression\n",
    "from sklearn.preprocessing import StandardScaler\n",
    "from sklearn.decomposition import PCA"
   ]
  },
  {
   "cell_type": "markdown",
   "id": "25b45ad170d08fae",
   "metadata": {},
   "source": [
    "# Functions"
   ]
  },
  {
   "cell_type": "code",
   "execution_count": 4,
   "id": "8c5304fb9b21d87f",
   "metadata": {
    "collapsed": false,
    "jupyter": {
     "outputs_hidden": false
    },
    "tags": [],
    "ExecuteTime": {
     "end_time": "2024-04-14T18:58:25.834910500Z",
     "start_time": "2024-04-14T18:58:25.819718200Z"
    }
   },
   "outputs": [],
   "source": [
    "def train_test_split_per_user(data, train_size=0.8, target_column='label_negative_affect_category'):\n",
    "    users = list(set(data.id))\n",
    "    users = sorted(users, reverse=True)  # fix randomness\n",
    "    total_users = len(users)\n",
    "    slice_idx = int(train_size * total_users)\n",
    "    users_train = users[:slice_idx]\n",
    "    users_test = users[slice_idx:]\n",
    "    \n",
    "    # Split data based on user IDs\n",
    "    train_data = data[data.id.isin(users_train)]\n",
    "    test_data = data[data.id.isin(users_test)]\n",
    "    \n",
    "    x_train = train_data.drop(['id', target_column], axis=1) \n",
    "    y_train = train_data[target_column]  \n",
    "    x_test = test_data.drop(['id', target_column], axis=1) \n",
    "    y_test = test_data[target_column]  \n",
    "    \n",
    "    return x_train, y_train, x_test, y_test"
   ]
  },
  {
   "cell_type": "code",
   "execution_count": 5,
   "id": "2e1ec32f1a165502",
   "metadata": {
    "collapsed": false,
    "jupyter": {
     "outputs_hidden": false
    },
    "tags": [],
    "ExecuteTime": {
     "end_time": "2024-04-14T18:58:26.161845400Z",
     "start_time": "2024-04-14T18:58:26.150108900Z"
    }
   },
   "outputs": [],
   "source": [
    "def plot_confusion_matrix(y_true, y_pred):\n",
    "    cm = confusion_matrix(y_true, y_pred)\n",
    "    sns.heatmap(cm, annot=True, fmt=\"d\", cmap=\"Blues\")\n",
    "    plt.ylabel('Actual label')\n",
    "    plt.xlabel('Predicted label')\n",
    "    plt.title('Confusion Matrix')\n",
    "    plt.show()"
   ]
  },
  {
   "cell_type": "markdown",
   "id": "bf438e21-bbf0-4a3c-be4e-ca3c4bc9a94e",
   "metadata": {},
   "source": [
    "# Read the data"
   ]
  },
  {
   "cell_type": "code",
   "execution_count": 6,
   "id": "af918cafd98a972",
   "metadata": {
    "collapsed": false,
    "jupyter": {
     "outputs_hidden": false
    },
    "tags": [],
    "ExecuteTime": {
     "end_time": "2024-04-14T18:58:26.879325Z",
     "start_time": "2024-04-14T18:58:26.835023900Z"
    }
   },
   "outputs": [
    {
     "data": {
      "text/plain": "                            id  nightly_temperature  nremhr   rmssd  spo2  \\\n298   621e335a67b776a240bb12ff            35.560128  62.390  34.057  96.0   \n301   621e34db67b776a240c9c2be            34.847500  62.390  34.057  96.0   \n305   621e32af67b776a24045b4cf            33.926363  56.391  41.789  96.7   \n310   621e2fce67b776a240279baa            34.379283  73.504  21.036  98.0   \n311   621e36f967b776a240e5e7c9            34.052594  64.918  54.922  95.7   \n...                        ...                  ...     ...     ...   ...   \n4707  621e346f67b776a24081744f            33.933047  72.324  26.077  96.0   \n4725  621e339967b776a240e502de            34.097435  51.664  47.480  95.5   \n4870  621e2f9167b776a240011ccb            34.359505  59.255  26.811  95.4   \n4899  621e367e67b776a24087d75d            33.189233  54.651  40.814  96.0   \n4908  621e324e67b776a2400191cb            33.104768  62.390  34.057  96.0   \n\n      full_sleep_breathing_rate  stress_score  sleep_points_percentage  \\\n298                        15.0          72.0                 0.733333   \n301                        15.0          72.0                 0.733333   \n305                        13.4          72.0                 0.733333   \n310                        15.2          72.0                 0.733333   \n311                        15.0          72.0                 0.733333   \n...                         ...           ...                      ...   \n4707                       18.8          72.0                 0.733333   \n4725                       12.4          72.0                 0.733333   \n4870                       15.4          72.0                 0.700000   \n4899                       11.6          72.0                 0.733333   \n4908                       15.0          72.0                 0.733333   \n\n      exertion_points_percentage  responsiveness_points_percentage  ...  bmi  \\\n298                        0.700                          0.700000  ...    1   \n301                        0.700                          0.700000  ...    1   \n305                        0.700                          0.666667  ...    1   \n310                        0.700                          0.666667  ...    1   \n311                        0.700                          0.700000  ...    2   \n...                          ...                               ...  ...  ...   \n4707                       0.700                          0.700000  ...    3   \n4725                       0.725                          0.700000  ...    1   \n4870                       0.700                          0.766667  ...    1   \n4899                       0.700                          0.700000  ...    3   \n4908                       0.700                          0.700000  ...    2   \n\n      month_sin  weekday_sin  week_sin       day_sin  month_cos  weekday_cos  \\\n298   -0.866025     0.000000  0.587785 -2.449294e-16        0.5     1.000000   \n301   -0.866025     0.000000  0.587785 -2.449294e-16        0.5     1.000000   \n305   -0.866025     0.000000  0.587785 -2.449294e-16        0.5     1.000000   \n310   -0.866025     0.000000  0.587785 -2.449294e-16        0.5     1.000000   \n311   -0.866025     0.000000  0.587785 -2.449294e-16        0.5     1.000000   \n...         ...          ...       ...           ...        ...          ...   \n4707   0.866025     0.974928  0.587785  6.513725e-01        0.5    -0.222521   \n4725   0.866025     0.974928  0.587785  6.513725e-01        0.5    -0.222521   \n4870   0.866025    -0.781831  0.587785 -1.011683e-01        0.5     0.623490   \n4899   0.866025     0.000000  0.809017 -2.993631e-01        0.5     1.000000   \n4908   0.866025     0.000000  0.809017 -2.993631e-01        0.5     1.000000   \n\n      week_cos   day_cos  label_panas_negative_affect  \n298   0.809017  1.000000                            0  \n301   0.809017  1.000000                            1  \n305   0.809017  1.000000                            2  \n310   0.809017  1.000000                            1  \n311   0.809017  1.000000                            2  \n...        ...       ...                          ...  \n4707  0.809017 -0.758758                            0  \n4725  0.809017 -0.758758                            0  \n4870  0.809017 -0.994869                            2  \n4899  0.587785 -0.954139                            1  \n4908  0.587785 -0.954139                            0  \n\n[256 rows x 44 columns]",
      "text/html": "<div>\n<style scoped>\n    .dataframe tbody tr th:only-of-type {\n        vertical-align: middle;\n    }\n\n    .dataframe tbody tr th {\n        vertical-align: top;\n    }\n\n    .dataframe thead th {\n        text-align: right;\n    }\n</style>\n<table border=\"1\" class=\"dataframe\">\n  <thead>\n    <tr style=\"text-align: right;\">\n      <th></th>\n      <th>id</th>\n      <th>nightly_temperature</th>\n      <th>nremhr</th>\n      <th>rmssd</th>\n      <th>spo2</th>\n      <th>full_sleep_breathing_rate</th>\n      <th>stress_score</th>\n      <th>sleep_points_percentage</th>\n      <th>exertion_points_percentage</th>\n      <th>responsiveness_points_percentage</th>\n      <th>...</th>\n      <th>bmi</th>\n      <th>month_sin</th>\n      <th>weekday_sin</th>\n      <th>week_sin</th>\n      <th>day_sin</th>\n      <th>month_cos</th>\n      <th>weekday_cos</th>\n      <th>week_cos</th>\n      <th>day_cos</th>\n      <th>label_panas_negative_affect</th>\n    </tr>\n  </thead>\n  <tbody>\n    <tr>\n      <th>298</th>\n      <td>621e335a67b776a240bb12ff</td>\n      <td>35.560128</td>\n      <td>62.390</td>\n      <td>34.057</td>\n      <td>96.0</td>\n      <td>15.0</td>\n      <td>72.0</td>\n      <td>0.733333</td>\n      <td>0.700</td>\n      <td>0.700000</td>\n      <td>...</td>\n      <td>1</td>\n      <td>-0.866025</td>\n      <td>0.000000</td>\n      <td>0.587785</td>\n      <td>-2.449294e-16</td>\n      <td>0.5</td>\n      <td>1.000000</td>\n      <td>0.809017</td>\n      <td>1.000000</td>\n      <td>0</td>\n    </tr>\n    <tr>\n      <th>301</th>\n      <td>621e34db67b776a240c9c2be</td>\n      <td>34.847500</td>\n      <td>62.390</td>\n      <td>34.057</td>\n      <td>96.0</td>\n      <td>15.0</td>\n      <td>72.0</td>\n      <td>0.733333</td>\n      <td>0.700</td>\n      <td>0.700000</td>\n      <td>...</td>\n      <td>1</td>\n      <td>-0.866025</td>\n      <td>0.000000</td>\n      <td>0.587785</td>\n      <td>-2.449294e-16</td>\n      <td>0.5</td>\n      <td>1.000000</td>\n      <td>0.809017</td>\n      <td>1.000000</td>\n      <td>1</td>\n    </tr>\n    <tr>\n      <th>305</th>\n      <td>621e32af67b776a24045b4cf</td>\n      <td>33.926363</td>\n      <td>56.391</td>\n      <td>41.789</td>\n      <td>96.7</td>\n      <td>13.4</td>\n      <td>72.0</td>\n      <td>0.733333</td>\n      <td>0.700</td>\n      <td>0.666667</td>\n      <td>...</td>\n      <td>1</td>\n      <td>-0.866025</td>\n      <td>0.000000</td>\n      <td>0.587785</td>\n      <td>-2.449294e-16</td>\n      <td>0.5</td>\n      <td>1.000000</td>\n      <td>0.809017</td>\n      <td>1.000000</td>\n      <td>2</td>\n    </tr>\n    <tr>\n      <th>310</th>\n      <td>621e2fce67b776a240279baa</td>\n      <td>34.379283</td>\n      <td>73.504</td>\n      <td>21.036</td>\n      <td>98.0</td>\n      <td>15.2</td>\n      <td>72.0</td>\n      <td>0.733333</td>\n      <td>0.700</td>\n      <td>0.666667</td>\n      <td>...</td>\n      <td>1</td>\n      <td>-0.866025</td>\n      <td>0.000000</td>\n      <td>0.587785</td>\n      <td>-2.449294e-16</td>\n      <td>0.5</td>\n      <td>1.000000</td>\n      <td>0.809017</td>\n      <td>1.000000</td>\n      <td>1</td>\n    </tr>\n    <tr>\n      <th>311</th>\n      <td>621e36f967b776a240e5e7c9</td>\n      <td>34.052594</td>\n      <td>64.918</td>\n      <td>54.922</td>\n      <td>95.7</td>\n      <td>15.0</td>\n      <td>72.0</td>\n      <td>0.733333</td>\n      <td>0.700</td>\n      <td>0.700000</td>\n      <td>...</td>\n      <td>2</td>\n      <td>-0.866025</td>\n      <td>0.000000</td>\n      <td>0.587785</td>\n      <td>-2.449294e-16</td>\n      <td>0.5</td>\n      <td>1.000000</td>\n      <td>0.809017</td>\n      <td>1.000000</td>\n      <td>2</td>\n    </tr>\n    <tr>\n      <th>...</th>\n      <td>...</td>\n      <td>...</td>\n      <td>...</td>\n      <td>...</td>\n      <td>...</td>\n      <td>...</td>\n      <td>...</td>\n      <td>...</td>\n      <td>...</td>\n      <td>...</td>\n      <td>...</td>\n      <td>...</td>\n      <td>...</td>\n      <td>...</td>\n      <td>...</td>\n      <td>...</td>\n      <td>...</td>\n      <td>...</td>\n      <td>...</td>\n      <td>...</td>\n      <td>...</td>\n    </tr>\n    <tr>\n      <th>4707</th>\n      <td>621e346f67b776a24081744f</td>\n      <td>33.933047</td>\n      <td>72.324</td>\n      <td>26.077</td>\n      <td>96.0</td>\n      <td>18.8</td>\n      <td>72.0</td>\n      <td>0.733333</td>\n      <td>0.700</td>\n      <td>0.700000</td>\n      <td>...</td>\n      <td>3</td>\n      <td>0.866025</td>\n      <td>0.974928</td>\n      <td>0.587785</td>\n      <td>6.513725e-01</td>\n      <td>0.5</td>\n      <td>-0.222521</td>\n      <td>0.809017</td>\n      <td>-0.758758</td>\n      <td>0</td>\n    </tr>\n    <tr>\n      <th>4725</th>\n      <td>621e339967b776a240e502de</td>\n      <td>34.097435</td>\n      <td>51.664</td>\n      <td>47.480</td>\n      <td>95.5</td>\n      <td>12.4</td>\n      <td>72.0</td>\n      <td>0.733333</td>\n      <td>0.725</td>\n      <td>0.700000</td>\n      <td>...</td>\n      <td>1</td>\n      <td>0.866025</td>\n      <td>0.974928</td>\n      <td>0.587785</td>\n      <td>6.513725e-01</td>\n      <td>0.5</td>\n      <td>-0.222521</td>\n      <td>0.809017</td>\n      <td>-0.758758</td>\n      <td>0</td>\n    </tr>\n    <tr>\n      <th>4870</th>\n      <td>621e2f9167b776a240011ccb</td>\n      <td>34.359505</td>\n      <td>59.255</td>\n      <td>26.811</td>\n      <td>95.4</td>\n      <td>15.4</td>\n      <td>72.0</td>\n      <td>0.700000</td>\n      <td>0.700</td>\n      <td>0.766667</td>\n      <td>...</td>\n      <td>1</td>\n      <td>0.866025</td>\n      <td>-0.781831</td>\n      <td>0.587785</td>\n      <td>-1.011683e-01</td>\n      <td>0.5</td>\n      <td>0.623490</td>\n      <td>0.809017</td>\n      <td>-0.994869</td>\n      <td>2</td>\n    </tr>\n    <tr>\n      <th>4899</th>\n      <td>621e367e67b776a24087d75d</td>\n      <td>33.189233</td>\n      <td>54.651</td>\n      <td>40.814</td>\n      <td>96.0</td>\n      <td>11.6</td>\n      <td>72.0</td>\n      <td>0.733333</td>\n      <td>0.700</td>\n      <td>0.700000</td>\n      <td>...</td>\n      <td>3</td>\n      <td>0.866025</td>\n      <td>0.000000</td>\n      <td>0.809017</td>\n      <td>-2.993631e-01</td>\n      <td>0.5</td>\n      <td>1.000000</td>\n      <td>0.587785</td>\n      <td>-0.954139</td>\n      <td>1</td>\n    </tr>\n    <tr>\n      <th>4908</th>\n      <td>621e324e67b776a2400191cb</td>\n      <td>33.104768</td>\n      <td>62.390</td>\n      <td>34.057</td>\n      <td>96.0</td>\n      <td>15.0</td>\n      <td>72.0</td>\n      <td>0.733333</td>\n      <td>0.700</td>\n      <td>0.700000</td>\n      <td>...</td>\n      <td>2</td>\n      <td>0.866025</td>\n      <td>0.000000</td>\n      <td>0.809017</td>\n      <td>-2.993631e-01</td>\n      <td>0.5</td>\n      <td>1.000000</td>\n      <td>0.587785</td>\n      <td>-0.954139</td>\n      <td>0</td>\n    </tr>\n  </tbody>\n</table>\n<p>256 rows × 44 columns</p>\n</div>"
     },
     "execution_count": 6,
     "metadata": {},
     "output_type": "execute_result"
    }
   ],
   "source": [
    "df = pd.read_pickle('../data/lifesnaps/lifesnapsv2.pkl')\n",
    "df['id'] = df['id'].astype(str)\n",
    "df = df[df['label_panas_negative_affect'].notna()]\n",
    "df = df.drop(columns=['label_stress_sema', 'label_stai_stress'])\n",
    "df"
   ]
  },
  {
   "cell_type": "code",
   "execution_count": 7,
   "id": "8ed916a7-dd96-42aa-8dfc-eeda37e2d636",
   "metadata": {
    "tags": [],
    "ExecuteTime": {
     "end_time": "2024-04-14T18:58:27.249255600Z",
     "start_time": "2024-04-14T18:58:27.188822100Z"
    }
   },
   "outputs": [
    {
     "data": {
      "text/plain": "Index(['id', 'nightly_temperature', 'nremhr', 'rmssd', 'spo2',\n       'full_sleep_breathing_rate', 'stress_score', 'sleep_points_percentage',\n       'exertion_points_percentage', 'responsiveness_points_percentage',\n       'daily_temperature_variation', 'calories', 'filteredDemographicVO2Max',\n       'distance', 'bpm', 'lightly_active_minutes',\n       'moderately_active_minutes', 'very_active_minutes', 'sedentary_minutes',\n       'scl_avg', 'resting_hr', 'sleep_duration', 'minutesAsleep',\n       'minutesAwake', 'sleep_efficiency', 'sleep_deep_ratio',\n       'sleep_wake_ratio', 'sleep_light_ratio', 'sleep_rem_ratio', 'steps',\n       'minutes_in_default_zone_1', 'minutes_below_default_zone_1', 'age',\n       'gender', 'bmi', 'month_sin', 'weekday_sin', 'week_sin', 'day_sin',\n       'month_cos', 'weekday_cos', 'week_cos', 'day_cos',\n       'label_panas_negative_affect'],\n      dtype='object')"
     },
     "execution_count": 7,
     "metadata": {},
     "output_type": "execute_result"
    }
   ],
   "source": [
    "df.columns"
   ]
  },
  {
   "cell_type": "code",
   "execution_count": 8,
   "id": "6fe86c8b-90d5-4a2d-b4a4-723083365cd2",
   "metadata": {
    "tags": [],
    "ExecuteTime": {
     "end_time": "2024-04-14T18:58:27.696938400Z",
     "start_time": "2024-04-14T18:58:27.673340900Z"
    }
   },
   "outputs": [
    {
     "data": {
      "text/plain": "0    98\n1    80\n2    78\nName: label_panas_negative_affect, dtype: int64"
     },
     "execution_count": 8,
     "metadata": {},
     "output_type": "execute_result"
    }
   ],
   "source": [
    "df['label_panas_negative_affect'].value_counts()"
   ]
  },
  {
   "cell_type": "code",
   "execution_count": 9,
   "id": "14dc232f",
   "metadata": {
    "collapsed": false,
    "jupyter": {
     "outputs_hidden": false
    },
    "tags": [],
    "ExecuteTime": {
     "end_time": "2024-04-14T18:58:28.120795700Z",
     "start_time": "2024-04-14T18:58:28.100406900Z"
    }
   },
   "outputs": [],
   "source": [
    "#create_report(df).show_browser()"
   ]
  },
  {
   "cell_type": "code",
   "execution_count": 10,
   "id": "0c167822",
   "metadata": {
    "collapsed": false,
    "jupyter": {
     "outputs_hidden": false
    },
    "ExecuteTime": {
     "end_time": "2024-04-14T18:58:28.567947600Z",
     "start_time": "2024-04-14T18:58:28.540083700Z"
    }
   },
   "outputs": [],
   "source": [
    "features = ['nightly_temperature', 'nremhr', 'rmssd', 'spo2', 'full_sleep_breathing_rate', 'stress_score', 'sleep_points_percentage', 'exertion_points_percentage', 'responsiveness_points_percentage', 'daily_temperature_variation', 'calories', 'filteredDemographicVO2Max', 'distance', 'bpm', 'lightly_active_minutes','moderately_active_minutes', 'very_active_minutes', 'sedentary_minutes', 'scl_avg', 'resting_hr', 'sleep_duration', 'minutesAsleep', 'minutesAwake', 'sleep_efficiency', 'sleep_deep_ratio', 'sleep_wake_ratio', 'sleep_light_ratio', 'sleep_rem_ratio', 'steps', 'minutes_in_default_zone_1', 'minutes_below_default_zone_1', 'month_sin', 'weekday_sin', 'week_sin', 'day_sin', 'month_cos', 'weekday_cos', 'week_cos', 'day_cos']\n",
    "\n",
    "scaler = StandardScaler()\n",
    "df[features] = scaler.fit_transform(df[features])"
   ]
  },
  {
   "cell_type": "markdown",
   "id": "4999d42a-b126-41aa-b804-532c07217666",
   "metadata": {
    "tags": []
   },
   "source": [
    "# Generic Model\n",
    "each user belongs to either the train or the test set"
   ]
  },
  {
   "cell_type": "code",
   "execution_count": 11,
   "id": "eb49eee7-a93d-47e9-bff1-89f96f1ecff9",
   "metadata": {
    "tags": [],
    "ExecuteTime": {
     "end_time": "2024-04-14T18:58:30.196433300Z",
     "start_time": "2024-04-14T18:58:29.843968200Z"
    }
   },
   "outputs": [
    {
     "name": "stdout",
     "output_type": "stream",
     "text": [
      "(187, 42) (187,) (69, 42) (69,)\n"
     ]
    }
   ],
   "source": [
    "X_train, y_train, X_test, y_test = train_test_split_per_user(df,target_column='label_panas_negative_affect')\n",
    "print(X_train.shape, y_train.shape, X_test.shape, y_test.shape)\n",
    "\n",
    "smote = SMOTE(random_state=42)\n",
    "X_train_smote, y_train_smote = smote.fit_resample(X_train, y_train)"
   ]
  },
  {
   "cell_type": "code",
   "execution_count": 12,
   "id": "6e6655e1",
   "metadata": {
    "collapsed": false,
    "jupyter": {
     "outputs_hidden": false
    },
    "ExecuteTime": {
     "end_time": "2024-04-14T18:58:31.888471300Z",
     "start_time": "2024-04-14T18:58:31.747412400Z"
    }
   },
   "outputs": [
    {
     "name": "stdout",
     "output_type": "stream",
     "text": [
      "Dummy f1 score: 0.391304347826087\n"
     ]
    },
    {
     "data": {
      "text/plain": "<Figure size 640x480 with 2 Axes>",
      "image/png": "[encoded data removed]"
     },
     "metadata": {},
     "output_type": "display_data"
    }
   ],
   "source": [
    "# Dummy Classifier for comparison\n",
    "dummy_clf = DummyClassifier(strategy='most_frequent')\n",
    "dummy_clf.fit(X_train_smote, y_train_smote)\n",
    "dummy_predictions = dummy_clf.predict(X_test)\n",
    "\n",
    "f1 = f1_score(y_test, dummy_predictions, average='micro')\n",
    "print(f'Dummy f1 score: {f1}')\n",
    "plot_confusion_matrix(y_test, dummy_predictions)"
   ]
  },
  {
   "cell_type": "code",
   "execution_count": 13,
   "id": "724894ee-2e80-4c50-b0b6-d30540dca29b",
   "metadata": {
    "tags": [],
    "ExecuteTime": {
     "end_time": "2024-04-14T18:58:32.863467800Z",
     "start_time": "2024-04-14T18:58:32.830380400Z"
    }
   },
   "outputs": [],
   "source": [
    "clf = SVC(probability=True)\n",
    "#clf = RandomForestClassifier(n_estimators=100, random_state=42)\n",
    "#clf = XGBClassifier(n_estimators=100, random_state=42)\n",
    "#clf = GradientBoostingClassifier(n_estimators=160, learning_rate=0.3, random_state=42)\n",
    "#clf = LogisticRegression(max_iter=200, random_state=42)"
   ]
  },
  {
   "cell_type": "code",
   "execution_count": 14,
   "id": "775c8226-792a-445e-84db-b98e98abface",
   "metadata": {
    "tags": [],
    "ExecuteTime": {
     "end_time": "2024-04-14T18:58:35.265277700Z",
     "start_time": "2024-04-14T18:58:35.232095900Z"
    }
   },
   "outputs": [
    {
     "name": "stdout",
     "output_type": "stream",
     "text": [
      "F1 Score: 0.4492753623188406\n",
      "[[16  1 10]\n",
      " [ 9  7  8]\n",
      " [ 9  1  8]]\n"
     ]
    }
   ],
   "source": [
    "clf.fit(X_train, y_train)\n",
    "y_pred = clf.predict(X_test)\n",
    "\n",
    "f1 = f1_score(y_test, y_pred, average='micro')\n",
    "print(f\"F1 Score: {f1}\")\n",
    "print(confusion_matrix(y_test, y_pred))"
   ]
  },
  {
   "cell_type": "code",
   "execution_count": 15,
   "outputs": [],
   "source": [
    "y_pred_df = pd.DataFrame(y_pred, columns=['label_panas_negative_affect'])\n",
    "\n",
    "y_test.to_csv('../data/lifesnaps/predictions/panas_y_test_generic.csv', index=False)\n",
    "y_pred_df.to_csv('../data/lifesnaps/predictions/panas_pred_generic.csv', index=False)\n",
    "X_test.to_csv('../data/lifesnaps/predictions/panas_X_test_generic.csv', index=False)"
   ],
   "metadata": {
    "collapsed": false,
    "ExecuteTime": {
     "end_time": "2024-04-14T18:59:24.081839Z",
     "start_time": "2024-04-14T18:59:24.054457700Z"
    }
   }
  },
  {
   "cell_type": "markdown",
   "id": "19a766d5-1415-4051-a10a-31e65846bcec",
   "metadata": {},
   "source": [
    "# Leave one person out (LOPO) method"
   ]
  },
  {
   "cell_type": "code",
   "execution_count": 16,
   "id": "a830a9b3-08dd-4944-9996-be72b1cc4ef8",
   "metadata": {
    "tags": [],
    "ExecuteTime": {
     "end_time": "2024-04-14T19:00:07.508263100Z",
     "start_time": "2024-04-14T19:00:06.281235200Z"
    }
   },
   "outputs": [
    {
     "name": "stdout",
     "output_type": "stream",
     "text": [
      "Average f1-scores across all LOPO iterations: 0.36044973544973546\n",
      "[[42 22 34]\n",
      " [28 32 20]\n",
      " [26 29 23]]\n"
     ]
    }
   ],
   "source": [
    "X = df.drop(['label_panas_negative_affect', 'id'], axis=1)  # Features\n",
    "y = df['label_panas_negative_affect']  # Target variable\n",
    "unique_labels = y.unique()\n",
    "groups = df['id']  # Group identifier for LOPO\n",
    "\n",
    "#model = DummyClassifier(strategy='most_frequent')\n",
    "#model = SVC(probability=True)\n",
    "#model = RandomForestClassifier(n_estimators=100, random_state=42)\n",
    "#model = XGBClassifier(n_estimators=100, random_state=42)\n",
    "#model = GradientBoostingClassifier(n_estimators=160, learning_rate=0.3, random_state=42)\n",
    "model = LogisticRegression(max_iter=200, random_state=42)\n",
    "\n",
    "cv = LeavePGroupsOut(n_groups=1)\n",
    "scores = []\n",
    "confusion_matrices = []\n",
    "\n",
    "for train_idx, test_idx in cv.split(X, y, groups):\n",
    "\n",
    "    X_train, X_test = X.iloc[train_idx], X.iloc[test_idx]\n",
    "    y_train, y_test = y.iloc[train_idx], y.iloc[test_idx]\n",
    "\n",
    "    smote = SMOTE(random_state=42)\n",
    "    X_train_smote, y_train_smote = smote.fit_resample(X_train, y_train)\n",
    "\n",
    "    model.fit(X_train_smote, y_train_smote)\n",
    "    y_pred = model.predict(X_test)\n",
    "    score = f1_score(y_test, y_pred, average='micro')\n",
    "    scores.append(score)\n",
    "    cm = confusion_matrix(y_test, y_pred, labels=unique_labels)\n",
    "    confusion_matrices.append(cm)\n",
    "\n",
    "# Calculate the average performance across all LOPO iterations\n",
    "average_score = np.mean(scores)\n",
    "print(f'Average f1-scores across all LOPO iterations: {average_score}')\n",
    "total_confusion_matrix = np.sum(confusion_matrices, axis=0)\n",
    "print(total_confusion_matrix)"
   ]
  },
  {
   "cell_type": "code",
   "execution_count": 18,
   "outputs": [
    {
     "name": "stdout",
     "output_type": "stream",
     "text": [
      "Average f1-scores across all LOPO iterations: 0.38321661998132583\n",
      "[[46 19 33]\n",
      " [28 31 21]\n",
      " [34 24 20]]\n"
     ]
    }
   ],
   "source": [
    "X = df.drop(['label_panas_negative_affect', 'id'], axis=1)  # Features\n",
    "y = df['label_panas_negative_affect']  # Target variable\n",
    "unique_labels = y.unique()\n",
    "groups = df['id']  # Group identifier for LOPO\n",
    "\n",
    "model = LogisticRegression(max_iter=200, random_state=42)\n",
    "\n",
    "cv = LeavePGroupsOut(n_groups=1)\n",
    "scores = []\n",
    "confusion_matrices = []\n",
    "all_y_pred = []\n",
    "all_y_test = []\n",
    "all_X_test = []\n",
    "\n",
    "for train_idx, test_idx in cv.split(X, y, groups):\n",
    "    X_train, X_test = X.iloc[train_idx], X.iloc[test_idx]\n",
    "    y_train, y_test = y.iloc[train_idx], y.iloc[test_idx]\n",
    "\n",
    "    smote = SMOTE(random_state=42)\n",
    "    X_train_smote, y_train_smote = smote.fit_resample(X_train, y_train)\n",
    "\n",
    "    model.fit(X_train, y_train)\n",
    "    y_pred = model.predict(X_test)\n",
    "    score = f1_score(y_test, y_pred, average='micro')\n",
    "    scores.append(score)\n",
    "    cm = confusion_matrix(y_test, y_pred, labels=unique_labels)\n",
    "    confusion_matrices.append(cm)\n",
    "\n",
    "    # Append the current iteration's data to the lists\n",
    "    all_y_pred.extend(y_pred.tolist())\n",
    "    all_y_test.extend(y_test.tolist())\n",
    "    all_X_test.append(X_test)\n",
    "\n",
    "# Calculate the average performance across all LOPO iterations\n",
    "average_score = np.mean(scores)\n",
    "print(f'Average f1-scores across all LOPO iterations: {average_score}')\n",
    "total_confusion_matrix = np.sum(confusion_matrices, axis=0)\n",
    "print(total_confusion_matrix)\n",
    "\n",
    "# Convert lists and DataFrame pieces to full DataFrames\n",
    "all_y_pred_df = pd.DataFrame(all_y_pred, columns=['label_panas_negative_affect'])\n",
    "all_y_test_df = pd.DataFrame(all_y_test, columns=['label_panas_negative_affect'])\n",
    "all_X_test_df = pd.concat(all_X_test).reset_index(drop=True)\n",
    "\n",
    "# Saving the DataFrames to CSV files\n",
    "all_y_test_df.to_csv('../data/lifesnaps/predictions/panas_y_test_LOPO.csv', index=False)\n",
    "all_y_pred_df.to_csv('../data/lifesnaps/predictions/panas_y_pred_LOPO.csv', index=False)\n",
    "all_X_test_df.to_csv('../data/lifesnaps/predictions/panas_X_test_LOPO.csv', index=False)"
   ],
   "metadata": {
    "collapsed": false,
    "ExecuteTime": {
     "end_time": "2024-04-14T19:01:15.368389700Z",
     "start_time": "2024-04-14T19:01:14.166866800Z"
    }
   }
  },
  {
   "cell_type": "markdown",
   "id": "e083b764-bf9b-49e2-a152-2110ac6e3d45",
   "metadata": {
    "collapsed": false,
    "jupyter": {
     "outputs_hidden": false
    }
   },
   "source": [
    "# Deep Learning"
   ]
  },
  {
   "cell_type": "code",
   "execution_count": 22,
   "id": "ecdf959e",
   "metadata": {
    "collapsed": false,
    "jupyter": {
     "outputs_hidden": false
    },
    "tags": []
   },
   "outputs": [
    {
     "name": "stdout",
     "output_type": "stream",
     "text": [
      "F1 Score: 0.4057971014492754\n"
     ]
    },
    {
     "ename": "ValueError",
     "evalue": "multiclass format is not supported",
     "output_type": "error",
     "traceback": [
      "\u001B[1;31m---------------------------------------------------------------------------\u001B[0m",
      "\u001B[1;31mValueError\u001B[0m                                Traceback (most recent call last)",
      "Cell \u001B[1;32mIn[22], line 18\u001B[0m\n\u001B[0;32m     15\u001B[0m \u001B[38;5;28mprint\u001B[39m(\u001B[38;5;124mf\u001B[39m\u001B[38;5;124m'\u001B[39m\u001B[38;5;124mF1 Score: \u001B[39m\u001B[38;5;132;01m{\u001B[39;00mf1\u001B[38;5;132;01m}\u001B[39;00m\u001B[38;5;124m'\u001B[39m)\n\u001B[0;32m     17\u001B[0m \u001B[38;5;66;03m# ROC Curve\u001B[39;00m\n\u001B[1;32m---> 18\u001B[0m fpr, tpr, thresholds \u001B[38;5;241m=\u001B[39m \u001B[43mroc_curve\u001B[49m\u001B[43m(\u001B[49m\u001B[43my_test\u001B[49m\u001B[43m,\u001B[49m\u001B[43m \u001B[49m\u001B[43my_pred_proba\u001B[49m\u001B[43m)\u001B[49m\n\u001B[0;32m     19\u001B[0m roc_auc \u001B[38;5;241m=\u001B[39m roc_auc_score(y_test, y_pred_proba)\n\u001B[0;32m     21\u001B[0m \u001B[38;5;66;03m# Plotting\u001B[39;00m\n",
      "File \u001B[1;32m~\\anaconda3\\envs\\un-fairness\\lib\\site-packages\\sklearn\\utils\\_param_validation.py:213\u001B[0m, in \u001B[0;36mvalidate_params.<locals>.decorator.<locals>.wrapper\u001B[1;34m(*args, **kwargs)\u001B[0m\n\u001B[0;32m    207\u001B[0m \u001B[38;5;28;01mtry\u001B[39;00m:\n\u001B[0;32m    208\u001B[0m     \u001B[38;5;28;01mwith\u001B[39;00m config_context(\n\u001B[0;32m    209\u001B[0m         skip_parameter_validation\u001B[38;5;241m=\u001B[39m(\n\u001B[0;32m    210\u001B[0m             prefer_skip_nested_validation \u001B[38;5;129;01mor\u001B[39;00m global_skip_validation\n\u001B[0;32m    211\u001B[0m         )\n\u001B[0;32m    212\u001B[0m     ):\n\u001B[1;32m--> 213\u001B[0m         \u001B[38;5;28;01mreturn\u001B[39;00m func(\u001B[38;5;241m*\u001B[39margs, \u001B[38;5;241m*\u001B[39m\u001B[38;5;241m*\u001B[39mkwargs)\n\u001B[0;32m    214\u001B[0m \u001B[38;5;28;01mexcept\u001B[39;00m InvalidParameterError \u001B[38;5;28;01mas\u001B[39;00m e:\n\u001B[0;32m    215\u001B[0m     \u001B[38;5;66;03m# When the function is just a wrapper around an estimator, we allow\u001B[39;00m\n\u001B[0;32m    216\u001B[0m     \u001B[38;5;66;03m# the function to delegate validation to the estimator, but we replace\u001B[39;00m\n\u001B[0;32m    217\u001B[0m     \u001B[38;5;66;03m# the name of the estimator by the name of the function in the error\u001B[39;00m\n\u001B[0;32m    218\u001B[0m     \u001B[38;5;66;03m# message to avoid confusion.\u001B[39;00m\n\u001B[0;32m    219\u001B[0m     msg \u001B[38;5;241m=\u001B[39m re\u001B[38;5;241m.\u001B[39msub(\n\u001B[0;32m    220\u001B[0m         \u001B[38;5;124mr\u001B[39m\u001B[38;5;124m\"\u001B[39m\u001B[38;5;124mparameter of \u001B[39m\u001B[38;5;124m\\\u001B[39m\u001B[38;5;124mw+ must be\u001B[39m\u001B[38;5;124m\"\u001B[39m,\n\u001B[0;32m    221\u001B[0m         \u001B[38;5;124mf\u001B[39m\u001B[38;5;124m\"\u001B[39m\u001B[38;5;124mparameter of \u001B[39m\u001B[38;5;132;01m{\u001B[39;00mfunc\u001B[38;5;241m.\u001B[39m\u001B[38;5;18m__qualname__\u001B[39m\u001B[38;5;132;01m}\u001B[39;00m\u001B[38;5;124m must be\u001B[39m\u001B[38;5;124m\"\u001B[39m,\n\u001B[0;32m    222\u001B[0m         \u001B[38;5;28mstr\u001B[39m(e),\n\u001B[0;32m    223\u001B[0m     )\n",
      "File \u001B[1;32m~\\anaconda3\\envs\\un-fairness\\lib\\site-packages\\sklearn\\metrics\\_ranking.py:1095\u001B[0m, in \u001B[0;36mroc_curve\u001B[1;34m(y_true, y_score, pos_label, sample_weight, drop_intermediate)\u001B[0m\n\u001B[0;32m    993\u001B[0m \u001B[38;5;129m@validate_params\u001B[39m(\n\u001B[0;32m    994\u001B[0m     {\n\u001B[0;32m    995\u001B[0m         \u001B[38;5;124m\"\u001B[39m\u001B[38;5;124my_true\u001B[39m\u001B[38;5;124m\"\u001B[39m: [\u001B[38;5;124m\"\u001B[39m\u001B[38;5;124marray-like\u001B[39m\u001B[38;5;124m\"\u001B[39m],\n\u001B[1;32m   (...)\u001B[0m\n\u001B[0;32m   1004\u001B[0m     y_true, y_score, \u001B[38;5;241m*\u001B[39m, pos_label\u001B[38;5;241m=\u001B[39m\u001B[38;5;28;01mNone\u001B[39;00m, sample_weight\u001B[38;5;241m=\u001B[39m\u001B[38;5;28;01mNone\u001B[39;00m, drop_intermediate\u001B[38;5;241m=\u001B[39m\u001B[38;5;28;01mTrue\u001B[39;00m\n\u001B[0;32m   1005\u001B[0m ):\n\u001B[0;32m   1006\u001B[0m \u001B[38;5;250m    \u001B[39m\u001B[38;5;124;03m\"\"\"Compute Receiver operating characteristic (ROC).\u001B[39;00m\n\u001B[0;32m   1007\u001B[0m \n\u001B[0;32m   1008\u001B[0m \u001B[38;5;124;03m    Note: this implementation is restricted to the binary classification task.\u001B[39;00m\n\u001B[1;32m   (...)\u001B[0m\n\u001B[0;32m   1093\u001B[0m \u001B[38;5;124;03m    array([ inf, 0.8 , 0.4 , 0.35, 0.1 ])\u001B[39;00m\n\u001B[0;32m   1094\u001B[0m \u001B[38;5;124;03m    \"\"\"\u001B[39;00m\n\u001B[1;32m-> 1095\u001B[0m     fps, tps, thresholds \u001B[38;5;241m=\u001B[39m \u001B[43m_binary_clf_curve\u001B[49m\u001B[43m(\u001B[49m\n\u001B[0;32m   1096\u001B[0m \u001B[43m        \u001B[49m\u001B[43my_true\u001B[49m\u001B[43m,\u001B[49m\u001B[43m \u001B[49m\u001B[43my_score\u001B[49m\u001B[43m,\u001B[49m\u001B[43m \u001B[49m\u001B[43mpos_label\u001B[49m\u001B[38;5;241;43m=\u001B[39;49m\u001B[43mpos_label\u001B[49m\u001B[43m,\u001B[49m\u001B[43m \u001B[49m\u001B[43msample_weight\u001B[49m\u001B[38;5;241;43m=\u001B[39;49m\u001B[43msample_weight\u001B[49m\n\u001B[0;32m   1097\u001B[0m \u001B[43m    \u001B[49m\u001B[43m)\u001B[49m\n\u001B[0;32m   1099\u001B[0m     \u001B[38;5;66;03m# Attempt to drop thresholds corresponding to points in between and\u001B[39;00m\n\u001B[0;32m   1100\u001B[0m     \u001B[38;5;66;03m# collinear with other points. These are always suboptimal and do not\u001B[39;00m\n\u001B[0;32m   1101\u001B[0m     \u001B[38;5;66;03m# appear on a plotted ROC curve (and thus do not affect the AUC).\u001B[39;00m\n\u001B[1;32m   (...)\u001B[0m\n\u001B[0;32m   1106\u001B[0m     \u001B[38;5;66;03m# but does not drop more complicated cases like fps = [1, 3, 7],\u001B[39;00m\n\u001B[0;32m   1107\u001B[0m     \u001B[38;5;66;03m# tps = [1, 2, 4]; there is no harm in keeping too many thresholds.\u001B[39;00m\n\u001B[0;32m   1108\u001B[0m     \u001B[38;5;28;01mif\u001B[39;00m drop_intermediate \u001B[38;5;129;01mand\u001B[39;00m \u001B[38;5;28mlen\u001B[39m(fps) \u001B[38;5;241m>\u001B[39m \u001B[38;5;241m2\u001B[39m:\n",
      "File \u001B[1;32m~\\anaconda3\\envs\\un-fairness\\lib\\site-packages\\sklearn\\metrics\\_ranking.py:804\u001B[0m, in \u001B[0;36m_binary_clf_curve\u001B[1;34m(y_true, y_score, pos_label, sample_weight)\u001B[0m\n\u001B[0;32m    802\u001B[0m y_type \u001B[38;5;241m=\u001B[39m type_of_target(y_true, input_name\u001B[38;5;241m=\u001B[39m\u001B[38;5;124m\"\u001B[39m\u001B[38;5;124my_true\u001B[39m\u001B[38;5;124m\"\u001B[39m)\n\u001B[0;32m    803\u001B[0m \u001B[38;5;28;01mif\u001B[39;00m \u001B[38;5;129;01mnot\u001B[39;00m (y_type \u001B[38;5;241m==\u001B[39m \u001B[38;5;124m\"\u001B[39m\u001B[38;5;124mbinary\u001B[39m\u001B[38;5;124m\"\u001B[39m \u001B[38;5;129;01mor\u001B[39;00m (y_type \u001B[38;5;241m==\u001B[39m \u001B[38;5;124m\"\u001B[39m\u001B[38;5;124mmulticlass\u001B[39m\u001B[38;5;124m\"\u001B[39m \u001B[38;5;129;01mand\u001B[39;00m pos_label \u001B[38;5;129;01mis\u001B[39;00m \u001B[38;5;129;01mnot\u001B[39;00m \u001B[38;5;28;01mNone\u001B[39;00m)):\n\u001B[1;32m--> 804\u001B[0m     \u001B[38;5;28;01mraise\u001B[39;00m \u001B[38;5;167;01mValueError\u001B[39;00m(\u001B[38;5;124m\"\u001B[39m\u001B[38;5;132;01m{0}\u001B[39;00m\u001B[38;5;124m format is not supported\u001B[39m\u001B[38;5;124m\"\u001B[39m\u001B[38;5;241m.\u001B[39mformat(y_type))\n\u001B[0;32m    806\u001B[0m check_consistent_length(y_true, y_score, sample_weight)\n\u001B[0;32m    807\u001B[0m y_true \u001B[38;5;241m=\u001B[39m column_or_1d(y_true)\n",
      "\u001B[1;31mValueError\u001B[0m: multiclass format is not supported"
     ]
    }
   ],
   "source": [
    "X_train, y_train, X_test, y_test = train_test_split_per_user(df,target_column='label_panas_negative_affect')\n",
    "\n",
    "smote = SMOTE(random_state=42)\n",
    "X_train_smote, y_train_smote = smote.fit_resample(X_train, y_train)\n",
    "\n",
    "mlp = MLPClassifier(random_state=42, max_iter=800)\n",
    "#mlp = MLPClassifier(max_iter=1000, activation = 'relu', alpha=0.001, hidden_layer_sizes=(50,), random_state=42)\n",
    "mlp.fit(X_train_smote, y_train_smote)\n",
    "\n",
    "y_pred = mlp.predict(X_test)\n",
    "y_pred_proba = mlp.predict_proba(X_test)[:, 1]  # Get probability for the positive class\n",
    "\n",
    "# F1 Score\n",
    "f1 = f1_score(y_test, y_pred, average='micro')\n",
    "print(f'F1 Score: {f1}')\n",
    "\n",
    "# ROC Curve\n",
    "fpr, tpr, thresholds = roc_curve(y_test, y_pred_proba)\n",
    "roc_auc = roc_auc_score(y_test, y_pred_proba)\n",
    "\n",
    "# Plotting\n",
    "plt.figure(figsize=(8, 6))\n",
    "plt.plot(fpr, tpr, color='orange', label=f'ROC curve (area = {roc_auc:.2f})')\n",
    "plt.plot([0, 1], [0, 1], color='darkblue', linestyle='--')\n",
    "plt.xlabel('False Positive Rate')\n",
    "plt.ylabel('True Positive Rate')\n",
    "plt.title('Receiver Operating Characteristic (ROC) Curve')\n",
    "plt.legend()\n",
    "plt.show()"
   ]
  },
  {
   "cell_type": "code",
   "execution_count": null,
   "id": "634a78d0",
   "metadata": {
    "collapsed": false,
    "jupyter": {
     "outputs_hidden": false
    }
   },
   "outputs": [],
   "source": []
  }
 ],
 "metadata": {
  "kernelspec": {
   "display_name": "Python 3 (ipykernel)",
   "language": "python",
   "name": "python3"
  },
  "language_info": {
   "codemirror_mode": {
    "name": "ipython",
    "version": 3
   },
   "file_extension": ".py",
   "mimetype": "text/x-python",
   "name": "python",
   "nbconvert_exporter": "python",
   "pygments_lexer": "ipython3",
   "version": "3.10.13"
  }
 },
 "nbformat": 4,
 "nbformat_minor": 5
}
