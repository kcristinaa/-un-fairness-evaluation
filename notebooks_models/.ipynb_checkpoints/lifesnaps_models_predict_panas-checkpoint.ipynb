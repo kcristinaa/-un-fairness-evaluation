{
 "cells": [
  {
   "cell_type": "markdown",
   "id": "a786a7e7-4784-4231-a6ca-497eb5a0913e",
   "metadata": {},
   "source": [
    "# Import necessray libraries"
   ]
  },
  {
   "cell_type": "code",
   "execution_count": 1,
   "id": "initial_id",
   "metadata": {
    "ExecuteTime": {
     "end_time": "2024-02-23T14:18:20.434266Z",
     "start_time": "2024-02-23T14:18:18.535271Z"
    },
    "tags": []
   },
   "outputs": [
    {
     "name": "stdout",
     "output_type": "stream",
     "text": [
      "WARNING:tensorflow:From C:\\Users\\ChristinaKaragianni\\anaconda3\\Lib\\site-packages\\keras\\src\\losses.py:2976: The name tf.losses.sparse_softmax_cross_entropy is deprecated. Please use tf.compat.v1.losses.sparse_softmax_cross_entropy instead.\n",
      "\n"
     ]
    }
   ],
   "source": [
    "import pandas as pd\n",
    "import seaborn as sns\n",
    "from sklearn.metrics import confusion_matrix,roc_curve, auc, f1_score, roc_auc_score\n",
    "from sklearn.model_selection import train_test_split\n",
    "import matplotlib.pyplot as plt\n",
    "from sklearn.preprocessing import label_binarize\n",
    "from itertools import cycle\n",
    "from imblearn.over_sampling import SMOTE\n",
    "from sklearn.ensemble import RandomForestClassifier\n",
    "import xgboost as xgb\n",
    "from sklearn.utils.class_weight import compute_class_weight\n",
    "import numpy as np\n",
    "from sklearn.model_selection import GridSearchCV\n",
    "#from dataprep.eda import create_report\n",
    "from sklearn.svm import SVC\n",
    "import numpy as np\n",
    "from sklearn.model_selection import LeavePGroupsOut\n",
    "from sklearn.ensemble import RandomForestClassifier, GradientBoostingClassifier\n",
    "from sklearn.metrics import accuracy_score\n",
    "from xgboost import XGBClassifier\n",
    "from sklearn.metrics import confusion_matrix, f1_score\n",
    "from tensorflow.keras.models import Sequential\n",
    "from tensorflow.keras.layers import Dense\n",
    "from tensorflow.keras.optimizers import Adam\n",
    "from sklearn.neural_network import MLPClassifier"
   ]
  },
  {
   "cell_type": "markdown",
   "id": "25b45ad170d08fae",
   "metadata": {},
   "source": [
    "# Functions"
   ]
  },
  {
   "cell_type": "code",
   "execution_count": 2,
   "id": "8c5304fb9b21d87f",
   "metadata": {
    "ExecuteTime": {
     "end_time": "2024-02-23T14:18:20.488440Z",
     "start_time": "2024-02-23T14:18:20.439345200Z"
    },
    "collapsed": false,
    "jupyter": {
     "outputs_hidden": false
    },
    "tags": []
   },
   "outputs": [],
   "source": [
    "def train_test_split_per_user(data, train_size=0.8, target_column='label_negative_affect_category'):\n",
    "    users = list(set(data.id))\n",
    "    users = sorted(users, reverse=True)  # fix randomness\n",
    "    total_users = len(users)\n",
    "    slice_idx = int(train_size * total_users)\n",
    "    users_train = users[:slice_idx]\n",
    "    users_test = users[slice_idx:]\n",
    "    \n",
    "    # Split data based on user IDs\n",
    "    train_data = data[data.id.isin(users_train)]\n",
    "    test_data = data[data.id.isin(users_test)]\n",
    "    \n",
    "    x_train = train_data.drop(['id', target_column], axis=1) \n",
    "    y_train = train_data[target_column]  \n",
    "    x_test = test_data.drop(['id', target_column], axis=1) \n",
    "    y_test = test_data[target_column]  \n",
    "    \n",
    "    return x_train, y_train, x_test, y_test"
   ]
  },
  {
   "cell_type": "code",
   "execution_count": 3,
   "id": "2e1ec32f1a165502",
   "metadata": {
    "ExecuteTime": {
     "end_time": "2024-02-23T14:18:21.684114500Z",
     "start_time": "2024-02-23T14:18:21.632991600Z"
    },
    "collapsed": false,
    "jupyter": {
     "outputs_hidden": false
    },
    "tags": []
   },
   "outputs": [],
   "source": [
    "def plot_confusion_matrix(y_true, y_pred):\n",
    "    cm = confusion_matrix(y_true, y_pred)\n",
    "    sns.heatmap(cm, annot=True, fmt=\"d\", cmap=\"Blues\")\n",
    "    plt.ylabel('Actual label')\n",
    "    plt.xlabel('Predicted label')\n",
    "    plt.title('Confusion Matrix')\n",
    "    plt.show()"
   ]
  },
  {
   "cell_type": "markdown",
   "id": "bf438e21-bbf0-4a3c-be4e-ca3c4bc9a94e",
   "metadata": {},
   "source": [
    "# Read the data"
   ]
  },
  {
   "cell_type": "code",
   "execution_count": 4,
   "id": "af918cafd98a972",
   "metadata": {
    "ExecuteTime": {
     "end_time": "2024-02-23T14:18:23.472660700Z",
     "start_time": "2024-02-23T14:18:23.397593100Z"
    },
    "collapsed": false,
    "jupyter": {
     "outputs_hidden": false
    },
    "tags": []
   },
   "outputs": [
    {
     "data": {
      "text/html": [
       "<div>\n",
       "<style scoped>\n",
       "    .dataframe tbody tr th:only-of-type {\n",
       "        vertical-align: middle;\n",
       "    }\n",
       "\n",
       "    .dataframe tbody tr th {\n",
       "        vertical-align: top;\n",
       "    }\n",
       "\n",
       "    .dataframe thead th {\n",
       "        text-align: right;\n",
       "    }\n",
       "</style>\n",
       "<table border=\"1\" class=\"dataframe\">\n",
       "  <thead>\n",
       "    <tr style=\"text-align: right;\">\n",
       "      <th></th>\n",
       "      <th>id</th>\n",
       "      <th>nightly_temperature</th>\n",
       "      <th>nremhr</th>\n",
       "      <th>rmssd</th>\n",
       "      <th>spo2</th>\n",
       "      <th>full_sleep_breathing_rate</th>\n",
       "      <th>stress_score</th>\n",
       "      <th>sleep_points_percentage</th>\n",
       "      <th>exertion_points_percentage</th>\n",
       "      <th>responsiveness_points_percentage</th>\n",
       "      <th>...</th>\n",
       "      <th>bmi</th>\n",
       "      <th>month_sin</th>\n",
       "      <th>weekday_sin</th>\n",
       "      <th>week_sin</th>\n",
       "      <th>day_sin</th>\n",
       "      <th>month_cos</th>\n",
       "      <th>weekday_cos</th>\n",
       "      <th>week_cos</th>\n",
       "      <th>day_cos</th>\n",
       "      <th>label_negative_affect_category</th>\n",
       "    </tr>\n",
       "  </thead>\n",
       "  <tbody>\n",
       "    <tr>\n",
       "      <th>0</th>\n",
       "      <td>621e332267b776a24092a584</td>\n",
       "      <td>34.036874</td>\n",
       "      <td>57.4370</td>\n",
       "      <td>37.914</td>\n",
       "      <td>95.60</td>\n",
       "      <td>17.2</td>\n",
       "      <td>0.0</td>\n",
       "      <td>0.000000</td>\n",
       "      <td>0.000</td>\n",
       "      <td>0.000000</td>\n",
       "      <td>...</td>\n",
       "      <td>1</td>\n",
       "      <td>-0.866025</td>\n",
       "      <td>0.0</td>\n",
       "      <td>0.309017</td>\n",
       "      <td>-0.988468</td>\n",
       "      <td>0.5</td>\n",
       "      <td>1.0</td>\n",
       "      <td>0.951057</td>\n",
       "      <td>0.151428</td>\n",
       "      <td>1</td>\n",
       "    </tr>\n",
       "    <tr>\n",
       "      <th>1</th>\n",
       "      <td>621e30e467b776a240e817c7</td>\n",
       "      <td>33.274919</td>\n",
       "      <td>52.5365</td>\n",
       "      <td>38.161</td>\n",
       "      <td>94.50</td>\n",
       "      <td>17.2</td>\n",
       "      <td>0.0</td>\n",
       "      <td>0.000000</td>\n",
       "      <td>0.000</td>\n",
       "      <td>0.000000</td>\n",
       "      <td>...</td>\n",
       "      <td>3</td>\n",
       "      <td>-0.866025</td>\n",
       "      <td>0.0</td>\n",
       "      <td>0.309017</td>\n",
       "      <td>-0.988468</td>\n",
       "      <td>0.5</td>\n",
       "      <td>1.0</td>\n",
       "      <td>0.951057</td>\n",
       "      <td>0.151428</td>\n",
       "      <td>1</td>\n",
       "    </tr>\n",
       "    <tr>\n",
       "      <th>2</th>\n",
       "      <td>621e367e67b776a24087d75d</td>\n",
       "      <td>33.019585</td>\n",
       "      <td>62.9565</td>\n",
       "      <td>32.762</td>\n",
       "      <td>96.00</td>\n",
       "      <td>12.0</td>\n",
       "      <td>72.0</td>\n",
       "      <td>0.733333</td>\n",
       "      <td>0.700</td>\n",
       "      <td>0.700000</td>\n",
       "      <td>...</td>\n",
       "      <td>3</td>\n",
       "      <td>-0.866025</td>\n",
       "      <td>0.0</td>\n",
       "      <td>0.309017</td>\n",
       "      <td>-0.988468</td>\n",
       "      <td>0.5</td>\n",
       "      <td>1.0</td>\n",
       "      <td>0.951057</td>\n",
       "      <td>0.151428</td>\n",
       "      <td>1</td>\n",
       "    </tr>\n",
       "    <tr>\n",
       "      <th>3</th>\n",
       "      <td>621e360b67b776a24039709f</td>\n",
       "      <td>34.175203</td>\n",
       "      <td>68.3210</td>\n",
       "      <td>31.413</td>\n",
       "      <td>96.00</td>\n",
       "      <td>15.4</td>\n",
       "      <td>69.0</td>\n",
       "      <td>0.633333</td>\n",
       "      <td>0.650</td>\n",
       "      <td>0.800000</td>\n",
       "      <td>...</td>\n",
       "      <td>0</td>\n",
       "      <td>-0.866025</td>\n",
       "      <td>0.0</td>\n",
       "      <td>0.309017</td>\n",
       "      <td>-0.988468</td>\n",
       "      <td>0.5</td>\n",
       "      <td>1.0</td>\n",
       "      <td>0.951057</td>\n",
       "      <td>0.151428</td>\n",
       "      <td>1</td>\n",
       "    </tr>\n",
       "    <tr>\n",
       "      <th>4</th>\n",
       "      <td>621e2f6167b776a240e082a9</td>\n",
       "      <td>34.892637</td>\n",
       "      <td>62.5580</td>\n",
       "      <td>24.507</td>\n",
       "      <td>97.20</td>\n",
       "      <td>13.0</td>\n",
       "      <td>68.0</td>\n",
       "      <td>0.666667</td>\n",
       "      <td>0.625</td>\n",
       "      <td>0.666667</td>\n",
       "      <td>...</td>\n",
       "      <td>2</td>\n",
       "      <td>-0.866025</td>\n",
       "      <td>0.0</td>\n",
       "      <td>0.309017</td>\n",
       "      <td>-0.988468</td>\n",
       "      <td>0.5</td>\n",
       "      <td>1.0</td>\n",
       "      <td>0.951057</td>\n",
       "      <td>0.151428</td>\n",
       "      <td>1</td>\n",
       "    </tr>\n",
       "    <tr>\n",
       "      <th>...</th>\n",
       "      <td>...</td>\n",
       "      <td>...</td>\n",
       "      <td>...</td>\n",
       "      <td>...</td>\n",
       "      <td>...</td>\n",
       "      <td>...</td>\n",
       "      <td>...</td>\n",
       "      <td>...</td>\n",
       "      <td>...</td>\n",
       "      <td>...</td>\n",
       "      <td>...</td>\n",
       "      <td>...</td>\n",
       "      <td>...</td>\n",
       "      <td>...</td>\n",
       "      <td>...</td>\n",
       "      <td>...</td>\n",
       "      <td>...</td>\n",
       "      <td>...</td>\n",
       "      <td>...</td>\n",
       "      <td>...</td>\n",
       "      <td>...</td>\n",
       "    </tr>\n",
       "    <tr>\n",
       "      <th>4904</th>\n",
       "      <td>621e300767b776a2404dc717</td>\n",
       "      <td>33.186399</td>\n",
       "      <td>62.3900</td>\n",
       "      <td>34.057</td>\n",
       "      <td>95.85</td>\n",
       "      <td>15.0</td>\n",
       "      <td>72.0</td>\n",
       "      <td>0.733333</td>\n",
       "      <td>0.700</td>\n",
       "      <td>0.700000</td>\n",
       "      <td>...</td>\n",
       "      <td>2</td>\n",
       "      <td>0.866025</td>\n",
       "      <td>0.0</td>\n",
       "      <td>0.809017</td>\n",
       "      <td>-0.299363</td>\n",
       "      <td>0.5</td>\n",
       "      <td>1.0</td>\n",
       "      <td>0.587785</td>\n",
       "      <td>-0.954139</td>\n",
       "      <td>1</td>\n",
       "    </tr>\n",
       "    <tr>\n",
       "      <th>4905</th>\n",
       "      <td>621e309b67b776a240b532b0</td>\n",
       "      <td>31.815133</td>\n",
       "      <td>62.3900</td>\n",
       "      <td>34.057</td>\n",
       "      <td>96.00</td>\n",
       "      <td>15.0</td>\n",
       "      <td>72.0</td>\n",
       "      <td>0.733333</td>\n",
       "      <td>0.700</td>\n",
       "      <td>0.700000</td>\n",
       "      <td>...</td>\n",
       "      <td>1</td>\n",
       "      <td>0.866025</td>\n",
       "      <td>0.0</td>\n",
       "      <td>0.809017</td>\n",
       "      <td>-0.299363</td>\n",
       "      <td>0.5</td>\n",
       "      <td>1.0</td>\n",
       "      <td>0.587785</td>\n",
       "      <td>-0.954139</td>\n",
       "      <td>1</td>\n",
       "    </tr>\n",
       "    <tr>\n",
       "      <th>4906</th>\n",
       "      <td>621e342e67b776a2404ce460</td>\n",
       "      <td>33.864390</td>\n",
       "      <td>51.0640</td>\n",
       "      <td>80.576</td>\n",
       "      <td>96.00</td>\n",
       "      <td>17.2</td>\n",
       "      <td>66.0</td>\n",
       "      <td>0.533333</td>\n",
       "      <td>0.650</td>\n",
       "      <td>0.700000</td>\n",
       "      <td>...</td>\n",
       "      <td>2</td>\n",
       "      <td>0.866025</td>\n",
       "      <td>0.0</td>\n",
       "      <td>0.809017</td>\n",
       "      <td>-0.299363</td>\n",
       "      <td>0.5</td>\n",
       "      <td>1.0</td>\n",
       "      <td>0.587785</td>\n",
       "      <td>-0.954139</td>\n",
       "      <td>1</td>\n",
       "    </tr>\n",
       "    <tr>\n",
       "      <th>4907</th>\n",
       "      <td>621e309267b776a240ae1cdb</td>\n",
       "      <td>34.121912</td>\n",
       "      <td>62.3900</td>\n",
       "      <td>34.057</td>\n",
       "      <td>96.00</td>\n",
       "      <td>15.0</td>\n",
       "      <td>72.0</td>\n",
       "      <td>0.733333</td>\n",
       "      <td>0.700</td>\n",
       "      <td>0.700000</td>\n",
       "      <td>...</td>\n",
       "      <td>0</td>\n",
       "      <td>0.866025</td>\n",
       "      <td>0.0</td>\n",
       "      <td>0.809017</td>\n",
       "      <td>-0.299363</td>\n",
       "      <td>0.5</td>\n",
       "      <td>1.0</td>\n",
       "      <td>0.587785</td>\n",
       "      <td>-0.954139</td>\n",
       "      <td>1</td>\n",
       "    </tr>\n",
       "    <tr>\n",
       "      <th>4908</th>\n",
       "      <td>621e324e67b776a2400191cb</td>\n",
       "      <td>33.104768</td>\n",
       "      <td>62.3900</td>\n",
       "      <td>34.057</td>\n",
       "      <td>96.00</td>\n",
       "      <td>15.0</td>\n",
       "      <td>72.0</td>\n",
       "      <td>0.733333</td>\n",
       "      <td>0.700</td>\n",
       "      <td>0.700000</td>\n",
       "      <td>...</td>\n",
       "      <td>2</td>\n",
       "      <td>0.866025</td>\n",
       "      <td>0.0</td>\n",
       "      <td>0.809017</td>\n",
       "      <td>-0.299363</td>\n",
       "      <td>0.5</td>\n",
       "      <td>1.0</td>\n",
       "      <td>0.587785</td>\n",
       "      <td>-0.954139</td>\n",
       "      <td>0</td>\n",
       "    </tr>\n",
       "  </tbody>\n",
       "</table>\n",
       "<p>4909 rows × 48 columns</p>\n",
       "</div>"
      ],
      "text/plain": [
       "                            id  nightly_temperature   nremhr   rmssd   spo2  \\\n",
       "0     621e332267b776a24092a584            34.036874  57.4370  37.914  95.60   \n",
       "1     621e30e467b776a240e817c7            33.274919  52.5365  38.161  94.50   \n",
       "2     621e367e67b776a24087d75d            33.019585  62.9565  32.762  96.00   \n",
       "3     621e360b67b776a24039709f            34.175203  68.3210  31.413  96.00   \n",
       "4     621e2f6167b776a240e082a9            34.892637  62.5580  24.507  97.20   \n",
       "...                        ...                  ...      ...     ...    ...   \n",
       "4904  621e300767b776a2404dc717            33.186399  62.3900  34.057  95.85   \n",
       "4905  621e309b67b776a240b532b0            31.815133  62.3900  34.057  96.00   \n",
       "4906  621e342e67b776a2404ce460            33.864390  51.0640  80.576  96.00   \n",
       "4907  621e309267b776a240ae1cdb            34.121912  62.3900  34.057  96.00   \n",
       "4908  621e324e67b776a2400191cb            33.104768  62.3900  34.057  96.00   \n",
       "\n",
       "      full_sleep_breathing_rate  stress_score  sleep_points_percentage  \\\n",
       "0                          17.2           0.0                 0.000000   \n",
       "1                          17.2           0.0                 0.000000   \n",
       "2                          12.0          72.0                 0.733333   \n",
       "3                          15.4          69.0                 0.633333   \n",
       "4                          13.0          68.0                 0.666667   \n",
       "...                         ...           ...                      ...   \n",
       "4904                       15.0          72.0                 0.733333   \n",
       "4905                       15.0          72.0                 0.733333   \n",
       "4906                       17.2          66.0                 0.533333   \n",
       "4907                       15.0          72.0                 0.733333   \n",
       "4908                       15.0          72.0                 0.733333   \n",
       "\n",
       "      exertion_points_percentage  responsiveness_points_percentage  ...  bmi  \\\n",
       "0                          0.000                          0.000000  ...    1   \n",
       "1                          0.000                          0.000000  ...    3   \n",
       "2                          0.700                          0.700000  ...    3   \n",
       "3                          0.650                          0.800000  ...    0   \n",
       "4                          0.625                          0.666667  ...    2   \n",
       "...                          ...                               ...  ...  ...   \n",
       "4904                       0.700                          0.700000  ...    2   \n",
       "4905                       0.700                          0.700000  ...    1   \n",
       "4906                       0.650                          0.700000  ...    2   \n",
       "4907                       0.700                          0.700000  ...    0   \n",
       "4908                       0.700                          0.700000  ...    2   \n",
       "\n",
       "      month_sin  weekday_sin  week_sin   day_sin  month_cos  weekday_cos  \\\n",
       "0     -0.866025          0.0  0.309017 -0.988468        0.5          1.0   \n",
       "1     -0.866025          0.0  0.309017 -0.988468        0.5          1.0   \n",
       "2     -0.866025          0.0  0.309017 -0.988468        0.5          1.0   \n",
       "3     -0.866025          0.0  0.309017 -0.988468        0.5          1.0   \n",
       "4     -0.866025          0.0  0.309017 -0.988468        0.5          1.0   \n",
       "...         ...          ...       ...       ...        ...          ...   \n",
       "4904   0.866025          0.0  0.809017 -0.299363        0.5          1.0   \n",
       "4905   0.866025          0.0  0.809017 -0.299363        0.5          1.0   \n",
       "4906   0.866025          0.0  0.809017 -0.299363        0.5          1.0   \n",
       "4907   0.866025          0.0  0.809017 -0.299363        0.5          1.0   \n",
       "4908   0.866025          0.0  0.809017 -0.299363        0.5          1.0   \n",
       "\n",
       "      week_cos   day_cos  label_negative_affect_category  \n",
       "0     0.951057  0.151428                               1  \n",
       "1     0.951057  0.151428                               1  \n",
       "2     0.951057  0.151428                               1  \n",
       "3     0.951057  0.151428                               1  \n",
       "4     0.951057  0.151428                               1  \n",
       "...        ...       ...                             ...  \n",
       "4904  0.587785 -0.954139                               1  \n",
       "4905  0.587785 -0.954139                               1  \n",
       "4906  0.587785 -0.954139                               1  \n",
       "4907  0.587785 -0.954139                               1  \n",
       "4908  0.587785 -0.954139                               0  \n",
       "\n",
       "[4909 rows x 48 columns]"
      ]
     },
     "execution_count": 4,
     "metadata": {},
     "output_type": "execute_result"
    }
   ],
   "source": [
    "df = pd.read_pickle('../data/lifesnaps/lifesnapsv2.pkl')\n",
    "df['id'] = df['id'].astype(str)\n",
    "df = df[df['label_negative_affect_category'].notna()]\n",
    "df = df.drop(columns=['label_stress_sema', 'label_stai_stress_category'])\n",
    "df"
   ]
  },
  {
   "cell_type": "code",
   "execution_count": 5,
   "id": "8ed916a7-dd96-42aa-8dfc-eeda37e2d636",
   "metadata": {
    "tags": []
   },
   "outputs": [
    {
     "data": {
      "text/plain": [
       "Index(['id', 'nightly_temperature', 'nremhr', 'rmssd', 'spo2',\n",
       "       'full_sleep_breathing_rate', 'stress_score', 'sleep_points_percentage',\n",
       "       'exertion_points_percentage', 'responsiveness_points_percentage',\n",
       "       'daily_temperature_variation', 'calories', 'filteredDemographicVO2Max',\n",
       "       'distance', 'bpm', 'lightly_active_minutes',\n",
       "       'moderately_active_minutes', 'very_active_minutes', 'sedentary_minutes',\n",
       "       'scl_avg', 'resting_hr', 'sleep_duration', 'minutesToFallAsleep',\n",
       "       'minutesAsleep', 'minutesAwake', 'minutesAfterWakeup',\n",
       "       'sleep_efficiency', 'sleep_deep_ratio', 'sleep_wake_ratio',\n",
       "       'sleep_light_ratio', 'sleep_rem_ratio', 'steps',\n",
       "       'minutes_in_default_zone_1', 'minutes_below_default_zone_1',\n",
       "       'minutes_in_default_zone_2', 'minutes_in_default_zone_3', 'age',\n",
       "       'gender', 'bmi', 'month_sin', 'weekday_sin', 'week_sin', 'day_sin',\n",
       "       'month_cos', 'weekday_cos', 'week_cos', 'day_cos',\n",
       "       'label_negative_affect_category'],\n",
       "      dtype='object')"
      ]
     },
     "execution_count": 5,
     "metadata": {},
     "output_type": "execute_result"
    }
   ],
   "source": [
    "df.columns"
   ]
  },
  {
   "cell_type": "code",
   "execution_count": 6,
   "id": "6fe86c8b-90d5-4a2d-b4a4-723083365cd2",
   "metadata": {
    "tags": []
   },
   "outputs": [
    {
     "data": {
      "text/plain": [
       "label_negative_affect_category\n",
       "1    4738\n",
       "0      98\n",
       "2      73\n",
       "Name: count, dtype: int64"
      ]
     },
     "execution_count": 6,
     "metadata": {},
     "output_type": "execute_result"
    }
   ],
   "source": [
    "df['label_negative_affect_category'].value_counts()"
   ]
  },
  {
   "cell_type": "code",
   "execution_count": 7,
   "id": "14dc232f",
   "metadata": {
    "ExecuteTime": {
     "end_time": "2024-02-23T14:18:25.262890800Z",
     "start_time": "2024-02-23T14:18:25.221713500Z"
    },
    "collapsed": false,
    "jupyter": {
     "outputs_hidden": false
    },
    "tags": []
   },
   "outputs": [],
   "source": [
    "#create_report(df).show_browser()"
   ]
  },
  {
   "cell_type": "markdown",
   "id": "4999d42a-b126-41aa-b804-532c07217666",
   "metadata": {
    "tags": []
   },
   "source": [
    "# Generic Model\n",
    "each user belongs to either the train or the test set"
   ]
  },
  {
   "cell_type": "code",
   "execution_count": null,
   "id": "eb49eee7-a93d-47e9-bff1-89f96f1ecff9",
   "metadata": {
    "tags": []
   },
   "outputs": [],
   "source": [
    "X_train, y_train, X_test, y_test = train_test_split_per_user(df,target_column='label_negative_affect_category')"
   ]
  },
  {
   "cell_type": "code",
   "execution_count": null,
   "id": "b8affe00-638e-4114-9422-977b53c99d93",
   "metadata": {
    "tags": []
   },
   "outputs": [],
   "source": [
    "print(X_train.shape, y_train.shape, X_test.shape, y_test.shape)"
   ]
  },
  {
   "cell_type": "code",
   "execution_count": null,
   "id": "17f37bd6-360c-47d7-963a-b1a5b1627904",
   "metadata": {
    "tags": []
   },
   "outputs": [],
   "source": [
    "# Initialize SMOTE\n",
    "smote = SMOTE(random_state=42)\n",
    "# Fit SMOTE to the training data\n",
    "X_train_smote, y_train_smote = smote.fit_resample(X_train, y_train)\n",
    "# Now X_train_smote and y_train_smote have balanced classes"
   ]
  },
  {
   "cell_type": "code",
   "execution_count": null,
   "id": "724894ee-2e80-4c50-b0b6-d30540dca29b",
   "metadata": {
    "tags": []
   },
   "outputs": [],
   "source": [
    "clf = GradientBoostingClassifier(n_estimators=160, learning_rate=0.3, random_state=42)"
   ]
  },
  {
   "cell_type": "code",
   "execution_count": null,
   "id": "775c8226-792a-445e-84db-b98e98abface",
   "metadata": {
    "tags": []
   },
   "outputs": [],
   "source": [
    "clf.fit(X_train, y_train)\n",
    "y_pred = clf.predict(X_test)\n",
    "\n",
    "f1 = f1_score(y_test, y_pred, average='micro')\n",
    "print(f\"F1 Score: {f1}\")\n",
    "print(confusion_matrix(y_test, y_pred))"
   ]
  },
  {
   "cell_type": "code",
   "execution_count": null,
   "id": "98d27862-a0e1-4834-b73d-6bec0fbd996f",
   "metadata": {
    "tags": []
   },
   "outputs": [],
   "source": [
    "y_prob = clf.predict_proba(X_test)  # matrix of probabilities\n",
    "\n",
    "# Binarize the output labels for multi-class ROC AUC\n",
    "y_test_binarized = label_binarize(y_test, classes=[0, 1, 2])\n",
    "n_classes = y_test_binarized.shape[1]\n",
    "\n",
    "# Compute ROC curve and ROC area for each class\n",
    "fpr = dict()\n",
    "tpr = dict()\n",
    "roc_auc = dict()\n",
    "for i in range(n_classes):\n",
    "    fpr[i], tpr[i], _ = roc_curve(y_test_binarized[:, i], y_prob[:, i])\n",
    "    roc_auc[i] = auc(fpr[i], tpr[i])\n",
    "\n",
    "# Compute micro-average ROC curve and ROC area\n",
    "fpr[\"micro\"], tpr[\"micro\"], _ = roc_curve(y_test_binarized.ravel(), y_prob.ravel())\n",
    "roc_auc[\"micro\"] = auc(fpr[\"micro\"], tpr[\"micro\"])\n",
    "\n",
    "# Plotting\n",
    "plt.figure(figsize=(10, 8))\n",
    "lw = 2\n",
    "colors = cycle(['aqua', 'darkorange', 'cornflowerblue'])\n",
    "for i, color in zip(range(n_classes), colors):\n",
    "    plt.plot(fpr[i], tpr[i], color=color, lw=lw,\n",
    "             label='ROC curve of class {0} (area = {1:0.2f})'\n",
    "             ''.format(i, roc_auc[i]))\n",
    "\n",
    "plt.plot([0, 1], [0, 1], 'k--', lw=lw)\n",
    "plt.xlim([0.0, 1.0])\n",
    "plt.ylim([0.0, 1.05])\n",
    "plt.xlabel('False Positive Rate')\n",
    "plt.ylabel('True Positive Rate')\n",
    "plt.title('Multi-class ROC')\n",
    "plt.legend(loc=\"lower right\")\n",
    "plt.show()"
   ]
  },
  {
   "cell_type": "markdown",
   "id": "19a766d5-1415-4051-a10a-31e65846bcec",
   "metadata": {},
   "source": [
    "# Leave one person out (LOPO) method"
   ]
  },
  {
   "cell_type": "code",
   "execution_count": null,
   "id": "a830a9b3-08dd-4944-9996-be72b1cc4ef8",
   "metadata": {
    "tags": []
   },
   "outputs": [],
   "source": [
    "X = df.drop(['label_negative_affect_category', 'id'], axis=1)  # Features\n",
    "y = df['label_negative_affect_category']  # Target variable\n",
    "unique_labels = y.unique()\n",
    "groups = df['id']  # Group identifier for LOPO\n",
    "\n",
    "#model = RandomForestClassifier(n_estimators=100, random_state=42)\n",
    "#model = XGBClassifier(n_estimators=100)\n",
    "model = GradientBoostingClassifier(n_estimators=160, learning_rate=0.3, random_state=42)\n",
    "\n",
    "cv = LeavePGroupsOut(n_groups=1)\n",
    "scores = []\n",
    "confusion_matrices = []\n",
    "\n",
    "for train_idx, test_idx in cv.split(X, y, groups):\n",
    "\n",
    "    X_train, X_test = X.iloc[train_idx], X.iloc[test_idx]\n",
    "    y_train, y_test = y.iloc[train_idx], y.iloc[test_idx]\n",
    "\n",
    "    model.fit(X_train, y_train)\n",
    "    y_pred = model.predict(X_test)\n",
    "    score = f1_score(y_test, y_pred, average='micro')\n",
    "    scores.append(score)\n",
    "    cm = confusion_matrix(y_test, y_pred, labels=unique_labels)\n",
    "    confusion_matrices.append(cm)\n",
    "\n",
    "# Calculate the average performance across all LOPO iterations\n",
    "average_score = np.mean(scores)\n",
    "print(f'Average f1-scores across all LOPO iterations: {average_score}')\n",
    "total_confusion_matrix = np.sum(confusion_matrices, axis=0)\n",
    "print(total_confusion_matrix)"
   ]
  },
  {
   "cell_type": "code",
   "execution_count": null,
   "id": "123b5a17-cc39-4a44-af19-d1fd01011850",
   "metadata": {
    "tags": []
   },
   "outputs": [],
   "source": [
    "X = df.drop(['label_negative_affect_category', 'id'], axis=1)  # Features\n",
    "y = df['label_negative_affect_category']  # Target variable\n",
    "unique_labels = y.unique()\n",
    "groups = df['id']  # Group identifier for LOPO\n",
    "\n",
    "#model = RandomForestClassifier(n_estimators=100, random_state=42)\n",
    "#model = XGBClassifier(n_estimators=100)\n",
    "model = GradientBoostingClassifier(n_estimators=160, learning_rate=0.3, random_state=42)\n",
    "\n",
    "cv = LeavePGroupsOut(n_groups=1)\n",
    "scores = []\n",
    "confusion_matrices = []\n",
    "\n",
    "for train_idx, test_idx in cv.split(X, y, groups):\n",
    "\n",
    "    X_train, X_test = X.iloc[train_idx], X.iloc[test_idx]\n",
    "    y_train, y_test = y.iloc[train_idx], y.iloc[test_idx]\n",
    "\n",
    "    model.fit(X_train_smote, y_train_smote)\n",
    "    y_pred = model.predict(X_test)\n",
    "    score = f1_score(y_test, y_pred, average='micro')\n",
    "    scores.append(score)\n",
    "    cm = confusion_matrix(y_test, y_pred, labels=unique_labels)\n",
    "    confusion_matrices.append(cm)\n",
    "\n",
    "# Calculate the average performance across all LOPO iterations\n",
    "average_score = np.mean(scores)\n",
    "print(f'Average f1-scores across all LOPO iterations: {average_score}')\n",
    "total_confusion_matrix = np.sum(confusion_matrices, axis=0)\n",
    "print(total_confusion_matrix)"
   ]
  },
  {
   "cell_type": "code",
   "execution_count": null,
   "id": "1221622f",
   "metadata": {
    "ExecuteTime": {
     "end_time": "2024-02-23T14:18:47.644892900Z",
     "start_time": "2024-02-23T14:18:47.329920300Z"
    },
    "collapsed": false,
    "jupyter": {
     "outputs_hidden": false
    },
    "tags": []
   },
   "outputs": [],
   "source": [
    "feature_importances = clf.feature_importances_\n",
    "sorted_idx = np.argsort(feature_importances)[-20:]\n",
    "sorted_importances = feature_importances[sorted_idx]\n",
    "\n",
    "# Plotting\n",
    "plt.figure(figsize=(10, 8))\n",
    "plt.barh(range(len(sorted_importances)), sorted_importances, align='center')\n",
    "plt.yticks(range(len(sorted_importances)), [X_train.columns[i] for i in range(len(sorted_idx))])\n",
    "plt.xlabel(\"Feature Importance\")\n",
    "plt.ylabel(\"Feature\")\n",
    "plt.title(\"Feature Importance\")\n",
    "plt.show()\n",
    "\n",
    "print(X_train.columns[sorted_idx])"
   ]
  },
  {
   "cell_type": "markdown",
   "id": "e083b764-bf9b-49e2-a152-2110ac6e3d45",
   "metadata": {
    "jupyter": {
     "outputs_hidden": false
    }
   },
   "source": [
    "# Deep Learning"
   ]
  },
  {
   "cell_type": "code",
   "execution_count": null,
   "id": "ecdf959e",
   "metadata": {
    "collapsed": false,
    "jupyter": {
     "outputs_hidden": false
    },
    "tags": []
   },
   "outputs": [],
   "source": [
    "X_train, y_train, X_test, y_test = train_test_split_per_user(df,target_column='label_negative_affect_category')\n",
    "\n",
    "smote = SMOTE(random_state=42)\n",
    "X_train_smote, y_train_smote = smote.fit_resample(X_train, y_train)\n",
    "\n",
    "mlp = MLPClassifier(random_state=42, max_iter=800)\n",
    "#mlp = MLPClassifier(max_iter=1000, activation = 'relu', alpha=0.001, hidden_layer_sizes=(50,), random_state=42)\n",
    "mlp.fit(X_train_smote, y_train_smote)\n",
    "\n",
    "y_pred = mlp.predict(X_test)\n",
    "y_pred_proba = mlp.predict_proba(X_test)[:, 1]  # Get probability for the positive class\n",
    "\n",
    "# F1 Score\n",
    "f1 = f1_score(y_test, y_pred)\n",
    "print(f'F1 Score: {f1}')\n",
    "\n",
    "# ROC Curve\n",
    "fpr, tpr, thresholds = roc_curve(y_test, y_pred_proba)\n",
    "roc_auc = roc_auc_score(y_test, y_pred_proba)\n",
    "\n",
    "# Plotting\n",
    "plt.figure(figsize=(8, 6))\n",
    "plt.plot(fpr, tpr, color='orange', label=f'ROC curve (area = {roc_auc:.2f})')\n",
    "plt.plot([0, 1], [0, 1], color='darkblue', linestyle='--')\n",
    "plt.xlabel('False Positive Rate')\n",
    "plt.ylabel('True Positive Rate')\n",
    "plt.title('Receiver Operating Characteristic (ROC) Curve')\n",
    "plt.legend()\n",
    "plt.show()"
   ]
  },
  {
   "cell_type": "code",
   "execution_count": null,
   "id": "634a78d0",
   "metadata": {
    "collapsed": false,
    "jupyter": {
     "outputs_hidden": false
    }
   },
   "outputs": [],
   "source": []
  }
 ],
 "metadata": {
  "kernelspec": {
   "display_name": "Python 3 (ipykernel)",
   "language": "python",
   "name": "python3"
  },
  "language_info": {
   "codemirror_mode": {
    "name": "ipython",
    "version": 3
   },
   "file_extension": ".py",
   "mimetype": "text/x-python",
   "name": "python",
   "nbconvert_exporter": "python",
   "pygments_lexer": "ipython3",
   "version": "3.11.5"
  }
 },
 "nbformat": 4,
 "nbformat_minor": 5
}
