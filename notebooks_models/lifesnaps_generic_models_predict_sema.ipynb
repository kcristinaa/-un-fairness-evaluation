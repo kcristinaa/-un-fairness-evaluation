{
 "cells": [
  {
   "cell_type": "code",
   "execution_count": 20,
   "id": "initial_id",
   "metadata": {
    "collapsed": true,
    "ExecuteTime": {
     "end_time": "2024-02-19T17:43:08.971597100Z",
     "start_time": "2024-02-19T17:43:08.952898900Z"
    }
   },
   "outputs": [],
   "source": [
    "import pandas as pd\n",
    "import seaborn as sns\n",
    "from sklearn.metrics import confusion_matrix,roc_curve, auc, f1_score\n",
    "import matplotlib.pyplot as plt\n",
    "from sklearn.preprocessing import label_binarize\n",
    "from itertools import cycle\n",
    "from imblearn.over_sampling import SMOTE\n",
    "from sklearn.ensemble import RandomForestClassifier\n",
    "import xgboost as xgb\n",
    "from sklearn.utils.class_weight import compute_class_weight\n",
    "import numpy as np\n",
    "from sklearn.model_selection import GridSearchCV\n",
    "from dataprep.eda import create_report\n",
    "from sklearn.svm import SVC\n",
    "import numpy as np\n",
    "from sklearn.model_selection import LeavePGroupsOut\n",
    "from sklearn.ensemble import RandomForestClassifier\n",
    "from sklearn.metrics import accuracy_score\n",
    "from xgboost import XGBClassifier"
   ]
  },
  {
   "cell_type": "code",
   "outputs": [],
   "source": [
    "def train_test_split_per_user(data, train_size=0.8, target_column='label_negative_affect_category'):\n",
    "    users = list(set(data.id))\n",
    "    users = sorted(users, reverse=True)  # fix randomness\n",
    "    total_users = len(users)\n",
    "    slice_idx = int(train_size * total_users)\n",
    "    users_train = users[:slice_idx]\n",
    "    users_test = users[slice_idx:]\n",
    "    \n",
    "    # Split data based on user IDs\n",
    "    train_data = data[data.id.isin(users_train)]\n",
    "    test_data = data[data.id.isin(users_test)]\n",
    "    \n",
    "    x_train = train_data.drop(['id', target_column], axis=1) \n",
    "    y_train = train_data[target_column]  \n",
    "    x_test = test_data.drop(['id', target_column], axis=1) \n",
    "    y_test = test_data[target_column]  \n",
    "    \n",
    "    return x_train, y_train, x_test, y_test"
   ],
   "metadata": {
    "collapsed": false,
    "ExecuteTime": {
     "end_time": "2024-02-19T17:43:09.768830500Z",
     "start_time": "2024-02-19T17:43:09.736753100Z"
    }
   },
   "id": "8c5304fb9b21d87f",
   "execution_count": 21
  },
  {
   "cell_type": "code",
   "outputs": [],
   "source": [
    "def plot_confusion_matrix(y_true, y_pred):\n",
    "    cm = confusion_matrix(y_true, y_pred)\n",
    "    sns.heatmap(cm, annot=True, fmt=\"d\", cmap=\"Blues\")\n",
    "    plt.ylabel('Actual label')\n",
    "    plt.xlabel('Predicted label')\n",
    "    plt.title('Confusion Matrix')\n",
    "    plt.show()"
   ],
   "metadata": {
    "collapsed": false,
    "ExecuteTime": {
     "end_time": "2024-02-19T17:43:11.149371Z",
     "start_time": "2024-02-19T17:43:11.120223500Z"
    }
   },
   "id": "2e1ec32f1a165502",
   "execution_count": 22
  },
  {
   "cell_type": "code",
   "outputs": [],
   "source": [
    "custom_colors = ['#1f77b4', '#ff7f0e', '#2ca02c', '#d62728', '#9467bd', '#8c564b', '#e377c2', '#7f7f7f']\n",
    "complementary_colors = ['#a9d0f5', '#f3ba8c', '#98e698', '#f5a9a9', '#d8b5d8', '#d2a6a6', '#f5a9f2', '#d8d8d8']\n",
    "\n",
    "full_palette = custom_colors + complementary_colors\n",
    "sns.set_palette(full_palette)\n",
    "\n",
    "plt.rcParams['axes.prop_cycle'] = plt.cycler(color=custom_colors)\n",
    "plt.rcParams['axes.titlesize'] = 30\n",
    "plt.rcParams['axes.labelsize'] = 20\n",
    "plt.rcParams['xtick.labelsize'] = 20\n",
    "plt.rcParams['ytick.labelsize'] = 20\n",
    "plt.rcParams['legend.fontsize'] = 15"
   ],
   "metadata": {
    "collapsed": false,
    "ExecuteTime": {
     "end_time": "2024-02-19T17:43:11.674099300Z",
     "start_time": "2024-02-19T17:43:11.654331800Z"
    }
   },
   "id": "b772125a1224343d",
   "execution_count": 23
  },
  {
   "cell_type": "code",
   "outputs": [
    {
     "data": {
      "text/plain": "                            id  nightly_temperature   nremhr    rmssd  spo2  \\\n1     621e30e467b776a240e817c7            33.274919  52.5365  38.1610  94.5   \n6     621e32af67b776a24045b4cf            34.119702  51.6220  43.5360  97.8   \n8     621e301e67b776a240608a72            34.710232  62.3900  34.0570  96.0   \n9     621e337667b776a240ce78ab            33.662874  52.9270  39.9390  95.5   \n17    621e2f7a67b776a240f14425            32.556993  62.3900  34.0570  96.7   \n...                        ...                  ...      ...      ...   ...   \n4873  621e33cf67b776a240087de9            33.892631  62.8590  49.3950  96.0   \n4888  621e346f67b776a24081744f            32.903545  71.8630  25.4750  96.0   \n4891  621e2f9167b776a240011ccb            34.716690  58.4890  28.3290  96.5   \n4900  621e331067b776a24085dd3f            34.683800  62.3900  34.0570  96.0   \n4901  621e30f467b776a240f22944            34.352490  55.0970  52.7735  96.0   \n\n      full_sleep_breathing_rate  stress_score  sleep_points_percentage  \\\n1                          17.2          72.0                 0.733333   \n6                          13.8          72.0                 0.733333   \n8                          15.0          74.0                 0.700000   \n9                          11.2          72.0                 0.733333   \n17                         15.0          72.0                 0.733333   \n...                         ...           ...                      ...   \n4873                       12.0          72.0                 0.733333   \n4888                       18.2          72.0                 0.733333   \n4891                       14.2          72.0                 0.733333   \n4900                       15.0          72.0                 0.733333   \n4901                       13.4          72.0                 0.733333   \n\n      exertion_points_percentage  responsiveness_points_percentage  ...  bmi  \\\n1                            0.7                          0.700000  ...    3   \n6                            0.7                          0.700000  ...    1   \n8                            0.7                          0.700000  ...    1   \n9                            0.7                          0.700000  ...    1   \n17                           0.7                          0.700000  ...    1   \n...                          ...                               ...  ...  ...   \n4873                         0.7                          0.766667  ...    2   \n4888                         0.7                          0.733333  ...    3   \n4891                         0.7                          0.700000  ...    1   \n4900                         0.7                          0.700000  ...    1   \n4901                         0.7                          0.700000  ...    1   \n\n      month_sin  weekday_sin  week_sin   day_sin  month_cos  weekday_cos  \\\n1     -0.866025     0.000000  0.309017 -0.988468        0.5      1.00000   \n6     -0.866025     0.000000  0.309017 -0.988468        0.5      1.00000   \n8     -0.866025     0.000000  0.309017 -0.988468        0.5      1.00000   \n9     -0.866025     0.000000  0.309017 -0.988468        0.5      1.00000   \n17    -0.866025     0.000000  0.309017 -0.988468        0.5      1.00000   \n...         ...          ...       ...       ...        ...          ...   \n4873   0.866025    -0.781831  0.587785 -0.101168        0.5      0.62349   \n4888   0.866025     0.000000  0.809017 -0.299363        0.5      1.00000   \n4891   0.866025     0.000000  0.809017 -0.299363        0.5      1.00000   \n4900   0.866025     0.000000  0.809017 -0.299363        0.5      1.00000   \n4901   0.866025     0.000000  0.809017 -0.299363        0.5      1.00000   \n\n      week_cos   day_cos  label_stress_sema  \n1     0.951057  0.151428                1.0  \n6     0.951057  0.151428                0.0  \n8     0.951057  0.151428                0.0  \n9     0.951057  0.151428                0.0  \n17    0.951057  0.151428                0.0  \n...        ...       ...                ...  \n4873  0.809017 -0.994869                1.0  \n4888  0.587785 -0.954139                1.0  \n4891  0.587785 -0.954139                1.0  \n4900  0.587785 -0.954139                0.0  \n4901  0.587785 -0.954139                0.0  \n\n[2246 rows x 44 columns]",
      "text/html": "<div>\n<style scoped>\n    .dataframe tbody tr th:only-of-type {\n        vertical-align: middle;\n    }\n\n    .dataframe tbody tr th {\n        vertical-align: top;\n    }\n\n    .dataframe thead th {\n        text-align: right;\n    }\n</style>\n<table border=\"1\" class=\"dataframe\">\n  <thead>\n    <tr style=\"text-align: right;\">\n      <th></th>\n      <th>id</th>\n      <th>nightly_temperature</th>\n      <th>nremhr</th>\n      <th>rmssd</th>\n      <th>spo2</th>\n      <th>full_sleep_breathing_rate</th>\n      <th>stress_score</th>\n      <th>sleep_points_percentage</th>\n      <th>exertion_points_percentage</th>\n      <th>responsiveness_points_percentage</th>\n      <th>...</th>\n      <th>bmi</th>\n      <th>month_sin</th>\n      <th>weekday_sin</th>\n      <th>week_sin</th>\n      <th>day_sin</th>\n      <th>month_cos</th>\n      <th>weekday_cos</th>\n      <th>week_cos</th>\n      <th>day_cos</th>\n      <th>label_stress_sema</th>\n    </tr>\n  </thead>\n  <tbody>\n    <tr>\n      <th>1</th>\n      <td>621e30e467b776a240e817c7</td>\n      <td>33.274919</td>\n      <td>52.5365</td>\n      <td>38.1610</td>\n      <td>94.5</td>\n      <td>17.2</td>\n      <td>72.0</td>\n      <td>0.733333</td>\n      <td>0.7</td>\n      <td>0.700000</td>\n      <td>...</td>\n      <td>3</td>\n      <td>-0.866025</td>\n      <td>0.000000</td>\n      <td>0.309017</td>\n      <td>-0.988468</td>\n      <td>0.5</td>\n      <td>1.00000</td>\n      <td>0.951057</td>\n      <td>0.151428</td>\n      <td>1.0</td>\n    </tr>\n    <tr>\n      <th>6</th>\n      <td>621e32af67b776a24045b4cf</td>\n      <td>34.119702</td>\n      <td>51.6220</td>\n      <td>43.5360</td>\n      <td>97.8</td>\n      <td>13.8</td>\n      <td>72.0</td>\n      <td>0.733333</td>\n      <td>0.7</td>\n      <td>0.700000</td>\n      <td>...</td>\n      <td>1</td>\n      <td>-0.866025</td>\n      <td>0.000000</td>\n      <td>0.309017</td>\n      <td>-0.988468</td>\n      <td>0.5</td>\n      <td>1.00000</td>\n      <td>0.951057</td>\n      <td>0.151428</td>\n      <td>0.0</td>\n    </tr>\n    <tr>\n      <th>8</th>\n      <td>621e301e67b776a240608a72</td>\n      <td>34.710232</td>\n      <td>62.3900</td>\n      <td>34.0570</td>\n      <td>96.0</td>\n      <td>15.0</td>\n      <td>74.0</td>\n      <td>0.700000</td>\n      <td>0.7</td>\n      <td>0.700000</td>\n      <td>...</td>\n      <td>1</td>\n      <td>-0.866025</td>\n      <td>0.000000</td>\n      <td>0.309017</td>\n      <td>-0.988468</td>\n      <td>0.5</td>\n      <td>1.00000</td>\n      <td>0.951057</td>\n      <td>0.151428</td>\n      <td>0.0</td>\n    </tr>\n    <tr>\n      <th>9</th>\n      <td>621e337667b776a240ce78ab</td>\n      <td>33.662874</td>\n      <td>52.9270</td>\n      <td>39.9390</td>\n      <td>95.5</td>\n      <td>11.2</td>\n      <td>72.0</td>\n      <td>0.733333</td>\n      <td>0.7</td>\n      <td>0.700000</td>\n      <td>...</td>\n      <td>1</td>\n      <td>-0.866025</td>\n      <td>0.000000</td>\n      <td>0.309017</td>\n      <td>-0.988468</td>\n      <td>0.5</td>\n      <td>1.00000</td>\n      <td>0.951057</td>\n      <td>0.151428</td>\n      <td>0.0</td>\n    </tr>\n    <tr>\n      <th>17</th>\n      <td>621e2f7a67b776a240f14425</td>\n      <td>32.556993</td>\n      <td>62.3900</td>\n      <td>34.0570</td>\n      <td>96.7</td>\n      <td>15.0</td>\n      <td>72.0</td>\n      <td>0.733333</td>\n      <td>0.7</td>\n      <td>0.700000</td>\n      <td>...</td>\n      <td>1</td>\n      <td>-0.866025</td>\n      <td>0.000000</td>\n      <td>0.309017</td>\n      <td>-0.988468</td>\n      <td>0.5</td>\n      <td>1.00000</td>\n      <td>0.951057</td>\n      <td>0.151428</td>\n      <td>0.0</td>\n    </tr>\n    <tr>\n      <th>...</th>\n      <td>...</td>\n      <td>...</td>\n      <td>...</td>\n      <td>...</td>\n      <td>...</td>\n      <td>...</td>\n      <td>...</td>\n      <td>...</td>\n      <td>...</td>\n      <td>...</td>\n      <td>...</td>\n      <td>...</td>\n      <td>...</td>\n      <td>...</td>\n      <td>...</td>\n      <td>...</td>\n      <td>...</td>\n      <td>...</td>\n      <td>...</td>\n      <td>...</td>\n      <td>...</td>\n    </tr>\n    <tr>\n      <th>4873</th>\n      <td>621e33cf67b776a240087de9</td>\n      <td>33.892631</td>\n      <td>62.8590</td>\n      <td>49.3950</td>\n      <td>96.0</td>\n      <td>12.0</td>\n      <td>72.0</td>\n      <td>0.733333</td>\n      <td>0.7</td>\n      <td>0.766667</td>\n      <td>...</td>\n      <td>2</td>\n      <td>0.866025</td>\n      <td>-0.781831</td>\n      <td>0.587785</td>\n      <td>-0.101168</td>\n      <td>0.5</td>\n      <td>0.62349</td>\n      <td>0.809017</td>\n      <td>-0.994869</td>\n      <td>1.0</td>\n    </tr>\n    <tr>\n      <th>4888</th>\n      <td>621e346f67b776a24081744f</td>\n      <td>32.903545</td>\n      <td>71.8630</td>\n      <td>25.4750</td>\n      <td>96.0</td>\n      <td>18.2</td>\n      <td>72.0</td>\n      <td>0.733333</td>\n      <td>0.7</td>\n      <td>0.733333</td>\n      <td>...</td>\n      <td>3</td>\n      <td>0.866025</td>\n      <td>0.000000</td>\n      <td>0.809017</td>\n      <td>-0.299363</td>\n      <td>0.5</td>\n      <td>1.00000</td>\n      <td>0.587785</td>\n      <td>-0.954139</td>\n      <td>1.0</td>\n    </tr>\n    <tr>\n      <th>4891</th>\n      <td>621e2f9167b776a240011ccb</td>\n      <td>34.716690</td>\n      <td>58.4890</td>\n      <td>28.3290</td>\n      <td>96.5</td>\n      <td>14.2</td>\n      <td>72.0</td>\n      <td>0.733333</td>\n      <td>0.7</td>\n      <td>0.700000</td>\n      <td>...</td>\n      <td>1</td>\n      <td>0.866025</td>\n      <td>0.000000</td>\n      <td>0.809017</td>\n      <td>-0.299363</td>\n      <td>0.5</td>\n      <td>1.00000</td>\n      <td>0.587785</td>\n      <td>-0.954139</td>\n      <td>1.0</td>\n    </tr>\n    <tr>\n      <th>4900</th>\n      <td>621e331067b776a24085dd3f</td>\n      <td>34.683800</td>\n      <td>62.3900</td>\n      <td>34.0570</td>\n      <td>96.0</td>\n      <td>15.0</td>\n      <td>72.0</td>\n      <td>0.733333</td>\n      <td>0.7</td>\n      <td>0.700000</td>\n      <td>...</td>\n      <td>1</td>\n      <td>0.866025</td>\n      <td>0.000000</td>\n      <td>0.809017</td>\n      <td>-0.299363</td>\n      <td>0.5</td>\n      <td>1.00000</td>\n      <td>0.587785</td>\n      <td>-0.954139</td>\n      <td>0.0</td>\n    </tr>\n    <tr>\n      <th>4901</th>\n      <td>621e30f467b776a240f22944</td>\n      <td>34.352490</td>\n      <td>55.0970</td>\n      <td>52.7735</td>\n      <td>96.0</td>\n      <td>13.4</td>\n      <td>72.0</td>\n      <td>0.733333</td>\n      <td>0.7</td>\n      <td>0.700000</td>\n      <td>...</td>\n      <td>1</td>\n      <td>0.866025</td>\n      <td>0.000000</td>\n      <td>0.809017</td>\n      <td>-0.299363</td>\n      <td>0.5</td>\n      <td>1.00000</td>\n      <td>0.587785</td>\n      <td>-0.954139</td>\n      <td>0.0</td>\n    </tr>\n  </tbody>\n</table>\n<p>2246 rows × 44 columns</p>\n</div>"
     },
     "execution_count": 24,
     "metadata": {},
     "output_type": "execute_result"
    }
   ],
   "source": [
    "df = pd.read_pickle('../data/lifesnaps/lifesnapsv2.pkl')\n",
    "df['id'] = df['id'].astype(str)\n",
    "df = df[df['label_stress_sema'].notna()]\n",
    "df = df.drop(columns=['label_panas_negative_affect', 'label_stai_stress'])\n",
    "df"
   ],
   "metadata": {
    "collapsed": false,
    "ExecuteTime": {
     "end_time": "2024-02-19T17:43:13.409762300Z",
     "start_time": "2024-02-19T17:43:13.372733Z"
    }
   },
   "id": "af918cafd98a972",
   "execution_count": 24
  },
  {
   "cell_type": "code",
   "execution_count": 26,
   "outputs": [
    {
     "name": "stdout",
     "output_type": "stream",
     "text": [
      "Average f1-scores across all LOPO iterations: 0.7395527214314475\n",
      "[[  27  469]\n",
      " [ 110 1640]]\n"
     ]
    }
   ],
   "source": [
    "X = df.drop(['label_stress_sema', 'id'], axis=1)  # Features\n",
    "y = df['label_stress_sema']  # Target variable\n",
    "unique_labels = y.unique()\n",
    "groups = df['id']  # Group identifier for LOPO\n",
    "\n",
    "#model = RandomForestClassifier(n_estimators=100, random_state=42)\n",
    "model = XGBClassifier(n_estimators=100)\n",
    "\n",
    "cv = LeavePGroupsOut(n_groups=1)\n",
    "scores = []\n",
    "confusion_matrices = []\n",
    "\n",
    "for train_idx, test_idx in cv.split(X, y, groups):\n",
    "\n",
    "    X_train, X_test = X.iloc[train_idx], X.iloc[test_idx]\n",
    "    y_train, y_test = y.iloc[train_idx], y.iloc[test_idx]\n",
    "\n",
    "    smote = SMOTE(random_state=42)\n",
    "    X_train_smote, y_train_smote = smote.fit_resample(X_train, y_train)\n",
    "\n",
    "    model.fit(X_train, y_train)\n",
    "    y_pred = model.predict(X_test)\n",
    "    score = f1_score(y_test, y_pred, average='micro')\n",
    "    scores.append(score)\n",
    "    cm = confusion_matrix(y_test, y_pred, labels=unique_labels)\n",
    "    confusion_matrices.append(cm)\n",
    "\n",
    "# Calculate the average performance across all LOPO iterations\n",
    "average_score = np.mean(scores)\n",
    "print(f'Average f1-scores across all LOPO iterations: {average_score}')\n",
    "total_confusion_matrix = np.sum(confusion_matrices, axis=0)\n",
    "print(total_confusion_matrix)"
   ],
   "metadata": {
    "collapsed": false,
    "ExecuteTime": {
     "end_time": "2024-02-19T17:44:04.203921900Z",
     "start_time": "2024-02-19T17:43:53.173566500Z"
    }
   }
  },
  {
   "cell_type": "code",
   "outputs": [
    {
     "data": {
      "text/plain": "0.0    1750\n1.0     496\nName: label_stress_sema, dtype: int64"
     },
     "execution_count": 10,
     "metadata": {},
     "output_type": "execute_result"
    }
   ],
   "source": [
    "df['label_stress_sema'].value_counts()"
   ],
   "metadata": {
    "collapsed": false,
    "ExecuteTime": {
     "end_time": "2024-02-19T17:38:53.253024400Z",
     "start_time": "2024-02-19T17:38:53.237345200Z"
    }
   },
   "id": "17294f29dc79c74d",
   "execution_count": 10
  },
  {
   "cell_type": "code",
   "outputs": [],
   "source": [
    "X_train, y_train, X_test, y_test = train_test_split_per_user(df,target_column='label_stress_sema')"
   ],
   "metadata": {
    "collapsed": false,
    "ExecuteTime": {
     "end_time": "2024-02-19T17:38:53.815451700Z",
     "start_time": "2024-02-19T17:38:53.790716100Z"
    }
   },
   "id": "be362a32d08118c5",
   "execution_count": 11
  },
  {
   "cell_type": "code",
   "outputs": [
    {
     "name": "stdout",
     "output_type": "stream",
     "text": [
      "(1682, 42) (1682,) (564, 42) (564,)\n"
     ]
    }
   ],
   "source": [
    "print(X_train.shape, y_train.shape, X_test.shape, y_test.shape)"
   ],
   "metadata": {
    "collapsed": false,
    "ExecuteTime": {
     "end_time": "2024-02-19T17:38:54.640260Z",
     "start_time": "2024-02-19T17:38:54.608272400Z"
    }
   },
   "id": "cad5b240cf12c84b",
   "execution_count": 12
  },
  {
   "cell_type": "code",
   "outputs": [],
   "source": [
    "# Initialize SMOTE\n",
    "smote = SMOTE(random_state=42)\n",
    "# Fit SMOTE to the training data\n",
    "X_train_smote, y_train_smote = smote.fit_resample(X_train, y_train)\n",
    "# Now X_train_smote and y_train_smote have balanced classes"
   ],
   "metadata": {
    "collapsed": false,
    "ExecuteTime": {
     "end_time": "2024-02-19T17:38:55.910355800Z",
     "start_time": "2024-02-19T17:38:55.859152100Z"
    }
   },
   "id": "32e10516023de59b",
   "execution_count": 13
  },
  {
   "cell_type": "code",
   "outputs": [],
   "source": [
    "#clf = RandomForestClassifier(n_estimators=100, random_state=42)\n",
    "clf = XGBClassifier(n_estimators=100)"
   ],
   "metadata": {
    "collapsed": false,
    "ExecuteTime": {
     "end_time": "2024-02-19T17:39:05.571081200Z",
     "start_time": "2024-02-19T17:39:05.523054400Z"
    }
   },
   "id": "c13d9f1c88ee285f",
   "execution_count": 14
  },
  {
   "cell_type": "code",
   "outputs": [
    {
     "name": "stdout",
     "output_type": "stream",
     "text": [
      "F1 Score: 0.6773049645390071\n",
      "[[372  54]\n",
      " [128  10]]\n"
     ]
    }
   ],
   "source": [
    "clf.fit(X_train_smote, y_train_smote)\n",
    "y_pred = clf.predict(X_test)\n",
    "\n",
    "f1 = f1_score(y_test, y_pred, average='micro')\n",
    "print(f\"F1 Score: {f1}\")\n",
    "print(confusion_matrix(y_test, y_pred))"
   ],
   "metadata": {
    "collapsed": false,
    "ExecuteTime": {
     "end_time": "2024-02-19T17:39:06.451967200Z",
     "start_time": "2024-02-19T17:39:06.235014600Z"
    }
   },
   "id": "76c82242e7ffe329",
   "execution_count": 15
  },
  {
   "cell_type": "code",
   "outputs": [
    {
     "data": {
      "text/plain": "<Figure size 640x480 with 2 Axes>",
      "image/png": "[encoded data removed]"
     },
     "metadata": {},
     "output_type": "display_data"
    }
   ],
   "source": [
    "plot_confusion_matrix(y_test, y_pred)"
   ],
   "metadata": {
    "collapsed": false,
    "ExecuteTime": {
     "end_time": "2024-02-19T17:39:07.868888200Z",
     "start_time": "2024-02-19T17:39:07.715748400Z"
    }
   },
   "id": "701d353db3e203d0",
   "execution_count": 16
  },
  {
   "cell_type": "markdown",
   "source": [
    "# ROC AUC curve"
   ],
   "metadata": {
    "collapsed": false
   },
   "id": "a73112c2f3059fe1"
  },
  {
   "cell_type": "code",
   "outputs": [],
   "source": [
    "# Predict probabilities\n",
    "y_scores = clf.predict_proba(X_test)[:, 1]  # get the probability of class 1\n",
    "\n",
    "# Compute ROC curve and AUC\n",
    "fpr, tpr, thresholds = roc_curve(y_test, y_scores)\n",
    "roc_auc = auc(fpr, tpr)\n",
    "\n",
    "# Plotting the ROC curve\n",
    "plt.figure()\n",
    "plt.plot(fpr, tpr, color='darkorange', lw=2, label='ROC curve (area = %0.2f)' % roc_auc)\n",
    "plt.plot([0, 1], [0, 1], color='navy', lw=2, linestyle='--')\n",
    "plt.xlim([0.0, 1.0])\n",
    "plt.ylim([0.0, 1.05])\n",
    "plt.xlabel('False Positive Rate')\n",
    "plt.ylabel('True Positive Rate')\n",
    "plt.title('Receiver Operating Characteristic')\n",
    "plt.legend(loc=\"lower right\")\n",
    "plt.show()"
   ],
   "metadata": {
    "collapsed": false
   },
   "id": "47099d5a4859bb1e",
   "execution_count": null
  },
  {
   "cell_type": "code",
   "outputs": [],
   "source": [],
   "metadata": {
    "collapsed": false
   },
   "id": "72397c6a0a439c88",
   "execution_count": null
  },
  {
   "cell_type": "code",
   "outputs": [],
   "source": [],
   "metadata": {
    "collapsed": false
   },
   "id": "1b73091842241a1b",
   "execution_count": null
  }
 ],
 "metadata": {
  "kernelspec": {
   "display_name": "Python 3",
   "language": "python",
   "name": "python3"
  },
  "language_info": {
   "codemirror_mode": {
    "name": "ipython",
    "version": 2
   },
   "file_extension": ".py",
   "mimetype": "text/x-python",
   "name": "python",
   "nbconvert_exporter": "python",
   "pygments_lexer": "ipython2",
   "version": "2.7.6"
  }
 },
 "nbformat": 4,
 "nbformat_minor": 5
}
