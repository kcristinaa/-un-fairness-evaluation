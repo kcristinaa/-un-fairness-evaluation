{
 "cells": [
  {
   "cell_type": "markdown",
   "id": "ed76be80",
   "metadata": {},
   "source": [
    "# Import necessary libraries"
   ]
  },
  {
   "cell_type": "code",
   "execution_count": 21,
   "id": "initial_id",
   "metadata": {
    "ExecuteTime": {
     "end_time": "2024-03-02T13:10:11.891896200Z",
     "start_time": "2024-03-02T13:10:11.844275700Z"
    }
   },
   "outputs": [],
   "source": [
    "import pandas as pd\n",
    "import seaborn as sns\n",
    "from sklearn.metrics import roc_curve, auc, roc_auc_score, recall_score\n",
    "import matplotlib.pyplot as plt\n",
    "from imblearn.over_sampling import SMOTE\n",
    "import numpy as np\n",
    "from sklearn.linear_model import LogisticRegression\n",
    "from sklearn.discriminant_analysis import QuadraticDiscriminantAnalysis\n",
    "from sklearn.model_selection import LeavePGroupsOut\n",
    "from sklearn.ensemble import RandomForestClassifier, GradientBoostingClassifier\n",
    "from xgboost import XGBClassifier\n",
    "from sklearn.metrics import confusion_matrix, f1_score\n",
    "from sklearn.neural_network import MLPClassifier\n",
    "from sklearn.dummy import DummyClassifier\n",
    "from sklearn.svm import SVC\n",
    "from sklearn.linear_model import LogisticRegression\n",
    "from sklearn.preprocessing import StandardScaler\n",
    "from sklearn.decomposition import PCA"
   ]
  },
  {
   "cell_type": "markdown",
   "id": "d563095c",
   "metadata": {},
   "source": [
    "# Functions"
   ]
  },
  {
   "cell_type": "code",
   "execution_count": 22,
   "id": "914ee610",
   "metadata": {
    "ExecuteTime": {
     "end_time": "2024-03-02T13:10:11.933875200Z",
     "start_time": "2024-03-02T13:10:11.860408900Z"
    },
    "collapsed": false,
    "jupyter": {
     "outputs_hidden": false
    }
   },
   "outputs": [],
   "source": [
    "def train_test_split_per_user(data, train_size=0.8, target_column='label_negative_affect_category'):\n",
    "    users = list(set(data.user_id))\n",
    "    users = sorted(users, reverse=True)\n",
    "    total_users = len(users)\n",
    "    slice_idx = int(train_size * total_users)\n",
    "    users_train = users[:slice_idx]\n",
    "    users_test = users[slice_idx:]\n",
    "\n",
    "    # Split data based on user IDs\n",
    "    train_data = data[data.user_id.isin(users_train)]\n",
    "    test_data = data[data.user_id.isin(users_test)]\n",
    "\n",
    "    x_train = train_data.drop(['user_id', target_column], axis=1)\n",
    "    y_train = train_data[target_column]\n",
    "    x_test = test_data.drop(['user_id', target_column], axis=1)\n",
    "    y_test = test_data[target_column]\n",
    "\n",
    "    return x_train, y_train, x_test, y_test"
   ]
  },
  {
   "cell_type": "code",
   "execution_count": 23,
   "id": "ec07a9c7",
   "metadata": {
    "ExecuteTime": {
     "end_time": "2024-03-02T13:10:11.933875200Z",
     "start_time": "2024-03-02T13:10:11.876131400Z"
    },
    "collapsed": false,
    "jupyter": {
     "outputs_hidden": false
    }
   },
   "outputs": [],
   "source": [
    "def plot_confusion_matrix(y_true, y_pred):\n",
    "    cm = confusion_matrix(y_true, y_pred)\n",
    "    sns.heatmap(cm, annot=True, fmt=\"d\", cmap=\"Blues\")\n",
    "    plt.ylabel('Actual label')\n",
    "    plt.xlabel('Predicted label')\n",
    "    plt.title('Confusion Matrix')\n",
    "    plt.show()"
   ]
  },
  {
   "cell_type": "markdown",
   "id": "882a6661",
   "metadata": {},
   "source": [
    "# Read the data"
   ]
  },
  {
   "cell_type": "code",
   "execution_count": 24,
   "id": "713fb3660f0091de",
   "metadata": {
    "ExecuteTime": {
     "end_time": "2024-03-02T13:10:11.933875200Z",
     "start_time": "2024-03-02T13:10:11.896907200Z"
    }
   },
   "outputs": [
    {
     "data": {
      "text/html": [
       "<div>\n",
       "<style scoped>\n",
       "    .dataframe tbody tr th:only-of-type {\n",
       "        vertical-align: middle;\n",
       "    }\n",
       "\n",
       "    .dataframe tbody tr th {\n",
       "        vertical-align: top;\n",
       "    }\n",
       "\n",
       "    .dataframe thead th {\n",
       "        text-align: right;\n",
       "    }\n",
       "</style>\n",
       "<table border=\"1\" class=\"dataframe\">\n",
       "  <thead>\n",
       "    <tr style=\"text-align: right;\">\n",
       "      <th></th>\n",
       "      <th>timestamp</th>\n",
       "      <th>user_id</th>\n",
       "      <th>activity</th>\n",
       "      <th>days</th>\n",
       "      <th>gender</th>\n",
       "      <th>age</th>\n",
       "      <th>afftype</th>\n",
       "      <th>melanch</th>\n",
       "      <th>inpatient</th>\n",
       "      <th>edu</th>\n",
       "      <th>...</th>\n",
       "      <th>month_sin</th>\n",
       "      <th>weekday_sin</th>\n",
       "      <th>week_sin</th>\n",
       "      <th>day_sin</th>\n",
       "      <th>month_cos</th>\n",
       "      <th>weekday_cos</th>\n",
       "      <th>week_cos</th>\n",
       "      <th>day_cos</th>\n",
       "      <th>activity_quantile</th>\n",
       "      <th>user_activity_quantile</th>\n",
       "    </tr>\n",
       "  </thead>\n",
       "  <tbody>\n",
       "    <tr>\n",
       "      <th>0</th>\n",
       "      <td>1052265600000000000</td>\n",
       "      <td>1</td>\n",
       "      <td>174.144444</td>\n",
       "      <td>11</td>\n",
       "      <td>0</td>\n",
       "      <td>0</td>\n",
       "      <td>2.0</td>\n",
       "      <td>2.0</td>\n",
       "      <td>2.0</td>\n",
       "      <td>1</td>\n",
       "      <td>...</td>\n",
       "      <td>-0.974928</td>\n",
       "      <td>0.974928</td>\n",
       "      <td>-0.998027</td>\n",
       "      <td>0.988468</td>\n",
       "      <td>-0.222521</td>\n",
       "      <td>-0.222521</td>\n",
       "      <td>0.062791</td>\n",
       "      <td>0.151428</td>\n",
       "      <td>1</td>\n",
       "      <td>1</td>\n",
       "    </tr>\n",
       "    <tr>\n",
       "      <th>1</th>\n",
       "      <td>1052352000000000000</td>\n",
       "      <td>1</td>\n",
       "      <td>156.247222</td>\n",
       "      <td>11</td>\n",
       "      <td>0</td>\n",
       "      <td>0</td>\n",
       "      <td>2.0</td>\n",
       "      <td>2.0</td>\n",
       "      <td>2.0</td>\n",
       "      <td>1</td>\n",
       "      <td>...</td>\n",
       "      <td>-0.974928</td>\n",
       "      <td>0.433884</td>\n",
       "      <td>-0.998027</td>\n",
       "      <td>0.998717</td>\n",
       "      <td>-0.222521</td>\n",
       "      <td>-0.900969</td>\n",
       "      <td>0.062791</td>\n",
       "      <td>-0.050649</td>\n",
       "      <td>1</td>\n",
       "      <td>1</td>\n",
       "    </tr>\n",
       "    <tr>\n",
       "      <th>2</th>\n",
       "      <td>1052438400000000000</td>\n",
       "      <td>1</td>\n",
       "      <td>124.135417</td>\n",
       "      <td>11</td>\n",
       "      <td>0</td>\n",
       "      <td>0</td>\n",
       "      <td>2.0</td>\n",
       "      <td>2.0</td>\n",
       "      <td>2.0</td>\n",
       "      <td>1</td>\n",
       "      <td>...</td>\n",
       "      <td>-0.974928</td>\n",
       "      <td>-0.433884</td>\n",
       "      <td>-0.998027</td>\n",
       "      <td>0.968077</td>\n",
       "      <td>-0.222521</td>\n",
       "      <td>-0.900969</td>\n",
       "      <td>0.062791</td>\n",
       "      <td>-0.250653</td>\n",
       "      <td>1</td>\n",
       "      <td>1</td>\n",
       "    </tr>\n",
       "    <tr>\n",
       "      <th>3</th>\n",
       "      <td>1052524800000000000</td>\n",
       "      <td>1</td>\n",
       "      <td>134.961806</td>\n",
       "      <td>11</td>\n",
       "      <td>0</td>\n",
       "      <td>0</td>\n",
       "      <td>2.0</td>\n",
       "      <td>2.0</td>\n",
       "      <td>2.0</td>\n",
       "      <td>1</td>\n",
       "      <td>...</td>\n",
       "      <td>-0.974928</td>\n",
       "      <td>-0.974928</td>\n",
       "      <td>-0.998027</td>\n",
       "      <td>0.897805</td>\n",
       "      <td>-0.222521</td>\n",
       "      <td>-0.222521</td>\n",
       "      <td>0.062791</td>\n",
       "      <td>-0.440394</td>\n",
       "      <td>1</td>\n",
       "      <td>1</td>\n",
       "    </tr>\n",
       "    <tr>\n",
       "      <th>4</th>\n",
       "      <td>1052611200000000000</td>\n",
       "      <td>1</td>\n",
       "      <td>99.439583</td>\n",
       "      <td>11</td>\n",
       "      <td>0</td>\n",
       "      <td>0</td>\n",
       "      <td>2.0</td>\n",
       "      <td>2.0</td>\n",
       "      <td>2.0</td>\n",
       "      <td>1</td>\n",
       "      <td>...</td>\n",
       "      <td>-0.974928</td>\n",
       "      <td>-0.781831</td>\n",
       "      <td>-0.998027</td>\n",
       "      <td>0.790776</td>\n",
       "      <td>-0.222521</td>\n",
       "      <td>0.623490</td>\n",
       "      <td>0.062791</td>\n",
       "      <td>-0.612106</td>\n",
       "      <td>1</td>\n",
       "      <td>0</td>\n",
       "    </tr>\n",
       "    <tr>\n",
       "      <th>...</th>\n",
       "      <td>...</td>\n",
       "      <td>...</td>\n",
       "      <td>...</td>\n",
       "      <td>...</td>\n",
       "      <td>...</td>\n",
       "      <td>...</td>\n",
       "      <td>...</td>\n",
       "      <td>...</td>\n",
       "      <td>...</td>\n",
       "      <td>...</td>\n",
       "      <td>...</td>\n",
       "      <td>...</td>\n",
       "      <td>...</td>\n",
       "      <td>...</td>\n",
       "      <td>...</td>\n",
       "      <td>...</td>\n",
       "      <td>...</td>\n",
       "      <td>...</td>\n",
       "      <td>...</td>\n",
       "      <td>...</td>\n",
       "      <td>...</td>\n",
       "    </tr>\n",
       "    <tr>\n",
       "      <th>400</th>\n",
       "      <td>1086480000000000000</td>\n",
       "      <td>9</td>\n",
       "      <td>162.295833</td>\n",
       "      <td>13</td>\n",
       "      <td>0</td>\n",
       "      <td>1</td>\n",
       "      <td>1.0</td>\n",
       "      <td>2.0</td>\n",
       "      <td>2.0</td>\n",
       "      <td>1</td>\n",
       "      <td>...</td>\n",
       "      <td>-0.781831</td>\n",
       "      <td>-0.781831</td>\n",
       "      <td>-0.481754</td>\n",
       "      <td>0.937752</td>\n",
       "      <td>0.623490</td>\n",
       "      <td>0.623490</td>\n",
       "      <td>0.876307</td>\n",
       "      <td>0.347305</td>\n",
       "      <td>1</td>\n",
       "      <td>0</td>\n",
       "    </tr>\n",
       "    <tr>\n",
       "      <th>401</th>\n",
       "      <td>1086566400000000000</td>\n",
       "      <td>9</td>\n",
       "      <td>224.508333</td>\n",
       "      <td>13</td>\n",
       "      <td>0</td>\n",
       "      <td>1</td>\n",
       "      <td>1.0</td>\n",
       "      <td>2.0</td>\n",
       "      <td>2.0</td>\n",
       "      <td>1</td>\n",
       "      <td>...</td>\n",
       "      <td>-0.781831</td>\n",
       "      <td>0.000000</td>\n",
       "      <td>-0.24869</td>\n",
       "      <td>0.988468</td>\n",
       "      <td>0.623490</td>\n",
       "      <td>1.000000</td>\n",
       "      <td>0.968583</td>\n",
       "      <td>0.151428</td>\n",
       "      <td>1</td>\n",
       "      <td>2</td>\n",
       "    </tr>\n",
       "    <tr>\n",
       "      <th>402</th>\n",
       "      <td>1086652800000000000</td>\n",
       "      <td>9</td>\n",
       "      <td>202.056250</td>\n",
       "      <td>13</td>\n",
       "      <td>0</td>\n",
       "      <td>1</td>\n",
       "      <td>1.0</td>\n",
       "      <td>2.0</td>\n",
       "      <td>2.0</td>\n",
       "      <td>1</td>\n",
       "      <td>...</td>\n",
       "      <td>-0.781831</td>\n",
       "      <td>0.781831</td>\n",
       "      <td>-0.24869</td>\n",
       "      <td>0.998717</td>\n",
       "      <td>0.623490</td>\n",
       "      <td>0.623490</td>\n",
       "      <td>0.968583</td>\n",
       "      <td>-0.050649</td>\n",
       "      <td>1</td>\n",
       "      <td>2</td>\n",
       "    </tr>\n",
       "    <tr>\n",
       "      <th>403</th>\n",
       "      <td>1086739200000000000</td>\n",
       "      <td>9</td>\n",
       "      <td>168.656250</td>\n",
       "      <td>13</td>\n",
       "      <td>0</td>\n",
       "      <td>1</td>\n",
       "      <td>1.0</td>\n",
       "      <td>2.0</td>\n",
       "      <td>2.0</td>\n",
       "      <td>1</td>\n",
       "      <td>...</td>\n",
       "      <td>-0.781831</td>\n",
       "      <td>0.974928</td>\n",
       "      <td>-0.24869</td>\n",
       "      <td>0.968077</td>\n",
       "      <td>0.623490</td>\n",
       "      <td>-0.222521</td>\n",
       "      <td>0.968583</td>\n",
       "      <td>-0.250653</td>\n",
       "      <td>1</td>\n",
       "      <td>1</td>\n",
       "    </tr>\n",
       "    <tr>\n",
       "      <th>404</th>\n",
       "      <td>1086825600000000000</td>\n",
       "      <td>9</td>\n",
       "      <td>115.589207</td>\n",
       "      <td>13</td>\n",
       "      <td>0</td>\n",
       "      <td>1</td>\n",
       "      <td>1.0</td>\n",
       "      <td>2.0</td>\n",
       "      <td>2.0</td>\n",
       "      <td>1</td>\n",
       "      <td>...</td>\n",
       "      <td>-0.781831</td>\n",
       "      <td>0.433884</td>\n",
       "      <td>-0.24869</td>\n",
       "      <td>0.897805</td>\n",
       "      <td>0.623490</td>\n",
       "      <td>-0.900969</td>\n",
       "      <td>0.968583</td>\n",
       "      <td>-0.440394</td>\n",
       "      <td>1</td>\n",
       "      <td>0</td>\n",
       "    </tr>\n",
       "  </tbody>\n",
       "</table>\n",
       "<p>389 rows × 24 columns</p>\n",
       "</div>"
      ],
      "text/plain": [
       "               timestamp  user_id    activity  days  gender  age  afftype  \\\n",
       "0    1052265600000000000        1  174.144444    11       0    0      2.0   \n",
       "1    1052352000000000000        1  156.247222    11       0    0      2.0   \n",
       "2    1052438400000000000        1  124.135417    11       0    0      2.0   \n",
       "3    1052524800000000000        1  134.961806    11       0    0      2.0   \n",
       "4    1052611200000000000        1   99.439583    11       0    0      2.0   \n",
       "..                   ...      ...         ...   ...     ...  ...      ...   \n",
       "400  1086480000000000000        9  162.295833    13       0    1      1.0   \n",
       "401  1086566400000000000        9  224.508333    13       0    1      1.0   \n",
       "402  1086652800000000000        9  202.056250    13       0    1      1.0   \n",
       "403  1086739200000000000        9  168.656250    13       0    1      1.0   \n",
       "404  1086825600000000000        9  115.589207    13       0    1      1.0   \n",
       "\n",
       "     melanch  inpatient  edu  ...  month_sin  weekday_sin  week_sin   day_sin  \\\n",
       "0        2.0        2.0    1  ...  -0.974928     0.974928 -0.998027  0.988468   \n",
       "1        2.0        2.0    1  ...  -0.974928     0.433884 -0.998027  0.998717   \n",
       "2        2.0        2.0    1  ...  -0.974928    -0.433884 -0.998027  0.968077   \n",
       "3        2.0        2.0    1  ...  -0.974928    -0.974928 -0.998027  0.897805   \n",
       "4        2.0        2.0    1  ...  -0.974928    -0.781831 -0.998027  0.790776   \n",
       "..       ...        ...  ...  ...        ...          ...       ...       ...   \n",
       "400      2.0        2.0    1  ...  -0.781831    -0.781831 -0.481754  0.937752   \n",
       "401      2.0        2.0    1  ...  -0.781831     0.000000  -0.24869  0.988468   \n",
       "402      2.0        2.0    1  ...  -0.781831     0.781831  -0.24869  0.998717   \n",
       "403      2.0        2.0    1  ...  -0.781831     0.974928  -0.24869  0.968077   \n",
       "404      2.0        2.0    1  ...  -0.781831     0.433884  -0.24869  0.897805   \n",
       "\n",
       "     month_cos  weekday_cos  week_cos   day_cos  activity_quantile  \\\n",
       "0    -0.222521    -0.222521  0.062791  0.151428                  1   \n",
       "1    -0.222521    -0.900969  0.062791 -0.050649                  1   \n",
       "2    -0.222521    -0.900969  0.062791 -0.250653                  1   \n",
       "3    -0.222521    -0.222521  0.062791 -0.440394                  1   \n",
       "4    -0.222521     0.623490  0.062791 -0.612106                  1   \n",
       "..         ...          ...       ...       ...                ...   \n",
       "400   0.623490     0.623490  0.876307  0.347305                  1   \n",
       "401   0.623490     1.000000  0.968583  0.151428                  1   \n",
       "402   0.623490     0.623490  0.968583 -0.050649                  1   \n",
       "403   0.623490    -0.222521  0.968583 -0.250653                  1   \n",
       "404   0.623490    -0.900969  0.968583 -0.440394                  1   \n",
       "\n",
       "     user_activity_quantile  \n",
       "0                         1  \n",
       "1                         1  \n",
       "2                         1  \n",
       "3                         1  \n",
       "4                         0  \n",
       "..                      ...  \n",
       "400                       0  \n",
       "401                       2  \n",
       "402                       2  \n",
       "403                       1  \n",
       "404                       0  \n",
       "\n",
       "[389 rows x 24 columns]"
      ]
     },
     "execution_count": 24,
     "metadata": {},
     "output_type": "execute_result"
    }
   ],
   "source": [
    "df = pd.read_pickle(\"../data/depresjon/depresjon_preprocessed.pkl\")\n",
    "df = df[df['category_madrs'].notna()]\n",
    "df"
   ]
  },
  {
   "cell_type": "code",
   "execution_count": 25,
   "id": "6d008f5a",
   "metadata": {
    "ExecuteTime": {
     "end_time": "2024-03-02T13:10:11.933875200Z",
     "start_time": "2024-03-02T13:10:11.917888900Z"
    },
    "collapsed": false,
    "jupyter": {
     "outputs_hidden": false
    }
   },
   "outputs": [
    {
     "data": {
      "text/plain": [
       "Index(['timestamp', 'user_id', 'activity', 'days', 'gender', 'age', 'afftype',\n",
       "       'melanch', 'inpatient', 'edu', 'marriage', 'work', 'is_weekend',\n",
       "       'category_madrs', 'month_sin', 'weekday_sin', 'week_sin', 'day_sin',\n",
       "       'month_cos', 'weekday_cos', 'week_cos', 'day_cos', 'activity_quantile',\n",
       "       'user_activity_quantile'],\n",
       "      dtype='object')"
      ]
     },
     "execution_count": 25,
     "metadata": {},
     "output_type": "execute_result"
    }
   ],
   "source": [
    "df.columns"
   ]
  },
  {
   "cell_type": "code",
   "execution_count": 26,
   "id": "f011f1dd",
   "metadata": {
    "ExecuteTime": {
     "end_time": "2024-03-02T13:10:11.949570400Z",
     "start_time": "2024-03-02T13:10:11.933875200Z"
    },
    "collapsed": false,
    "jupyter": {
     "outputs_hidden": false
    }
   },
   "outputs": [
    {
     "data": {
      "text/plain": [
       "0    201\n",
       "1    188\n",
       "Name: category_madrs, dtype: int64"
      ]
     },
     "execution_count": 26,
     "metadata": {},
     "output_type": "execute_result"
    }
   ],
   "source": [
    "df['category_madrs'].value_counts()"
   ]
  },
  {
   "cell_type": "code",
   "execution_count": 27,
   "id": "90480937",
   "metadata": {
    "ExecuteTime": {
     "end_time": "2024-03-02T13:10:11.997157400Z",
     "start_time": "2024-03-02T13:10:11.949570400Z"
    },
    "collapsed": false,
    "jupyter": {
     "outputs_hidden": false
    }
   },
   "outputs": [],
   "source": [
    "features = ['activity', 'month_sin', 'weekday_sin', 'week_sin', 'day_sin', 'month_cos','weekday_cos', 'week_cos', 'day_cos']\n",
    "\n",
    "scaler = StandardScaler()\n",
    "df[features] = scaler.fit_transform(df[features])"
   ]
  },
  {
   "cell_type": "markdown",
   "id": "060615a5",
   "metadata": {},
   "source": [
    "# Generic model\n",
    "each user belongs to either the train or the test set"
   ]
  },
  {
   "cell_type": "code",
   "execution_count": 28,
   "id": "285f9d30",
   "metadata": {
    "ExecuteTime": {
     "end_time": "2024-03-02T13:10:12.028634900Z",
     "start_time": "2024-03-02T13:10:11.965385600Z"
    },
    "collapsed": false,
    "jupyter": {
     "outputs_hidden": false
    }
   },
   "outputs": [
    {
     "name": "stdout",
     "output_type": "stream",
     "text": [
      "(296, 22) (296,) (93, 22) (93,)\n"
     ]
    }
   ],
   "source": [
    "X_train, y_train, X_test, y_test = train_test_split_per_user(df,target_column='category_madrs')\n",
    "print(X_train.shape, y_train.shape, X_test.shape, y_test.shape)\n",
    "\n",
    "smote = SMOTE(random_state=42)\n",
    "X_train_smote, y_train_smote = smote.fit_resample(X_train, y_train)"
   ]
  },
  {
   "cell_type": "code",
   "execution_count": 29,
   "id": "6987d3a9",
   "metadata": {
    "ExecuteTime": {
     "end_time": "2024-03-02T13:10:12.142219500Z",
     "start_time": "2024-03-02T13:10:11.990816700Z"
    },
    "collapsed": false,
    "jupyter": {
     "outputs_hidden": false
    }
   },
   "outputs": [
    {
     "name": "stdout",
     "output_type": "stream",
     "text": [
      "Dummy f1 score: 0.34408602150537637\n"
     ]
    },
    {
     "data": {
      "image/png": "[encoded data removed]",
      "text/plain": [
       "<Figure size 640x480 with 2 Axes>"
      ]
     },
     "metadata": {},
     "output_type": "display_data"
    }
   ],
   "source": [
    "# Dummy Classifier for comparison\n",
    "dummy_clf = DummyClassifier(strategy='most_frequent')\n",
    "dummy_clf.fit(X_train_smote, y_train_smote)\n",
    "dummy_predictions = dummy_clf.predict(X_test)\n",
    "\n",
    "f1 = f1_score(y_test, dummy_predictions, average='micro')\n",
    "print(f'Dummy f1 score: {f1}')\n",
    "plot_confusion_matrix(y_test, dummy_predictions)"
   ]
  },
  {
   "cell_type": "code",
   "execution_count": 30,
   "id": "9241e5a5",
   "metadata": {
    "ExecuteTime": {
     "end_time": "2024-03-02T13:10:12.225661100Z",
     "start_time": "2024-03-02T13:10:12.146775800Z"
    },
    "collapsed": false,
    "jupyter": {
     "outputs_hidden": false
    }
   },
   "outputs": [],
   "source": [
    "#clf = SVC(probability=True)\n",
    "clf = RandomForestClassifier(n_estimators=100, random_state=42)\n",
    "#clf = XGBClassifier(n_estimators=100, random_state=42)\n",
    "#clf = GradientBoostingClassifier(n_estimators=160, learning_rate=0.3, random_state=42)\n",
    "#clf = LogisticRegression(max_iter=200, random_state=42)"
   ]
  },
  {
   "cell_type": "code",
   "execution_count": 31,
   "id": "458332cf",
   "metadata": {
    "ExecuteTime": {
     "end_time": "2024-03-02T13:10:12.328813200Z",
     "start_time": "2024-03-02T13:10:12.166387200Z"
    },
    "collapsed": false,
    "jupyter": {
     "outputs_hidden": false
    }
   },
   "outputs": [
    {
     "name": "stdout",
     "output_type": "stream",
     "text": [
      "F1 Score: 0.34408602150537637\n"
     ]
    },
    {
     "data": {
      "image/png": "[encoded data removed]",
      "text/plain": [
       "<Figure size 640x480 with 2 Axes>"
      ]
     },
     "metadata": {},
     "output_type": "display_data"
    }
   ],
   "source": [
    "clf.fit(X_train_smote, y_train_smote)\n",
    "y_pred = clf.predict(X_test)\n",
    "\n",
    "f1 = f1_score(y_test, y_pred, average='micro')\n",
    "print(f\"F1 Score: {f1}\")\n",
    "plot_confusion_matrix(y_test, y_pred)"
   ]
  },
  {
   "cell_type": "code",
   "execution_count": 32,
   "id": "6cb61fce",
   "metadata": {
    "ExecuteTime": {
     "end_time": "2024-03-02T13:10:12.460760600Z",
     "start_time": "2024-03-02T13:10:12.328813200Z"
    },
    "collapsed": false,
    "jupyter": {
     "outputs_hidden": false
    }
   },
   "outputs": [
    {
     "data": {
      "image/png": "[encoded data removed]",
      "text/plain": [
       "<Figure size 640x480 with 1 Axes>"
      ]
     },
     "metadata": {},
     "output_type": "display_data"
    }
   ],
   "source": [
    "# Predict probabilities\n",
    "y_scores = clf.predict_proba(X_test)[:, 0]\n",
    "\n",
    "# Compute ROC curve and AUC\n",
    "fpr, tpr, thresholds = roc_curve(y_test, y_scores)\n",
    "roc_auc = auc(fpr, tpr)\n",
    "\n",
    "# Plotting the ROC curve\n",
    "plt.figure()\n",
    "plt.plot(fpr, tpr, color='darkorange', lw=2, label='ROC curve (area = %0.2f)' % roc_auc)\n",
    "plt.plot([0, 1], [0, 1], color='navy', lw=2, linestyle='--')\n",
    "plt.xlim([0.0, 1.0])\n",
    "plt.ylim([0.0, 1.05])\n",
    "plt.xlabel('False Positive Rate')\n",
    "plt.ylabel('True Positive Rate')\n",
    "plt.title('Receiver Operating Characteristic')\n",
    "plt.legend(loc=\"lower right\")\n",
    "plt.show()"
   ]
  },
  {
   "cell_type": "code",
   "execution_count": 14,
   "id": "8eb88fca-452e-4100-b39c-bfb5ce613f32",
   "metadata": {},
   "outputs": [],
   "source": [
    "y_pred_df = pd.DataFrame(y_pred, columns=['category_madrs'])\n",
    "\n",
    "y_test.to_csv('../data/depresjon/predictions/depresjon_y_test_generic.csv', index=False)\n",
    "y_pred_df.to_csv('../data/depresjon/predictions/depresjon_pred_generic.csv', index=False)\n",
    "X_test.to_csv('../data/depresjon/predictions/depresjon_X_test_generic.csv', index=False)"
   ]
  },
  {
   "cell_type": "markdown",
   "id": "058eb418",
   "metadata": {},
   "source": [
    "# Leave one person out (LOPO) method"
   ]
  },
  {
   "cell_type": "code",
   "execution_count": 15,
   "id": "36649c6b",
   "metadata": {
    "ExecuteTime": {
     "end_time": "2024-03-02T13:10:12.680077500Z",
     "start_time": "2024-03-02T13:10:12.465843200Z"
    },
    "collapsed": false,
    "jupyter": {
     "outputs_hidden": false
    }
   },
   "outputs": [
    {
     "name": "stdout",
     "output_type": "stream",
     "text": [
      "Average f1 score across all LOPO iterations: 0.0\n",
      "[[  0 188]\n",
      " [201   0]]\n"
     ]
    }
   ],
   "source": [
    "X = df.drop(['category_madrs', 'user_id'], axis=1)  # Features\n",
    "y = df['category_madrs']  # Target variable\n",
    "unique_labels = y.unique()\n",
    "groups = df['user_id']  # Group identifier for LOPO\n",
    "\n",
    "#model = DummyClassifier(strategy='most_frequent')\n",
    "#model = SVC()\n",
    "#model = RandomForestClassifier(n_estimators=100, random_state=42)\n",
    "#model = XGBClassifier(n_estimators=100, random_state=42)\n",
    "#model = GradientBoostingClassifier(n_estimators=160, learning_rate=0.3, random_state=42)\n",
    "model = LogisticRegression(random_state=42)\n",
    "\n",
    "cv = LeavePGroupsOut(n_groups=1)\n",
    "scores = []\n",
    "confusion_matrices = []\n",
    "\n",
    "for train_idx, test_idx in cv.split(X, y, groups):\n",
    "\n",
    "    X_train, X_test = X.iloc[train_idx], X.iloc[test_idx]\n",
    "    y_train, y_test = y.iloc[train_idx], y.iloc[test_idx]\n",
    "\n",
    "    smote = SMOTE(random_state=42)\n",
    "    X_train_smote, y_train_smote = smote.fit_resample(X_train, y_train)\n",
    "\n",
    "    model.fit(X_train, y_train)\n",
    "    y_pred = model.predict(X_test)\n",
    "    score = f1_score(y_test, y_pred, average='micro')\n",
    "    scores.append(score)\n",
    "    cm = confusion_matrix(y_test, y_pred, labels=unique_labels)\n",
    "    confusion_matrices.append(cm)\n",
    "\n",
    "# Calculate the average performance across all LOPO iterations\n",
    "average_score = np.mean(scores)\n",
    "print(f'Average f1 score across all LOPO iterations: {average_score}')\n",
    "total_confusion_matrix = np.sum(confusion_matrices, axis=0)\n",
    "print(total_confusion_matrix)"
   ]
  },
  {
   "cell_type": "code",
   "execution_count": 16,
   "id": "d2ad739d-d15c-4798-80e4-035e0718cb8f",
   "metadata": {},
   "outputs": [
    {
     "name": "stdout",
     "output_type": "stream",
     "text": [
      "Average f1-scores across all LOPO iterations: 0.0\n",
      "[[  0 188]\n",
      " [201   0]]\n"
     ]
    }
   ],
   "source": [
    "X = df.drop(['category_madrs', 'user_id'], axis=1)  # Features\n",
    "y = df['category_madrs']  # Target variable\n",
    "unique_labels = y.unique()\n",
    "groups = df['user_id']  # Group identifier for LOPO\n",
    "\n",
    "model = LogisticRegression(random_state=42)\n",
    "\n",
    "cv = LeavePGroupsOut(n_groups=1)\n",
    "scores = []\n",
    "confusion_matrices = []\n",
    "all_y_pred = []\n",
    "all_y_test = []\n",
    "all_X_test = []\n",
    "\n",
    "for train_idx, test_idx in cv.split(X, y, groups):\n",
    "    X_train, X_test = X.iloc[train_idx], X.iloc[test_idx]\n",
    "    y_train, y_test = y.iloc[train_idx], y.iloc[test_idx]\n",
    "\n",
    "    smote = SMOTE(random_state=42)\n",
    "    X_train_smote, y_train_smote = smote.fit_resample(X_train, y_train)\n",
    "\n",
    "    model.fit(X_train, y_train)\n",
    "    y_pred = model.predict(X_test)\n",
    "    score = f1_score(y_test, y_pred, average='micro')\n",
    "    scores.append(score)\n",
    "    cm = confusion_matrix(y_test, y_pred, labels=unique_labels)\n",
    "    confusion_matrices.append(cm)\n",
    "\n",
    "    # Append the current iteration's data to the lists\n",
    "    all_y_pred.extend(y_pred.tolist())\n",
    "    all_y_test.extend(y_test.tolist())\n",
    "    all_X_test.append(X_test)\n",
    "\n",
    "# Calculate the average performance across all LOPO iterations\n",
    "average_score = np.mean(scores)\n",
    "print(f'Average f1-scores across all LOPO iterations: {average_score}')\n",
    "total_confusion_matrix = np.sum(confusion_matrices, axis=0)\n",
    "print(total_confusion_matrix)\n",
    "\n",
    "# Convert lists and DataFrame pieces to full DataFrames\n",
    "all_y_pred_df = pd.DataFrame(all_y_pred, columns=['category_madrs'])\n",
    "all_y_test_df = pd.DataFrame(all_y_test, columns=['category_madrs'])\n",
    "all_X_test_df = pd.concat(all_X_test).reset_index(drop=True)\n",
    "\n",
    "# Saving the DataFrames to CSV files\n",
    "all_y_test_df.to_csv('../data/depresjon/predictions/depresjon_y_test_LOPO.csv', index=False)\n",
    "all_y_pred_df.to_csv('../data/depresjon/predictions/depresjon_y_pred_LOPO.csv', index=False)\n",
    "all_X_test_df.to_csv('../data/depresjon/predictions/depresjon_X_test_LOPO.csv', index=False)"
   ]
  },
  {
   "cell_type": "markdown",
   "id": "cd66f1d0",
   "metadata": {},
   "source": [
    "# Deep Learning"
   ]
  },
  {
   "cell_type": "code",
   "execution_count": 17,
   "id": "cacf1344",
   "metadata": {
    "ExecuteTime": {
     "end_time": "2024-03-02T13:10:12.703623200Z",
     "start_time": "2024-03-02T13:10:12.682906500Z"
    },
    "collapsed": false,
    "jupyter": {
     "outputs_hidden": false
    }
   },
   "outputs": [
    {
     "data": {
      "text/plain": [
       "Index(['timestamp', 'user_id', 'activity', 'days', 'gender', 'age', 'afftype',\n",
       "       'melanch', 'inpatient', 'edu', 'marriage', 'work', 'is_weekend',\n",
       "       'category_madrs', 'month_sin', 'weekday_sin', 'week_sin', 'day_sin',\n",
       "       'month_cos', 'weekday_cos', 'week_cos', 'day_cos', 'activity_quantile',\n",
       "       'user_activity_quantile'],\n",
       "      dtype='object')"
      ]
     },
     "execution_count": 17,
     "metadata": {},
     "output_type": "execute_result"
    }
   ],
   "source": [
    "df.columns"
   ]
  },
  {
   "cell_type": "code",
   "execution_count": 18,
   "id": "9946fe29",
   "metadata": {
    "ExecuteTime": {
     "end_time": "2024-03-02T13:10:13.462784Z",
     "start_time": "2024-03-02T13:10:12.708769400Z"
    },
    "collapsed": false,
    "jupyter": {
     "outputs_hidden": false
    }
   },
   "outputs": [
    {
     "name": "stdout",
     "output_type": "stream",
     "text": [
      "F1 Score: 0.344\n"
     ]
    },
    {
     "data": {
      "image/png": "[encoded data removed]",
      "text/plain": [
       "<Figure size 800x600 with 1 Axes>"
      ]
     },
     "metadata": {},
     "output_type": "display_data"
    },
    {
     "data": {
      "image/png": "[encoded data removed]",
      "text/plain": [
       "<Figure size 640x480 with 2 Axes>"
      ]
     },
     "metadata": {},
     "output_type": "display_data"
    }
   ],
   "source": [
    "X_train, y_train, X_test, y_test = train_test_split_per_user(df,target_column='category_madrs')\n",
    "\n",
    "smote = SMOTE(random_state=42)\n",
    "X_train_smote, y_train_smote = smote.fit_resample(X_train, y_train)\n",
    "\n",
    "#mlp = MLPClassifier(random_state=42, max_iter=800)\n",
    "mlp = MLPClassifier(max_iter=1000, activation = 'relu', alpha=0.001, hidden_layer_sizes=(50,), random_state=42)\n",
    "#mlp = MLPClassifier(hidden_layer_sizes=(150,100,50), max_iter=300,activation = 'relu',solver='adam',random_state=1)\n",
    "mlp.fit(X_train_smote, y_train_smote)\n",
    "\n",
    "y_pred = mlp.predict(X_test)\n",
    "y_pred_proba = mlp.predict_proba(X_test)[:, 1]  # Get probability for the positive class\n",
    "\n",
    "recall = recall_score(y_test, y_pred)\n",
    "print(f'F1 Score: {f1}')\n",
    "\n",
    "# ROC Curve\n",
    "fpr, tpr, thresholds = roc_curve(y_test, y_pred_proba)\n",
    "roc_auc = roc_auc_score(y_test, y_pred_proba)\n",
    "\n",
    "# Plotting\n",
    "plt.figure(figsize=(8, 6))\n",
    "plt.plot(fpr, tpr, color='orange', label=f'ROC curve (area = {roc_auc:.2f})')\n",
    "plt.plot([0, 1], [0, 1], color='darkblue', linestyle='--')\n",
    "plt.xlabel('False Positive Rate')\n",
    "plt.ylabel('True Positive Rate')\n",
    "plt.title('Receiver Operating Characteristic (ROC) Curve')\n",
    "plt.legend()\n",
    "plt.show()\n",
    "\n",
    "# Confusion Matrix\n",
    "plot_confusion_matrix(y_test, y_pred)\n",
    "plt.show()"
   ]
  },
  {
   "cell_type": "code",
   "execution_count": null,
   "id": "2b7a7321",
   "metadata": {
    "ExecuteTime": {
     "end_time": "2024-03-02T13:10:13.499156100Z",
     "start_time": "2024-03-02T13:10:13.462784Z"
    },
    "collapsed": false,
    "jupyter": {
     "outputs_hidden": false
    }
   },
   "outputs": [],
   "source": []
  },
  {
   "cell_type": "code",
   "execution_count": null,
   "id": "f77fd8a2-1001-45e4-9ead-5d6fcf30da2c",
   "metadata": {},
   "outputs": [],
   "source": []
  }
 ],
 "metadata": {
  "kernelspec": {
   "display_name": "Python 3 (ipykernel)",
   "language": "python",
   "name": "python3"
  },
  "language_info": {
   "codemirror_mode": {
    "name": "ipython",
    "version": 3
   },
   "file_extension": ".py",
   "mimetype": "text/x-python",
   "name": "python",
   "nbconvert_exporter": "python",
   "pygments_lexer": "ipython3",
   "version": "3.10.13"
  }
 },
 "nbformat": 4,
 "nbformat_minor": 5
}
