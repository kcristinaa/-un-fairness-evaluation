{
 "cells": [
  {
   "cell_type": "code",
   "execution_count": null,
   "id": "initial_id",
   "metadata": {
    "collapsed": true,
    "is_executing": true,
    "ExecuteTime": {
     "start_time": "2024-02-08T09:10:59.578907800Z"
    }
   },
   "outputs": [
    {
     "name": "stderr",
     "output_type": "stream",
     "text": [
      "WARNING:root:No module named 'tempeh': LawSchoolGPADataset will be unavailable. To install, run:\n",
      "pip install 'aif360[LawSchoolGPA]'\n"
     ]
    }
   ],
   "source": [
    "from aif360.datasets import StandardDataset\n",
    "from aif360.metrics import BinaryLabelDatasetMetric\n",
    "import pandas as pd\n",
    "import matplotlib.pyplot as plt\n",
    "import seaborn as sns"
   ]
  },
  {
   "cell_type": "code",
   "outputs": [],
   "source": [
    "custom_colors = ['#1f77b4', '#ff7f0e', '#2ca02c', '#d62728', '#9467bd', '#8c564b', '#e377c2', '#7f7f7f']\n",
    "complementary_colors = ['#a9d0f5', '#f3ba8c', '#98e698', '#f5a9a9', '#d8b5d8', '#d2a6a6', '#f5a9f2', '#d8d8d8']\n",
    "\n",
    "full_palette = custom_colors + complementary_colors\n",
    "sns.set_palette(full_palette)\n",
    "\n",
    "plt.rcParams['axes.prop_cycle'] = plt.cycler(color=custom_colors)\n",
    "plt.rcParams['axes.titlesize'] = 30\n",
    "plt.rcParams['axes.labelsize'] = 20\n",
    "plt.rcParams['xtick.labelsize'] = 20\n",
    "plt.rcParams['ytick.labelsize'] = 20\n",
    "plt.rcParams['legend.fontsize'] = 15"
   ],
   "metadata": {
    "collapsed": false
   },
   "id": "f1652dc962a53ac9",
   "execution_count": null
  },
  {
   "cell_type": "code",
   "execution_count": null,
   "outputs": [],
   "source": [
    "df = pd.read_pickle('../data/lifesnaps/lifesnapsv2.pkl')\n",
    "df['id'] = df['id'].astype(str)\n",
    "df"
   ],
   "metadata": {
    "collapsed": false
   },
   "id": "6782c44d0744382c"
  },
  {
   "cell_type": "code",
   "outputs": [],
   "source": [
    "df.columns"
   ],
   "metadata": {
    "collapsed": false
   },
   "id": "13bb8168cbceb359",
   "execution_count": null
  },
  {
   "cell_type": "code",
   "outputs": [],
   "source": [
    "protected_attributes = ['gender', 'bmi', 'age']\n",
    "privileged_classes = [[0, 1, 0]]\n",
    "\n",
    "data = StandardDataset(df,  label_name='label_stress_sema', favorable_classes=[0], protected_attribute_names=protected_attributes, privileged_classes=privileged_classes, features_to_drop=['id'])\n",
    "metric = BinaryLabelDatasetMetric(data, unprivileged_groups=[{'gender': 1, 'bmi': 0, 'age': 1}], privileged_groups=[{'gender': 0, 'bmi': 1, 'age': 0}])\n",
    "\n",
    "print(\"Consistency:\", metric.consistency()) # Measures how consistently similar individuals receive similar predictions, regardless of their group. Higher consistency indicates less potential discrimination. Individual fairness metric from [1] that measures how similar the labels are for similar instances. \n",
    "# [1] (1, 2) R. Zemel, Y. Wu, K. Swersky, T. Pitassi, and C. Dwork, “Learning Fair Representations,” International Conference on Machine Learning, 2013."
   ],
   "metadata": {
    "collapsed": false
   },
   "id": "189f4b88a57153f",
   "execution_count": null
  },
  {
   "cell_type": "code",
   "outputs": [],
   "source": [
    "data = StandardDataset(df, label_name='label_stress_sema', favorable_classes=[0],\n",
    "                       protected_attribute_names=protected_attributes, \n",
    "                       privileged_classes=privileged_classes,\n",
    "                       features_to_drop=['id', 'date'])\n",
    "\n",
    "# DataFrame to store the results\n",
    "bias_columns_metric = pd.DataFrame(columns=['protected_attribute', 'consistency'])\n",
    "\n",
    "# Loop through each protected attribute to calculate consistency\n",
    "for attr in data.protected_attribute_names:\n",
    "    print(\"\\nEvaluating Consistency for {}\".format(attr))\n",
    "\n",
    "    # Calculate consistency metric\n",
    "    consistency_metric = BinaryLabelDatasetMetric(data).consistency()\n",
    "\n",
    "    # Updating DataFrame\n",
    "    bias_columns_metric.loc[len(bias_columns_metric.index)] = [attr, consistency_metric[0]]\n",
    "    print(\"Fairness Evaluation - Consistency: {}\".format(consistency_metric[0]))"
   ],
   "metadata": {
    "collapsed": false
   },
   "id": "6bf2b3f5624d9fc9",
   "execution_count": null
  },
  {
   "cell_type": "code",
   "outputs": [],
   "source": [],
   "metadata": {
    "collapsed": false
   },
   "id": "c44cba14e86af541"
  }
 ],
 "metadata": {
  "kernelspec": {
   "display_name": "Python 3",
   "language": "python",
   "name": "python3"
  },
  "language_info": {
   "codemirror_mode": {
    "name": "ipython",
    "version": 2
   },
   "file_extension": ".py",
   "mimetype": "text/x-python",
   "name": "python",
   "nbconvert_exporter": "python",
   "pygments_lexer": "ipython2",
   "version": "2.7.6"
  }
 },
 "nbformat": 4,
 "nbformat_minor": 5
}
